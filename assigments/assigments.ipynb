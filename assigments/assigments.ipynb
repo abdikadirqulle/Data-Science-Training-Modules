{
 "cells": [
  {
   "cell_type": "markdown",
   "metadata": {},
   "source": [
    "## 1. Load the dataset into a NumPy array"
   ]
  },
  {
   "cell_type": "code",
   "execution_count": 3,
   "metadata": {},
   "outputs": [],
   "source": [
    "import numpy as np"
   ]
  },
  {
   "cell_type": "code",
   "execution_count": 4,
   "metadata": {},
   "outputs": [
    {
     "name": "stdout",
     "output_type": "stream",
     "text": [
      "[(1, 'Female', 26,  4, 45, 'Fail') (2, 'Male', 23,  4, 49, 'Fail')\n",
      " (3, 'Female', 29, 10, 38, 'Fail') (4, 'Male', 33,  7, 43, 'Fail')\n",
      " (5, 'Male', 26,  9, 84, 'Pass')]\n"
     ]
    }
   ],
   "source": [
    "# Load the dataset\n",
    "data = np.genfromtxt('student_data_3.csv', delimiter=',', dtype=None, encoding=None, names=True)\n",
    "# View the first few rows to verify loading\n",
    "print(data[:5])\n"
   ]
  },
  {
   "cell_type": "markdown",
   "metadata": {},
   "source": [
    "## 2.Calculate statistics for the student data"
   ]
  },
  {
   "cell_type": "markdown",
   "metadata": {},
   "source": [
    "### Average test score"
   ]
  },
  {
   "cell_type": "code",
   "execution_count": 5,
   "metadata": {},
   "outputs": [
    {
     "name": "stdout",
     "output_type": "stream",
     "text": [
      "Average Test Score: 68.004\n"
     ]
    }
   ],
   "source": [
    "# Extract the TestScore column\n",
    "test_scores = data['TestScore']\n",
    "\n",
    "# Calculate the average test score\n",
    "average_test_score = np.mean(test_scores)\n",
    "print(f\"Average Test Score: {average_test_score}\")\n"
   ]
  },
  {
   "cell_type": "markdown",
   "metadata": {},
   "source": [
    "### Minimum and maximum test scores"
   ]
  },
  {
   "cell_type": "code",
   "execution_count": 6,
   "metadata": {},
   "outputs": [
    {
     "name": "stdout",
     "output_type": "stream",
     "text": [
      "Minimum Test Score: 37\n",
      "Maximum Test Score: 100\n"
     ]
    }
   ],
   "source": [
    "# Calculate the minimum and maximum test scores\n",
    "min_test_score = np.min(test_scores)\n",
    "max_test_score = np.max(test_scores)\n",
    "print(f\"Minimum Test Score: {min_test_score}\")\n",
    "print(f\"Maximum Test Score: {max_test_score}\")\n"
   ]
  },
  {
   "cell_type": "markdown",
   "metadata": {},
   "source": [
    "### Standard deviation of study hours"
   ]
  },
  {
   "cell_type": "code",
   "execution_count": 7,
   "metadata": {},
   "outputs": [
    {
     "name": "stdout",
     "output_type": "stream",
     "text": [
      "Standard Deviation of Study Hours: 3.301028779032379\n"
     ]
    }
   ],
   "source": [
    "# Extract the StudyHours column\n",
    "study_hours = data['StudyHours'].astype(int)\n",
    "\n",
    "# Calculate the standard deviation of study hours\n",
    "std_dev_study_hours = np.std(study_hours)\n",
    "print(f\"Standard Deviation of Study Hours: {std_dev_study_hours}\")\n"
   ]
  },
  {
   "cell_type": "markdown",
   "metadata": {},
   "source": [
    "### Number of students who got the highest and lowest scores"
   ]
  },
  {
   "cell_type": "code",
   "execution_count": 8,
   "metadata": {},
   "outputs": [
    {
     "name": "stdout",
     "output_type": "stream",
     "text": [
      "Number of Students with the Highest Score: 17\n",
      "Number of Students with the Lowest Score: 14\n"
     ]
    }
   ],
   "source": [
    "# Calculate the number of students with the highest and lowest scores\n",
    "num_highest_scores = np.sum(test_scores == max_test_score)\n",
    "num_lowest_scores = np.sum(test_scores == min_test_score)\n",
    "print(f\"Number of Students with the Highest Score: {num_highest_scores}\")\n",
    "print(f\"Number of Students with the Lowest Score: {num_lowest_scores}\")\n"
   ]
  },
  {
   "cell_type": "markdown",
   "metadata": {},
   "source": [
    "### Youngest and oldest students, age and average test score"
   ]
  },
  {
   "cell_type": "code",
   "execution_count": 9,
   "metadata": {},
   "outputs": [
    {
     "name": "stdout",
     "output_type": "stream",
     "text": [
      "Youngest Age: 19\n",
      "Oldest Age: 35\n",
      "Average Test Score of Youngest Students: 70.80645161290323\n",
      "Average Test Score of Oldest Students: 67.57377049180327\n"
     ]
    }
   ],
   "source": [
    "# Extract the Age column\n",
    "ages = data['Age'].astype(int)\n",
    "\n",
    "# Calculate the youngest and oldest students\n",
    "youngest_age = np.min(ages)\n",
    "oldest_age = np.max(ages)\n",
    "print(f\"Youngest Age: {youngest_age}\")\n",
    "print(f\"Oldest Age: {oldest_age}\")\n",
    "\n",
    "# Calculate the average test score for the youngest and oldest students\n",
    "avg_test_score_youngest = np.mean(test_scores[ages == youngest_age])\n",
    "avg_test_score_oldest = np.mean(test_scores[ages == oldest_age])\n",
    "print(f\"Average Test Score of Youngest Students: {avg_test_score_youngest}\")\n",
    "print(f\"Average Test Score of Oldest Students: {avg_test_score_oldest}\")\n"
   ]
  },
  {
   "cell_type": "markdown",
   "metadata": {},
   "source": [
    "### Average study hours, filtering on gender"
   ]
  },
  {
   "cell_type": "code",
   "execution_count": 10,
   "metadata": {},
   "outputs": [
    {
     "name": "stdout",
     "output_type": "stream",
     "text": [
      "Average Study Hours (Male): 5.900608519269777\n",
      "Average Study Hours (Female): 6.003944773175542\n"
     ]
    }
   ],
   "source": [
    "# Extract the Gender column\n",
    "genders = data['Gender']\n",
    "\n",
    "# Calculate the average study hours for each gender\n",
    "average_study_hours_male = np.mean(study_hours[genders == 'Male'])\n",
    "average_study_hours_female = np.mean(study_hours[genders == 'Female'])\n",
    "print(f\"Average Study Hours (Male): {average_study_hours_male}\")\n",
    "print(f\"Average Study Hours (Female): {average_study_hours_female}\")\n"
   ]
  },
  {
   "cell_type": "markdown",
   "metadata": {},
   "source": [
    "### Percentage of pass/fail"
   ]
  },
  {
   "cell_type": "code",
   "execution_count": 11,
   "metadata": {},
   "outputs": [
    {
     "name": "stdout",
     "output_type": "stream",
     "text": [
      "Percentage of Pass: 63.2%\n",
      "Percentage of Fail: 36.8%\n"
     ]
    }
   ],
   "source": [
    "# Extract the Grade column\n",
    "grades = data['Grade']\n",
    "\n",
    "# Calculate the percentage of pass and fail\n",
    "num_pass = np.sum(grades == 'Pass')\n",
    "num_fail = np.sum(grades == 'Fail')\n",
    "total_students = len(grades)\n",
    "\n",
    "percentage_pass = (num_pass / total_students) * 100\n",
    "percentage_fail = (num_fail / total_students) * 100\n",
    "print(f\"Percentage of Pass: {percentage_pass}%\")\n",
    "print(f\"Percentage of Fail: {percentage_fail}%\")\n"
   ]
  },
  {
   "cell_type": "markdown",
   "metadata": {},
   "source": [
    "### inta ayday ee keenay qiimaha ugu hooseeyo waa 14 "
   ]
  },
  {
   "cell_type": "code",
   "execution_count": 16,
   "metadata": {},
   "outputs": [
    {
     "name": "stdout",
     "output_type": "stream",
     "text": [
      "Students who achieved the lowest test score (37):\n",
      "0 : (124, 'Female', 30, 11, 37, 'Fail')\n",
      "1 : (135, 'Female', 20, 10, 37, 'Fail')\n",
      "2 : (255, 'Female', 31, 9, 37, 'Fail')\n",
      "3 : (303, 'Male', 30, 9, 37, 'Fail')\n",
      "4 : (324, 'Male', 35, 4, 37, 'Fail')\n",
      "5 : (389, 'Female', 34, 8, 37, 'Fail')\n",
      "6 : (444, 'Female', 26, 2, 37, 'Fail')\n",
      "7 : (490, 'Female', 19, 2, 37, 'Fail')\n",
      "8 : (524, 'Female', 22, 1, 37, 'Fail')\n",
      "9 : (616, 'Female', 28, 1, 37, 'Fail')\n",
      "10 : (755, 'Female', 27, 10, 37, 'Fail')\n",
      "11 : (772, 'Male', 22, 8, 37, 'Fail')\n",
      "12 : (774, 'Female', 32, 5, 37, 'Fail')\n",
      "13 : (798, 'Male', 30, 2, 37, 'Fail')\n"
     ]
    }
   ],
   "source": [
    "test_scores = data['TestScore']\n",
    "\n",
    "# Calculate the minimum test score\n",
    "min_test_score = np.min(test_scores)\n",
    "\n",
    "# Find the students with the minimum test score\n",
    "students_with_lowest_scores = data[test_scores == min_test_score]\n",
    "\n",
    "# Display the students with the lowest test scores\n",
    "print(f\"Students who achieved the lowest test score ({min_test_score}):\")\n",
    "for index,student in enumerate(students_with_lowest_scores):\n",
    "    print(index, \":\",student)"
   ]
  },
  {
   "cell_type": "code",
   "execution_count": null,
   "metadata": {},
   "outputs": [],
   "source": []
  }
 ],
 "metadata": {
  "kernelspec": {
   "display_name": "Python 3",
   "language": "python",
   "name": "python3"
  },
  "language_info": {
   "codemirror_mode": {
    "name": "ipython",
    "version": 3
   },
   "file_extension": ".py",
   "mimetype": "text/x-python",
   "name": "python",
   "nbconvert_exporter": "python",
   "pygments_lexer": "ipython3",
   "version": "3.12.4"
  }
 },
 "nbformat": 4,
 "nbformat_minor": 2
}
