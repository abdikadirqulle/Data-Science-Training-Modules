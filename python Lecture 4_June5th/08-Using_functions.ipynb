{
 "cells": [
  {
   "cell_type": "markdown",
   "id": "1743e5ef-1a95-494e-ab3a-b8b2e9365582",
   "metadata": {},
   "source": [
    "# Python Built-in functions"
   ]
  },
  {
   "cell_type": "markdown",
   "id": "17bea7d4-c37c-48ad-9c3d-a1d5b4eca73f",
   "metadata": {},
   "source": [
    "You're likely already comfortable with calling functions in Python. The first thing you were taught was how to `print()` something. \n",
    "As you've continued your learning, you've probably come across a larger number of other ways of calling functions which are similar, but work slightly differently.\n",
    "\n",
    "In this section we're going to explore how Python works in these situations and how you can understand what's going on."
   ]
  },
  {
   "cell_type": "markdown",
   "id": "4ad6a5ab-81db-48e0-9dec-5914c9443259",
   "metadata": {},
   "source": [
    "In terms of *calling* functions, you have seen:\n",
    "\n",
    "- free functions like `print()` and `range()`\n",
    "- functions on objects (also called \"methods\") like `my_list.append()` and `my_str.split()`\n"
   ]
  },
  {
   "cell_type": "markdown",
   "id": "77eb6afd-6bf4-4d56-bbe5-525938c87a05",
   "metadata": {},
   "source": [
    "There is a central, official place where all the details of how these things work is written down so let's have an explore.\n",
    "\n",
    "Go to https://docs.python.org\n",
    "\n",
    "There are a lot of different sections linked from that page, but the two most important links for us are:\n",
    "1. The \"Language Reference\" (https://docs.python.org/3/reference/) which details all the in-built features of the language. It's quite technical and not the place you'd normally go to learn as a beginner. This covers our \"literals\" and \"syntax\" from above.\n",
    "2. The \"Library Reference\" (https://docs.python.org/3/library/) which covers all of the extra functions, classes and modules that Python provides. This is where we find all the cool stuff."
   ]
  },
  {
   "cell_type": "markdown",
   "id": "cc088d37-2243-4e3e-b55f-5881c576678d",
   "metadata": {},
   "source": [
    "## Built-in functions\n",
    "\n",
    "Python comes with a bunch of functionality that you can use without having to explicitly enable anything. This includes things like integers, strings, lists, `print()`ing, file `open()`ing etc.\n",
    "\n",
    "First, lets have a peek at the \"built-in functions\". There is a page describing these under the \"Library Reference\" in a page called [Built-in Functions](https://docs.python.org/3/library/functions.html).\n",
    "\n",
    "Here we find the documentation for many of the functions we've already been using, for example [`print()`](https://docs.python.org/3/library/functions.html#print) and [`max()`](https://docs.python.org/3/library/functions.html#max).\n",
    "\n",
    "It is worth, over time, becoming familiar with the various functions that are available here. Some are quite useful for everyday work and some are more niche."
   ]
  },
  {
   "cell_type": "markdown",
   "id": "ba1c6afe-4c18-4ae4-b08f-cc209a1b9a7f",
   "metadata": {
    "tags": [
     "exercise"
    ]
   },
   "source": [
    "### Example 1\n",
    "\n",
    "Copy the following code into a new file cell:\n",
    "\n",
    "```python\n",
    "my_name = ...\n",
    "\n",
    "print(f\"Hello {my_name}!\")\n",
    "```\n",
    "\n",
    "Replace the `...` with a call to a built-in function which will read input from the person running the code. Search through the [built-in functions page](https://docs.python.org/3/library/functions.html) to find an appropriate function.\n",
    "\n",
    "The code should print out:\n",
    "\n",
    "```\n",
    "Please tell me your name: \n",
    "```\n",
    "\n",
    "and wait for you to type your name like:\n",
    "\n",
    "```\n",
    "Please tell me your name: Matt\n",
    "```\n",
    "\n",
    "After pressing enter, it should then print out:\n",
    "\n",
    "```\n",
    "Please tell me your name: Matt\n",
    "Hello Matt!\n",
    "```\n"
   ]
  },
  {
   "cell_type": "code",
   "execution_count": 1,
   "id": "382494d2-8f15-4e85-898e-30e6ba09ab6a",
   "metadata": {},
   "outputs": [
    {
     "name": "stdout",
     "output_type": "stream",
     "text": [
      "Please tell me your name:  chiara\n"
     ]
    },
    {
     "name": "stdout",
     "output_type": "stream",
     "text": [
      "Hello chiara!\n"
     ]
    }
   ],
   "source": [
    "my_name = input(\"Please tell me your name: \")\n",
    "\n",
    "print(f\"Hello {my_name}!\")"
   ]
  },
  {
   "cell_type": "markdown",
   "id": "c3f01092",
   "metadata": {},
   "source": []
  },
  {
   "cell_type": "markdown",
   "id": "4244c604",
   "metadata": {},
   "source": []
  },
  {
   "cell_type": "markdown",
   "id": "7a9852df-f15b-4a9b-9326-58cac653c2ab",
   "metadata": {},
   "source": [
    "## Built-in types\n",
    "\n",
    "As well as the free-standing built-in functions, Python has a bunch of built-in *data types*. This includes the data types you've already been using like integers, strings and lists. The details of them all are under the \"Library Reference\" on a page called [Built-in Types](https://docs.python.org/3/library/stdtypes.html).\n",
    "\n",
    "These types being built-in means that you don't need to explicitly enable their use and most have core-language syntax to create them.\n",
    "\n",
    "For example, the code"
   ]
  },
  {
   "cell_type": "markdown",
   "id": "6d5d0a74",
   "metadata": {},
   "source": []
  },
  {
   "cell_type": "code",
   "execution_count": 1,
   "id": "03cd6ceb-2be0-4f14-806d-c020231c0af8",
   "metadata": {},
   "outputs": [],
   "source": [
    "animal = \"horse\""
   ]
  },
  {
   "cell_type": "markdown",
   "id": "6930211d-a3e1-4046-a7f8-0caf73009601",
   "metadata": {},
   "source": [
    "creates a variable called `animal` from the string literal `\"horse\"` which is of the type `str`. This data type is built into the language and so the functionality that it has is documented on the [built-in types page under `str`](https://docs.python.org/3/library/stdtypes.html#text-sequence-type-str).\n",
    "\n",
    "This means that we can use functions that are already defined to work on strings, by calling them like this:\n"
   ]
  },
  {
   "cell_type": "code",
   "execution_count": 2,
   "id": "9518f829-8dde-4f3c-8af1-795cf6c2b043",
   "metadata": {},
   "outputs": [
    {
     "data": {
      "text/plain": [
       "'Horse'"
      ]
     },
     "execution_count": 2,
     "metadata": {},
     "output_type": "execute_result"
    }
   ],
   "source": [
    "animal.capitalize()"
   ]
  },
  {
   "cell_type": "markdown",
   "id": "f88e7c2c-c179-4ccb-b3a2-e47173c40ba4",
   "metadata": {},
   "source": [
    "it is looking at the data type of the variable `animal`, seeing that it is a `str` and then using the `capitalize` function that's available for that type to do the work."
   ]
  },
  {
   "cell_type": "markdown",
   "id": "01e9ee5e-d79c-4367-9225-2c8ab297b1e6",
   "metadata": {
    "tags": []
   },
   "source": [
    "The documentation for all the built-in types is all on that page so it's the place to go to check what you can do with a `str`, an `int`, a `list` or a `dict`. There's also a few other built-in types you might want to look into in the future such as `complex`, `set` and `tuple`."
   ]
  },
  {
   "cell_type": "markdown",
   "id": "950fc848-173f-463f-87cd-bfed3aae1a8a",
   "metadata": {},
   "source": [
    "### String methods\n",
    "\n",
    "Let's see some of the properties of strings. \n",
    "Suppose we\n",
    "have a working directory containing a few text files, and we want to load only the right ones, e.g. the `'txt'` files, or the ones that are called `\"File...txt\"`.\n",
    "\n",
    "There are two built-in functions that will allow us to check if a string starts or ends with a particular sub-string:"
   ]
  },
  {
   "cell_type": "code",
   "execution_count": 7,
   "id": "72eb878b-321b-4e35-87d3-a4cb00b55744",
   "metadata": {},
   "outputs": [],
   "source": [
    "list_of_files = [\"File_input.txt\",\"input.txt\",\"input_file.dat\", \"file_2.txt\"]"
   ]
  },
  {
   "cell_type": "code",
   "execution_count": 8,
   "id": "678c385c-b45a-4de4-ad68-b387dfa8014d",
   "metadata": {},
   "outputs": [
    {
     "name": "stdout",
     "output_type": "stream",
     "text": [
      "File_input.txt\n"
     ]
    }
   ],
   "source": [
    "for fname in list_of_files:\n",
    "    if fname.startswith(\"File\"):\n",
    "        print(fname)"
   ]
  },
  {
   "cell_type": "code",
   "execution_count": 9,
   "id": "dbf317d2-a70b-4e0d-b52a-eb736544b15f",
   "metadata": {},
   "outputs": [
    {
     "name": "stdout",
     "output_type": "stream",
     "text": [
      "File_input.txt\n",
      "input.txt\n",
      "file_2.txt\n"
     ]
    }
   ],
   "source": [
    "for fname in list_of_files:\n",
    "    if fname.endswith(\"txt\"):\n",
    "        print(fname)"
   ]
  },
  {
   "cell_type": "code",
   "execution_count": 15,
   "id": "f86f1581-8130-4780-9fe9-dd892f5bffbb",
   "metadata": {},
   "outputs": [
    {
     "name": "stdout",
     "output_type": "stream",
     "text": [
      "file_2.txt\n"
     ]
    }
   ],
   "source": [
    "for fname in list_of_files:\n",
    "    if fname.startswith(\"file\") and fname.endswith(\"txt\"):\n",
    "        print(fname)"
   ]
  },
  {
   "cell_type": "markdown",
   "id": "a71ce010-2263-4542-a45c-5a1b61a980a2",
   "metadata": {
    "tags": [
     "exercise"
    ]
   },
   "source": [
    "### Example 2\n",
    "\n",
    "Have a look at the documentation page for the [functions that you can call on strings](https://docs.python.org/3/library/stdtypes.html#string-methods).\n",
    "\n",
    "Experiment with one or two and see if you can understand the documentation. Start by trying to answer the following:\n",
    "\n",
    "1. Given a string like `s = \"what is your name\"`, find a function which can split `s` into a list like `[\"what\", \"is\", \"your\", \"name\"]`\n",
    "2. Given a list like `[\"a\", \"b\", \"c\"]`, find a function which can join it together into a string like `\"a-b-c\"`\n"
   ]
  },
  {
   "cell_type": "code",
   "execution_count": 2,
   "id": "315bd06a-1841-4bfc-90d8-657592ac53ad",
   "metadata": {},
   "outputs": [
    {
     "data": {
      "text/plain": [
       "['what', 'is', 'your', 'name']"
      ]
     },
     "execution_count": 2,
     "metadata": {},
     "output_type": "execute_result"
    }
   ],
   "source": [
    "s = \"what is your name\"\n",
    "s.split()"
   ]
  },
  {
   "cell_type": "code",
   "execution_count": 3,
   "id": "96956703-be95-4f0f-a391-dd372aa64adf",
   "metadata": {},
   "outputs": [
    {
     "data": {
      "text/plain": [
       "'a-b-c'"
      ]
     },
     "execution_count": 3,
     "metadata": {},
     "output_type": "execute_result"
    }
   ],
   "source": [
    "l = [\"a\", \"b\", \"c\"]\n",
    "\"-\".join(l) "
   ]
  },
  {
   "cell_type": "markdown",
   "id": "52ff70db-1a02-4023-907b-5354c2cbbcf5",
   "metadata": {},
   "source": [
    "## Importing functions from modules\n",
    "\n",
    "While there are a good number of built-in functions and types, and you can go a long way without needing anything more, they are ultimately limited. Luckily, Python has a \"batteries included\" philosophy and provides a lot of additional functionality in its \"standard library\".\n",
    "\n",
    "The functionality provided by the standard library is provided in a series of *modules*, each of which serves a particular purpose. The things in the standard library are always installed in any version of Python you have and you can rely on them being there.\n",
    "\n",
    "Note that even though they are always accessible, they do not count as \"built-in\" as in Python terms, that means something which you can use without having to access any extra modules."
   ]
  },
  {
   "cell_type": "markdown",
   "id": "ef9c4894-7ab6-4fbe-9804-6a28c4c59e5b",
   "metadata": {},
   "source": [
    "### The `math` module\n",
    "\n",
    "Let's start by looking at one of the modules. On the [Standard Library](https://docs.python.org/3/library/) page, if you scroll past the \"built-in\" sections you'll find a set of groups of modules. There are about 200 modules in total, some very useful and some very niche.\n",
    "\n",
    "If you carry on down the page you'll see, \"[`math` — Mathematical functions](https://docs.python.org/3/library/math.html)\" which is where we are going to look first.\n",
    "\n",
    "This module provides a bunch of mathematical tools such as averages, trigonometry etc.\n",
    "\n",
    "You can get access to the module by *importing* it by name:"
   ]
  },
  {
   "cell_type": "code",
   "execution_count": 3,
   "id": "b0ea4ab3-0992-4b06-9d76-ae638582c387",
   "metadata": {},
   "outputs": [],
   "source": [
    "import math"
   ]
  },
  {
   "cell_type": "markdown",
   "id": "13e41440-cee3-4bd8-9a3c-d889c212adf7",
   "metadata": {},
   "source": [
    "Once it is imported, you can use any of the functions inside it by typing the name of the module, followed by a dot, followed by the name of the function. So to call the [square root function](https://docs.python.org/3/library/math.html#math.sqrt) you would do:"
   ]
  },
  {
   "cell_type": "code",
   "execution_count": 4,
   "id": "511aae23-f73c-4adb-9869-9cf5f8ccb97b",
   "metadata": {},
   "outputs": [
    {
     "data": {
      "text/plain": [
       "5.0"
      ]
     },
     "execution_count": 4,
     "metadata": {},
     "output_type": "execute_result"
    }
   ],
   "source": [
    "math.sqrt(25)"
   ]
  },
  {
   "cell_type": "markdown",
   "id": "e6a80f32",
   "metadata": {},
   "source": []
  },
  {
   "cell_type": "markdown",
   "id": "da342d0f-3ebd-4041-a942-1cba17fbc1b1",
   "metadata": {},
   "source": [
    "You can think of this as saying \"from the `math` module that I've just imported, get the `sqrt` function inside it and call it\"."
   ]
  },
  {
   "cell_type": "markdown",
   "id": "a516d1b5",
   "metadata": {},
   "source": []
  },
  {
   "cell_type": "markdown",
   "id": "51d28704-7e19-40b6-862e-fea04fb1664f",
   "metadata": {},
   "source": [
    "If you want to grab a specific function out of a module so that you can call it without specifying the module name, you can do:"
   ]
  },
  {
   "cell_type": "code",
   "execution_count": 5,
   "id": "193520c8-e25f-4f73-bd17-d04c10c8cb0c",
   "metadata": {},
   "outputs": [],
   "source": [
    "from math import sqrt"
   ]
  },
  {
   "cell_type": "code",
   "execution_count": 6,
   "id": "37718595-717c-425e-85c1-14ead608c25e",
   "metadata": {},
   "outputs": [
    {
     "data": {
      "text/plain": [
       "5.0"
      ]
     },
     "execution_count": 6,
     "metadata": {},
     "output_type": "execute_result"
    }
   ],
   "source": [
    "sqrt(25)"
   ]
  },
  {
   "cell_type": "markdown",
   "id": "7bad7ee4-e569-4140-94d2-1f19c262f97b",
   "metadata": {},
   "source": [
    "We've seen two examples of places where dot `.` is used when calling functions in Python:\n",
    "\n",
    "1. calling a method on a variable like with `my_list.append()` or `my_string.split()`,\n",
    "2. calling a function from an imported module like `math.sqrt()`.\n",
    "\n",
    "In both these cases the dot is doing a very similar job. It's saying \"look inside the thing on the left of the dot for a thing called ...\". In some cases, it's looking inside a data type, and in other it's looking inside a module."
   ]
  },
  {
   "cell_type": "markdown",
   "id": "d3908097-71a5-4ca8-bf95-aa08b4acaca9",
   "metadata": {
    "tags": [
     "exercise"
    ]
   },
   "source": [
    "### Exercise\n",
    "\n",
    "Change the message in the following string to use both upper and lower case letters:\n",
    "\n",
    "```python\n",
    "message = \"SOS We have hit an iceberg and need help quickly\"\n",
    "```\n",
    "\n",
    "When you now run the code we have written before, you will find that it gives you a `KeyError`. This is because it is looking for an upper case \"S\" in the dictionary `letter_to_morse` and not finding one (dictionary keys are case-sensitive).\n",
    "\n",
    "Read through the documentation for the [string methods](https://docs.python.org/3/library/stdtypes.html#string-methods) to find one that might help convert the letter you have into one that matches the keys in the dictionary. You should be able to add a single line of code in the loop straight after `for letter in message:`."
   ]
  },
  {
   "cell_type": "code",
   "execution_count": 3,
   "id": "f24ebe1e-f981-430e-aac7-04275c48f8b6",
   "metadata": {},
   "outputs": [
    {
     "ename": "KeyError",
     "evalue": "'S'",
     "output_type": "error",
     "traceback": [
      "\u001b[0;31m---------------------------------------------------------------------------\u001b[0m",
      "\u001b[0;31mKeyError\u001b[0m                                  Traceback (most recent call last)",
      "Cell \u001b[0;32mIn[3], line 16\u001b[0m\n\u001b[1;32m     12\u001b[0m morse \u001b[39m=\u001b[39m []\n\u001b[1;32m     14\u001b[0m \u001b[39mfor\u001b[39;00m letter \u001b[39min\u001b[39;00m message:\n\u001b[1;32m     15\u001b[0m     \u001b[39m#letter = letter.lower()  #  ← We have added this line of code - uncomment this to make it work\u001b[39;00m\n\u001b[0;32m---> 16\u001b[0m     morse_letter \u001b[39m=\u001b[39m letter_to_morse[letter]\n\u001b[1;32m     17\u001b[0m     morse\u001b[39m.\u001b[39mappend(morse_letter)\n\u001b[1;32m     19\u001b[0m morse_message \u001b[39m=\u001b[39m \u001b[39m\"\u001b[39m\u001b[39m \u001b[39m\u001b[39m\"\u001b[39m\u001b[39m.\u001b[39mjoin(morse)\n",
      "\u001b[0;31mKeyError\u001b[0m: 'S'"
     ]
    }
   ],
   "source": [
    "letter_to_morse = {\n",
    "    'a':'.-', 'b':'-...', 'c':'-.-.', 'd':'-..', 'e':'.', 'f':'..-.', \n",
    "    'g':'--.', 'h':'....', 'i':'..', 'j':'.---', 'k':'-.-', 'l':'.-..', 'm':'--', \n",
    "    'n':'-.', 'o':'---', 'p':'.--.', 'q':'--.-', 'r':'.-.', 's':'...', 't':'-',\n",
    "    'u':'..-', 'v':'...-', 'w':'.--', 'x':'-..-', 'y':'-.--', 'z':'--..',\n",
    "    '0':'-----', '1':'.----', '2':'..---', '3':'...--', '4':'....-',\n",
    "    '5':'.....', '6':'-....', '7':'--...', '8':'---..', '9':'----.', ' ':'/'\n",
    "}\n",
    "\n",
    "message = \"SOS We have hit an iceberg and need help quickly\"\n",
    "\n",
    "morse = []\n",
    "\n",
    "for letter in message:\n",
    "    #letter = letter.lower()  #  ← We have added this line of code - uncomment this to make it work\n",
    "    morse_letter = letter_to_morse[letter]\n",
    "    morse.append(morse_letter)\n",
    "\n",
    "morse_message = \" \".join(morse)\n",
    "\n",
    "print(f\"Incoming message: {message}\")\n",
    "print(f\"   Morse encoded: {morse_message}\")"
   ]
  },
  {
   "cell_type": "code",
   "execution_count": null,
   "id": "db4ece28-812f-4983-9b7c-bdf8b9fb34f5",
   "metadata": {},
   "outputs": [],
   "source": []
  }
 ],
 "metadata": {
  "kernelspec": {
   "display_name": "Python 3 (ipykernel)",
   "language": "python",
   "name": "python3"
  },
  "language_info": {
   "codemirror_mode": {
    "name": "ipython",
    "version": 3
   },
   "file_extension": ".py",
   "mimetype": "text/x-python",
   "name": "python",
   "nbconvert_exporter": "python",
   "pygments_lexer": "ipython3",
   "version": "3.10.9"
  }
 },
 "nbformat": 4,
 "nbformat_minor": 5
}
