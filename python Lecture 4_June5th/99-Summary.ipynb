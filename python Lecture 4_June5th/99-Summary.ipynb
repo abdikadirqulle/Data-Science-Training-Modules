{
 "cells": [
  {
   "attachments": {},
   "cell_type": "markdown",
   "metadata": {
    "tags": []
   },
   "source": [
    "# Summary\n",
    "\n",
    "Well done for getting this far! We've covered a lot in this course:\n",
    "\n",
    "- Jupyter notebooks\n",
    "- The `print()` function\n",
    "- Basic data types: strings, floats and integers\n",
    "- Indexing, slicing and appending to lists\n",
    "- Reading Python errors\n",
    "- Branching logic using `if` statements\n",
    "- Looping over different data structures such as lists, ranges, dictionaries and files\n",
    "- Using `range()` and `enumerate()` to loop in different ways\n",
    "- Creating, modifying and accessing dictionaries\n",
    "- Reading files using `open()` and the `with` keyword\n",
    "\n",
    "You're not expected to have comitted all of this to memory already, learning any programming language takes more than three hours. It is only by continuing to use Python and practise that you will become confident. These notes will remain online so feel free to refer back to them at any time."
   ]
  },
  {
   "attachments": {},
   "cell_type": "markdown",
   "metadata": {},
   "source": [
    "## Worksheet\n",
    "\n",
    "To give you something to take away with you to practise with, there is a worksheet with questions (appendix_practice_questions.ipynb). If you get to this point in the session then feel free to start now, otherwise work on them between this session and the next."
   ]
  },
  {
   "cell_type": "markdown",
   "metadata": {
    "tags": [
     "exercise"
    ]
   },
   "source": [
    "### One last challenge\n",
    "\n",
    "Let's end this session with a more difficult challenge. We're going to make a calculator which can read numerical operations from a file and print the answers to the screen.\n",
    "\n",
    "Start by making a file called `calc.txt` with the following contents:\n",
    "\n",
    "``` python\n",
    "4 * 6\n",
    "5 + 6\n",
    "457 - 75\n",
    "54 / 3\n",
    "4 + 6\n",
    "```\n",
    "\n",
    "Make sure that you have the spaces between each number and the operator.\n",
    "\n",
    "- Write a code which reads in that file and performs the mathematical operations listed. It should output something like:\n",
    "  ``` python\n",
    "  4 * 6 is 24\n",
    "  5 + 6 is 11\n",
    "  457 - 75 is 382\n",
    "  54 / 3 is 18.0\n",
    "  4 + 6 is 10\n",
    "  ```\n",
    "  - There are some extra functions you will need to do this. Firstly, [the `split` function](https://docs.python.org/3/library/stdtypes.html#str.split) which takes a string and returns a list containing the string, split by spaces. Secondly, you may need [the `strip` function](https://docs.python.org/3/library/stdtypes.html#str.strip) which removes any whitespace from the beginning and end of a string, including removing newlines.\n"
   ]
  },
  {
   "cell_type": "code",
   "execution_count": 2,
   "metadata": {},
   "outputs": [
    {
     "name": "stdout",
     "output_type": "stream",
     "text": [
      "4 * 6 is 24\n",
      "5 + 6 is 11\n",
      "457 - 75 is 382\n",
      "54 / 3 is 18.0\n",
      "4 + 6 is 10\n"
     ]
    }
   ],
   "source": [
    "with open(\"calc.txt\") as f:\n",
    "    for line in f:\n",
    "        parts = line.split()\n",
    "        lhs = int(parts[0])\n",
    "        operator = parts[1]\n",
    "        rhs = int(parts[2])\n",
    "        \n",
    "        if operator == \"+\":\n",
    "            print(line.strip(), \"is\", lhs + rhs)\n",
    "        elif operator == \"-\":\n",
    "            print(line.strip(), \"is\", lhs - rhs)\n",
    "        elif operator == \"*\":\n",
    "            print(line.strip(), \"is\", lhs * rhs)\n",
    "        elif operator == \"/\":\n",
    "            print(line.strip(), \"is\", lhs / rhs)"
   ]
  },
  {
   "attachments": {},
   "cell_type": "markdown",
   "metadata": {},
   "source": [
    "\n",
    "- The example file only has integers in it, can you adjust your program so that it can accept floating point numbers as well?\n",
    "- Can you adapt your code so that it can support code with or without spaces either side of the operator? This is a more challenging exercise so feel free to ask for some some help."
   ]
  },
  {
   "attachments": {},
   "cell_type": "markdown",
   "metadata": {
    "tags": []
   },
   "source": [
    "## Credits\n",
    "\n",
    "This course was originally written by Christopher Woods and published at https://chryswoods.com/beginning_python/. Some changes were made by the ACRC at the University of Bristol. The course was revised by Matt Williams (http://milliams.com)\n",
    "\n",
    "All text is published under a [Creative Commons Attribution 4.0 International\n",
    "License](https://creativecommons.org/licenses/by/4.0/) with all code snippets licensed as MIT.\n"
   ]
  },
  {
   "cell_type": "code",
   "execution_count": null,
   "metadata": {},
   "outputs": [],
   "source": []
  }
 ],
 "metadata": {
  "celltoolbar": "Tags",
  "kernelspec": {
   "display_name": "Python 3 (ipykernel)",
   "language": "python",
   "name": "python3"
  },
  "language_info": {
   "codemirror_mode": {
    "name": "ipython",
    "version": 3
   },
   "file_extension": ".py",
   "mimetype": "text/x-python",
   "name": "python",
   "nbconvert_exporter": "python",
   "pygments_lexer": "ipython3",
   "version": "3.10.9"
  }
 },
 "nbformat": 4,
 "nbformat_minor": 4
}
