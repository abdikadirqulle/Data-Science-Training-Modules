{
 "cells": [
  {
   "cell_type": "markdown",
   "id": "82c5b006-0699-4703-95ec-7781abf83a5f",
   "metadata": {},
   "source": [
    "# Practice questions\n",
    "\n",
    "This page contains a number of questions and exercises to give you a chance to practise what you have learned this session.\n",
    "\n"
   ]
  },
  {
   "cell_type": "markdown",
   "id": "2cd28802-5b19-4d59-b2f0-860d929dc64c",
   "metadata": {
    "tags": [
     "exercise"
    ]
   },
   "source": [
    "### Exercise 1\n",
    "\n",
    "Create a list containing 5 different animal types, for example:\n",
    "- cat\n",
    "- dog\n",
    "- elephant\n",
    "- minnow\n",
    "- beaver\n",
    "\n",
    "Print out the list to the screen."
   ]
  },
  {
   "cell_type": "code",
   "execution_count": 1,
   "id": "e1c0e6c8-a084-4733-8e24-a8c696a87b9f",
   "metadata": {},
   "outputs": [],
   "source": [
    "# write code here"
   ]
  },
  {
   "cell_type": "markdown",
   "id": "d33cd401-bc3c-4afb-a4de-f31e38e6d59b",
   "metadata": {
    "tags": [
     "exercise"
    ]
   },
   "source": [
    "### Exercise 2\n",
    "\n",
    "Start by copying the code that you used to create the list of animals in the last exercise. Write a loop which will print out each of the animals, prefixed with `Species: `. For example the output could look like:\n",
    "```\n",
    "Species: cat\n",
    "Species: dog\n",
    "Species: elephant\n",
    "Species: minnow\n",
    "Species: beaver\n",
    "```"
   ]
  },
  {
   "cell_type": "code",
   "execution_count": 2,
   "id": "688681e2-f31b-4e22-a516-829d77dccbe0",
   "metadata": {},
   "outputs": [],
   "source": [
    "# write code here"
   ]
  },
  {
   "cell_type": "markdown",
   "id": "1b2f68ba-372f-4781-834d-be9c2e997513",
   "metadata": {
    "tags": [
     "exercise"
    ]
   },
   "source": [
    "### Exercise 3\n",
    "\n",
    "Create a list containing 10 different numbers, ranging from 0 to 100. For example: $65, 54, 17, 78, 66, 24, 32, 80, 79, 95$.\n",
    "\n",
    "Write a loop which will print out only those numbers which are larger than 50."
   ]
  },
  {
   "cell_type": "code",
   "execution_count": 3,
   "id": "d7fa49a4-e696-405a-ab17-2f5f60a344d4",
   "metadata": {},
   "outputs": [],
   "source": [
    "# write code here"
   ]
  },
  {
   "cell_type": "markdown",
   "id": "70f20139-abde-4b6f-86a3-1b57673347e3",
   "metadata": {
    "tags": [
     "exercise"
    ]
   },
   "source": [
    "### Exercise 4\n",
    "\n",
    "Create a loop which iterates over the numbers from 1 to 20 (inclusive). Inside the loop:\n",
    "- if the number is divisible by three then print \"ook\",\n",
    "- if the number is divisible by both three and five then print \"foo\",\n",
    "- and if the number is not divisible by either then just print the number.\n"
   ]
  },
  {
   "cell_type": "code",
   "execution_count": 4,
   "id": "aecbb4ff-ac07-4985-a2c2-59511529eed5",
   "metadata": {},
   "outputs": [],
   "source": [
    "# write code here\n"
   ]
  },
  {
   "cell_type": "markdown",
   "id": "b1d96f05-1456-4d9b-b222-463d46b44398",
   "metadata": {
    "tags": [
     "exercise"
    ]
   },
   "source": [
    "### Exercise 5\n",
    "\n",
    "Make a dictionary from the following table of data. The keys of the dictionary should be the names of the paintings and the values should be name of the artist.\n",
    "\n",
    "| Painting            | Artist    |\n",
    "| ------------------- | --------- |\n",
    "| Sunflowers          | van Gogh  |\n",
    "| The Starry Night    | van Gogh  |\n",
    "| The Night Watch     | Rembrandt |\n",
    "| The Two Fridas      | Kahlo     |\n",
    "| Balloon Girl        | Banksy    |\n",
    "| Devolved Parliament | Banksy    |\n",
    "| Going to Work       | Lowry     |\n",
    "\n",
    "Write some code which will print out the work of art and the name of the artist if:\n",
    "1. the artist's name has an \"h\" in it,\n",
    "2. or the name of the artwork is longer than 13 letters."
   ]
  },
  {
   "cell_type": "code",
   "execution_count": 5,
   "id": "ffd2425d-ae85-4a88-b705-ab7e20762e2a",
   "metadata": {},
   "outputs": [],
   "source": [
    "# write code here"
   ]
  },
  {
   "cell_type": "markdown",
   "id": "6f998061-ec8b-473b-b648-f6bf0c0d58ef",
   "metadata": {
    "tags": [
     "exercise"
    ]
   },
   "source": [
    "### Exercise 6\n",
    "\n",
    "Make a dictionary of the same information as the last question, but the other way around this time. The key in the dictionary should be the name of the artist, and the value should be a list of names of their paintings.\n",
    "\n",
    "Write some code which will check *every painting* in the data set. Print out the work of art and the name of the artist if:\n",
    "1. the artist has more than one painting\n",
    "2. and the name of the painting has more than one word.\n"
   ]
  },
  {
   "cell_type": "code",
   "execution_count": 6,
   "id": "917afc32-82a1-438b-96b8-917f7e59db8e",
   "metadata": {},
   "outputs": [],
   "source": [
    "paintings = {\"van Gogh\": [\"Sunflowers\", \"The Starry Night\"],\n",
    "             \"Rembrandt\":  \"The Night Watch\",\n",
    "             \"Kahlo\": \"The Two Fridas\", \n",
    "             \"Banksy\": [\"Balloon Girl\", \"Devolved Parliament\"],\n",
    "            \"Lowry\": \"Going to Work\"}"
   ]
  },
  {
   "cell_type": "code",
   "execution_count": 7,
   "id": "3006a21f-0bae-45d7-bbbf-14096a54d9ee",
   "metadata": {},
   "outputs": [],
   "source": [
    "# write code here"
   ]
  },
  {
   "cell_type": "markdown",
   "id": "6c824dd1-0dd4-4d8d-9481-9282e1ea4901",
   "metadata": {
    "tags": [
     "exercise"
    ]
   },
   "source": [
    "### Exercise 7\n",
    "\n",
    "Create a list with some words in it, making sure some words are repeated.\n",
    "\n",
    "The task is to fill up a dictionary so that it contains the count of the number of times each word appears in the list.\n",
    "\n",
    "So, for example if your word list looks like:\n",
    "```python\n",
    "word_list = [\"to\", \"be\", \"or\", \"not\", \"to\", \"be\"]\n",
    "```\n",
    "then the output dictionary would look like:\n",
    "```python\n",
    "{\"to\": 2, \"be\": 2, \"or\": 1. \"not\": 1}\n",
    "```"
   ]
  },
  {
   "cell_type": "code",
   "execution_count": 8,
   "id": "47476951-d128-4332-8bc5-f90c35035461",
   "metadata": {},
   "outputs": [],
   "source": [
    "# write code here"
   ]
  },
  {
   "cell_type": "markdown",
   "id": "e0e4459d-35ab-40c0-9987-36b8cec0ee4b",
   "metadata": {
    "tags": [
     "exercise"
    ]
   },
   "source": [
    "### Exercise 8\n",
    "\n",
    "Take your answer from the last exercise but adapt it to read the list of words from a file. To make this work you will need to first create a file containing all the words. For example a file called `words.txt`:\n",
    "\n",
    "```\n",
    "to\n",
    "be\n",
    "or\n",
    "not\n",
    "to\n",
    "be\n",
    "```"
   ]
  },
  {
   "cell_type": "code",
   "execution_count": 9,
   "id": "b24f5370-cc72-42f3-bfa9-8df9e2511aa9",
   "metadata": {},
   "outputs": [],
   "source": [
    "# write code here"
   ]
  },
  {
   "cell_type": "code",
   "execution_count": null,
   "id": "2151f468-cb8d-4e09-9faa-9a77a217dfe1",
   "metadata": {},
   "outputs": [],
   "source": []
  }
 ],
 "metadata": {
  "kernelspec": {
   "display_name": "Python 3 (ipykernel)",
   "language": "python",
   "name": "python3"
  },
  "language_info": {
   "codemirror_mode": {
    "name": "ipython",
    "version": 3
   },
   "file_extension": ".py",
   "mimetype": "text/x-python",
   "name": "python",
   "nbconvert_exporter": "python",
   "pygments_lexer": "ipython3",
   "version": "3.9.7"
  }
 },
 "nbformat": 4,
 "nbformat_minor": 5
}
