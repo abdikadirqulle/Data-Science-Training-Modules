{
 "cells": [
  {
   "cell_type": "markdown",
   "metadata": {},
   "source": [
    "### Exercise 1: Analyzing a Text File\n",
    "\n",
    "**Objective:**\n",
    "- Read a text file and analyze its content to count the occurrences of each word. Use functions\n",
    "\n",
    "**Instructions:**\n",
    "1. Create a function `read_file(file_path)` that reads a text file and returns its content as a string.\n",
    "2. Create a function `count_words(text)` that takes a string and returns a dictionary where the keys are words and the values are the number of times each word appears.\n",
    "3. Write the results to a new file, `word_counts.txt`, in the format `word: count`.\n",
    "\n",
    "**Steps:**\n",
    "1. Read the content of `sample.txt`.\n",
    "2. Count the words.\n",
    "3. Write the word counts to `word_counts.txt`.\n"
   ]
  },
  {
   "cell_type": "code",
   "execution_count": 1,
   "metadata": {},
   "outputs": [],
   "source": [
    "# insert code here"
   ]
  },
  {
   "cell_type": "markdown",
   "metadata": {},
   "source": [
    "### Exercise 2: Student Grade Calculator\n",
    "\n",
    "**Objective:**\n",
    "- Create a student grade calculator using lists, dictionaries, and conditionals.\n",
    "\n",
    "**Instructions:**\n",
    "1. Create a function `calculate_average(grades)` that takes a list of grades and returns the average grade.\n",
    "2. Create a dictionary to store student names as keys and a list of their grades as values.\n",
    "3. Calculate the average grade for each student and determine their letter grade based on the following scale:\n",
    "   - A: 90-100\n",
    "   - B: 80-89\n",
    "   - C: 70-79\n",
    "   - D: 60-69\n",
    "   - F: 0-59\n",
    "\n",
    "**Steps:**\n",
    "1. Define the students and their grades.\n",
    "2. Calculate and print the average grade and letter grade for each student.\n"
   ]
  },
  {
   "cell_type": "code",
   "execution_count": 2,
   "metadata": {},
   "outputs": [
    {
     "name": "stdout",
     "output_type": "stream",
     "text": [
      "Alice - Average: 90.25, Grade: A\n",
      "Bob - Average: 78.75, Grade: C\n",
      "Charlie - Average: 66.75, Grade: D\n",
      "David - Average: 52.50, Grade: F\n"
     ]
    }
   ],
   "source": [
    "# insert code here"
   ]
  },
  {
   "cell_type": "markdown",
   "metadata": {},
   "source": [
    "\n",
    "### Exercise 3: Shopping Cart\n",
    "\n",
    "**Objective:**\n",
    "- Simulate a shopping cart using lists, dictionaries, and file handling.\n",
    "\n",
    "**Instructions:**\n",
    "1. Create a dictionary representing available products and their prices.\n",
    "2. Create a list to represent the shopping cart.\n",
    "3. Implement functions to add and remove items from the cart and calculate the total price.\n",
    "4. Save the final cart to a file.\n",
    "\n",
    "**Steps:**\n",
    "1. Define the available products.\n",
    "2. Add and remove items to/from the cart.\n",
    "3. Calculate the total price.\n",
    "4. Write the cart contents to `cart.txt`."
   ]
  },
  {
   "cell_type": "code",
   "execution_count": 3,
   "metadata": {},
   "outputs": [],
   "source": [
    "# insert code here"
   ]
  },
  {
   "cell_type": "markdown",
   "metadata": {},
   "source": []
  }
 ],
 "metadata": {
  "kernelspec": {
   "display_name": "base",
   "language": "python",
   "name": "python3"
  },
  "language_info": {
   "codemirror_mode": {
    "name": "ipython",
    "version": 3
   },
   "file_extension": ".py",
   "mimetype": "text/x-python",
   "name": "python",
   "nbconvert_exporter": "python",
   "pygments_lexer": "ipython3",
   "version": "3.11.4"
  }
 },
 "nbformat": 4,
 "nbformat_minor": 2
}
