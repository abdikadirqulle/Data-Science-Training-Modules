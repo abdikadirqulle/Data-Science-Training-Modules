{
 "cells": [
  {
   "cell_type": "markdown",
   "id": "bb907220-900b-40af-bcba-4a095cbb6ecd",
   "metadata": {},
   "source": [
    "## Getting Started"
   ]
  },
  {
   "attachments": {},
   "cell_type": "markdown",
   "id": "175d58a5",
   "metadata": {},
   "source": [
    "### What is programming?"
   ]
  },
  {
   "cell_type": "markdown",
   "id": "80a3bd62",
   "metadata": {},
   "source": [
    "Computers can perform millions of calculations per\n",
    "second, but they require us to tell them exactly what to do. If they do\n",
    "something else than we want them to do the problem is usually that they\n",
    "don't understand our instructions the way we understand them.\n",
    "\n",
    "The only big difference between programming and what you're familiar\n",
    "with already is that instead of clicking buttons to do things we write\n",
    "the instructions using a **programming language**. Most programming\n",
    "languages consist of English words, digits and some characters that have\n",
    "special meanings.\n",
    "\n",
    "Unlike people often think, programming is usually not complicated. Large\n",
    "programs are always made of **small, simple pieces**, and those pieces\n",
    "are written one by one. Programming languages are made to be used by\n",
    "humans, so if there's an easy way to do something and a difficult way to\n",
    "do something, you should use the easier way."
   ]
  },
  {
   "attachments": {},
   "cell_type": "markdown",
   "id": "af318dba",
   "metadata": {},
   "source": [
    "What do you need:\n",
    "- **you don't need to be good at math**. Some programmers\n",
    "are good at math, some are not. Programming and math are two separate\n",
    "things and being good or bad at one doesn't mean you are automatically\n",
    "good or bad at the other.\n",
    "\n",
    "- **you don't need a powerful computer**. I could do almost all of my\n",
    "programming on a 12-year-old computer if I needed to. Fast computers are\n",
    "nice to work with, but you don't need them.\n",
    "\n",
    "- **Take your time**. Programming takes time like all hobbies do. Some people learn it\n",
    "quickly, and some people don't. \n"
   ]
  },
  {
   "attachments": {},
   "cell_type": "markdown",
   "id": "377a2551",
   "metadata": {},
   "source": [
    "We will learn many skills in a short amount of time. Please refer to the material every time you need it."
   ]
  },
  {
   "attachments": {},
   "cell_type": "markdown",
   "id": "2cecc3b4",
   "metadata": {},
   "source": [
    "(Check [this link](https://github.com/Akuli/python-tutorial) for a very good tutorial to read)"
   ]
  },
  {
   "attachments": {},
   "cell_type": "markdown",
   "id": "94c6c0d1-0fad-4e6b-89c9-ef370fa446ee",
   "metadata": {},
   "source": [
    "## Writing our first instruction"
   ]
  },
  {
   "attachments": {},
   "cell_type": "markdown",
   "id": "bc3e369c-c996-4163-a0a3-8f1873487020",
   "metadata": {},
   "source": [
    "An instrution is one or more lines of code written in the Python Programming Language. The computer will be able to understand them and perform the tasks we've asked. \n",
    "\n",
    "To run our first instruction, we will write it in the next cell:"
   ]
  },
  {
   "attachments": {},
   "cell_type": "markdown",
   "id": "248b56ed",
   "metadata": {},
   "source": [
    "The simplest instruction we can write is a call to the print function.\n",
    "We insert a message between square brackets and it will be printed out below:"
   ]
  },
  {
   "cell_type": "markdown",
   "id": "0320d8e9-0bb6-4830-9da2-c41cd5d5d53e",
   "metadata": {},
   "source": [
    "``` python \n",
    "print(\"Hello from Python\")\n",
    "```"
   ]
  },
  {
   "cell_type": "markdown",
   "id": "53d963bf-2f1f-4222-8b70-c720fa0b4ef1",
   "metadata": {},
   "source": [
    "and press ctrl+shift to execute it"
   ]
  },
  {
   "cell_type": "code",
   "execution_count": 1,
   "id": "4e2299b9-2eef-4295-8898-bb8da9604686",
   "metadata": {},
   "outputs": [
    {
     "name": "stdout",
     "output_type": "stream",
     "text": [
      "Hello from Python\n"
     ]
    }
   ],
   "source": [
    "print(\"Hello from Python\")"
   ]
  },
  {
   "cell_type": "markdown",
   "id": "5ff36a84-4946-4215-a3ab-7b551fd39cd0",
   "metadata": {},
   "source": [
    "Congratulations, you've just written and executer your first line of Python code!"
   ]
  },
  {
   "cell_type": "markdown",
   "id": "3e91b260-a751-4e36-87f9-df6d04fc97a3",
   "metadata": {},
   "source": [
    "This simple line of code has introduced three of the basic building blocks of Python;\n",
    "- A function `print`. Functions are instructions that tell Python to do something, in this case `print` tells Python to print the following string to the screen. Functions are \"called\" by following them with a pair of parentheses`()`. Whatever we put between those parentheses are called \"arguments\" and specify exactly what the function should do.\n",
    "- A string `\"Hello from Python!`. A string is just a piece of text, which can contain multiple lines. Strings are enclosed in double quotes\n",
    "- A line of code `print(\"Hello from Python!\")`. A line of code forms a complete instruction which can be executed by Python. Python executes each line of code, one at a time in order, moving from the top of the file downwards until it reaches the end of the file.\n"
   ]
  },
  {
   "cell_type": "code",
   "execution_count": null,
   "id": "3d7b5563-3d41-460c-9e2b-e539c5a4de28",
   "metadata": {},
   "outputs": [],
   "source": []
  }
 ],
 "metadata": {
  "kernelspec": {
   "display_name": "Python 3 (ipykernel)",
   "language": "python",
   "name": "python3"
  },
  "language_info": {
   "codemirror_mode": {
    "name": "ipython",
    "version": 3
   },
   "file_extension": ".py",
   "mimetype": "text/x-python",
   "name": "python",
   "nbconvert_exporter": "python",
   "pygments_lexer": "ipython3",
   "version": "3.10.9"
  }
 },
 "nbformat": 4,
 "nbformat_minor": 5
}
