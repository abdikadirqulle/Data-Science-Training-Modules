{
 "cells": [
  {
   "cell_type": "markdown",
   "id": "681acc0c-a16a-4819-aefc-49cdb74bff04",
   "metadata": {},
   "source": [
    "## Data types"
   ]
  },
  {
   "cell_type": "markdown",
   "id": "d00901aa-83f2-4977-bdef-c6fbeb3b1c27",
   "metadata": {},
   "source": [
    "### Strings"
   ]
  },
  {
   "cell_type": "markdown",
   "id": "40c2ba74-c6be-4e8f-9b9e-57124dfb8d67",
   "metadata": {},
   "source": [
    "In the last chapter we introduced the idea of \"strings\". They are a way of representing normal human words inside a Python script. Strings start and end with double quotes (\") e.g.,"
   ]
  },
  {
   "cell_type": "markdown",
   "id": "9e6adefb-a931-40d2-a94a-fc9378f2b1b7",
   "metadata": {},
   "source": [
    "`\"Hello from Python!\"`"
   ]
  },
  {
   "cell_type": "markdown",
   "id": "a4ec46e1-4c90-4b2e-8fa6-c04724cd3faa",
   "metadata": {},
   "source": [
    "is a string with three words and an exclamation mark as content."
   ]
  },
  {
   "cell_type": "markdown",
   "id": "b31c68ba-0a88-410b-923a-75f7c7580197",
   "metadata": {},
   "source": [
    "Strings can contain numbers as well:"
   ]
  },
  {
   "attachments": {},
   "cell_type": "markdown",
   "id": "28d14219-05a4-43e4-96e5-51c812e0159a",
   "metadata": {},
   "source": [
    "`\"Today is the 10th of May 2023\"`"
   ]
  },
  {
   "cell_type": "markdown",
   "id": "65795940-98f0-4fa1-81d7-688d2396c83e",
   "metadata": {},
   "source": [
    "or they can be empty:"
   ]
  },
  {
   "cell_type": "markdown",
   "id": "bf7b6e46-91c7-4b86-84fd-565d34c8e632",
   "metadata": {},
   "source": [
    "`\"\"`\n"
   ]
  },
  {
   "cell_type": "markdown",
   "id": "75e81364-f829-4a13-95d6-c24b95dce221",
   "metadata": {},
   "source": [
    "It is possible in Python to also use single quotes (`'`) to make strings, as long as the string starts and ends with the same type of quote, but it is convention to prefer double quotes."
   ]
  },
  {
   "cell_type": "markdown",
   "id": "08f13242-9a90-4f78-8edb-b79af9a905c8",
   "metadata": {},
   "source": [
    "### Exercise"
   ]
  },
  {
   "cell_type": "markdown",
   "id": "50d36d46-bf18-4063-8859-fdfb9e9c81e4",
   "metadata": {},
   "source": [
    "Print any string using the Python `print` function."
   ]
  },
  {
   "cell_type": "code",
   "execution_count": 1,
   "id": "49c5606a-66e6-4ac2-836f-03f4c8f34fd1",
   "metadata": {},
   "outputs": [
    {
     "name": "stdout",
     "output_type": "stream",
     "text": [
      "maxmed\n"
     ]
    }
   ],
   "source": [
    "# insert code here\n",
    "\n",
    "name = \"maxmed\"\n",
    "print(name)"
   ]
  },
  {
   "cell_type": "markdown",
   "id": "408613ab-cb00-4335-a56e-3a52990c7766",
   "metadata": {},
   "source": [
    "### Numbers"
   ]
  },
  {
   "cell_type": "markdown",
   "id": "ac012426-d668-4294-9d41-227ad34352bf",
   "metadata": {},
   "source": [
    "The other most common type of data that you'll find in Python scripts are numbers. There are two main types of number in Python:\n",
    "- **Floats** (or floating point numbers) are a way of representing numbers with decimal places\n",
    "- **Integers** are for representing whole numbers\n",
    "\n",
    "When creating numbers in Python, you do not use quotes, you write the number directly. So:"
   ]
  },
  {
   "cell_type": "markdown",
   "id": "929b7c6f-e3c5-4558-a7b4-fd7081bfa9af",
   "metadata": {},
   "source": [
    "`3.14159`\n",
    "\n",
    "is a float and"
   ]
  },
  {
   "cell_type": "markdown",
   "id": "bad37c41-15e5-48e1-b589-219fb69246af",
   "metadata": {},
   "source": [
    "`42`\n",
    "\n",
    "is an integer."
   ]
  },
  {
   "cell_type": "markdown",
   "id": "6b61ac9b-b31b-4033-8969-e365d7f73a11",
   "metadata": {},
   "source": [
    "### Variables"
   ]
  },
  {
   "cell_type": "markdown",
   "id": "226ed134-807b-45e5-ad4f-98a9ecf18ff8",
   "metadata": {},
   "source": [
    "Of course, it not much use to have numbers and strings floating about with no connection to each other. We want to be able to give them names and combine them together. We assign names to data using the `=` sign. For example if we want to make some data and give it a name we can do it like:"
   ]
  },
  {
   "cell_type": "code",
   "execution_count": 9,
   "id": "1470579f-bc2e-4798-99db-3093e550d418",
   "metadata": {},
   "outputs": [
    {
     "name": "stdout",
     "output_type": "stream",
     "text": [
      "14.2\n"
     ]
    }
   ],
   "source": [
    "# insert code here\n",
    "\n",
    "num = 12\n",
    "print(num +2.2)"
   ]
  },
  {
   "cell_type": "markdown",
   "id": "af4640f4-5e70-4526-a70f-76174ad5fc37",
   "metadata": {},
   "source": [
    "This has created a number `3.14159` and given it a name, `pi`. We can now use this name in other parts of our code to refer to that piece of data:"
   ]
  },
  {
   "cell_type": "code",
   "execution_count": 10,
   "id": "7bf71b85-64c4-4d7d-977b-581f5cacd568",
   "metadata": {},
   "outputs": [
    {
     "name": "stdout",
     "output_type": "stream",
     "text": [
      "3.14159\n"
     ]
    }
   ],
   "source": [
    "# insert code here\n",
    "num = 3.14159\n",
    "print(num)"
   ]
  },
  {
   "cell_type": "markdown",
   "id": "bc000a7d-58f4-4a98-acce-579128515408",
   "metadata": {},
   "source": [
    "Names in Python can contain upper and lower case letters, numbers and underscores (but can't start with a number). It is common in Python to name your variables with all lower case letters and use underscores to separate words. Chosing the correct name for a particular variable is an important task as a non-descriptive name (or worse, an incorrect name) will be very confusing for you and anyone reading your code. \n",
    "\n",
    "So, for a variable which contains a number representing a distance in miles, avoid shortened names like `dm`, `distm` or `d` and instead use a name like `distance_in_miles`. Remember, code will be written once but read many times so make it easy to read."
   ]
  },
  {
   "cell_type": "markdown",
   "id": "086f9315-5b0e-4735-9645-619a015aa2e1",
   "metadata": {},
   "source": [
    "These two instructions can be combined in the same cell:"
   ]
  },
  {
   "cell_type": "code",
   "execution_count": 11,
   "id": "37108ee4-b83c-4bdf-8cb6-405fc1065123",
   "metadata": {},
   "outputs": [
    {
     "name": "stdout",
     "output_type": "stream",
     "text": [
      "1\n"
     ]
    }
   ],
   "source": [
    "#insert code here\n",
    "pi = 1\n",
    "print(pi)"
   ]
  },
  {
   "cell_type": "markdown",
   "id": "45ccfc50-a5c1-4e16-9cfc-2ceb1bfdf8f4",
   "metadata": {},
   "source": [
    "The first line assigns the value to a variable named `pi` and the second one prints it."
   ]
  },
  {
   "cell_type": "markdown",
   "id": "319d8805-0135-40bd-a183-32b435beb496",
   "metadata": {},
   "source": [
    "### Exercise\n",
    "Create a new cell and write two lines of code. The first line should create a string and give it a variable name and the second line should use that name to print."
   ]
  },
  {
   "cell_type": "code",
   "execution_count": 13,
   "id": "cb727a54-3eb6-4184-90da-5bd270d382d0",
   "metadata": {},
   "outputs": [
    {
     "name": "stdout",
     "output_type": "stream",
     "text": [
      "abdikadir qulle\n"
     ]
    }
   ],
   "source": [
    "# insert code here\n",
    "\n",
    "name = \"abdikadir qulle\"\n",
    "print(name)\n",
    "# insert code here"
   ]
  },
  {
   "cell_type": "markdown",
   "id": "ccc122bf-39fb-4d24-a675-4ddbf8bd0837",
   "metadata": {},
   "source": [
    "### Combining variables\n",
    "Variables are more that just a way of labelling data, they also make it easier to do things with your data. If you have some numbers you can add, subtract, multiply and divide them as you would expect. The symbol for multiplication is `*` and the symbol for division is`/`."
   ]
  },
  {
   "cell_type": "code",
   "execution_count": 16,
   "id": "5aa17655-afb2-47fc-9e7e-69da35a31951",
   "metadata": {},
   "outputs": [
    {
     "name": "stdout",
     "output_type": "stream",
     "text": [
      "6\n",
      "9\n"
     ]
    }
   ],
   "source": [
    "# insert code here\n",
    "distance_in_mile = 30\n",
    "\n",
    "distance_in_k = distance_in_mile * 1.6093\n",
    "print(distance_in_k)"
   ]
  },
  {
   "cell_type": "markdown",
   "id": "26c6100e-dc0b-48ff-9774-31a356ca1683",
   "metadata": {},
   "source": [
    "Here we created a variable `distance_in_mile` with the value of `30`. Then we used that variable in line two and multiplied it by a number (`distance_in_miles * 1.6093`) and assigned the result of that calculation to a new variable called `distance_in_k`. Finally, we printed out the new variable.\n",
    "\n",
    "Likewise we can do addition:"
   ]
  },
  {
   "cell_type": "code",
   "execution_count": 22,
   "id": "7273d3bc-75c6-4575-a8f4-d16a45026827",
   "metadata": {},
   "outputs": [
    {
     "name": "stdout",
     "output_type": "stream",
     "text": [
      "298.25\n"
     ]
    }
   ],
   "source": [
    "# insert code here\n",
    "temperature_in_celsius = 25.1\n",
    "temperature_in_kelvin = temperature_in_celsius + 273.15\n",
    "\n",
    "print(temperature_in_kelvin)"
   ]
  },
  {
   "attachments": {},
   "cell_type": "markdown",
   "id": "61e92d69-4d2b-4cd1-a920-bbe394f318bd",
   "metadata": {},
   "source": [
    "We can use some of the operations on strings as well. For examples, you can add together two strings to combine them.\n",
    "Strings are joined with `+`, or repeated with `*`:"
   ]
  },
  {
   "cell_type": "code",
   "execution_count": 21,
   "id": "3192be65-2bd5-4d4c-a028-bb6eacd4f1b1",
   "metadata": {},
   "outputs": [
    {
     "name": "stdout",
     "output_type": "stream",
     "text": [
      "2 3\n"
     ]
    }
   ],
   "source": [
    "# insert code here\n",
    "\n",
    "string1 = \"2\"\n",
    "string2 = \"3\"\n",
    "\n",
    "print(string1,  string2)"
   ]
  },
  {
   "cell_type": "markdown",
   "id": "4d395e83-bda0-4df3-a5ec-bc8e3e4f4bf0",
   "metadata": {},
   "source": [
    "### Exercise\n",
    "\n",
    "edit the variable `message` so that it is made by adding two strings, then print it out. "
   ]
  },
  {
   "cell_type": "code",
   "execution_count": 23,
   "id": "f126e645-77b1-4241-8eb8-a48df70699b2",
   "metadata": {},
   "outputs": [
    {
     "name": "stdout",
     "output_type": "stream",
     "text": [
      "wlldaadaa\n"
     ]
    }
   ],
   "source": [
    "# insert code here\n",
    "\n",
    "qulle = \"wll\"\n",
    "wll = \"daadaa\"\n",
    "\n",
    "message = qulle + wll\n",
    "print(message)\n"
   ]
  },
  {
   "cell_type": "markdown",
   "id": "79d67b55-3865-45b1-b077-fe024890e8a4",
   "metadata": {},
   "source": [
    "---"
   ]
  },
  {
   "cell_type": "markdown",
   "id": "51b2bd5b-62c6-40b1-8c3a-dbbaa6de81ab",
   "metadata": {},
   "source": [
    "### Printing multiple things"
   ]
  },
  {
   "cell_type": "markdown",
   "id": "36f796f5-6b54-4106-b2fc-10bac382c762",
   "metadata": {},
   "source": [
    "So far we've been giving the `print` function a single argument to print a single thing but we can print many things at once if we give it multiple arguments. Arguments to functions in Python are separated by commas. The `print` function is designed so that it will print each of the arguments it was provided with, one after another on the same line, separated by spaces."
   ]
  },
  {
   "cell_type": "code",
   "execution_count": 31,
   "id": "36bdafcc-66a3-420c-8d98-7b7a8e983b49",
   "metadata": {},
   "outputs": [
    {
     "name": "stdout",
     "output_type": "stream",
     "text": [
      "abdikadir  qulle\n"
     ]
    }
   ],
   "source": [
    "# insert code here\n",
    "print(\"abdikadir \" , \"qulle\")"
   ]
  },
  {
   "cell_type": "markdown",
   "id": "c2369345-a198-46ef-80c9-23e3e9422720",
   "metadata": {},
   "source": [
    "### Exercise\n",
    "\n",
    "Print a sentence, so that the two parts of the phrase are passed to `print` as separate arguments rather than adding them together and printing the combined message.\n"
   ]
  },
  {
   "cell_type": "code",
   "execution_count": 11,
   "id": "fd02e834-ae51-4caa-8b7e-36e0d6d72bf5",
   "metadata": {},
   "outputs": [],
   "source": [
    "# insert code here"
   ]
  },
  {
   "cell_type": "code",
   "execution_count": 1,
   "id": "bf55bf7c-d7f1-4ac6-a811-2812cd3e77c9",
   "metadata": {},
   "outputs": [],
   "source": [
    "## Using Python as a calculator"
   ]
  },
  {
   "cell_type": "markdown",
   "id": "235045a7",
   "metadata": {},
   "source": [
    "### Using Python as a calculator"
   ]
  },
  {
   "cell_type": "markdown",
   "id": "64a8a055",
   "metadata": {},
   "source": [
    "Let's type some math stuff into Python and see what it does."
   ]
  },
  {
   "cell_type": "code",
   "execution_count": 27,
   "id": "0ca48751",
   "metadata": {},
   "outputs": [
    {
     "data": {
      "text/plain": [
       "8"
      ]
     },
     "execution_count": 27,
     "metadata": {},
     "output_type": "execute_result"
    }
   ],
   "source": [
    "# insert code here\n",
    "9-9 +3\n",
    "5+3"
   ]
  },
  {
   "attachments": {},
   "cell_type": "markdown",
   "id": "79a24b0d",
   "metadata": {},
   "source": [
    "See? It's working! Python just calculates the result and echoes it back."
   ]
  },
  {
   "cell_type": "markdown",
   "id": "6d22ce4c",
   "metadata": {},
   "source": [
    "You can also write more complex expressions. Things are calculated in the same order as in math. The parentheses `(`\n",
    "and `)` also work the same way."
   ]
  },
  {
   "cell_type": "code",
   "execution_count": 32,
   "id": "a99ca138",
   "metadata": {},
   "outputs": [
    {
     "data": {
      "text/plain": [
       "0"
      ]
     },
     "execution_count": 32,
     "metadata": {},
     "output_type": "execute_result"
    }
   ],
   "source": [
    "2^2"
   ]
  },
  {
   "cell_type": "code",
   "execution_count": 29,
   "id": "8957ee7f",
   "metadata": {},
   "outputs": [
    {
     "data": {
      "text/plain": [
       "8"
      ]
     },
     "execution_count": 29,
     "metadata": {},
     "output_type": "execute_result"
    }
   ],
   "source": [
    "4+4"
   ]
  },
  {
   "cell_type": "markdown",
   "id": "bdeedbc1",
   "metadata": {},
   "source": [
    "4%12"
   ]
  },
  {
   "cell_type": "markdown",
   "id": "f4e77b66",
   "metadata": {},
   "source": [
    "sjkhsdgkjsdhg\n",
    "s"
   ]
  },
  {
   "cell_type": "markdown",
   "id": "4d64e1c6",
   "metadata": {},
   "source": [
    "##hellow"
   ]
  },
  {
   "cell_type": "markdown",
   "id": "ef6bd27f",
   "metadata": {},
   "source": [
    "## heel"
   ]
  },
  {
   "cell_type": "markdown",
   "id": "f888f55a",
   "metadata": {},
   "source": []
  },
  {
   "cell_type": "markdown",
   "id": "7ca2e873",
   "metadata": {},
   "source": [
    "### daadaa\n"
   ]
  },
  {
   "cell_type": "markdown",
   "id": "6744e6a4",
   "metadata": {},
   "source": []
  },
  {
   "cell_type": "markdown",
   "id": "eac32e74",
   "metadata": {},
   "source": []
  }
 ],
 "metadata": {
  "kernelspec": {
   "display_name": "Python 3 (ipykernel)",
   "language": "python",
   "name": "python3"
  },
  "language_info": {
   "codemirror_mode": {
    "name": "ipython",
    "version": 3
   },
   "file_extension": ".py",
   "mimetype": "text/x-python",
   "name": "python",
   "nbconvert_exporter": "python",
   "pygments_lexer": "ipython3",
   "version": "3.12.4"
  }
 },
 "nbformat": 4,
 "nbformat_minor": 5
}
