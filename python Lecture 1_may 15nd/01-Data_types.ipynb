{
 "cells": [
  {
   "cell_type": "markdown",
   "id": "681acc0c-a16a-4819-aefc-49cdb74bff04",
   "metadata": {},
   "source": [
    "## Data types"
   ]
  },
  {
   "cell_type": "markdown",
   "id": "d00901aa-83f2-4977-bdef-c6fbeb3b1c27",
   "metadata": {},
   "source": [
    "### Strings"
   ]
  },
  {
   "cell_type": "markdown",
   "id": "40c2ba74-c6be-4e8f-9b9e-57124dfb8d67",
   "metadata": {},
   "source": [
    "In the last chapter we introduced the idea of \"strings\". They are a way of representing normal human words inside a Python script. Strings start and end with double quotes (\") e.g.,"
   ]
  },
  {
   "cell_type": "markdown",
   "id": "9e6adefb-a931-40d2-a94a-fc9378f2b1b7",
   "metadata": {},
   "source": [
    "`\"Hello from Python!\"`"
   ]
  },
  {
   "cell_type": "markdown",
   "id": "a4ec46e1-4c90-4b2e-8fa6-c04724cd3faa",
   "metadata": {},
   "source": [
    "is a string with three words and an exclamation mark as content."
   ]
  },
  {
   "cell_type": "markdown",
   "id": "b31c68ba-0a88-410b-923a-75f7c7580197",
   "metadata": {},
   "source": [
    "Strings can contain numbers as well:"
   ]
  },
  {
   "attachments": {},
   "cell_type": "markdown",
   "id": "28d14219-05a4-43e4-96e5-51c812e0159a",
   "metadata": {},
   "source": [
    "`\"Today is the 10th of May 2023\"`"
   ]
  },
  {
   "attachments": {},
   "cell_type": "markdown",
   "id": "72cb2966",
   "metadata": {},
   "source": [
    "And they can also be empty:"
   ]
  },
  {
   "cell_type": "markdown",
   "id": "bf7b6e46-91c7-4b86-84fd-565d34c8e632",
   "metadata": {},
   "source": [
    "`\"\"`\n"
   ]
  },
  {
   "cell_type": "markdown",
   "id": "75e81364-f829-4a13-95d6-c24b95dce221",
   "metadata": {},
   "source": [
    "It is possible in Python to also use single quotes (`'`) to make strings, as long as the string starts and ends with the same type of quote, but it is convention to prefer double quotes."
   ]
  },
  {
   "cell_type": "markdown",
   "id": "08f13242-9a90-4f78-8edb-b79af9a905c8",
   "metadata": {},
   "source": [
    "### Exercise"
   ]
  },
  {
   "cell_type": "markdown",
   "id": "50d36d46-bf18-4063-8859-fdfb9e9c81e4",
   "metadata": {},
   "source": [
    "Print any string using the Python `print` function."
   ]
  },
  {
   "cell_type": "code",
   "execution_count": 13,
   "id": "49c5606a-66e6-4ac2-836f-03f4c8f34fd1",
   "metadata": {},
   "outputs": [
    {
     "name": "stdout",
     "output_type": "stream",
     "text": [
      "Hi, my name is Chiara\n"
     ]
    }
   ],
   "source": [
    "print(\"Hi, my name is Chiara\")"
   ]
  },
  {
   "cell_type": "markdown",
   "id": "408613ab-cb00-4335-a56e-3a52990c7766",
   "metadata": {},
   "source": [
    "### Numbers"
   ]
  },
  {
   "cell_type": "markdown",
   "id": "ac012426-d668-4294-9d41-227ad34352bf",
   "metadata": {},
   "source": [
    "The other most common type of data that you'll find in Python scripts are numbers. There are two main types of number in Python:\n",
    "- **Floats** (or floating point numbers) are a way of representing numbers with decimal places\n",
    "- **Integers** are for representing whole numbers\n",
    "\n",
    "When creating numbers in Python, you do not use quotes, you write the number directly. So:"
   ]
  },
  {
   "cell_type": "markdown",
   "id": "929b7c6f-e3c5-4558-a7b4-fd7081bfa9af",
   "metadata": {},
   "source": [
    "`3.14159`\n",
    "\n",
    "is a float and"
   ]
  },
  {
   "cell_type": "markdown",
   "id": "bad37c41-15e5-48e1-b589-219fb69246af",
   "metadata": {},
   "source": [
    "`42`\n",
    "\n",
    "is an integer."
   ]
  },
  {
   "cell_type": "markdown",
   "id": "6b61ac9b-b31b-4033-8969-e365d7f73a11",
   "metadata": {},
   "source": [
    "### Variables"
   ]
  },
  {
   "cell_type": "markdown",
   "id": "226ed134-807b-45e5-ad4f-98a9ecf18ff8",
   "metadata": {},
   "source": [
    "Of course, it not much use to have numbers and strings floating about with no connection to each other. We want to be able to give them names and combine them together. We assign names to data using the `=` sign. For example if we want to make some data and give it a name we can do it like:"
   ]
  },
  {
   "cell_type": "code",
   "execution_count": 3,
   "id": "1470579f-bc2e-4798-99db-3093e550d418",
   "metadata": {},
   "outputs": [],
   "source": [
    "pi = 3.14159"
   ]
  },
  {
   "cell_type": "markdown",
   "id": "af4640f4-5e70-4526-a70f-76174ad5fc37",
   "metadata": {},
   "source": [
    "This has created a number `3.14159` and given it a name, `pi`. We can now use this name in other parts of the program to refer to that piece of data:"
   ]
  },
  {
   "cell_type": "code",
   "execution_count": 4,
   "id": "7bf71b85-64c4-4d7d-977b-581f5cacd568",
   "metadata": {},
   "outputs": [
    {
     "name": "stdout",
     "output_type": "stream",
     "text": [
      "3.14159\n"
     ]
    }
   ],
   "source": [
    "print(pi)"
   ]
  },
  {
   "cell_type": "markdown",
   "id": "bc000a7d-58f4-4a98-acce-579128515408",
   "metadata": {},
   "source": [
    "Names in Python can contain upper and lower case letters, numbers and underscores (but can't start with a number). Chosing the correct name for a particular variable is an important task as a non-descriptive name (or worse, an incorrect name) will be very confusing for you and anyone reading your code. It is common in Python to name your variables with all lower case letters and use underscores to separate words.\n",
    "\n",
    "So, for a variable which contains a number representing a distance in miles, avoid shortened names like `dm`, `distm` or `d` and instead use a name like `distance_in_miles`. Remember, code will be written once but read many times so make it easy to read."
   ]
  },
  {
   "cell_type": "markdown",
   "id": "086f9315-5b0e-4735-9645-619a015aa2e1",
   "metadata": {},
   "source": [
    "These two instructions can be combined in the same cell:"
   ]
  },
  {
   "cell_type": "code",
   "execution_count": 5,
   "id": "37108ee4-b83c-4bdf-8cb6-405fc1065123",
   "metadata": {},
   "outputs": [
    {
     "name": "stdout",
     "output_type": "stream",
     "text": [
      "3.14159\n"
     ]
    }
   ],
   "source": [
    "pi = 3.14159\n",
    "print(pi)"
   ]
  },
  {
   "cell_type": "markdown",
   "id": "45ccfc50-a5c1-4e16-9cfc-2ceb1bfdf8f4",
   "metadata": {},
   "source": [
    "The first line assigns the value to a variable named `pi` and the second one prints it."
   ]
  },
  {
   "cell_type": "markdown",
   "id": "319d8805-0135-40bd-a183-32b435beb496",
   "metadata": {},
   "source": [
    "### Exercise\n",
    "Create a new cell and write two lines of code. The first line should create a string and give it a variable name and the second line should use that name to print."
   ]
  },
  {
   "cell_type": "code",
   "execution_count": 14,
   "id": "cb727a54-3eb6-4184-90da-5bd270d382d0",
   "metadata": {},
   "outputs": [
    {
     "name": "stdout",
     "output_type": "stream",
     "text": [
      "Today is Wednesday\n"
     ]
    }
   ],
   "source": [
    "words = \"Today is Wednesday\"\n",
    "\n",
    "print(words) "
   ]
  },
  {
   "cell_type": "markdown",
   "id": "ccc122bf-39fb-4d24-a675-4ddbf8bd0837",
   "metadata": {},
   "source": [
    "### Combining variables\n",
    "Variables are more that just a way of labelling data, they also make it easier to do things with your data. If you have some numbers you can add, subtract, multiply and divide them as you would expect. The symbol for multiplication is `*` and the symbol for division is`/`."
   ]
  },
  {
   "cell_type": "code",
   "execution_count": 7,
   "id": "5aa17655-afb2-47fc-9e7e-69da35a31951",
   "metadata": {},
   "outputs": [
    {
     "name": "stdout",
     "output_type": "stream",
     "text": [
      "48.2802\n"
     ]
    }
   ],
   "source": [
    "distance_in_miles = 30\n",
    "distance_in_km = distance_in_miles * 1.60934\n",
    "\n",
    "print(distance_in_km) "
   ]
  },
  {
   "cell_type": "markdown",
   "id": "26c6100e-dc0b-48ff-9774-31a356ca1683",
   "metadata": {},
   "source": [
    "Here we created a variable `distance_in_mile` with the value of `30`. Then we used that variable in line two and multiplied it by a number (`distance_in_miles * 1.6093`) and assigned the result of that calculation to a new variable called `distance_in_k`. Finally, we printed out the new variable.\n",
    "\n",
    "Likewise we can do addition:"
   ]
  },
  {
   "cell_type": "code",
   "execution_count": 8,
   "id": "7273d3bc-75c6-4575-a8f4-d16a45026827",
   "metadata": {},
   "outputs": [
    {
     "name": "stdout",
     "output_type": "stream",
     "text": [
      "298.25\n"
     ]
    }
   ],
   "source": [
    "temperature_in_celsius = 25.1\n",
    "temperature_in_kelvin = temperature_in_celsius + 273.15\n",
    "\n",
    "print(temperature_in_kelvin)"
   ]
  },
  {
   "attachments": {},
   "cell_type": "markdown",
   "id": "61e92d69-4d2b-4cd1-a920-bbe394f318bd",
   "metadata": {},
   "source": [
    "We can use some of the operations on strings as well. For examples, you can add together two strings to combine them.\n",
    "Strings are joined with `+`, or repeated with `*`:"
   ]
  },
  {
   "cell_type": "code",
   "execution_count": 3,
   "id": "3192be65-2bd5-4d4c-a028-bb6eacd4f1b1",
   "metadata": {},
   "outputs": [
    {
     "name": "stdout",
     "output_type": "stream",
     "text": [
      "Hello Python\n"
     ]
    }
   ],
   "source": [
    "greeting = \"Hello \"\n",
    "name = \"Python\"\n",
    "\n",
    "message = greeting + name\n",
    "\n",
    "print(message)"
   ]
  },
  {
   "cell_type": "code",
   "execution_count": 7,
   "id": "d44631cd",
   "metadata": {},
   "outputs": [
    {
     "name": "stdout",
     "output_type": "stream",
     "text": [
      "Hello Hello Hello \n"
     ]
    }
   ],
   "source": [
    "\n",
    "message2 = greeting*3\n",
    "print(message2)"
   ]
  },
  {
   "cell_type": "markdown",
   "id": "4d395e83-bda0-4df3-a5ec-bc8e3e4f4bf0",
   "metadata": {},
   "source": [
    "### Exercise\n",
    "\n",
    "edit the variable `message` so that it is made by adding two strings, then print it out. "
   ]
  },
  {
   "cell_type": "code",
   "execution_count": 2,
   "id": "f126e645-77b1-4241-8eb8-a48df70699b2",
   "metadata": {},
   "outputs": [
    {
     "name": "stdout",
     "output_type": "stream",
     "text": [
      "Today is Wednesday the 10th of May\n"
     ]
    }
   ],
   "source": [
    "first_phrase = \"Today is Wednesday\"\n",
    "second_phrase = \" the 10th of May\"\n",
    "\n",
    "message = first_phrase + second_phrase\n",
    "\n",
    "print(message) "
   ]
  },
  {
   "cell_type": "markdown",
   "id": "79d67b55-3865-45b1-b077-fe024890e8a4",
   "metadata": {},
   "source": [
    "---"
   ]
  },
  {
   "cell_type": "markdown",
   "id": "51b2bd5b-62c6-40b1-8c3a-dbbaa6de81ab",
   "metadata": {},
   "source": [
    "### Printing multiple things"
   ]
  },
  {
   "cell_type": "markdown",
   "id": "36f796f5-6b54-4106-b2fc-10bac382c762",
   "metadata": {},
   "source": [
    "So far we've been giving the `print` function a single argument to print a single thing but we can print many things at once if we give it multiple arguments. Arguments to functions in Python are separated by commas. The `print` function is designed so that it will print each of the arguments it was provided with, one after another on the same line, separated by spaces."
   ]
  },
  {
   "cell_type": "code",
   "execution_count": 15,
   "id": "36bdafcc-66a3-420c-8d98-7b7a8e983b49",
   "metadata": {},
   "outputs": [
    {
     "name": "stdout",
     "output_type": "stream",
     "text": [
      "Hello, Python\n"
     ]
    }
   ],
   "source": [
    "print(\"Hello, Python\")"
   ]
  },
  {
   "cell_type": "markdown",
   "id": "c2369345-a198-46ef-80c9-23e3e9422720",
   "metadata": {},
   "source": [
    "### Exercise\n",
    "\n",
    "Print a sentence, so that the two parts of the phrase are passed to `print` as separate arguments rather than adding them together and printing the combined message.\n"
   ]
  },
  {
   "cell_type": "code",
   "execution_count": 3,
   "id": "fd02e834-ae51-4caa-8b7e-36e0d6d72bf5",
   "metadata": {},
   "outputs": [
    {
     "name": "stdout",
     "output_type": "stream",
     "text": [
      "Today is Wednesday the 10th of May\n"
     ]
    }
   ],
   "source": [
    "first_phrase = \"Today is Wednesday\"\n",
    "second_phrase = \"the 10th of May\"\n",
    "\n",
    "print(first_phrase, second_phrase)"
   ]
  },
  {
   "attachments": {},
   "cell_type": "markdown",
   "id": "1eb9b25a-0768-43b9-b4d6-e507b13d3372",
   "metadata": {},
   "source": [
    "### Using Python as a calculator"
   ]
  },
  {
   "attachments": {},
   "cell_type": "markdown",
   "id": "065a0dd4",
   "metadata": {},
   "source": [
    "Let's type some math stuff into Python and see what it does."
   ]
  },
  {
   "cell_type": "code",
   "execution_count": 8,
   "id": "50a27feb",
   "metadata": {},
   "outputs": [
    {
     "data": {
      "text/plain": [
       "20"
      ]
     },
     "execution_count": 8,
     "metadata": {},
     "output_type": "execute_result"
    }
   ],
   "source": [
    "17+3"
   ]
  },
  {
   "cell_type": "code",
   "execution_count": 9,
   "id": "05440803",
   "metadata": {},
   "outputs": [
    {
     "data": {
      "text/plain": [
       "14"
      ]
     },
     "execution_count": 9,
     "metadata": {},
     "output_type": "execute_result"
    }
   ],
   "source": [
    "17-3"
   ]
  },
  {
   "cell_type": "code",
   "execution_count": 10,
   "id": "a124f301",
   "metadata": {},
   "outputs": [
    {
     "data": {
      "text/plain": [
       "51"
      ]
     },
     "execution_count": 10,
     "metadata": {},
     "output_type": "execute_result"
    }
   ],
   "source": [
    "17*3"
   ]
  },
  {
   "cell_type": "code",
   "execution_count": 11,
   "id": "bd3a16b3",
   "metadata": {},
   "outputs": [
    {
     "data": {
      "text/plain": [
       "5.666666666666667"
      ]
     },
     "execution_count": 11,
     "metadata": {},
     "output_type": "execute_result"
    }
   ],
   "source": [
    "17/3"
   ]
  },
  {
   "attachments": {},
   "cell_type": "markdown",
   "id": "1a2729cb",
   "metadata": {},
   "source": [
    "It's working, Python just calculates the result and echoes it back."
   ]
  },
  {
   "attachments": {},
   "cell_type": "markdown",
   "id": "c4ab6afe",
   "metadata": {},
   "source": [
    "You can also write more complex expressions. Things are calculated in the same order as in math. The parentheses `(`\n",
    "and `)` also work the same way."
   ]
  },
  {
   "cell_type": "code",
   "execution_count": 12,
   "id": "a56e5f28",
   "metadata": {},
   "outputs": [
    {
     "data": {
      "text/plain": [
       "14.0"
      ]
     },
     "execution_count": 12,
     "metadata": {},
     "output_type": "execute_result"
    }
   ],
   "source": [
    "((17 * 3) + 5 )/4"
   ]
  },
  {
   "cell_type": "markdown",
   "id": "78ce2dd8",
   "metadata": {},
   "source": []
  }
 ],
 "metadata": {
  "kernelspec": {
   "display_name": "Python 3 (ipykernel)",
   "language": "python",
   "name": "python3"
  },
  "language_info": {
   "codemirror_mode": {
    "name": "ipython",
    "version": 3
   },
   "file_extension": ".py",
   "mimetype": "text/x-python",
   "name": "python",
   "nbconvert_exporter": "python",
   "pygments_lexer": "ipython3",
   "version": "3.10.9"
  }
 },
 "nbformat": 4,
 "nbformat_minor": 5
}
