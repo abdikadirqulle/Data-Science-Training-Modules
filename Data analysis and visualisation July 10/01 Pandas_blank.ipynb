{
 "cells": [
  {
   "attachments": {},
   "cell_type": "markdown",
   "id": "bright-dover",
   "metadata": {},
   "source": [
    "# Introduction to Pandas\n",
    "\n",
    "Pandas is a Python library providing high-performance, easy-to-use data structures and data analysis tools. Pandas provides easy and powerful ways to import data from a variety of sources and export it to just as many. It is also explicitly designed to handle *missing data* elegantly which is a very common problem in data from the real world.\n",
    "\n",
    "It can be used to perform the same tasks that you might use spreadsheets such as Excel for: columns of data being combined together with functions being applied to them and finally being displayed as a graph.\n",
    "\n",
    "The offical [pandas documentation](http://pandas.pydata.org/pandas-docs/stable/) is very comprehensive and you will be able to answer a lot of questions in there, however, it can sometimes be hard to find the right page. Don't be afraid to use Google to find help.\n",
    "\n",
    "We're going to start off with a quick overview of how we can use Pandas to read a file, ask some questions of it and plot the results. Then, in the next few chapters, we will dive into each of these topics in more detail."
   ]
  },
  {
   "attachments": {},
   "cell_type": "markdown",
   "id": "interpreted-music",
   "metadata": {},
   "source": [
    "## Reading in data"
   ]
  },
  {
   "attachments": {},
   "cell_type": "markdown",
   "id": "moved-annotation",
   "metadata": {},
   "source": [
    "Pandas is not a core part of Python, but is a very commonly used 3rd-party package. If you have installed Python using Anaconda then it is bundled as part of it.\n",
    "\n",
    "You can get access to Pandas by importing the `pandas` module. By convention, it is imported as `pd`:"
   ]
  },
  {
   "cell_type": "code",
   "execution_count": 1,
   "id": "presidential-shanghai",
   "metadata": {},
   "outputs": [],
   "source": [
    "# write code here"
   ]
  },
  {
   "attachments": {},
   "cell_type": "markdown",
   "id": "temporal-procedure",
   "metadata": {},
   "source": [
    "Pandas provides functionality for reading in all sorts of file formats, including:\n",
    "- Comma separated tables (or tab-separated or space-separated etc.)\n",
    "- Excel spreadsheets\n",
    "- HDF5 files\n",
    "- SQL databases\n",
    "\n",
    "Full information on reading and writing is available in the pandas manual on [IO tools](https://pandas.pydata.org/pandas-docs/stable/user_guide/io.html).\n",
    "\n",
    "For now, we keep it simple and work with comma-separated-value (CSV) files and use the function [`read_csv`](https://pandas.pydata.org/pandas-docs/stable/reference/api/pandas.read_csv.html):"
   ]
  },
  {
   "cell_type": "code",
   "execution_count": 1,
   "id": "jewish-latvia",
   "metadata": {},
   "outputs": [],
   "source": [
    "# write code here\n",
    "# read from \"rain.csv contained in the folder `data`\""
   ]
  },
  {
   "attachments": {},
   "cell_type": "markdown",
   "id": "nasty-coaching",
   "metadata": {},
   "source": [
    "This gives us the data from the file as a type of object called a `DataFrame`. This is the core of Pandas and we will be exploring many of the things that it can do throughout this course."
   ]
  },
  {
   "attachments": {},
   "cell_type": "markdown",
   "id": "mature-return",
   "metadata": {},
   "source": [
    "We can get Jupyter to display the data by putting the variable name in a cell by itself:"
   ]
  },
  {
   "cell_type": "code",
   "execution_count": 3,
   "id": "entertaining-traveler",
   "metadata": {},
   "outputs": [],
   "source": [
    "# write code here"
   ]
  },
  {
   "attachments": {},
   "cell_type": "markdown",
   "id": "married-wales",
   "metadata": {},
   "source": [
    "So a `DataFrame` is a table of data, it has columns and rows. In this particular case, the data are the total monthly rainfall (in mm), averaged over each year for each of four cities.\n",
    "\n",
    "We can see there are a few key parts of the output:\n",
    "\n",
    "- Down the left-hand side in bold is the *index*. These can be thought of as being like row numbers, but can be more informational. In this case they are the year that the data refers to.\n",
    "\n",
    "- Along the top are the column names. When we want to refer to a particular column in our `DataFrame`, we will use these names.\n",
    "\n",
    "- The actual data is then arrayed in the middle of the table. Mostly these are data that we care about, but you will also see some `NaN`s in there as well. This is how Pandas represents *missing data*, in this case years for which there are no measurements."
   ]
  },
  {
   "attachments": {},
   "cell_type": "markdown",
   "id": "earned-magnet",
   "metadata": {},
   "source": [
    "## Data Analysis"
   ]
  },
  {
   "attachments": {},
   "cell_type": "markdown",
   "id": "timely-stretch",
   "metadata": {},
   "source": [
    "Once we have our data, we can start asking questions of it. For example, if we want to find the mean rainfall for each column, we can call the `mean()` method on `rain`:"
   ]
  },
  {
   "cell_type": "code",
   "execution_count": 4,
   "id": "alternate-poetry",
   "metadata": {},
   "outputs": [],
   "source": [
    "# write code here"
   ]
  },
  {
   "attachments": {},
   "cell_type": "markdown",
   "id": "optional-wilderness",
   "metadata": {},
   "source": [
    "It is also possible to dive into the details of the data a bit more. We can ask for how many years was the average rainfall above 100 mm for each city:"
   ]
  },
  {
   "cell_type": "code",
   "execution_count": 5,
   "id": "rapid-plain",
   "metadata": {},
   "outputs": [],
   "source": [
    "# write code here"
   ]
  },
  {
   "attachments": {},
   "cell_type": "markdown",
   "id": "august-justice",
   "metadata": {},
   "source": [
    "Don't worry about the exact syntax for the line above, we'll be covering this later in the course."
   ]
  },
  {
   "attachments": {},
   "cell_type": "markdown",
   "id": "antique-satellite",
   "metadata": {},
   "source": [
    "You can also extract a single column using Python's square bracket indexing syntax:"
   ]
  },
  {
   "cell_type": "code",
   "execution_count": 6,
   "id": "mineral-willow",
   "metadata": {},
   "outputs": [],
   "source": [
    "# write code here"
   ]
  },
  {
   "cell_type": "code",
   "execution_count": 7,
   "id": "northern-serum",
   "metadata": {},
   "outputs": [],
   "source": [
    "# write code here"
   ]
  },
  {
   "attachments": {},
   "cell_type": "markdown",
   "id": "current-insert",
   "metadata": {},
   "source": [
    "## Plotting data"
   ]
  },
  {
   "attachments": {},
   "cell_type": "markdown",
   "id": "affected-prayer",
   "metadata": {},
   "source": [
    "Pandas provides some built-in methods for producing simple plots of your data. Using the `plot()` method on a `DataFrame` (along with specifying the x- and y-axis labels) can be done directly."
   ]
  },
  {
   "cell_type": "code",
   "execution_count": 8,
   "id": "fewer-paintball",
   "metadata": {},
   "outputs": [],
   "source": [
    "# write code here"
   ]
  },
  {
   "attachments": {},
   "cell_type": "markdown",
   "id": "numerical-appeal",
   "metadata": {},
   "source": [
    "Over the next few chapters we will dive into more detail on each of the topics we've covered on this page."
   ]
  }
 ],
 "metadata": {
  "kernelspec": {
   "display_name": "Python 3 (ipykernel)",
   "language": "python",
   "name": "python3"
  },
  "language_info": {
   "codemirror_mode": {
    "name": "ipython",
    "version": 3
   },
   "file_extension": ".py",
   "mimetype": "text/x-python",
   "name": "python",
   "nbconvert_exporter": "python",
   "pygments_lexer": "ipython3",
   "version": "3.10.9"
  }
 },
 "nbformat": 4,
 "nbformat_minor": 5
}
