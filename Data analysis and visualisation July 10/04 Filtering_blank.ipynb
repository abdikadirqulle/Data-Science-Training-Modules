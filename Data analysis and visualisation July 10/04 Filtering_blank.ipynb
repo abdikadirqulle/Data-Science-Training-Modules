{
 "cells": [
  {
   "attachments": {},
   "cell_type": "markdown",
   "id": "naked-burke",
   "metadata": {},
   "source": [
    "# Filtering data"
   ]
  },
  {
   "attachments": {},
   "cell_type": "markdown",
   "id": "ongoing-definition",
   "metadata": {},
   "source": [
    "In the last section we looked at how to act on entire columns at once. For example when we did:\n",
    "\n",
    "```python\n",
    "tips[\"total_bill\"] * 100\n",
    "```\n",
    "\n",
    "it applied the multiplication to every row, multiplying each number by 100.\n",
    "\n",
    "Sometimes we don't want to have to deal with entire columns at once, we might only want to grab a subset of the data and look in just that part. For example, with the tips data, we might think that the day of the week will affect the data so we just want to grab the data for Saturdays.\n",
    "\n",
    "In Pandas there are two steps to asking a question like this.\n",
    "\n",
    "1. create a *filter* which describes the question you want to ask\n",
    "2. *apply* that filter to the data to get just the bits you are interested in\n",
    "\n",
    "You create a filter by performing some operation on your `DataFrame` or a column within it. To ask about only those rows which refer to Saturday, you grab the `day` column and compare it to `\"Sat\"`:"
   ]
  },
  {
   "cell_type": "code",
   "execution_count": 1,
   "id": "vietnamese-entity",
   "metadata": {},
   "outputs": [],
   "source": [
    "# write code here\n",
    "# read from \"tips.csv\""
   ]
  },
  {
   "cell_type": "code",
   "execution_count": 2,
   "id": "regulated-poker",
   "metadata": {},
   "outputs": [],
   "source": [
    "# write code here"
   ]
  },
  {
   "attachments": {},
   "cell_type": "markdown",
   "id": "unavailable-consciousness",
   "metadata": {},
   "source": [
    "This has created a filter object (sometimes called a *mask* or a *boolean array*) which has `True` set for the rows where the day is Saturday and `False` elsewhere.\n",
    "\n",
    "We could save this filter as a variable:"
   ]
  },
  {
   "cell_type": "code",
   "execution_count": 3,
   "id": "welcome-intention",
   "metadata": {},
   "outputs": [],
   "source": [
    "# write code here"
   ]
  },
  {
   "attachments": {},
   "cell_type": "markdown",
   "id": "widespread-access",
   "metadata": {},
   "source": [
    "We can use this to filter the `DataFrame` as a whole. `tips[\"day\"] == \"Sat\"` has returned a `Series` containing booleans. Passing it back into `tips` as an indexing operation will use it to filter based on the `day` column, only keeping those rows which contained `True` in the filter:"
   ]
  },
  {
   "cell_type": "code",
   "execution_count": 4,
   "id": "vertical-commitment",
   "metadata": {},
   "outputs": [],
   "source": [
    "# write code here"
   ]
  },
  {
   "attachments": {},
   "cell_type": "markdown",
   "id": "behind-chart",
   "metadata": {},
   "source": [
    "Notice that it now says that the table only has 87 rows, down from 244. However, the index has been maintained. This is because the row labels are connected to the row, they're not just row numbers.\n",
    "\n",
    "It is more common to do this in one step, rather than creating and naming a filter object. So the code becomes:"
   ]
  },
  {
   "cell_type": "code",
   "execution_count": 5,
   "id": "governing-recording",
   "metadata": {},
   "outputs": [],
   "source": [
    "# write code here"
   ]
  },
  {
   "attachments": {},
   "cell_type": "markdown",
   "id": "convenient-livestock",
   "metadata": {},
   "source": [
    "This has given us back our subset of data as another `DataFrame` which can used in exactly the same way as the previous one (further filtering, summarising etc.)."
   ]
  },
  {
   "attachments": {},
   "cell_type": "markdown",
   "id": "played-article",
   "metadata": {
    "tags": [
     "exercise"
    ]
   },
   "source": [
    "### Exercise 1\n",
    "\n",
    "- Select the data for only Thursdays.\n",
    "- Calculate the mean of the `tip` column for Thursdays\n",
    "- Compare this with the mean of the `tip` column for Saturdays\n"
   ]
  },
  {
   "cell_type": "code",
   "execution_count": 6,
   "id": "5f3eaca5-1da5-47bc-b274-c1ec9bad2529",
   "metadata": {},
   "outputs": [],
   "source": [
    "# write code here"
   ]
  },
  {
   "attachments": {},
   "cell_type": "markdown",
   "id": "surprised-treat",
   "metadata": {},
   "source": [
    "## Other filters"
   ]
  },
  {
   "attachments": {},
   "cell_type": "markdown",
   "id": "looking-velvet",
   "metadata": {},
   "source": [
    "As well as filtering with the `==` operator (which only checks for exact matches), you can do other types of comparisons. Any of the standard Python comparisons will work (i.e. `==`, `!=`, `<`, `<=`, `>`, `>=`).\n",
    "\n",
    "To grab only the rows where the total bill is less than £8 we can use `<`:"
   ]
  },
  {
   "cell_type": "code",
   "execution_count": 7,
   "id": "photographic-jacob",
   "metadata": {},
   "outputs": [],
   "source": [
    "# write code here"
   ]
  },
  {
   "attachments": {},
   "cell_type": "markdown",
   "id": "intellectual-assembly",
   "metadata": {
    "tags": [
     "exercise"
    ]
   },
   "source": [
    "### Exercise 2\n",
    "\n",
    "Filter the data to only include parties of 5 or more people.\n",
    "\n"
   ]
  },
  {
   "cell_type": "code",
   "execution_count": 8,
   "id": "e8383b69-8924-4c2a-be3c-37144a5fac64",
   "metadata": {},
   "outputs": [],
   "source": [
    "# write code here"
   ]
  },
  {
   "attachments": {},
   "cell_type": "markdown",
   "id": "restricted-journalism",
   "metadata": {},
   "source": [
    "## Combining filters"
   ]
  },
  {
   "attachments": {},
   "cell_type": "markdown",
   "id": "blocked-bundle",
   "metadata": {},
   "source": [
    "If you want to apply multiple filters, for example to select only \"Saturdays with small total bills\" you can do it in one of two different ways. Either split the question into multiple steps, or ask it all at once.\n",
    "\n",
    "Let's do it multiple steps first since we already have tools we need for that:"
   ]
  },
  {
   "cell_type": "code",
   "execution_count": 9,
   "id": "young-pathology",
   "metadata": {},
   "outputs": [],
   "source": [
    "# write code here"
   ]
  },
  {
   "attachments": {},
   "cell_type": "markdown",
   "id": "eligible-fitting",
   "metadata": {},
   "source": [
    "Or, you can combine the questions together using the `&` operator with a syntax like:\n",
    "\n",
    "```python\n",
    "df[(filter_1) & (filter_2)]\n",
    "```\n",
    "\n",
    "so in our case filter 1 is `tips[\"day\"] == \"Sat\"` and filter 2 is `tips[\"total_bill\"] < 8` so it becomes:"
   ]
  },
  {
   "cell_type": "code",
   "execution_count": 10,
   "id": "touched-accent",
   "metadata": {},
   "outputs": [],
   "source": [
    "# write code here"
   ]
  },
  {
   "attachments": {},
   "cell_type": "markdown",
   "id": "cleared-dairy",
   "metadata": {},
   "source": [
    "If you want to do an \"or\" operation, then instead of `&` you can use `|`."
   ]
  },
  {
   "attachments": {},
   "cell_type": "markdown",
   "id": "cardiac-provision",
   "metadata": {
    "tags": [
     "exercise"
    ]
   },
   "source": [
    "### Exercise 3\n",
    "\n",
    "Filter the data to only include parties of 4 or more people which happened at lunch time.\n",
    "\n",
    "Hint: The `size` and `time` columns are what you want to use here.\n"
   ]
  },
  {
   "cell_type": "code",
   "execution_count": 11,
   "id": "49c099cd-174c-411e-8c29-5009e8b5781d",
   "metadata": {},
   "outputs": [],
   "source": [
    "# write code here"
   ]
  },
  {
   "attachments": {},
   "cell_type": "markdown",
   "id": "1d53c568-ea93-400c-a11a-b2900774cb7b",
   "metadata": {},
   "source": [
    "## DataFrame indexing\n",
    "\n",
    "When we use the square bracket syntax on a `DataFrame` directly there are a few different types of object that can be passed:\n",
    "\n",
    "<dl>\n",
    "<dt>A single string</dt>\n",
    "<dd>This will select a single column form the <code>DataFrame</code>, returning a <code>Series</code> object.</dd>\n",
    "<dt>A list of strings</dt>\n",
    "<dd>This will select those columns by name, returning a <code>DataFrame</code>.</dd>\n",
    "<dt>A filter (a <code>Series</code> of <code>True</code>/<code>False</code>)</dt>\n",
    "<dd>This will filter the table as a whole, returning a <code>DataFrame</code> with only the rows matching <code>True</code>included.</dd>\n",
    "</dl>\n",
    "\n",
    "These are provided as shortcuts as they are the most common operations to do an a `DataFrame`. This is why some of them operate on columns and other on rows.\n",
    "\n",
    "If you want to be expicit about which axis you are acting on, you can pass these same types of objects to the `.loc[rows, columns]` attribute with one argument per axis. This means that\n",
    "\n",
    "```python\n",
    "tips[sat_filter]\n",
    "```\n",
    "\n",
    "is equivalent to\n",
    "```python\n",
    "tips.loc[sat_filter]\n",
    "```\n",
    "\n",
    "and that\n",
    "```python\n",
    "tips[\"size\"]\n",
    "```\n",
    "\n",
    "is equivalent to\n",
    "```python\n",
    "tips.loc[:, \"size\"]\n",
    "```\n",
    "\n",
    "The full set of rules for [`DataFrame.loc` are in the documentation](https://pandas.pydata.org/docs/reference/api/pandas.DataFrame.loc.html)."
   ]
  },
  {
   "attachments": {},
   "cell_type": "markdown",
   "id": "dabc4f55-5ea7-4acb-a3fd-a4e301768b85",
   "metadata": {},
   "source": [
    "### Group by: split-apply-combine"
   ]
  },
  {
   "attachments": {},
   "cell_type": "markdown",
   "id": "168b93c5-d818-449e-bc4a-a0a9b098077e",
   "metadata": {},
   "source": [
    "Another operation worth learning is how to aggregate the data based on some criteria. The method we are going to use is called `groupby()`, and is actually the result of combining the following steps:\n",
    "\n",
    "- **splitting** the data into groups based on some criteria\n",
    "- **applying** a function to each group independently\n",
    "- **combining** the results into a data structure"
   ]
  },
  {
   "attachments": {},
   "cell_type": "markdown",
   "id": "7e6277c1-1c0f-4367-821a-cced9763cc91",
   "metadata": {},
   "source": [
    "To demonstrate this, we will use the following dataset containing information on passengers of the Titanic."
   ]
  },
  {
   "cell_type": "code",
   "execution_count": 12,
   "id": "d1c10174-7ac6-4cf2-a65a-6c4924c5f8a8",
   "metadata": {},
   "outputs": [],
   "source": [
    "# write code here\n",
    "# read from 'data/titanic.csv'"
   ]
  },
  {
   "attachments": {},
   "cell_type": "markdown",
   "id": "c8d9fdfb-eba3-40ed-9cb5-324cc1e0643d",
   "metadata": {},
   "source": [
    "This dataset contains infomation on the passengers, like the sex, the name, the age, and some info about the ticket prices and so on"
   ]
  },
  {
   "cell_type": "code",
   "execution_count": 13,
   "id": "51b1f9c1-2092-49fb-a923-5638aca05510",
   "metadata": {},
   "outputs": [],
   "source": [
    "# write code here"
   ]
  },
  {
   "attachments": {},
   "cell_type": "markdown",
   "id": "fca904dc-4f19-4cf2-8c3a-ef76b071aadb",
   "metadata": {},
   "source": [
    "Suppose we want to make some statistics on the age of the passengers.\n",
    "One way we could do it is by selecting the 'Age' column:\n"
   ]
  },
  {
   "cell_type": "code",
   "execution_count": 14,
   "id": "bddd3332-a11f-47fb-836f-241e9d414475",
   "metadata": {},
   "outputs": [],
   "source": [
    "# write code here"
   ]
  },
  {
   "cell_type": "code",
   "execution_count": 15,
   "id": "d07f06f9-2552-4848-b476-523b9ccc6a98",
   "metadata": {},
   "outputs": [],
   "source": [
    "# write code here"
   ]
  },
  {
   "attachments": {},
   "cell_type": "markdown",
   "id": "34c858ea-f9ab-4d66-b9b4-5c69ba24b25d",
   "metadata": {},
   "source": [
    "Or we could select both age and sex of the passengers, and obtain a new DataFrame:"
   ]
  },
  {
   "cell_type": "code",
   "execution_count": 16,
   "id": "c141422c-0bb5-4db2-bba9-f0fbf01b9587",
   "metadata": {},
   "outputs": [],
   "source": [
    "# write code here"
   ]
  },
  {
   "cell_type": "code",
   "execution_count": 17,
   "id": "6ce63e1b-de13-4078-ae4a-f1c683fa1d6b",
   "metadata": {},
   "outputs": [],
   "source": [
    "# write code here"
   ]
  },
  {
   "attachments": {},
   "cell_type": "markdown",
   "id": "c0b37a20-d870-4f52-ab52-91b166fd5e4b",
   "metadata": {},
   "source": [
    "Now, suppose we want to calculate the average age, we could simpy select the 'Age' column and calculate the mean:"
   ]
  },
  {
   "cell_type": "code",
   "execution_count": 18,
   "id": "fc85b4bf-e33b-41fc-b658-ce74a4be7720",
   "metadata": {},
   "outputs": [],
   "source": [
    "# write code here"
   ]
  },
  {
   "attachments": {},
   "cell_type": "markdown",
   "id": "7d36f1ef-2cff-4e0d-8108-a8cc96677fef",
   "metadata": {},
   "source": [
    "But if we wanted to calculate the average age depending on the sex, we cannot calculate it as:"
   ]
  },
  {
   "cell_type": "code",
   "execution_count": 19,
   "id": "7f9b1690-1a70-409e-b912-fe0a5c5cf864",
   "metadata": {},
   "outputs": [],
   "source": [
    "# write code here"
   ]
  },
  {
   "attachments": {},
   "cell_type": "markdown",
   "id": "06b15646-cce7-44d1-abc9-e7530e712002",
   "metadata": {},
   "source": [
    "As you can see, it doesn't give us what we were expecting. This happens because 'Sex' is a cathegorical variable, that can have the values \"male\" or \"female\", and it isn't understood by the mean function. With two numerical variables, like the age and the ticket fare, we could do:"
   ]
  },
  {
   "cell_type": "code",
   "execution_count": 20,
   "id": "99008b1a-eac2-4b22-be4d-b782810a6699",
   "metadata": {},
   "outputs": [],
   "source": [
    "# write code here"
   ]
  },
  {
   "attachments": {},
   "cell_type": "markdown",
   "id": "f5091b5a-3a8b-43fa-88d5-3b76fa41d392",
   "metadata": {},
   "source": [
    "And this would give us the mean of each column."
   ]
  },
  {
   "attachments": {},
   "cell_type": "markdown",
   "id": "1c242622-7d18-45b7-9cb2-7664dfbe62fb",
   "metadata": {},
   "source": [
    "What if we wanted to know the average age for each sex?\n",
    "\n",
    "To do this we can use the `groupby()` method, to make a group per category:"
   ]
  },
  {
   "cell_type": "code",
   "execution_count": 21,
   "id": "6277462e-e613-41ec-b67c-51dd45ee595a",
   "metadata": {},
   "outputs": [],
   "source": [
    "# write code here"
   ]
  },
  {
   "attachments": {},
   "cell_type": "markdown",
   "id": "1c06bd85-682a-4d19-b914-7d3480ab9b4c",
   "metadata": {},
   "source": [
    "As expected, this returns the mean of each column, grouped according to 'Sex'. Let's select the 'Age':"
   ]
  },
  {
   "cell_type": "code",
   "execution_count": 22,
   "id": "788af217-8af6-4b4b-9d12-6c1a5ea1e4bc",
   "metadata": {},
   "outputs": [],
   "source": [
    "# write code here"
   ]
  },
  {
   "attachments": {},
   "cell_type": "markdown",
   "id": "5d5158d3-d309-4aa2-aeb5-1b72370bf490",
   "metadata": {},
   "source": [
    "It is possible to group data by more categories at the same time. So, if we wanted to know the average cost of a ticket for both genders and for different cabin classes:"
   ]
  },
  {
   "cell_type": "code",
   "execution_count": 23,
   "id": "6f9ada83-241b-4784-ba3d-50c36fe6e38d",
   "metadata": {},
   "outputs": [],
   "source": [
    "# write code here"
   ]
  },
  {
   "attachments": {},
   "cell_type": "markdown",
   "id": "fbb27a6e-b042-4db5-9959-6e8c265bd88e",
   "metadata": {},
   "source": [
    "### Count the number of records per Category"
   ]
  },
  {
   "attachments": {},
   "cell_type": "markdown",
   "id": "010f1651-1610-4000-a4b5-132d18a5363a",
   "metadata": {},
   "source": [
    "What is the number of passengers in each cabin class?"
   ]
  },
  {
   "cell_type": "code",
   "execution_count": 24,
   "id": "15f8ba11-1354-4e04-bbf4-bec883fcaed9",
   "metadata": {},
   "outputs": [],
   "source": [
    "# write code here"
   ]
  },
  {
   "attachments": {},
   "cell_type": "markdown",
   "id": "8e4ca73a-5472-4035-8c4d-5efaf83339dd",
   "metadata": {},
   "source": [
    "The `value_counts()` method counts the number of records for each category in a column. The function is a shortcut, as it is actually a groupby operation in combination with counting of the number of records within each group:"
   ]
  },
  {
   "cell_type": "code",
   "execution_count": 25,
   "id": "c3239f60-22ac-447f-9b17-5117c1a8aa06",
   "metadata": {},
   "outputs": [],
   "source": [
    "# write code here"
   ]
  },
  {
   "attachments": {},
   "cell_type": "markdown",
   "id": "d9b42f62-9f57-4598-8e73-69ef6542f676",
   "metadata": {},
   "source": [
    "Both size and count can be used in combination with groupby. Whereas size includes `NaN` values and just provides the number of rows (size of the table), count excludes the missing values. In the `value_counts` method, use the `dropna` argument to include or exclude the `NaN`\n",
    " values. more info: https://pandas.pydata.org/docs/user_guide/basics.html#basics-discretization\n",
    "\n",
    "REMEMBER\n",
    "- Aggregation statistics can be calculated on entire columns or rows\n",
    "- `groupby` provides the power of the split-apply-combine pattern\n",
    "- `value_counts`\n",
    " is a convenient shortcut to count the number of entries in each category of a variable"
   ]
  },
  {
   "attachments": {},
   "cell_type": "markdown",
   "id": "a62ff412-6641-402f-bba7-145312eee703",
   "metadata": {},
   "source": [
    "These are some of the most common operations we can perform on a Pandas DataFrame. \n",
    "For more details, you can always refer to the official documentation, that also includes very detailed tutorials:https://pandas.pydata.org/docs/getting_started/intro_tutorials/index.html"
   ]
  },
  {
   "cell_type": "code",
   "execution_count": null,
   "id": "edf70a7e-b5ca-4cb6-80d6-99301aa52ed3",
   "metadata": {},
   "outputs": [],
   "source": []
  }
 ],
 "metadata": {
  "kernelspec": {
   "display_name": "Python 3 (ipykernel)",
   "language": "python",
   "name": "python3"
  },
  "language_info": {
   "codemirror_mode": {
    "name": "ipython",
    "version": 3
   },
   "file_extension": ".py",
   "mimetype": "text/x-python",
   "name": "python",
   "nbconvert_exporter": "python",
   "pygments_lexer": "ipython3",
   "version": "3.10.9"
  }
 },
 "nbformat": 4,
 "nbformat_minor": 5
}
