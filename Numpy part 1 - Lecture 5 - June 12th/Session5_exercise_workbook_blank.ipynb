{
 "cells": [
  {
   "cell_type": "markdown",
   "metadata": {},
   "source": [
    "#### Exercise 1: Array Creation and Basic Operations\n",
    "Task: Create two 1D NumPy arrays and perform basic arithmetic operations on them.\n",
    "\n",
    "1. Import the necessary library.\n",
    "\n",
    "2. Create two 1D arrays a and b with 10 elements each, using pre-filled arrays (np.arange and np.linspace).\n",
    "\n",
    "3. Perform element-wise addition, subtraction, multiplication, and division of these arrays.\n",
    "\n",
    "4. Compute the dot product of the arrays, i.e.: $a \\cdot b$ = $\\sum a_i \\cdot b_i$\n",
    "\n",
    "5. Print the results of these operations."
   ]
  },
  {
   "cell_type": "code",
   "execution_count": 1,
   "metadata": {},
   "outputs": [],
   "source": [
    "#insert code here"
   ]
  },
  {
   "cell_type": "markdown",
   "metadata": {},
   "source": [
    "======================================================================================+==="
   ]
  },
  {
   "cell_type": "markdown",
   "metadata": {},
   "source": [
    "#### Exercise 2: Array Manipulation and Functions\n",
    "Task: Use NumPy functions to manipulate arrays.\n",
    "\n",
    "1. Create a 1D array x with 15 elements (you can use **np.arange** or **np.random.randint**)\n",
    "\n",
    "2. Find the maximum, minimum, mean, and standard deviation of the array.\n",
    "\n",
    "3. Create a new array y that contains the square of each element in x.\n",
    "    - do this in 3 different ways"
   ]
  },
  {
   "cell_type": "code",
   "execution_count": 2,
   "metadata": {},
   "outputs": [],
   "source": [
    "# insert code here"
   ]
  },
  {
   "cell_type": "markdown",
   "metadata": {},
   "source": [
    "======================================================================================+==="
   ]
  },
  {
   "cell_type": "markdown",
   "metadata": {},
   "source": [
    "#### Exercise 3: Plotting with Matplotlib\n",
    "Task: Create a plot using Matplotlib to visualize data.\n",
    "\n",
    "1. Create a 1D array t representing time (from 0 to 2π) with 100 elements.\n",
    "\n",
    "2. Create two 1D arrays sin_t and cos_t that contain the sine and cosine of t, respectively.\n",
    "\n",
    "3. Plot t vs. sin_t and t vs. cos_t on the same graph.\n",
    "\n",
    "4. Add labels, a title, and a legend to the plot."
   ]
  },
  {
   "cell_type": "code",
   "execution_count": 3,
   "metadata": {},
   "outputs": [],
   "source": [
    "# insert code here"
   ]
  },
  {
   "cell_type": "markdown",
   "metadata": {},
   "source": [
    "======================================================================================+==="
   ]
  },
  {
   "cell_type": "markdown",
   "metadata": {},
   "source": [
    "#### Bonus Exercise 4: Advanced Array Operations and Plotting\n",
    "Task: Perform advanced array operations and visualize the results.\n",
    "\n",
    "1. Import the necessary libraries.\n",
    "2. Create a 1D array x with 100 elements, evenly spaced from -10 to 10.\n",
    "3. Compute the following functions based on x:\n",
    "    - $y_1 = x^2$\n",
    "    - $y_2 = x^3$\n",
    "    - $y_3 = sin(x)$\n",
    "\n",
    "4. Create a new array combined which is the sum of y1, y2, and y3.\n",
    "5. Plot x vs. y1, x vs. y2, x vs. y3, and x vs. combined on the same graph with appropriate labels and legend."
   ]
  },
  {
   "cell_type": "code",
   "execution_count": 4,
   "metadata": {},
   "outputs": [],
   "source": [
    "# insert code here"
   ]
  },
  {
   "cell_type": "markdown",
   "metadata": {},
   "source": []
  },
  {
   "cell_type": "markdown",
   "metadata": {},
   "source": []
  }
 ],
 "metadata": {
  "kernelspec": {
   "display_name": "base",
   "language": "python",
   "name": "python3"
  },
  "language_info": {
   "codemirror_mode": {
    "name": "ipython",
    "version": 3
   },
   "file_extension": ".py",
   "mimetype": "text/x-python",
   "name": "python",
   "nbconvert_exporter": "python",
   "pygments_lexer": "ipython3",
   "version": "3.11.4"
  }
 },
 "nbformat": 4,
 "nbformat_minor": 2
}
