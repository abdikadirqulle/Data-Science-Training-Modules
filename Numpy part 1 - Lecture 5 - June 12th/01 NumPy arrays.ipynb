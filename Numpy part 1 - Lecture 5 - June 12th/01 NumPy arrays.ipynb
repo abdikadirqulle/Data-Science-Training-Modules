{
 "cells": [
  {
   "cell_type": "markdown",
   "id": "4da56763-405f-47b4-a1e2-d8f6c1f16272",
   "metadata": {},
   "source": [
    "# What is NumPy\n",
    "\n",
    "NumPy (short for Numerical Python and pronouced *num-pea* or *num-pie*) is a third-party **Python module** for **numerical programming**. Any time you have collections of numbers, either one-, two- or more dimensional, then NumPy is likely to help you out. It provides you with a large suite of tools, algorithms and techniques. It is one of the most commonly used Python packages around and is used in the majority of Python-based scientific software."
   ]
  },
  {
   "cell_type": "markdown",
   "id": "62a9c75e-1dcf-4a02-8084-fbb2e71acbbf",
   "metadata": {},
   "source": [
    "# NumPy arrays\n",
    "\n",
    "The core object of NumPy is the *array*. NumPy arrays are an efficient way to store numerical data, provide operations to manipulate them, and can be combined together in lots of ways.\n",
    "\n",
    "At their most simple, a NumPy array is similar to a Python list: it contains a collection of data, it has a length, it can be indexed using square brackets and it can be looped over. However they have a number of features that distinguish them from Python lists. We'll discover these as we go through the course today but some will feel like a restriction while others will feel more powerful.\n",
    "\n",
    "The restrictions and advantages of using a NumPy array over a Python list mean that they are very suited to some situations, while not appropriate to others. Part of your job while programming is knowing what tool to use in which situation."
   ]
  },
  {
   "cell_type": "markdown",
   "id": "972a64e5-1a51-4069-8bac-3c110dab1601",
   "metadata": {},
   "source": [
    "We'll start by importing the `numpy` module. This module is not a core part of Python, but is generally available or easily installed. If you are using the Anaconda Python distribution then it will come as a standard part of the base environment.\n",
    "\n",
    "It is commonly aliased to `np`:"
   ]
  },
  {
   "cell_type": "code",
   "execution_count": 1,
   "id": "b2a6434f-94bc-4d44-a7b9-156b1a90da6e",
   "metadata": {},
   "outputs": [],
   "source": [
    "import numpy as np"
   ]
  },
  {
   "cell_type": "markdown",
   "id": "35ce2712-cf19-4f06-b3aa-2fc69fc528fa",
   "metadata": {},
   "source": [
    "There are lots of ways of creating arrays, but the simplest is to pass in an existing Python list to the [`np.array`](https://numpy.org/doc/stable/reference/generated/numpy.array.html) function:"
   ]
  },
  {
   "cell_type": "code",
   "execution_count": 2,
   "id": "e023f83d-c6ed-4211-9143-20d85edafbc5",
   "metadata": {},
   "outputs": [],
   "source": [
    "my_list = [1, 2, 3, 4, 5]\n",
    "my_array = np.array(my_list)"
   ]
  },
  {
   "cell_type": "markdown",
   "id": "6e8f75d4-4994-40b2-a142-bbcfeec159b0",
   "metadata": {},
   "source": [
    "or you can pass it in directly:"
   ]
  },
  {
   "cell_type": "code",
   "execution_count": 3,
   "id": "9454cf06-4f02-4566-939e-2d4e15386bf8",
   "metadata": {},
   "outputs": [],
   "source": [
    "my_array = np.array([1, 2, 3, 4, 5])"
   ]
  },
  {
   "cell_type": "markdown",
   "id": "b2e78dfa-4019-4053-ada3-757d70f9c7b8",
   "metadata": {},
   "source": [
    "This gives us an object, `my_array`, which you can display:"
   ]
  },
  {
   "cell_type": "code",
   "execution_count": 4,
   "id": "72e49adb-7dca-4d6f-a9f1-57455cf8deda",
   "metadata": {},
   "outputs": [
    {
     "data": {
      "text/plain": [
       "array([1, 2, 3, 4, 5])"
      ]
     },
     "execution_count": 4,
     "metadata": {},
     "output_type": "execute_result"
    }
   ],
   "source": [
    "my_array"
   ]
  },
  {
   "cell_type": "markdown",
   "id": "50c20248-73a0-4169-a8f1-b8228ba34b6b",
   "metadata": {},
   "source": [
    "Or, if you're working in a `.py` script, you can print them (note the slightly different output format):"
   ]
  },
  {
   "cell_type": "code",
   "execution_count": 5,
   "id": "046cddd7-0dc9-4fdb-af41-d8e26552a821",
   "metadata": {},
   "outputs": [
    {
     "name": "stdout",
     "output_type": "stream",
     "text": [
      "[1 2 3 4 5]\n"
     ]
    }
   ],
   "source": [
    "print(my_array)"
   ]
  },
  {
   "cell_type": "markdown",
   "id": "96a2987f-cf15-4219-bfd3-32541a78b9eb",
   "metadata": {},
   "source": [
    "## Selecting data from an array"
   ]
  },
  {
   "cell_type": "markdown",
   "id": "dbd597c8-5120-4489-8c2b-9d151c64b878",
   "metadata": {},
   "source": [
    "You can access the items in an array in much the same way as in a `list`. i.e. to select the first element:"
   ]
  },
  {
   "cell_type": "code",
   "execution_count": 6,
   "id": "1d7ea600-0ce3-4855-ae05-d58c694a14f7",
   "metadata": {},
   "outputs": [
    {
     "data": {
      "text/plain": [
       "1"
      ]
     },
     "execution_count": 6,
     "metadata": {},
     "output_type": "execute_result"
    }
   ],
   "source": [
    "my_array[0]"
   ]
  },
  {
   "cell_type": "markdown",
   "id": "508631a8-2d8f-4671-b655-40552ddcf3c0",
   "metadata": {},
   "source": [
    "To select the last element:"
   ]
  },
  {
   "cell_type": "code",
   "execution_count": 7,
   "id": "604ae8ae-36a7-4b8c-bfa6-b14f6328b342",
   "metadata": {},
   "outputs": [
    {
     "data": {
      "text/plain": [
       "5"
      ]
     },
     "execution_count": 7,
     "metadata": {},
     "output_type": "execute_result"
    }
   ],
   "source": [
    "my_array[-1]"
   ]
  },
  {
   "cell_type": "markdown",
   "id": "b1e0b125-01b7-42ec-b577-d01a10777cfa",
   "metadata": {},
   "source": [
    "To select everything from index `2` to the end (using a [slice](https://docs.python.org/3/glossary.html#term-slice)):"
   ]
  },
  {
   "cell_type": "code",
   "execution_count": 8,
   "id": "472a2e65-87d0-465c-8792-130f1fab9f05",
   "metadata": {},
   "outputs": [
    {
     "data": {
      "text/plain": [
       "array([3, 4, 5])"
      ]
     },
     "execution_count": 8,
     "metadata": {},
     "output_type": "execute_result"
    }
   ],
   "source": [
    "my_array[2:]"
   ]
  },
  {
   "cell_type": "markdown",
   "id": "6cefa832-444e-4e5e-b7e0-c9885f2502db",
   "metadata": {
    "tags": [
     "exercise"
    ]
   },
   "source": [
    "### Exercise #\n",
    "\n",
    "Extract the first three elements (the answer should give `array([1, 2, 3])`)"
   ]
  },
  {
   "cell_type": "code",
   "execution_count": 9,
   "id": "e776063d-0b8a-40b9-b7ac-4653e058bbc3",
   "metadata": {},
   "outputs": [
    {
     "data": {
      "text/plain": [
       "array([1, 2, 3])"
      ]
     },
     "execution_count": 9,
     "metadata": {},
     "output_type": "execute_result"
    }
   ],
   "source": [
    "import numpy as np\n",
    "\n",
    "my_array = np.array([1, 2, 3, 4, 5])\n",
    "\n",
    "my_array[:3]"
   ]
  },
  {
   "cell_type": "markdown",
   "id": "b357b56a-576a-46bd-a519-83100672a589",
   "metadata": {},
   "source": [
    "## Setting values\n",
    "\n",
    "So far you have only defined the data in the array by passing in the data as a list at creation-time. NumPy arrays are mutable so you can edit the values within.\n",
    "\n",
    "So, looking again at our array `my_array`:"
   ]
  },
  {
   "cell_type": "code",
   "execution_count": 10,
   "id": "55b8ea90-cb97-4af3-ba12-48e523b67d08",
   "metadata": {},
   "outputs": [
    {
     "name": "stdout",
     "output_type": "stream",
     "text": [
      "[1 2 3 4 5]\n"
     ]
    }
   ],
   "source": [
    "print(my_array)"
   ]
  },
  {
   "cell_type": "markdown",
   "id": "8174c311-1c20-4fe0-8fbd-14d59ff9a875",
   "metadata": {},
   "source": [
    "you can set the value of any cell by indexing it with `[]` on the left-hand side of the `=` and passing a value:"
   ]
  },
  {
   "cell_type": "code",
   "execution_count": 11,
   "id": "bd2616f2-4ec0-4ec3-8274-7820180a23b1",
   "metadata": {},
   "outputs": [
    {
     "name": "stdout",
     "output_type": "stream",
     "text": [
      "[999   2   3   4   5]\n"
     ]
    }
   ],
   "source": [
    "my_array[0] = 999\n",
    "print(my_array)"
   ]
  },
  {
   "cell_type": "markdown",
   "id": "97157466-4933-40f4-b7b4-05c6fadf1b43",
   "metadata": {},
   "source": [
    "You can see that the first number has changed from `1` to `999`.\n",
    "\n",
    "In a similar way, you can assign entire slices of the array to a single value:"
   ]
  },
  {
   "cell_type": "code",
   "execution_count": 12,
   "id": "0a0614ff-a300-4c2b-96ac-c4cab36059a7",
   "metadata": {},
   "outputs": [
    {
     "name": "stdout",
     "output_type": "stream",
     "text": [
      "[999   2  10  10  10]\n"
     ]
    }
   ],
   "source": [
    "my_array[2:] = 10\n",
    "print(my_array)"
   ]
  },
  {
   "cell_type": "markdown",
   "id": "9779042b-2b5e-437c-aebc-e9d184aa942b",
   "metadata": {},
   "source": [
    "or set a list of values:"
   ]
  },
  {
   "cell_type": "code",
   "execution_count": 13,
   "id": "eb5d2bc1-cc75-4ca5-992a-05648fa49a02",
   "metadata": {},
   "outputs": [
    {
     "name": "stdout",
     "output_type": "stream",
     "text": [
      "[999   2  10  71  64]\n"
     ]
    }
   ],
   "source": [
    "my_array[3:] = [71, 64]\n",
    "print(my_array)"
   ]
  },
  {
   "cell_type": "markdown",
   "id": "0bee6e14-d721-4032-a3b0-dfb04e304db5",
   "metadata": {},
   "source": [
    "This works even to set the entire array:"
   ]
  },
  {
   "cell_type": "code",
   "execution_count": 14,
   "id": "ab71bde2-3e69-4557-b3a7-351fb84d5115",
   "metadata": {},
   "outputs": [
    {
     "name": "stdout",
     "output_type": "stream",
     "text": [
      "[42 42 42 42 42]\n"
     ]
    }
   ],
   "source": [
    "my_array[:] = 42\n",
    "print(my_array)"
   ]
  },
  {
   "cell_type": "markdown",
   "id": "909b565e-1486-4f68-a070-81c64630133d",
   "metadata": {
    "tags": [
     "exercise"
    ]
   },
   "source": [
    "### Exercise #\n",
    "\n",
    "Set the values of `my_array` back to `[1 2 3 4 5]` using some combination of the above techniques.\n",
    "\n"
   ]
  },
  {
   "cell_type": "code",
   "execution_count": 15,
   "id": "35179239-a044-4b00-949e-5eeb6c8196ce",
   "metadata": {},
   "outputs": [],
   "source": [
    "import numpy as np\n",
    "\n",
    "my_array = np.array([42, 42, 42, 42, 42])\n",
    "\n"
   ]
  },
  {
   "cell_type": "code",
   "execution_count": 16,
   "id": "1788c427-01b6-4d18-bb80-a68dc17cd659",
   "metadata": {},
   "outputs": [
    {
     "data": {
      "text/plain": [
       "array([ 1, 42, 42, 42, 42])"
      ]
     },
     "execution_count": 16,
     "metadata": {},
     "output_type": "execute_result"
    }
   ],
   "source": [
    "my_array[0] = 1\n",
    "my_array"
   ]
  },
  {
   "cell_type": "code",
   "execution_count": 17,
   "id": "e7ebad6c-139e-48c9-ad3c-152686296ee0",
   "metadata": {},
   "outputs": [
    {
     "data": {
      "text/plain": [
       "array([ 1,  2,  3, 42, 42])"
      ]
     },
     "execution_count": 17,
     "metadata": {},
     "output_type": "execute_result"
    }
   ],
   "source": [
    "my_array[1:3] = [2, 3]\n",
    "my_array"
   ]
  },
  {
   "cell_type": "code",
   "execution_count": 18,
   "id": "0fd376fb-0217-422a-8b3b-d84af76c81a4",
   "metadata": {},
   "outputs": [
    {
     "data": {
      "text/plain": [
       "array([1, 2, 3, 4, 5])"
      ]
     },
     "execution_count": 18,
     "metadata": {},
     "output_type": "execute_result"
    }
   ],
   "source": [
    "my_array[3:] = [4, 5]\n",
    "my_array"
   ]
  },
  {
   "cell_type": "markdown",
   "id": "2f539270-00f7-4bde-9574-81f529319f71",
   "metadata": {},
   "source": [
    "## Creating pre-filled arrays\n",
    "\n",
    "It's common to want to create arrays of a cetain size with all the values set to something specific.\n",
    "\n",
    "For example, to create a three-item array filled entirely with `0` NumPy provides a function called [`np.zeros`](https://numpy.org/doc/stable/reference/generated/numpy.zeros.html):"
   ]
  },
  {
   "cell_type": "code",
   "execution_count": 19,
   "id": "b19cb86a-295c-458c-ae21-1ac27992c80e",
   "metadata": {},
   "outputs": [
    {
     "data": {
      "text/plain": [
       "array([0., 0., 0.])"
      ]
     },
     "execution_count": 19,
     "metadata": {},
     "output_type": "execute_result"
    }
   ],
   "source": [
    "np.zeros(3)"
   ]
  },
  {
   "cell_type": "markdown",
   "id": "307ac517-b317-4ebd-9c02-cf6331829280",
   "metadata": {},
   "source": [
    "Or a four-item array filled with `1` you can use [`np.ones`](https://numpy.org/doc/stable/reference/generated/numpy.ones.html):"
   ]
  },
  {
   "cell_type": "code",
   "execution_count": 20,
   "id": "3bc2f51f-2ed0-40d8-adae-e9f0244ae7e5",
   "metadata": {},
   "outputs": [
    {
     "data": {
      "text/plain": [
       "array([1., 1., 1., 1.])"
      ]
     },
     "execution_count": 20,
     "metadata": {},
     "output_type": "execute_result"
    }
   ],
   "source": [
    "np.ones(4)"
   ]
  },
  {
   "cell_type": "markdown",
   "id": "71058a8f-d121-4a32-bd0e-e094d9b2149c",
   "metadata": {},
   "source": [
    "You can also create ranges of numbers, much like the built-in Python function `range` by using the NumPy function [`np.arange`](https://numpy.org/doc/stable/reference/generated/numpy.arange.html) which takes the same sorts of arguments (plus some optional extra):"
   ]
  },
  {
   "cell_type": "code",
   "execution_count": 21,
   "id": "3695b964-c875-42f4-8549-e002e6114d0e",
   "metadata": {},
   "outputs": [
    {
     "data": {
      "text/plain": [
       "array([0, 1, 2, 3, 4, 5, 6, 7, 8, 9])"
      ]
     },
     "execution_count": 21,
     "metadata": {},
     "output_type": "execute_result"
    }
   ],
   "source": [
    "np.arange(10)"
   ]
  },
  {
   "attachments": {},
   "cell_type": "markdown",
   "id": "2f66b928-e6a5-4f52-b291-1204587df1e5",
   "metadata": {},
   "source": [
    "Or, if instead of wanting integers in a range, you want 10 evenly-spaced numbers between 3 and 6, you can use [`np.linspace`](https://numpy.org/doc/stable/reference/generated/numpy.linspace.html) (*linearly spaced*):"
   ]
  },
  {
   "cell_type": "code",
   "execution_count": 23,
   "id": "6b82e3ae-a423-41bf-8044-eb23666683ce",
   "metadata": {},
   "outputs": [
    {
     "data": {
      "text/plain": [
       "array([3.        , 3.33333333, 3.66666667, 4.        , 4.33333333,\n",
       "       4.66666667, 5.        , 5.33333333, 5.66666667, 6.        ])"
      ]
     },
     "execution_count": 23,
     "metadata": {},
     "output_type": "execute_result"
    }
   ],
   "source": [
    "np.linspace(3, 6, 10)"
   ]
  },
  {
   "cell_type": "markdown",
   "id": "62fd58aa-4894-44f5-8d0d-79bcccf97f67",
   "metadata": {
    "tags": [
     "exercise"
    ]
   },
   "source": [
    "### Exercise #\n",
    "\n",
    "Using these functions, create:\n",
    "- an array which contains `[0. , 0.2, 0.4, 0.6, 0.8, 1. ]`\n",
    "- an array which contains `[4, 5, 6, 7, 8, 9]`\n",
    "- an array which contains `[0]`\n"
   ]
  },
  {
   "cell_type": "code",
   "execution_count": 23,
   "id": "817788ec-7dd7-4c24-9bce-bba1b5333a80",
   "metadata": {},
   "outputs": [
    {
     "data": {
      "text/plain": [
       "array([0. , 0.2, 0.4, 0.6, 0.8, 1. ])"
      ]
     },
     "execution_count": 23,
     "metadata": {},
     "output_type": "execute_result"
    }
   ],
   "source": [
    "np.linspace(0, 1, 6)"
   ]
  },
  {
   "cell_type": "code",
   "execution_count": 24,
   "id": "252ee5bc-261b-42ed-b57b-ef7d0e864182",
   "metadata": {},
   "outputs": [
    {
     "data": {
      "text/plain": [
       "array([4, 5, 6, 7, 8, 9])"
      ]
     },
     "execution_count": 24,
     "metadata": {},
     "output_type": "execute_result"
    }
   ],
   "source": [
    "np.arange(4, 10)"
   ]
  },
  {
   "cell_type": "code",
   "execution_count": 25,
   "id": "3ab6b47f-b204-4d8d-bca0-49189d29a1a8",
   "metadata": {},
   "outputs": [
    {
     "data": {
      "text/plain": [
       "array([0.])"
      ]
     },
     "execution_count": 25,
     "metadata": {},
     "output_type": "execute_result"
    }
   ],
   "source": [
    "np.zeros(1)"
   ]
  },
  {
   "cell_type": "code",
   "execution_count": 26,
   "id": "880bd3a0-d551-478c-a2cb-a4562ec3d21d",
   "metadata": {},
   "outputs": [
    {
     "data": {
      "text/plain": [
       "array([0])"
      ]
     },
     "execution_count": 26,
     "metadata": {},
     "output_type": "execute_result"
    }
   ],
   "source": [
    "np.arange(1)"
   ]
  },
  {
   "cell_type": "markdown",
   "id": "d40c65aa-a95f-4442-b789-ec2da621f439",
   "metadata": {},
   "source": [
    "## Restrictions of NumPy arrays\n",
    "\n",
    "There are a number of restictions on how NumPy arrays can be used, each of which serves a purpose in making it more efficient. The first is that unlike Python lists, arrays cannot be resized. Whatever size it is at creation is fixed.\n",
    "\n",
    "With a Python list you can use the `append` method:"
   ]
  },
  {
   "cell_type": "code",
   "execution_count": 27,
   "id": "2d0e2891-6f23-431b-8262-cc223151cdcc",
   "metadata": {},
   "outputs": [
    {
     "data": {
      "text/plain": [
       "[5, 7, 3, 703]"
      ]
     },
     "execution_count": 27,
     "metadata": {},
     "output_type": "execute_result"
    }
   ],
   "source": [
    "my_list = [5, 7, 3]\n",
    "my_list.append(703)\n",
    "my_list"
   ]
  },
  {
   "cell_type": "markdown",
   "id": "1309dad2-724d-4eeb-9605-2b4e7925e6ea",
   "metadata": {},
   "source": [
    "But NumPy arrays have no such method:"
   ]
  },
  {
   "cell_type": "code",
   "execution_count": 28,
   "id": "5443f58b-345a-485d-9ef5-515d3a0bf954",
   "metadata": {
    "tags": [
     "raises-exception"
    ]
   },
   "outputs": [
    {
     "ename": "AttributeError",
     "evalue": "'numpy.ndarray' object has no attribute 'append'",
     "output_type": "error",
     "traceback": [
      "\u001b[0;31m---------------------------------------------------------------------------\u001b[0m",
      "\u001b[0;31mAttributeError\u001b[0m                            Traceback (most recent call last)",
      "\u001b[0;32m/var/folders/n5/yy7zjcxs7j18r7lk83wftskc0000gp/T/ipykernel_10227/2764896658.py\u001b[0m in \u001b[0;36m<module>\u001b[0;34m\u001b[0m\n\u001b[0;32m----> 1\u001b[0;31m \u001b[0mmy_array\u001b[0m\u001b[0;34m.\u001b[0m\u001b[0mappend\u001b[0m\u001b[0;34m(\u001b[0m\u001b[0;36m3\u001b[0m\u001b[0;34m)\u001b[0m\u001b[0;34m\u001b[0m\u001b[0;34m\u001b[0m\u001b[0m\n\u001b[0m",
      "\u001b[0;31mAttributeError\u001b[0m: 'numpy.ndarray' object has no attribute 'append'"
     ]
    }
   ],
   "source": [
    "my_array.append(3)"
   ]
  },
  {
   "cell_type": "markdown",
   "id": "413990e2-4c7d-496f-be26-94380655afa7",
   "metadata": {},
   "source": [
    "The reason for this restriction is that arrays are stored very efficiently in memory and adding another number to the end of an array may require the entire array to be moved elsewhere in memory where there is space for that extra number, and copying data in memory is slow.\n",
    "\n",
    "There is, however, an [`np.append`](https://numpy.org/doc/stable/reference/generated/numpy.append.html) function which works similarly, but importantly it returns an entirely new array containing the copied data so the original array is still unchanged."
   ]
  },
  {
   "cell_type": "code",
   "execution_count": 25,
   "id": "f4d34fe4",
   "metadata": {},
   "outputs": [
    {
     "name": "stdout",
     "output_type": "stream",
     "text": [
      "[1 2 3]\n",
      "[1 2 3 4 5]\n"
     ]
    }
   ],
   "source": [
    "a = np.array([1, 2, 3])\n",
    "b = np.append(a, [4, 5])\n",
    "print(a)\n",
    "print(b)"
   ]
  },
  {
   "cell_type": "markdown",
   "id": "4130304c-522d-4ec7-b4f7-e65f194f562e",
   "metadata": {},
   "source": [
    "### Data types\n",
    "\n",
    "Another important way in which NumPy arrays differ from Python lists is that each array can only hold one \"type\" of data.\n",
    "\n",
    "The main reason for this is how NumPy is able to perform calculations so quickly. If it knows in advance that all the items in an array are, for example, integers, then it can make some assumptions which make anything you do to it faster.\n",
    "\n",
    "By default it will infer the type from the data you pass in, so in our case because we passed in a list of integers, the data type (or `dtype`) of the array is:"
   ]
  },
  {
   "cell_type": "code",
   "execution_count": 29,
   "id": "6957eb43-0169-444c-84a5-c4653d54ed44",
   "metadata": {},
   "outputs": [
    {
     "data": {
      "text/plain": [
       "dtype('int64')"
      ]
     },
     "execution_count": 29,
     "metadata": {},
     "output_type": "execute_result"
    }
   ],
   "source": [
    "my_array.dtype"
   ]
  },
  {
   "cell_type": "markdown",
   "id": "286afe1c-99b7-4806-a6c1-587db4ce53c1",
   "metadata": {},
   "source": [
    "This is a 64-bit integer. On your computer you might get `int32` instead.\n",
    "\n",
    "When you create the array you can specify the dtype:"
   ]
  },
  {
   "cell_type": "code",
   "execution_count": 30,
   "id": "99ddd509-0f86-4da5-b767-43cb34da6f96",
   "metadata": {},
   "outputs": [
    {
     "data": {
      "text/plain": [
       "dtype('int64')"
      ]
     },
     "execution_count": 30,
     "metadata": {},
     "output_type": "execute_result"
    }
   ],
   "source": [
    "my_int_array = np.array([1, 2, 3], dtype=int)\n",
    "my_int_array.dtype"
   ]
  },
  {
   "cell_type": "code",
   "execution_count": 31,
   "id": "a3d55bf8-9e99-48b2-9912-f32c5244bfbd",
   "metadata": {},
   "outputs": [
    {
     "data": {
      "text/plain": [
       "dtype('float64')"
      ]
     },
     "execution_count": 31,
     "metadata": {},
     "output_type": "execute_result"
    }
   ],
   "source": [
    "my_float_array = np.array([1, 2, 3], dtype=float)\n",
    "my_float_array.dtype"
   ]
  },
  {
   "cell_type": "markdown",
   "id": "76e20c10-0384-4fa6-b1dc-96a87ef951fb",
   "metadata": {},
   "source": [
    "Note that even though you passed in integer values when creating `my_float_array`, when you print the array, it shows them with a decimal point:"
   ]
  },
  {
   "cell_type": "code",
   "execution_count": 32,
   "id": "010cf052-1f58-4233-8123-02092ac3b6fa",
   "metadata": {},
   "outputs": [
    {
     "name": "stdout",
     "output_type": "stream",
     "text": [
      "[1. 2. 3.]\n"
     ]
    }
   ],
   "source": [
    "print(my_float_array)"
   ]
  },
  {
   "cell_type": "markdown",
   "id": "288c5599-a2ff-4189-bf60-c0f06d334a95",
   "metadata": {},
   "source": [
    "Also note that if you have an array with an integer dtype, then if you try to set a value as a float, it will drop the decimal places:"
   ]
  },
  {
   "cell_type": "code",
   "execution_count": 33,
   "id": "7d001ed0-6abc-469b-8b04-e5f5cd71605e",
   "metadata": {},
   "outputs": [
    {
     "name": "stdout",
     "output_type": "stream",
     "text": [
      "[ 1 47  3]\n"
     ]
    }
   ],
   "source": [
    "my_int_array[1] = 47.769\n",
    "print(my_int_array)"
   ]
  },
  {
   "cell_type": "markdown",
   "id": "bb307475-ac39-4fce-a109-16f44dc172c7",
   "metadata": {},
   "source": [
    "If you try to mix together data types then it will do its best to accomodate it:"
   ]
  },
  {
   "cell_type": "code",
   "execution_count": 34,
   "id": "31c7c401-cbdd-46e8-b3c9-aa59d331736d",
   "metadata": {},
   "outputs": [
    {
     "data": {
      "text/plain": [
       "array(['2', '5', 'cat'], dtype='<U21')"
      ]
     },
     "execution_count": 34,
     "metadata": {},
     "output_type": "execute_result"
    }
   ],
   "source": [
    "np.array([2, 5, \"cat\"])"
   ]
  },
  {
   "cell_type": "markdown",
   "id": "3cbeb2bc-6c8f-4d2e-bf0b-3c2008a1019f",
   "metadata": {},
   "source": [
    "so while we input two numbers and a string, the array that is created only contains strings. The `dtype='<U21'` bit is it telling us that this array contains unicode strings with a maximum length of 21 characters."
   ]
  },
  {
   "cell_type": "markdown",
   "id": "00169584-b7dc-4e42-828c-ad7f1c63cd17",
   "metadata": {},
   "source": [
    "In a more subtle case, if we mix together integers and floating point numbers, it will convert the integers to floats:"
   ]
  },
  {
   "cell_type": "code",
   "execution_count": 35,
   "id": "b293246d-c45c-4bcb-a0c4-67466c782f11",
   "metadata": {},
   "outputs": [
    {
     "data": {
      "text/plain": [
       "array([2. , 5. , 5.4])"
      ]
     },
     "execution_count": 35,
     "metadata": {},
     "output_type": "execute_result"
    }
   ],
   "source": [
    "np.array([2, 5, 5.4])"
   ]
  }
 ],
 "metadata": {
  "kernelspec": {
   "display_name": "Python 3 (ipykernel)",
   "language": "python",
   "name": "python3"
  },
  "language_info": {
   "codemirror_mode": {
    "name": "ipython",
    "version": 3
   },
   "file_extension": ".py",
   "mimetype": "text/x-python",
   "name": "python",
   "nbconvert_exporter": "python",
   "pygments_lexer": "ipython3",
   "version": "3.12.4"
  }
 },
 "nbformat": 4,
 "nbformat_minor": 5
}
