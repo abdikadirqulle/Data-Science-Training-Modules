{
 "cells": [
  {
   "cell_type": "markdown",
   "id": "2c7157a2-e6c3-4d39-b574-169d26a31048",
   "metadata": {},
   "source": [
    "# Operations on NumPy arrays\n",
    "\n",
    "One of the most powerful features of NumPy is its ability to manipulate entire arrays of numbers in one go."
   ]
  },
  {
   "cell_type": "markdown",
   "id": "93d98d0a-afee-4b4f-b4c2-d74eeb60cd86",
   "metadata": {},
   "source": [
    "## Numerical operations\n",
    "\n",
    "In Python, you can multiply a single number by another to get a new number:"
   ]
  },
  {
   "cell_type": "code",
   "execution_count": 1,
   "id": "445705e0-a226-480e-99b4-10d6535bccfb",
   "metadata": {},
   "outputs": [],
   "source": [
    "# insert code here"
   ]
  },
  {
   "cell_type": "markdown",
   "id": "22c1ff50-c567-43b6-bd72-babbb467baf7",
   "metadata": {},
   "source": [
    "However, if you try to multiply a list by a number it will give a perhaps strange result:"
   ]
  },
  {
   "cell_type": "code",
   "execution_count": 2,
   "id": "7744b91a-84d0-4001-ba10-32aae30490fd",
   "metadata": {},
   "outputs": [],
   "source": [
    "# insert code here"
   ]
  },
  {
   "cell_type": "markdown",
   "id": "266bebaa-ea5a-4a73-93e3-06c82eed3f98",
   "metadata": {},
   "source": [
    "This is hapenning because Python's lists are not restricted to only hold numbers, nor must they only hold one consistent type, and so they do not have any special logic to account for the case where they *do* only have numbers in them. The only safe way to interpret `*` that works for all Python lists is \"duplicate the array\".\n",
    "\n",
    "NumPy, however, is designed to deal with numerical data and so interprets the request differently:"
   ]
  },
  {
   "cell_type": "code",
   "execution_count": 3,
   "id": "2a590a4c-882b-443b-b184-da1009c2c710",
   "metadata": {},
   "outputs": [],
   "source": [
    "# insert code here"
   ]
  },
  {
   "cell_type": "code",
   "execution_count": 4,
   "id": "aaa2191d-9757-42ce-bcdf-a7691d340e92",
   "metadata": {},
   "outputs": [],
   "source": [
    "# insert code here"
   ]
  },
  {
   "cell_type": "markdown",
   "id": "3dd79caa-25b1-4701-ae8c-6d9c5d5e4300",
   "metadata": {},
   "source": [
    "<style>\n",
    "table.array {\n",
    "  border-spacing: 0;\n",
    "  border-collapse: collapse;\n",
    "}\n",
    "table.array td {\n",
    "  border: 2px solid darkblue;\n",
    "  background-color: lightblue;\n",
    "  padding: 2px;\n",
    "  text-align: center;\n",
    "}\n",
    ".operation {\n",
    "  display: flex;\n",
    "  flex-direction: row;\n",
    "  align-items: center;\n",
    "  gap: 10px;\n",
    "  font-family: monospace;\n",
    "  font-size: 2em;\n",
    "  justify-content: center;\n",
    "}\n",
    ".vertical {\n",
    "  writing-mode: vertical-rl;\n",
    "}\n",
    "table.array th.axis_label, table.array td.axis_label {\n",
    "  border: 0;\n",
    "  background-color: white;\n",
    "  padding: 2px;\n",
    "  font-weight: normal;\n",
    "  font-size: 0.8em;\n",
    "}\n",
    "table.array .selected td, table.array td.selected {\n",
    "  background-color: orange;\n",
    "}\n",
    "table.array td.empty, table.array tr.empty td {\n",
    "  background-color: white;\n",
    "  color: lightgrey;\n",
    "}\n",
    "\n",
    "\n",
    "\n",
    "<div class=\"operation\">\n",
    "<div>\n",
    "    <table class=\"array\"><tr><td>3.14</td></tr><tr><td>2.71</td></tr><tr><td>2.36</td></tr></table>\n",
    "</div>\n",
    "<div>×</div>\n",
    "<div>2</div>\n",
    "<span style=\"font-size: 200%;\">⇨</span>\n",
    "<div>\n",
    "    <table class=\"array\"><tr><td>6.28</td></tr><tr><td>5.42</td></tr><tr><td>2.36</td></tr></table>\n",
    "</div>\n",
    "</div>"
   ]
  },
  {
   "cell_type": "markdown",
   "id": "927c4f8c-f9d7-4bef-ae72-73926d5eaae9",
   "metadata": {},
   "source": [
    "Here, each number has been multiplied by 2 individually.\n",
    "\n",
    "You can perform any standard numerical operations to NumPy arrays, including `*`, `+`, `/`, `-` and `**`. You can also use comparison operations like `==`, `>` and `<=`. If your array contains booleans (`True`/`False`) the you can also use the binary logic operations such as `|` (\"or\") and `&` (\"and\") as well as the unary logical operator `~` (\"not\").\n",
    "\n",
    "In all of these cases, it will apply the operation to each element of the array indivudually and give you back an array of the same size.\n",
    "\n",
    "One big benefit of this is an improvment in speed. To demonstrate this, let's try doubling all the values in a large list of 1 million values:"
   ]
  },
  {
   "cell_type": "code",
   "execution_count": 5,
   "id": "e7a6f11d-87af-45f3-87ae-be5ea3ff1ebd",
   "metadata": {},
   "outputs": [],
   "source": [
    "# insert code here"
   ]
  },
  {
   "attachments": {},
   "cell_type": "markdown",
   "id": "5d2a7b96-b6e7-4dcc-af29-aa5c523f9aa8",
   "metadata": {},
   "source": [
    "Doing this with plain Python will be:"
   ]
  },
  {
   "cell_type": "code",
   "execution_count": 6,
   "id": "63005017-1187-48fe-a347-e66179ee3208",
   "metadata": {
    "tags": []
   },
   "outputs": [],
   "source": [
    "# insert code here"
   ]
  },
  {
   "attachments": {},
   "cell_type": "markdown",
   "id": "6b6a7ea0",
   "metadata": {},
   "source": [
    "(here we're using the `%%timeit` magic to display the execution time of a specific code block)"
   ]
  },
  {
   "cell_type": "markdown",
   "id": "062c7a5d-dc6d-44e8-b627-985fdd8bca61",
   "metadata": {},
   "source": [
    "But NumPy allows us to do:"
   ]
  },
  {
   "cell_type": "code",
   "execution_count": 7,
   "id": "83ebf2af-95f1-4781-a04a-36b6c6cf8568",
   "metadata": {
    "tags": []
   },
   "outputs": [],
   "source": [
    "# insert code here"
   ]
  },
  {
   "cell_type": "markdown",
   "id": "30fa1f4a-a5a4-4524-af0f-da2cdee7c558",
   "metadata": {},
   "source": [
    "You might see different results on your computer but speedups of anything from 10 to 100 times is common on an example like this. There are plenty of operations which might see speedups of 1000 times or more."
   ]
  },
  {
   "cell_type": "code",
   "execution_count": null,
   "id": "da022aba",
   "metadata": {},
   "outputs": [],
   "source": []
  },
  {
   "cell_type": "markdown",
   "id": "e92d8059-e305-425f-95d3-6a86119780b1",
   "metadata": {
    "tags": [
     "exercise"
    ]
   },
   "source": [
    "### Exercise #\n",
    "\n",
    "- Try multiplying the array with different numbers\n",
    "- Subtract $3.04$ from each element of the array\n",
    "- Use a comparison operator to ask if each number is greater than $2.5$.\n"
   ]
  },
  {
   "cell_type": "code",
   "execution_count": 8,
   "id": "4232eeb6-aaa6-410f-ad05-cc86fd935fb5",
   "metadata": {},
   "outputs": [],
   "source": [
    "# insert code here"
   ]
  },
  {
   "attachments": {},
   "cell_type": "markdown",
   "id": "ab6204bf",
   "metadata": {},
   "source": [
    "##### Element-wise multiplication"
   ]
  },
  {
   "cell_type": "code",
   "execution_count": 9,
   "id": "b824351f",
   "metadata": {},
   "outputs": [],
   "source": [
    "# insert code here"
   ]
  },
  {
   "cell_type": "code",
   "execution_count": 10,
   "id": "f5b73315",
   "metadata": {},
   "outputs": [],
   "source": [
    "# insert code here\n"
   ]
  },
  {
   "cell_type": "code",
   "execution_count": 11,
   "id": "6c8189d5",
   "metadata": {},
   "outputs": [],
   "source": [
    "# insert code here\n"
   ]
  },
  {
   "attachments": {},
   "cell_type": "markdown",
   "id": "f74ffda8",
   "metadata": {},
   "source": [
    "##### Element-wise subtraction"
   ]
  },
  {
   "cell_type": "code",
   "execution_count": 12,
   "id": "80d23844",
   "metadata": {},
   "outputs": [],
   "source": [
    "# insert code here\n"
   ]
  },
  {
   "attachments": {},
   "cell_type": "markdown",
   "id": "2c15b0bb",
   "metadata": {},
   "source": [
    "##### Element-wise comparison\n"
   ]
  },
  {
   "cell_type": "code",
   "execution_count": 13,
   "id": "a5c5c73f",
   "metadata": {},
   "outputs": [],
   "source": [
    "# insert code here"
   ]
  },
  {
   "cell_type": "code",
   "execution_count": null,
   "id": "7d342061",
   "metadata": {},
   "outputs": [],
   "source": []
  },
  {
   "cell_type": "code",
   "execution_count": null,
   "id": "07b2a656",
   "metadata": {},
   "outputs": [],
   "source": []
  },
  {
   "cell_type": "markdown",
   "id": "9a7f21ac-41c4-466b-953f-af61a91c901d",
   "metadata": {},
   "source": [
    "## Functions\n",
    "\n",
    "As well as simple numerical operations, you will often also want to perform more complex operations on your data. For example, the cosine of a number. We can do this in plain Python with the `math` module:"
   ]
  },
  {
   "cell_type": "code",
   "execution_count": 14,
   "id": "2e5d0077-3785-4fb5-b671-5f24a8c8bfe9",
   "metadata": {},
   "outputs": [],
   "source": [
    "# insert code here"
   ]
  },
  {
   "cell_type": "markdown",
   "id": "2f448709-11b8-4df7-9756-bd01c913b136",
   "metadata": {},
   "source": [
    "This works, but has the same problem as above in that it doesn't work as you want with a Python list:"
   ]
  },
  {
   "cell_type": "code",
   "execution_count": 15,
   "id": "d971f22c-b2b4-4eb9-b86d-1bdd714aaadf",
   "metadata": {
    "tags": []
   },
   "outputs": [],
   "source": [
    "# insert code here"
   ]
  },
  {
   "cell_type": "markdown",
   "id": "047721b8-ab69-4d6f-a75a-077b1f877435",
   "metadata": {},
   "source": [
    "To help with this, NumPy provides [a large number of operations via the `numpy` namespace](https://numpy.org/doc/stable/reference/routines.math.html). They work the same way as the Python functions for single numbers:"
   ]
  },
  {
   "cell_type": "code",
   "execution_count": 16,
   "id": "093649ef-8f4c-4ddf-83fb-d7d6a21d76f3",
   "metadata": {},
   "outputs": [],
   "source": [
    "# insert code here"
   ]
  },
  {
   "cell_type": "markdown",
   "id": "0454df13-3522-4832-acc4-350632dfff68",
   "metadata": {},
   "source": [
    "But they also work with Python lists:"
   ]
  },
  {
   "cell_type": "code",
   "execution_count": 17,
   "id": "b8bd49b2-b284-47aa-a183-8e6bb9e23bd5",
   "metadata": {},
   "outputs": [],
   "source": [
    "# insert code here"
   ]
  },
  {
   "cell_type": "markdown",
   "id": "76cf6228-0dc3-411a-83f7-d4d487e884ab",
   "metadata": {},
   "source": [
    "You see here that even though we passed it a Python list, it has returned the result as a NumPy array. We can also pass in a NumPy array directly:"
   ]
  },
  {
   "cell_type": "code",
   "execution_count": 18,
   "id": "a2cbd263-efe9-484b-8fa4-62e535245954",
   "metadata": {},
   "outputs": [],
   "source": [
    "# insert code here"
   ]
  },
  {
   "cell_type": "markdown",
   "id": "2e60e35a-d15a-4728-94c6-aaf6a0d411c7",
   "metadata": {},
   "source": [
    "There is a cost to passing in Python lists compared with using an array directly, as it has to convert it from one to the other. If you can, it's best to keep things as NumPy arrays throughout your computations."
   ]
  },
  {
   "attachments": {},
   "cell_type": "markdown",
   "id": "7aad5d8d",
   "metadata": {},
   "source": [
    "##### Other numpy functions"
   ]
  },
  {
   "attachments": {},
   "cell_type": "markdown",
   "id": "87ea1c52",
   "metadata": {},
   "source": [
    "NumPy provides a wide range of mathematical functions that operate efficiently on arrays, including trigonometric functions, logarithmic functions, exponential functions, etc."
   ]
  },
  {
   "cell_type": "code",
   "execution_count": 19,
   "id": "f2a855c4",
   "metadata": {},
   "outputs": [],
   "source": [
    "# insert code here\n"
   ]
  },
  {
   "cell_type": "code",
   "execution_count": 20,
   "id": "74fe4f14",
   "metadata": {},
   "outputs": [],
   "source": [
    "# insert code here\n"
   ]
  },
  {
   "attachments": {},
   "cell_type": "markdown",
   "id": "3d953a9c",
   "metadata": {},
   "source": [
    "It also provides functions for aggregating data, such as calculating the sum, mean, minimum, maximum, etc., of an array or along a specific axis. These functions are highly optimized and efficient.\n"
   ]
  },
  {
   "cell_type": "code",
   "execution_count": 21,
   "id": "f23dccf9",
   "metadata": {},
   "outputs": [],
   "source": [
    "# insert code here\n"
   ]
  },
  {
   "cell_type": "code",
   "execution_count": 22,
   "id": "c830e077",
   "metadata": {},
   "outputs": [],
   "source": [
    "# insert code here\n"
   ]
  },
  {
   "attachments": {},
   "cell_type": "markdown",
   "id": "d50f61d2",
   "metadata": {},
   "source": [
    "##### Generating arrays filled with (pseudo-)random numbers"
   ]
  },
  {
   "cell_type": "code",
   "execution_count": 23,
   "id": "128fd10f",
   "metadata": {},
   "outputs": [],
   "source": [
    "# Generate a 1D array of 5 random integers between 0 and 10\n",
    "# insert code here\n"
   ]
  },
  {
   "cell_type": "code",
   "execution_count": 24,
   "id": "7bed2ecd",
   "metadata": {},
   "outputs": [],
   "source": [
    "# Generate a 2D array of shape (3, 4) with random floating-point numbers between 0 and 1\n",
    "#insert code here\n"
   ]
  },
  {
   "cell_type": "markdown",
   "id": "e0f8661b-8ece-4efe-8d5f-ec2fc0a0d57c",
   "metadata": {},
   "source": [
    "## Plotting arrays\n",
    "\n",
    "As our arrays get longer and more complex, it's difficult to see what's going on by just looking at the numbers. Let's see how we can easily plot the data as a line graph. Let's make our data to be plotted:"
   ]
  },
  {
   "cell_type": "code",
   "execution_count": 26,
   "id": "77c8c03a-f617-4997-9d88-664500fc0ccd",
   "metadata": {},
   "outputs": [],
   "source": [
    "# Numbers from 0 to 20. 100 of them.\n",
    "\n",
    "# insert code here"
   ]
  },
  {
   "cell_type": "markdown",
   "id": "4ce6669b-3ea5-4c3a-9bfa-dd8563d7dd66",
   "metadata": {},
   "source": [
    "First, we need to import `matplotlib`, the defacto standard plotting tool for Python:"
   ]
  },
  {
   "cell_type": "code",
   "execution_count": 27,
   "id": "8ec58062-e80f-467c-bc0d-5eddf7810225",
   "metadata": {},
   "outputs": [],
   "source": [
    "# insert code here"
   ]
  },
  {
   "attachments": {},
   "cell_type": "markdown",
   "id": "076fd849-91df-4f0b-9b66-18391fcf7ee1",
   "metadata": {},
   "source": [
    "Then, we need to make a place for the plotting to happen which we do with the `plt.figure()` function. \n",
    "We then draw on the axes with `plt.plot` and pass it the $y$ values:\n",
    "\n",
    "\n",
    "(hint: you will also need `plt.show()` to display the figure withour any weird output)"
   ]
  },
  {
   "cell_type": "code",
   "execution_count": 28,
   "id": "268f85da-fe33-4354-a73a-91eacc443741",
   "metadata": {},
   "outputs": [],
   "source": [
    "# insert code here"
   ]
  },
  {
   "cell_type": "markdown",
   "id": "85826db1-b0a4-40d4-a4ce-81b3202dd2bc",
   "metadata": {},
   "source": [
    "It has done the plot and the the $y$ values are correct, but the $x$ axis has just been taken as the integer indexes of the array. If we want to label the $x$ axis then we can pass two arguments to `plot`:"
   ]
  },
  {
   "cell_type": "code",
   "execution_count": 29,
   "id": "7cdc68d9-bc10-4c5c-962f-434dcc2a1c66",
   "metadata": {},
   "outputs": [],
   "source": [
    "# insert code here"
   ]
  },
  {
   "attachments": {},
   "cell_type": "markdown",
   "id": "f338ecb2",
   "metadata": {},
   "source": [
    "### Exercise : Data manipulation and plotting\n",
    "\n",
    "- Generate some random data \n",
    "- Plot the data as a line graph\n",
    "- Find the mean average, $\\mu$, value in the data\n",
    "  - Have a look at the [list of statistical functions](https://numpy.org/doc/stable/reference/routines.statistics.html) to find an appropriate one\n",
    "- Find the standard deviation, $\\sigma$, of the data\n",
    "- Write a function which returns the ratio between the standard deviation and the mean, $\\dfrac{\\sigma}{\\mu}$\n",
    "- Check that your funtion works with both Python lists as well as the `data` array\n"
   ]
  },
  {
   "cell_type": "code",
   "execution_count": 30,
   "id": "4edf58cb",
   "metadata": {},
   "outputs": [],
   "source": [
    "# Generate some random data\n",
    "# insert code here\n"
   ]
  },
  {
   "cell_type": "code",
   "execution_count": 31,
   "id": "2eef1e21",
   "metadata": {},
   "outputs": [],
   "source": [
    "# Plot the data as a line graph\n",
    "# insert code here\n"
   ]
  },
  {
   "cell_type": "code",
   "execution_count": 32,
   "id": "74991c4e",
   "metadata": {},
   "outputs": [],
   "source": [
    "# Calculate mean and standard deviation of the data - you can use the numpy functions np.mean() and np.std()\n",
    "\n",
    "# insert code here\n"
   ]
  },
  {
   "cell_type": "code",
   "execution_count": 33,
   "id": "bc23bd82",
   "metadata": {},
   "outputs": [],
   "source": [
    "# Calculate the ratio between standard deviation and mean using the function\n",
    "# insert code here\n"
   ]
  },
  {
   "cell_type": "code",
   "execution_count": 34,
   "id": "35db3772",
   "metadata": {},
   "outputs": [],
   "source": [
    "# Check the function with Python lists\n",
    "# insert code here\n"
   ]
  },
  {
   "attachments": {},
   "cell_type": "markdown",
   "id": "2deb2ebb",
   "metadata": {},
   "source": [
    "### Homework Exercise\n",
    "\n",
    "- Generate an array `x` with 100 evenly spaced values from 0 to 10 (hint: use `numpy.linspace()` to create a range of x-values.\n",
    "- Generate an array `y` by applying a mathematical expression (sin(x)) to the x array. \n",
    "- Generate a new array `y_r` which is equal to `y` + some random noise. Use `numpy.random.normal()` to make the data slightly varied.\n",
    "- Plot the generated data as a scatter plot using `matplotlib.pyplot.scatter()`. This visualizes the relationship between the x and y values.\n",
    "- Use `numpy.max()` to find the maximum value in the y array.\n",
    "- Use `numpy.argmax()` to find the index of the maximum value in the y array.\n",
    "- Print the maximum value and the index of the maximum value.\n",
    "\n",
    "Hint: you can display both `y` and `y_r`in the plot, by running `plt.plot` or `plt.scatter` multiple times before `plt.show`. Try plotting `y` with a line `plt.plot(x, y)` and `y_r` with a scatter plot `plt.scatter(x, y_r)`.\n",
    "play with the `color` parameter to distinguish between the two."
   ]
  },
  {
   "cell_type": "markdown",
   "id": "16869721",
   "metadata": {},
   "source": []
  }
 ],
 "metadata": {
  "kernelspec": {
   "display_name": "Python 3 (ipykernel)",
   "language": "python",
   "name": "python3"
  },
  "language_info": {
   "codemirror_mode": {
    "name": "ipython",
    "version": 3
   },
   "file_extension": ".py",
   "mimetype": "text/x-python",
   "name": "python",
   "nbconvert_exporter": "python",
   "pygments_lexer": "ipython3",
   "version": "3.10.9"
  }
 },
 "nbformat": 4,
 "nbformat_minor": 5
}
