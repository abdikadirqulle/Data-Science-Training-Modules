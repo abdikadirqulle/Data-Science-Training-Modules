{
 "cells": [
  {
   "cell_type": "markdown",
   "id": "c854fc1c-1e27-41b9-a001-9f17545a89ce",
   "metadata": {},
   "source": [
    "# Multi-dimensional arrays"
   ]
  },
  {
   "cell_type": "markdown",
   "id": "9479b1db-548e-449d-be9c-4a786c37f38c",
   "metadata": {},
   "source": [
    "One place that NumPy arrays really start excelling is that they are good at handling multi-dimensional data.\n",
    "\n",
    "If you pass in a list-of-lists (of equal lengths) it will create a two-dimensional array:"
   ]
  },
  {
   "cell_type": "code",
   "execution_count": 1,
   "id": "bb52fc40-073d-4c54-9b08-3b82840227ad",
   "metadata": {},
   "outputs": [],
   "source": [
    "# insert code here"
   ]
  },
  {
   "cell_type": "code",
   "execution_count": 2,
   "id": "c57aff0e-07a1-4324-9d12-66c22255df2f",
   "metadata": {},
   "outputs": [],
   "source": [
    "# insert code here"
   ]
  },
  {
   "cell_type": "markdown",
   "id": "69547237-5dc5-4417-acac-dd4dbf9a53ec",
   "metadata": {},
   "source": [
    "You can ask any `array` for how many dimensions it has:"
   ]
  },
  {
   "cell_type": "code",
   "execution_count": 3,
   "id": "39ed9ac4-5df6-4fbf-b0df-7f937f485932",
   "metadata": {},
   "outputs": [],
   "source": [
    "# insert code here"
   ]
  },
  {
   "cell_type": "markdown",
   "id": "2c962181-97d7-4b04-9478-002e450a0897",
   "metadata": {},
   "source": [
    "Or get more detail on exactly how large it is in each dimension with:"
   ]
  },
  {
   "cell_type": "code",
   "execution_count": 4,
   "id": "d62695fa-8d28-45f3-b509-5b00c3cd59e5",
   "metadata": {},
   "outputs": [],
   "source": [
    "# insert code here"
   ]
  },
  {
   "cell_type": "markdown",
   "id": "df703378-4bd2-4e32-86f9-ec213db26e12",
   "metadata": {},
   "source": [
    "So it has two dimensions, both of size 3.\n",
    "\n",
    "If you access a multi-dimensional array using a single number in the square brackets then it will give you the data by row. For example, to pull out the first row:"
   ]
  },
  {
   "cell_type": "code",
   "execution_count": 5,
   "id": "3b10d64b-479b-4b05-9671-fe65980c08cc",
   "metadata": {},
   "outputs": [],
   "source": [
    "# insert code here"
   ]
  },
  {
   "cell_type": "markdown",
   "id": "5e617b04-06e3-4d7e-a683-b695e23b9e00",
   "metadata": {},
   "source": [
    "<div class=\"operation\">\n",
    "<table class=\"array\">\n",
    "<tbody>\n",
    "  <tr>\n",
    "    <td class=\"axis_label\">0</td>\n",
    "    <td class=\"selected\">1</td><td class=\"selected\">2</td><td class=\"selected\">3</td>\n",
    "  </tr>\n",
    "  <tr>\n",
    "    <td class=\"axis_label\"></td>\n",
    "    <td>4</td><td>5</td><td>6</td>\n",
    "  </tr>\n",
    "  <tr>\n",
    "    <td class=\"axis_label\"></td>\n",
    "    <td>7</td><td>8</td><td>9</td>\n",
    "  </tr>\n",
    "</tbody>\n",
    "</table>\n",
    "</div>"
   ]
  },
  {
   "cell_type": "markdown",
   "id": "09afb834-a637-473d-b464-0843b7510c99",
   "metadata": {},
   "source": [
    "or the second row:"
   ]
  },
  {
   "cell_type": "code",
   "execution_count": 6,
   "id": "508fc64a-fd07-474e-bd20-cb9fdd10328f",
   "metadata": {},
   "outputs": [],
   "source": [
    "# insert code here"
   ]
  },
  {
   "cell_type": "markdown",
   "id": "98f5a6e1-fd44-4f35-9bee-68ffdafd2010",
   "metadata": {},
   "source": [
    "<div class=\"operation\">\n",
    "<table class=\"array\">\n",
    "<tbody>\n",
    "  <tr>\n",
    "    <td class=\"axis_label\"></td>\n",
    "    <td>1</td><td>2</td><td>3</td>\n",
    "  </tr>\n",
    "  <tr>\n",
    "    <td class=\"axis_label\">1</td>\n",
    "    <td class=\"selected\">4</td><td class=\"selected\">5</td><td class=\"selected\">6</td>\n",
    "  </tr>\n",
    "  <tr>\n",
    "    <td class=\"axis_label\"></td>\n",
    "    <td>7</td><td>8</td><td>9</td>\n",
    "  </tr>\n",
    "</tbody>\n",
    "</table>\n",
    "</div>"
   ]
  },
  {
   "cell_type": "markdown",
   "id": "79753aed-ab4f-4daf-a0bd-731353e5d333",
   "metadata": {},
   "source": [
    "Then you can get individual elements by specifying multiple indices inside the square brackets. For example, to get the first row and the second column:"
   ]
  },
  {
   "cell_type": "code",
   "execution_count": 7,
   "id": "d0b9fff2-a6e8-4a37-be96-e380e2d225b2",
   "metadata": {},
   "outputs": [],
   "source": [
    "# insert code here"
   ]
  },
  {
   "cell_type": "markdown",
   "id": "403da703-4f80-4ea1-a68e-4c973fe38ef2",
   "metadata": {},
   "source": [
    "<div class=\"operation\">\n",
    "<table class=\"array\">\n",
    "<thead>\n",
    "  <tr>\n",
    "    <th></th>\n",
    "    <th></th>\n",
    "    <th class=\"axis_label\">1</th>\n",
    "    <th></th>\n",
    "  </tr>\n",
    "</thead>\n",
    "<tbody>\n",
    "  <tr>\n",
    "    <td class=\"axis_label\">0</td>\n",
    "    <td>1</td><td class=\"selected\">2</td><td>3</td>\n",
    "  </tr>\n",
    "  <tr>\n",
    "    <td class=\"axis_label\"></td>\n",
    "    <td>4</td><td>5</td><td>6</td>\n",
    "  </tr>\n",
    "  <tr>\n",
    "    <td class=\"axis_label\"></td>\n",
    "    <td>7</td><td>8</td><td>9</td>\n",
    "  </tr>\n",
    "</tbody>\n",
    "</table>\n",
    "</div>"
   ]
  },
  {
   "cell_type": "markdown",
   "id": "4250939b-6f5b-41d6-85f1-b15bb7bd8fa3",
   "metadata": {},
   "source": [
    "This is useful as it also allows you to select the data by *column* using `:` to mean \"all\":"
   ]
  },
  {
   "cell_type": "code",
   "execution_count": 8,
   "id": "75964814-3817-49d6-b554-d4cc4663538a",
   "metadata": {},
   "outputs": [],
   "source": [
    "# insert code here"
   ]
  },
  {
   "cell_type": "markdown",
   "id": "a5642c38-faf0-42f6-9a43-87471ec87a79",
   "metadata": {},
   "source": [
    "<div class=\"operation\">\n",
    "<table class=\"array\">\n",
    "<thead>\n",
    "  <tr>\n",
    "    <th></th>\n",
    "    <th></th>\n",
    "    <th class=\"axis_label\">1</th>\n",
    "    <th></th>\n",
    "  </tr>\n",
    "</thead>\n",
    "<tbody>\n",
    "  <tr>\n",
    "    <td class=\"axis_label\" rowspan=\"3\">:</td>\n",
    "    <td>1</td><td class=\"selected\">2</td><td>3</td>\n",
    "  </tr>\n",
    "  <tr>\n",
    "    <td>4</td><td class=\"selected\">5</td><td>6</td>\n",
    "  </tr>\n",
    "  <tr>\n",
    "    <td>7</td><td class=\"selected\">8</td><td>9</td>\n",
    "  </tr>\n",
    "</tbody>\n",
    "</table>\n",
    "</div>"
   ]
  },
  {
   "cell_type": "markdown",
   "id": "8e9937a2-b205-4aaa-a6d2-e3b685e7a035",
   "metadata": {},
   "source": [
    "So, when the array is printed out, the order that you put indices into the `[]` when indexing first selects the \"row\" and then selects the \"column\". In NumPy-speak these are called *axes* and are numbered from 0 in order. In the example of our grid, they are:"
   ]
  },
  {
   "cell_type": "markdown",
   "id": "307aef0d-0db8-4cb9-b2ef-d5df1e4fab77",
   "metadata": {},
   "source": [
    "<div class=\"operation\">\n",
    "<table class=\"array\">\n",
    "<thead>\n",
    "  <tr>\n",
    "    <th></th>\n",
    "    <th class=\"axis_label\" colspan=\"3\">axis 1 →</th>\n",
    "  </tr>\n",
    "</thead>\n",
    "<tbody>\n",
    "  <tr>\n",
    "    <td class=\"axis_label vertical\" rowspan=\"3\">axis 0 →</td>\n",
    "    <td>1</td><td>2</td><td>3</td>\n",
    "  </tr>\n",
    "  <tr>\n",
    "    <td>4</td><td>5</td><td>6</td>\n",
    "  </tr>\n",
    "  <tr>\n",
    "    <td>7</td><td>8</td><td>9</td>\n",
    "  </tr>\n",
    "</tbody>\n",
    "</table>\n",
    "</div>"
   ]
  },
  {
   "cell_type": "markdown",
   "id": "1a5f186e-2797-499a-bf7c-395de61f2323",
   "metadata": {
    "tags": [
     "exercise"
    ]
   },
   "source": [
    "### Exercise #\n",
    "\n",
    "- Extract the number `7` using the correct combination of indices\n",
    "- Extract the last column (the answer should be `[3 6 9]`)\n",
    "- Extract just the last two elements from the middle row, i.e. giving `[5 6]`"
   ]
  },
  {
   "cell_type": "code",
   "execution_count": 9,
   "id": "bd49050b-1342-49c8-9d56-b90587903c2b",
   "metadata": {},
   "outputs": [],
   "source": [
    "# insert code here"
   ]
  },
  {
   "cell_type": "markdown",
   "id": "2c87cc67-3d88-412d-917e-2e313f623f81",
   "metadata": {
    "tags": []
   },
   "source": [
    "### Even more dimensions\n",
    "\n",
    "NumPy arrays can handle any number of dimensions up to 32. So you can make a three-dimensional cube of numbers with:"
   ]
  },
  {
   "cell_type": "code",
   "execution_count": 10,
   "id": "13c853ff-e100-4d30-ad27-a08c6631f31e",
   "metadata": {},
   "outputs": [],
   "source": [
    "# insert code here"
   ]
  },
  {
   "cell_type": "markdown",
   "id": "94b01f6b-54b2-4d51-bbd2-f764ffb2a124",
   "metadata": {},
   "source": [
    "You can index the values in it just as before, separating each axes index with a comma:"
   ]
  },
  {
   "cell_type": "code",
   "execution_count": 11,
   "id": "6b792d70-4891-477c-9bcc-911a1ae44c08",
   "metadata": {},
   "outputs": [],
   "source": [
    "# insert code here"
   ]
  },
  {
   "cell_type": "markdown",
   "id": "19d2df00-afe8-4631-8d31-ceb743ba994d",
   "metadata": {},
   "source": [
    "Notice how the array is represented when it's printed. Each \"row\" of the cube is now a 2-D sub-array, separated by an blank line.\n",
    "\n",
    "In labelled diagram form, it looks like:"
   ]
  },
  {
   "cell_type": "markdown",
   "id": "a7a1d836-b946-4a0c-8dab-c2b338edbee6",
   "metadata": {},
   "source": [
    "<div class=\"operation\">\n",
    "<table class=\"array\">\n",
    "<tbody>\n",
    "  <tr>\n",
    "    <td class=\"axis_label vertical\" rowspan=\"2\">axis 0 →</td>\n",
    "    <td>\n",
    "      <table class=\"array\">\n",
    "        <thead>\n",
    "          <tr>\n",
    "            <th></th>\n",
    "            <th class=\"axis_label\" colspan=\"2\">axis 2 →</th>\n",
    "          </tr>\n",
    "        </thead>\n",
    "        <tbody>\n",
    "          <tr>\n",
    "            <td class=\"axis_label vertical\" rowspan=\"3\">axis 1 →</td>\n",
    "            <td>1</td><td>2</td>\n",
    "          </tr>\n",
    "          <tr>\n",
    "            <td>3</td><td>4</td>\n",
    "          </tr>\n",
    "        </tbody>\n",
    "      </table>\n",
    "    </td>\n",
    "  </tr>\n",
    "  <tr>\n",
    "    <td>\n",
    "      <table class=\"array\">\n",
    "        <thead>\n",
    "          <tr>\n",
    "            <th></th>\n",
    "            <th class=\"axis_label\" colspan=\"2\">axis 2 →</th>\n",
    "          </tr>\n",
    "        </thead>\n",
    "        <tbody>\n",
    "          <tr>\n",
    "            <td class=\"axis_label vertical\" rowspan=\"3\">axis 1 →</td>\n",
    "            <td>5</td><td>6</td>\n",
    "          </tr>\n",
    "          <tr>\n",
    "            <td>7</td><td>8</td>\n",
    "          </tr>\n",
    "        </tbody>\n",
    "      </table>\n",
    "    </td>\n",
    "  </tr>\n",
    "</tbody>\n",
    "</table>\n",
    "</div>"
   ]
  },
  {
   "cell_type": "markdown",
   "id": "6bbd42fa-7a48-4b56-8669-d779fd9e3d95",
   "metadata": {},
   "source": [
    "See that the numbers along the row are always the last axis (they were axis 1 before, now they're axis 2)."
   ]
  },
  {
   "cell_type": "markdown",
   "id": "320f2944-806e-41c0-8983-b1045f60286e",
   "metadata": {
    "tags": [
     "exercise"
    ]
   },
   "source": [
    "### Exercise #\n",
    "\n",
    "1. Find the number of dimensions and shape of the array `cube`.\n",
    "2. Extract some more slices of the array, taking care to understand how the order of the indices relate to the data inside. Try to work out the indexing required to get the following results from `cube`:\n",
    "    - ```\n",
    "      8\n",
    "      ```\n",
    "    - ```\n",
    "      [1 2]\n",
    "      ```\n",
    "    - ```\n",
    "      [2 6]\n",
    "      ```\n",
    "    - ```\n",
    "      [[3 4]\n",
    "       [7 8]]\n",
    "      ```\n"
   ]
  },
  {
   "cell_type": "code",
   "execution_count": 12,
   "id": "f9b7b71b-e736-47d4-991d-2ecc50e23230",
   "metadata": {},
   "outputs": [],
   "source": [
    "# insert code here"
   ]
  },
  {
   "cell_type": "markdown",
   "id": "98d29b33-0bf2-4fe6-9fe5-288964cde008",
   "metadata": {},
   "source": [
    "## Pre-filled arrays\n",
    "\n",
    "Just like with one-dimensional array we can create multi-dimensional data with the built-in functions such as `np.zeros`:"
   ]
  },
  {
   "cell_type": "code",
   "execution_count": 13,
   "id": "4ee6a2ed-ecb2-476b-939e-12b01b1ce18d",
   "metadata": {},
   "outputs": [],
   "source": [
    "# insert code here"
   ]
  },
  {
   "cell_type": "markdown",
   "id": "8f0fb043-8c57-42dc-87c4-4bc2db86f386",
   "metadata": {},
   "source": [
    "`np.ones`:"
   ]
  },
  {
   "cell_type": "code",
   "execution_count": 14,
   "id": "f150c5c6-1c97-4ffb-96b9-6714e064281f",
   "metadata": {},
   "outputs": [],
   "source": [
    "# insert code here"
   ]
  },
  {
   "cell_type": "markdown",
   "id": "4e203ca6-cc3c-4251-9c9a-835a9a373d19",
   "metadata": {},
   "source": [
    "and even more complex functions such as [`np.fromfunction`](https://numpy.org/doc/stable/reference/generated/numpy.fromfunction.html) which takes an argument of a function which, when called with $x$ and $y$ values, returns a corresponding output value for that coördinate:"
   ]
  },
  {
   "cell_type": "code",
   "execution_count": 15,
   "id": "7a09a4f6-3322-421e-9ab6-68692642e146",
   "metadata": {},
   "outputs": [],
   "source": [
    "# insert code here"
   ]
  },
  {
   "cell_type": "markdown",
   "id": "d379b241-a79f-4e90-b719-4797ead4d13d",
   "metadata": {},
   "source": [
    "## Plotting 2D data\n",
    "\n",
    "Complex multi-dimensional arrays are hard to visualise as text, so let's see about displaying them graphically. The simplest way to do this is using matplotlib's [`imshow`](https://matplotlib.org/stable/api/_as_gen/matplotlib.axes.Axes.imshow.html) function:"
   ]
  },
  {
   "cell_type": "code",
   "execution_count": 16,
   "id": "ee360e00-4ccf-4a2c-85e8-f39e90fef051",
   "metadata": {},
   "outputs": [],
   "source": [
    "# insert code here"
   ]
  },
  {
   "cell_type": "markdown",
   "id": "e77cd368-0a44-44bb-b766-3cda946e7abb",
   "metadata": {},
   "source": [
    "This takes any 2D array and displays it as if it were an image. It will set the colour based on the value. One thing to be aware of is that the orign of the axes is in the top-left, rather than the bottom-left (due to conventions on how image data is stored). You can change this by passing `origin=\"lower\"` to the function:"
   ]
  },
  {
   "cell_type": "code",
   "execution_count": 17,
   "id": "5197e096-391c-420a-8b1e-67a17d90ba9b",
   "metadata": {},
   "outputs": [],
   "source": [
    "# insert code here"
   ]
  },
  {
   "cell_type": "markdown",
   "id": "7aea94ac-cb5c-4b86-9d69-d3b3e000e617",
   "metadata": {},
   "source": [
    "It's also useful to be able to display a colour bar as well the data itself, which you can do with `fig.colorbar` and passing it the return value of the `imshow` call:"
   ]
  },
  {
   "cell_type": "code",
   "execution_count": 18,
   "id": "ba8e1252-8f51-45ee-bd50-8d6ddf3eec84",
   "metadata": {},
   "outputs": [],
   "source": [
    "# insert code here"
   ]
  },
  {
   "cell_type": "markdown",
   "id": "80431aba-d8f8-4664-babd-e0ab4e6615c3",
   "metadata": {},
   "source": [
    "You can change the [colour scheme](https://matplotlib.org/stable/tutorials/colors/colormaps.html) used to plot with the `cmap` argument:"
   ]
  },
  {
   "cell_type": "code",
   "execution_count": 19,
   "id": "dc09b391-b9d9-4b2e-b388-0a7e773f990f",
   "metadata": {},
   "outputs": [],
   "source": [
    "# insert code here"
   ]
  },
  {
   "cell_type": "markdown",
   "id": "ad220e7c-89b5-4192-800d-7cb232ec182b",
   "metadata": {},
   "source": [
    "There are other two-dimensional (and even three-dimensional) plotting types available, such as the [`contour` plot](https://matplotlib.org/stable/api/_as_gen/matplotlib.pyplot.contour.html):"
   ]
  },
  {
   "cell_type": "code",
   "execution_count": 20,
   "id": "198f55ab-8920-4b2d-9c1e-e11d785d3df4",
   "metadata": {},
   "outputs": [],
   "source": [
    "# insert code here"
   ]
  },
  {
   "attachments": {},
   "cell_type": "markdown",
   "id": "0da9e582-cefc-4b55-8199-cf17b1cb5e90",
   "metadata": {
    "tags": [
     "exercise"
    ]
   },
   "source": [
    "### Exercise #\n",
    "\n",
    "Load the data file included in the folder (`weather_data.npz`),  and grab the `\"temperature\"` array. This data is based on [ECMWF data](https://apps.ecmwf.int/codes/grib/param-db/?id=130) and is in units of Kelvin. It is three-dimensional with axes of altitude, latitude and longitude. The altitude axis is layered such that the 0<sup>th</sup> layer is ground-level and each layer beyond that increases in altitude.\n",
    "\n",
    "You can load in the data with:\n",
    "\n",
    "```python\n",
    "with np.load(\"weather_data.npz\") as weather:\n",
    "    temperature = weather[\"temperature\"]\n",
    "```\n",
    "\n",
    "Since this is three-dimensional data, it's worth exploring its shape first. Once you understand the data:\n",
    "\n",
    "1. Grab the ground level slice\n",
    "  - Calculate the average value of this slice (this should give you a single number)\n",
    "  - Plot the entire slice\n",
    "2. Calculate the mean of each column to make it two-dimensional\n",
    "  - you can pass e.g. `axis=0` argument to `np.mean` to have it average along one axis only\n",
    "  - Plot this array too\n",
    "3. For the ground-level slice, calculate the average temperature by latitude\n",
    "  - Plot this too\n"
   ]
  },
  {
   "cell_type": "code",
   "execution_count": 21,
   "id": "4c61ac89-6ff1-4b3b-9ac5-8f3832e67fed",
   "metadata": {},
   "outputs": [],
   "source": [
    "# insert code here"
   ]
  }
 ],
 "metadata": {
  "kernelspec": {
   "display_name": "Python 3 (ipykernel)",
   "language": "python",
   "name": "python3"
  },
  "language_info": {
   "codemirror_mode": {
    "name": "ipython",
    "version": 3
   },
   "file_extension": ".py",
   "mimetype": "text/x-python",
   "name": "python",
   "nbconvert_exporter": "python",
   "pygments_lexer": "ipython3",
   "version": "3.9.7"
  }
 },
 "nbformat": 4,
 "nbformat_minor": 5
}
