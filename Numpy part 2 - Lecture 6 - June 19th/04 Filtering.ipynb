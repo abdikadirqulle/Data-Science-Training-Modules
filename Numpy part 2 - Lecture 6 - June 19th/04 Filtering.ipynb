{
 "cells": [
  {
   "cell_type": "markdown",
   "id": "6764cf9b-0bde-45cb-be43-43aa064b1b41",
   "metadata": {},
   "source": [
    "# Filtering data\n",
    "\n",
    "Manaully selecting data from an array by giving indices or ranges works if you want contiguous chunks of data, but sometimes you want to be able to grab arbitrary data from an array.\n",
    "\n",
    "Let's explore the options for more advanced indexing of arrays."
   ]
  },
  {
   "cell_type": "code",
   "execution_count": 1,
   "id": "a829a2d3-4601-431b-bb73-b8c0069b56bb",
   "metadata": {},
   "outputs": [],
   "source": [
    "import numpy as np"
   ]
  },
  {
   "attachments": {},
   "cell_type": "markdown",
   "id": "ac63a0cd-e5dd-47ce-a3da-4230026f9ecd",
   "metadata": {},
   "source": [
    "We'll use the following array in our examples. To make it easier to understand what's going on, the value of the digit after the decimal place is set to match the index (i.e. the value at index <u>3</u> is 10.<u>3</u>):"
   ]
  },
  {
   "cell_type": "code",
   "execution_count": 2,
   "id": "e593f640-1dcb-4148-8cdd-2c3af7679603",
   "metadata": {},
   "outputs": [],
   "source": [
    "a = np.array([6.0, 2.1, 8.2, 10.3, 5.4, 1.5, 7.6, 3.7, 9.8])"
   ]
  },
  {
   "cell_type": "markdown",
   "id": "cdb460bb-849b-4a8e-b56a-548d1418e382",
   "metadata": {},
   "source": [
    "## Select by index\n",
    "\n",
    "We've already seen that you can access a single element by giving its index:"
   ]
  },
  {
   "cell_type": "code",
   "execution_count": 3,
   "id": "1c2f5237-b621-4427-8f4b-0bb85ee354ca",
   "metadata": {},
   "outputs": [
    {
     "data": {
      "text/plain": [
       "1.5"
      ]
     },
     "execution_count": 3,
     "metadata": {},
     "output_type": "execute_result"
    }
   ],
   "source": [
    "a[5]"
   ]
  },
  {
   "cell_type": "markdown",
   "id": "27daf758-e936-4d4b-9ee9-72cc45b60067",
   "metadata": {},
   "source": [
    "and that we can also pass a slice (just like in a Python list):"
   ]
  },
  {
   "cell_type": "code",
   "execution_count": 4,
   "id": "9b21c640-a178-44c4-a732-7e364d5100de",
   "metadata": {},
   "outputs": [
    {
     "data": {
      "text/plain": [
       "array([1.5, 7.6])"
      ]
     },
     "execution_count": 4,
     "metadata": {},
     "output_type": "execute_result"
    }
   ],
   "source": [
    "a[5:7]"
   ]
  },
  {
   "cell_type": "markdown",
   "id": "8a84b4b0-fab0-4010-bb05-e8c5381d464b",
   "metadata": {},
   "source": [
    "To start to get more advanced than what Python lists support, we can also provide a list of element indices that we want. So, if we want elements `5` and `6` then we can pass in a list of those indices:"
   ]
  },
  {
   "cell_type": "code",
   "execution_count": 5,
   "id": "5c10d346-fa16-40ff-a275-84d31d340ee4",
   "metadata": {},
   "outputs": [
    {
     "data": {
      "text/plain": [
       "array([1.5, 7.6])"
      ]
     },
     "execution_count": 5,
     "metadata": {},
     "output_type": "execute_result"
    }
   ],
   "source": [
    "wanted_elements = [5, 6]\n",
    "a[wanted_elements]"
   ]
  },
  {
   "cell_type": "markdown",
   "id": "f79c8640-07ee-4b17-a106-e7c07d731e7a",
   "metadata": {},
   "source": [
    "So this gave us back the item at index `5` an the item at index `6`.\n",
    "\n",
    "The indices we pass in do not have to be contiguous, they can be from anywhere in the array:"
   ]
  },
  {
   "cell_type": "code",
   "execution_count": 6,
   "id": "0c4c5fe4-d38c-45bf-8093-0d821390174d",
   "metadata": {},
   "outputs": [
    {
     "data": {
      "text/plain": [
       "array([5.4, 3.7])"
      ]
     },
     "execution_count": 6,
     "metadata": {},
     "output_type": "execute_result"
    }
   ],
   "source": [
    "wanted_elements = [4, 7]\n",
    "a[wanted_elements]"
   ]
  },
  {
   "cell_type": "markdown",
   "id": "70d22dde-7c06-41b5-8496-12d72b791e69",
   "metadata": {},
   "source": [
    "They can be in any order:"
   ]
  },
  {
   "cell_type": "code",
   "execution_count": 7,
   "id": "0f345b8f-cb2a-4da0-bfc2-82377f26b47a",
   "metadata": {},
   "outputs": [
    {
     "data": {
      "text/plain": [
       "array([3.7, 5.4])"
      ]
     },
     "execution_count": 7,
     "metadata": {},
     "output_type": "execute_result"
    }
   ],
   "source": [
    "wanted_elements = [7, 4]\n",
    "a[wanted_elements]"
   ]
  },
  {
   "cell_type": "markdown",
   "id": "c7a4e685-1510-411b-a04d-74f98bfea56b",
   "metadata": {},
   "source": [
    "And we can even repeat them and the matching value is repeated in the output:"
   ]
  },
  {
   "cell_type": "code",
   "execution_count": 8,
   "id": "f057ea79-43af-4e0a-a4c9-f990f00b8159",
   "metadata": {},
   "outputs": [
    {
     "data": {
      "text/plain": [
       "array([5.4, 5.4, 3.7, 5.4])"
      ]
     },
     "execution_count": 8,
     "metadata": {},
     "output_type": "execute_result"
    }
   ],
   "source": [
    "wanted_elements = [4, 4, 7, 4]\n",
    "a[wanted_elements]"
   ]
  },
  {
   "cell_type": "markdown",
   "id": "eff4c1a1-932c-4c24-bd8d-1d631e377cc0",
   "metadata": {},
   "source": [
    "In all these cases we have made a separate variable to hold the indices and then passed in that variable. We can do this in one step too:"
   ]
  },
  {
   "cell_type": "code",
   "execution_count": 9,
   "id": "b208179a-8d0a-44c9-85ff-ee8eba780579",
   "metadata": {},
   "outputs": [
    {
     "data": {
      "text/plain": [
       "array([5.4, 5.4, 3.7, 5.4])"
      ]
     },
     "execution_count": 9,
     "metadata": {},
     "output_type": "execute_result"
    }
   ],
   "source": [
    "a[[4, 4, 7, 4]]"
   ]
  },
  {
   "cell_type": "markdown",
   "id": "7a85a8cc-6255-4058-be89-5a2d09e5dc26",
   "metadata": {},
   "source": [
    "The outer `[]` are the \"index the array `a`\" syntax, and the inner `[]` are the \"make a list of these numbers\" syntax."
   ]
  },
  {
   "cell_type": "markdown",
   "id": "ae8334bf-e9f8-422b-9772-bfd48c73398e",
   "metadata": {
    "tags": [
     "exercise"
    ]
   },
   "source": [
    "### Exercise #\n",
    "\n",
    "Using this indexing syntax, extract the following results:\n",
    "\n",
    "1. `[6.  8.2 5.4 7.6 9.8]`\n",
    "2. `[ 6.   2.1  8.2 10.3]`\n",
    "3. `[9.8 1.5 3.7 5.4]`\n",
    "\n"
   ]
  },
  {
   "cell_type": "code",
   "execution_count": null,
   "id": "f270fc70-248d-4bff-8133-a6a478a27f45",
   "metadata": {},
   "outputs": [],
   "source": [
    "a = np.array([6.0, 2.1, 8.2, 10.3, 5.4, 1.5, 7.6, 3.7, 9.8])"
   ]
  },
  {
   "cell_type": "code",
   "execution_count": null,
   "id": "898a3e4b-b1cd-4818-9b0e-3c1abec1300c",
   "metadata": {},
   "outputs": [],
   "source": [
    "a[[0, 2, 4, 6, 8]]"
   ]
  },
  {
   "cell_type": "code",
   "execution_count": null,
   "id": "7366e72c-5c71-43fd-b48f-f9c28951b7c8",
   "metadata": {},
   "outputs": [],
   "source": [
    "a[[0, 1, 2, 3]]"
   ]
  },
  {
   "cell_type": "code",
   "execution_count": null,
   "id": "591b3fe2-6d2d-4686-920a-b5e48841caa0",
   "metadata": {},
   "outputs": [],
   "source": [
    "a[[8, 5, 7, 4]]"
   ]
  },
  {
   "cell_type": "markdown",
   "id": "004cab5e-9a2c-4cf8-90c2-398d1d6c789f",
   "metadata": {},
   "source": [
    "## Filter by boolean\n",
    "\n",
    "Let's say that we want all the values in the array that are larger than 4.0. We could do this by manually finding all those indices which match and constructing a list of them to use as a selector:"
   ]
  },
  {
   "cell_type": "code",
   "execution_count": 10,
   "id": "99a54065-13c6-4617-bdfe-d5895a148399",
   "metadata": {},
   "outputs": [
    {
     "data": {
      "text/plain": [
       "array([ 6. ,  8.2, 10.3,  5.4,  7.6,  9.8])"
      ]
     },
     "execution_count": 10,
     "metadata": {},
     "output_type": "execute_result"
    }
   ],
   "source": [
    "large_indices = [0, 2, 3, 4, 6, 8]\n",
    "a[large_indices]"
   ]
  },
  {
   "cell_type": "markdown",
   "id": "9a495fac-3a54-4adb-b904-58737aabae62",
   "metadata": {},
   "source": [
    "Or, we can use a list of boolean values, where we set those elements we want to extract to `True` and those we want to be rid of to `False`:"
   ]
  },
  {
   "cell_type": "code",
   "execution_count": 11,
   "id": "96b4246f-4723-4c90-907f-4cf88998244d",
   "metadata": {},
   "outputs": [
    {
     "data": {
      "text/plain": [
       "array([ 6. ,  8.2, 10.3,  5.4,  7.6,  9.8])"
      ]
     },
     "execution_count": 11,
     "metadata": {},
     "output_type": "execute_result"
    }
   ],
   "source": [
    "mask = [True, False, True, True, True, False, True, False, True]\n",
    "a[mask]"
   ]
  },
  {
   "cell_type": "markdown",
   "id": "0f7126a0-d878-4f89-adc7-72c800abf14e",
   "metadata": {},
   "source": [
    "These lists of `True` and `False` are referred to as *boolean arrays*.\n",
    "\n",
    "With a larger array it would be tedious to create this list by hand. Luckily NumPy provides us with a way of constructing these automatically. If we want a boolean array matching the values which are greater than 4, we can use the same sort of syntax we used for multiplication, but use `>` instead:"
   ]
  },
  {
   "cell_type": "code",
   "execution_count": 12,
   "id": "641dfdde-6836-4a35-80fa-e4faeca5a443",
   "metadata": {},
   "outputs": [
    {
     "data": {
      "text/plain": [
       "array([ True, False,  True,  True,  True, False,  True, False,  True])"
      ]
     },
     "execution_count": 12,
     "metadata": {},
     "output_type": "execute_result"
    }
   ],
   "source": [
    "a > 4"
   ]
  },
  {
   "cell_type": "markdown",
   "id": "3dfccc13-2833-4601-bd72-b63f52a74865",
   "metadata": {},
   "source": [
    "Or, diagramatically (using ■ for `True` and □ for `False`):"
   ]
  },
  {
   "cell_type": "markdown",
   "id": "4067b662-954d-4aed-9ebf-796d5ca9dddd",
   "metadata": {},
   "source": [
    "<div class=\"operation\">\n",
    "<div>\n",
    "    <table class=\"array\"><tr><td>&nbsp;6.0</td></tr><tr><td>&nbsp;2.1</td></tr><tr><td>&nbsp;8.2</td></tr><tr><td>10.3</td></tr><tr><td>&nbsp;5.4</td></tr><tr><td>&nbsp;1.5</td></tr><tr><td>&nbsp;7.6</td></tr><tr><td>&nbsp;3.7</td></tr><tr><td>&nbsp;9.8</td></tr></table>\n",
    "</div>\n",
    "<div>&gt;</div>\n",
    "<div>4</div>\n",
    "<span style=\"font-size: 200%;\">⇨</span>\n",
    "<div>\n",
    "    <table class=\"array\"><tr><td>■</td></tr><tr><td>□</td></tr><tr><td>■</td></tr><tr><td>■</td></tr><tr><td>■</td></tr><tr><td>□</td></tr><tr><td>■</td></tr><tr><td>□</td></tr><tr><td>■</td></tr></table>\n",
    "</div>\n",
    "</div>"
   ]
  },
  {
   "cell_type": "markdown",
   "id": "42d7283d-b672-47d3-a967-5a6ee3e07f78",
   "metadata": {},
   "source": [
    "This mask can be saved to a variable and passed in as an index:"
   ]
  },
  {
   "cell_type": "code",
   "execution_count": 13,
   "id": "27be027e-3edd-4862-b1a1-2f885cb04394",
   "metadata": {},
   "outputs": [
    {
     "data": {
      "text/plain": [
       "array([ 6. ,  8.2, 10.3,  5.4,  7.6,  9.8])"
      ]
     },
     "execution_count": 13,
     "metadata": {},
     "output_type": "execute_result"
    }
   ],
   "source": [
    "mask = a > 4\n",
    "a[mask]"
   ]
  },
  {
   "cell_type": "markdown",
   "id": "1aa2d69c-47bd-477b-af96-4aacc4a63f10",
   "metadata": {},
   "source": [
    "Or, in one line:"
   ]
  },
  {
   "cell_type": "code",
   "execution_count": 14,
   "id": "cb810987-bebd-422f-b11f-31c7518ff9ba",
   "metadata": {},
   "outputs": [
    {
     "data": {
      "text/plain": [
       "array([ 6. ,  8.2, 10.3,  5.4,  7.6,  9.8])"
      ]
     },
     "execution_count": 14,
     "metadata": {},
     "output_type": "execute_result"
    }
   ],
   "source": [
    "a[a > 4]"
   ]
  },
  {
   "cell_type": "markdown",
   "id": "feb29160-3cde-414a-bf4b-a574c9c92d80",
   "metadata": {},
   "source": [
    "which can be read as \"select from `a` the elements where `a` is greater than 4\""
   ]
  },
  {
   "cell_type": "markdown",
   "id": "1b1a9a29-92ea-4cae-9b45-6d45f3792b90",
   "metadata": {},
   "source": [
    "<div class=\"operation\">\n",
    "<div>\n",
    "    <table class=\"array\"><tr><td>&nbsp;6.0</td></tr><tr><td>&nbsp;2.1</td></tr><tr><td>&nbsp;8.2</td></tr><tr><td>10.3</td></tr><tr><td>&nbsp;5.4</td></tr><tr><td>&nbsp;1.5</td></tr><tr><td>&nbsp;7.6</td></tr><tr><td>&nbsp;3.7</td></tr><tr><td>&nbsp;9.8</td></tr></table>\n",
    "</div>\n",
    "<div>[</div>\n",
    "<div>\n",
    "    <table class=\"array\"><tr><td>■</td></tr><tr><td>□</td></tr><tr><td>■</td></tr><tr><td>■</td></tr><tr><td>■</td></tr><tr><td>□</td></tr><tr><td>■</td></tr><tr><td>□</td></tr><tr><td>■</td></tr></table>\n",
    "</div>\n",
    "<div>]</div>\n",
    "<span style=\"font-size: 200%;\">⇨</span>\n",
    "<div>\n",
    "    <table class=\"array\"><tr><td>&nbsp;6.0</td></tr><tr><td class=\"empty\">&nbsp;</td></tr><tr><td>&nbsp;8.2</td></tr><tr><td>10.3</td></tr><tr><td>&nbsp;5.4</td></tr><tr><td class=\"empty\">&nbsp;</td></tr><tr><td>&nbsp;7.6</td></tr><tr><td class=\"empty\">&nbsp;</td></tr><tr><td>&nbsp;9.8</td></tr></table>\n",
    "</div>\n",
    "<span style=\"font-size: 200%;\">⇨</span>\n",
    "<div>\n",
    "    <table class=\"array\"><tr><td>&nbsp;6.0</td></tr><tr><td>&nbsp;8.2</td></tr><tr><td>10.3</td></tr><tr><td>&nbsp;5.4</td></tr><tr><td>&nbsp;7.6</td></tr><tr><td>&nbsp;9.8</td></tr></table>\n",
    "</div>\n",
    "</div>"
   ]
  },
  {
   "cell_type": "markdown",
   "id": "6300206e-a4b3-4c74-92e4-4dca39517ade",
   "metadata": {},
   "source": [
    "### Exercise #\n",
    "\n",
    "Extract all the values in `a` which are:\n",
    "1. Less than 5\n",
    "2. Greater than or equal to 8.2\n",
    "3. Equal to 6.0\n"
   ]
  },
  {
   "cell_type": "code",
   "execution_count": 1,
   "id": "a01aea26-19c7-431c-99fe-689b28d92c97",
   "metadata": {},
   "outputs": [],
   "source": [
    "import numpy as np\n",
    "\n",
    "a = np.array([6.0, 2.1, 8.2, 10.3, 5.4, 1.5, 7.6, 3.7, 9.8])"
   ]
  },
  {
   "cell_type": "code",
   "execution_count": 2,
   "id": "7152d6dd-24c6-40e3-aab1-c78b1a8afb9f",
   "metadata": {},
   "outputs": [
    {
     "data": {
      "text/plain": [
       "array([2.1, 1.5, 3.7])"
      ]
     },
     "execution_count": 2,
     "metadata": {},
     "output_type": "execute_result"
    }
   ],
   "source": [
    "a[a < 5]"
   ]
  },
  {
   "cell_type": "code",
   "execution_count": 3,
   "id": "c37f4a7f-0544-4daa-960c-c7e4426306da",
   "metadata": {},
   "outputs": [
    {
     "data": {
      "text/plain": [
       "array([ 8.2, 10.3,  9.8])"
      ]
     },
     "execution_count": 3,
     "metadata": {},
     "output_type": "execute_result"
    }
   ],
   "source": [
    "a[a >= 8.2]"
   ]
  },
  {
   "cell_type": "code",
   "execution_count": 4,
   "id": "ff72612f-7fa2-4b3a-b6b5-aa8378f5327b",
   "metadata": {},
   "outputs": [
    {
     "data": {
      "text/plain": [
       "array([6.])"
      ]
     },
     "execution_count": 4,
     "metadata": {},
     "output_type": "execute_result"
    }
   ],
   "source": [
    "a[a == 6.0]"
   ]
  },
  {
   "cell_type": "markdown",
   "id": "ac518a69-aeed-4020-87a3-1c2241b72f90",
   "metadata": {},
   "source": [
    "## Setting from filters\n",
    "\n",
    "Just like at the beginning of the course when we set values in an array with:\n",
    "```python\n",
    "a[4] = 99.4\n",
    "```"
   ]
  },
  {
   "cell_type": "markdown",
   "id": "6877528d-459e-4d87-b74b-f03a68efe54b",
   "metadata": {},
   "source": [
    "We can also use the return value of any filter to set values. For example, if we wanted to set all values greater than 4 to be 0 we can do:"
   ]
  },
  {
   "cell_type": "code",
   "execution_count": 15,
   "id": "e4ca47bc-ea89-45ca-8d46-8c9988482b31",
   "metadata": {},
   "outputs": [
    {
     "data": {
      "text/plain": [
       "array([0. , 2.1, 0. , 0. , 0. , 1.5, 0. , 3.7, 0. ])"
      ]
     },
     "execution_count": 15,
     "metadata": {},
     "output_type": "execute_result"
    }
   ],
   "source": [
    "a[a > 4] = 0\n",
    "a"
   ]
  },
  {
   "cell_type": "markdown",
   "id": "d54aba97-9ea2-42fe-933e-d0d58f1f8e89",
   "metadata": {},
   "source": [
    "<div class=\"operation\">\n",
    "<div>\n",
    "    <table class=\"array\"><tr><td>&nbsp;6.0</td></tr><tr><td>&nbsp;2.1</td></tr><tr><td>&nbsp;8.2</td></tr><tr><td>10.3</td></tr><tr><td>&nbsp;5.4</td></tr><tr><td>&nbsp;1.5</td></tr><tr><td>&nbsp;7.6</td></tr><tr><td>&nbsp;3.7</td></tr><tr><td>&nbsp;9.8</td></tr></table>\n",
    "</div>\n",
    "<div>[</div>\n",
    "<div>\n",
    "    <table class=\"array\"><tr><td>■</td></tr><tr><td>□</td></tr><tr><td>■</td></tr><tr><td>■</td></tr><tr><td>■</td></tr><tr><td>□</td></tr><tr><td>■</td></tr><tr><td>□</td></tr><tr><td>■</td></tr></table>\n",
    "</div>\n",
    "<div>]</div>\n",
    "<div>=</div>\n",
    "<div>0</div>\n",
    "<span style=\"font-size: 200%;\">⇨</span>\n",
    "<div>\n",
    "    <table class=\"array\"><tr><td>&nbsp;6.0</td></tr><tr><td class=\"empty\">&nbsp;2.1</td></tr><tr><td>&nbsp;8.2</td></tr><tr><td>10.3</td></tr><tr><td>&nbsp;5.4</td></tr><tr><td class=\"empty\">&nbsp;1.5</td></tr><tr><td>&nbsp;7.6</td></tr><tr><td class=\"empty\">&nbsp;3.7</td></tr><tr><td>&nbsp;9.8</td></tr></table>\n",
    "</div>\n",
    "<div>=</div>\n",
    "<div>0</div>\n",
    "<span style=\"font-size: 200%;\">⇨</span>\n",
    "<div>\n",
    "    <table class=\"array\"><tr><td>0.0</td></tr><tr><td>2.1</td></tr><tr><td>0.0</td></tr><tr><td>0.0</td></tr><tr><td>0.0</td></tr><tr><td>1.5</td></tr><tr><td>0.0</td></tr><tr><td>3.7</td></tr><tr><td>0.0</td></tr></table>\n",
    "</div>\n",
    "</div>"
   ]
  },
  {
   "cell_type": "markdown",
   "id": "5e25b3cf-edda-4842-85e4-1cbf6ca38935",
   "metadata": {},
   "source": [
    "## Filtering multi-dimensional data"
   ]
  },
  {
   "cell_type": "code",
   "execution_count": 16,
   "id": "98f3662c-3488-48dd-986c-5887c129b10c",
   "metadata": {},
   "outputs": [
    {
     "name": "stdout",
     "output_type": "stream",
     "text": [
      "[[1 2 3]\n",
      " [4 5 6]\n",
      " [7 8 9]]\n"
     ]
    }
   ],
   "source": [
    "grid = np.array([[1, 2, 3], [4, 5, 6], [7, 8, 9]])\n",
    "print(grid)"
   ]
  },
  {
   "cell_type": "code",
   "execution_count": 17,
   "id": "07bc896a-a186-4afc-b8bb-49dba3eaa34c",
   "metadata": {},
   "outputs": [
    {
     "data": {
      "text/plain": [
       "array([5, 6, 7, 8, 9])"
      ]
     },
     "execution_count": 17,
     "metadata": {},
     "output_type": "execute_result"
    }
   ],
   "source": [
    "grid[grid > 4]"
   ]
  },
  {
   "cell_type": "markdown",
   "id": "1bd67c4c-85bb-4841-b6b6-4ecdff14b041",
   "metadata": {},
   "source": [
    "<div class=\"operation\">\n",
    "<div>\n",
    "<table class=\"array\">\n",
    "<tbody>\n",
    "  <tr>\n",
    "    <td>1</td><td>2</td><td>3</td>\n",
    "  </tr>\n",
    "  <tr>\n",
    "    <td>4</td><td>5</td><td>6</td>\n",
    "  </tr>\n",
    "  <tr>\n",
    "    <td>7</td><td>8</td><td>9</td>\n",
    "  </tr>\n",
    "</tbody>\n",
    "</table>\n",
    "</div>\n",
    "<div>[</div>\n",
    "<div>\n",
    "<table class=\"array\">\n",
    "<tbody>\n",
    "  <tr>\n",
    "    <td>□</td><td>□</td><td>□</td>\n",
    "  </tr>\n",
    "  <tr>\n",
    "    <td>□</td><td>■</td><td>■</td>\n",
    "  </tr>\n",
    "  <tr>\n",
    "    <td>■</td><td>■</td><td>■</td>\n",
    "  </tr>\n",
    "</tbody>\n",
    "</table>\n",
    "</div>\n",
    "<div>]</div>\n",
    "<span style=\"font-size: 200%;\">⇨</span>\n",
    "<div>\n",
    "<table class=\"array\">\n",
    "<tbody>\n",
    "  <tr>\n",
    "    <td>5</td><td>6</td><td>7</td><td>8</td><td>9</td>\n",
    "  </tr>\n",
    "</tbody>\n",
    "</table>\n",
    "</div>\n",
    "</div>"
   ]
  },
  {
   "cell_type": "markdown",
   "id": "d59a7cfc-df40-4304-8d2b-85d8a7291797",
   "metadata": {},
   "source": [
    "In this case, it has lost the information about *where* the numbers have come from. The dimensionality has been lost.\n",
    "\n",
    "NumPy hasn't much choice in this case, as if it were to return the result with the same shape as the original array `grid`, what should it put in the spaces that we've filtered out?\n",
    "\n",
    "```\n",
    "[[? ? ?]\n",
    " [? 5 6]\n",
    " [7 8 9]]\n",
    "```\n",
    "\n",
    "You might think that it could fill those with `0`, or `-1` but any of those could very easily cause a problem with code that follows. NumPy doesn't take a stance on this as it would be dangerous.\n",
    "\n",
    "In your code, you know what you're doing with your data, so it's ok for you to decide on a case-by-case basis. If you decide that you want to keep the original shape, but replace any filtered-out values with a `0` then you can use NumPy's [`where`](https://numpy.org/doc/stable/reference/generated/numpy.where.html) function. It takes three arguments:\n",
    "1. the boolean array selecting the values,\n",
    "2. an array or values to use in the spots you're keeping, and\n",
    "3. an array or values to use in the spots you're filtering out.\n",
    "\n",
    "So, in the case where we want to replace any values less-than or equal-to 4 with `0`, we can use:"
   ]
  },
  {
   "cell_type": "code",
   "execution_count": 18,
   "id": "3ff520ad-8657-4195-9baf-c073080b4baa",
   "metadata": {},
   "outputs": [
    {
     "data": {
      "text/plain": [
       "array([[0, 0, 0],\n",
       "       [0, 5, 6],\n",
       "       [7, 8, 9]])"
      ]
     },
     "execution_count": 18,
     "metadata": {},
     "output_type": "execute_result"
    }
   ],
   "source": [
    "np.where(grid > 4, grid, 0)"
   ]
  },
  {
   "cell_type": "markdown",
   "id": "ecd5294e-4341-49cb-904e-533b76858c32",
   "metadata": {},
   "source": [
    "<div class=\"operation\">\n",
    "<div>np.where(</div>\n",
    "<div>\n",
    "<table class=\"array\">\n",
    "<tbody>\n",
    "  <tr>\n",
    "    <td>□</td><td>□</td><td>□</td>\n",
    "  </tr>\n",
    "  <tr>\n",
    "    <td>□</td><td>■</td><td>■</td>\n",
    "  </tr>\n",
    "  <tr>\n",
    "    <td>■</td><td>■</td><td>■</td>\n",
    "  </tr>\n",
    "</tbody>\n",
    "</table>\n",
    "</div>\n",
    "<div>,</div>\n",
    "<div>\n",
    "<table class=\"array\">\n",
    "<tbody>\n",
    "  <tr>\n",
    "    <td>1</td><td>2</td><td>3</td>\n",
    "  </tr>\n",
    "  <tr>\n",
    "    <td>4</td><td>5</td><td>6</td>\n",
    "  </tr>\n",
    "  <tr>\n",
    "    <td>7</td><td>8</td><td>9</td>\n",
    "  </tr>\n",
    "</tbody>\n",
    "</table>\n",
    "</div>\n",
    "<div>,</div>\n",
    "<div>0</div>\n",
    "<div>)</div>\n",
    "<span style=\"font-size: 200%;\">⇨</span>\n",
    "<div>\n",
    "<table class=\"array\">\n",
    "<tbody>\n",
    "  <tr>\n",
    "    <td>0</td><td>0</td><td>0</td>\n",
    "  </tr>\n",
    "  <tr>\n",
    "    <td>0</td><td>5</td><td>6</td>\n",
    "  </tr>\n",
    "  <tr>\n",
    "    <td>7</td><td>8</td><td>9</td>\n",
    "  </tr>\n",
    "</tbody>\n",
    "</table>\n",
    "</div>\n",
    "</div>"
   ]
  },
  {
   "cell_type": "markdown",
   "id": "75577075-a2a6-450a-9792-3f2835fd70d7",
   "metadata": {},
   "source": [
    "Note that this has not affected the original array:"
   ]
  },
  {
   "cell_type": "code",
   "execution_count": 19,
   "id": "2f29e105-ffad-4908-b2c5-c8ee51b11081",
   "metadata": {},
   "outputs": [
    {
     "data": {
      "text/plain": [
       "array([[1, 2, 3],\n",
       "       [4, 5, 6],\n",
       "       [7, 8, 9]])"
      ]
     },
     "execution_count": 19,
     "metadata": {},
     "output_type": "execute_result"
    }
   ],
   "source": [
    "grid"
   ]
  },
  {
   "attachments": {},
   "cell_type": "markdown",
   "id": "26117bbb-6ccb-4538-9948-dd98ec97fb16",
   "metadata": {},
   "source": [
    "One final way that you can reduce your data, while keeping the dimensionality is to use [masked arrays](https://numpy.org/doc/stable/reference/maskedarray.html). This is useful in situations where you have *missing data*. The advantage of masked arrays is that operations like averaging are not affected by the cells that are masked out. The downside is that for much larger arrays they will use more memory and can be slower to operate on."
   ]
  },
  {
   "cell_type": "code",
   "execution_count": 20,
   "id": "9dd96aad-cc87-4dc6-99e3-6e665bb786df",
   "metadata": {},
   "outputs": [
    {
     "name": "stdout",
     "output_type": "stream",
     "text": [
      "[[-- -- --]\n",
      " [-- 5 6]\n",
      " [7 8 9]]\n"
     ]
    }
   ],
   "source": [
    "masked_grid = np.ma.masked_array(grid, grid <= 4)\n",
    "print(masked_grid)"
   ]
  },
  {
   "cell_type": "markdown",
   "id": "1dad936e-fed1-40dd-bf6c-e9c265023986",
   "metadata": {},
   "source": [
    "<div class=\"operation\">\n",
    "<div>np.ma.masked_array(</div>\n",
    "<div>\n",
    "<table class=\"array\">\n",
    "<tbody>\n",
    "  <tr>\n",
    "    <td>1</td><td>2</td><td>3</td>\n",
    "  </tr>\n",
    "  <tr>\n",
    "    <td>4</td><td>5</td><td>6</td>\n",
    "  </tr>\n",
    "  <tr>\n",
    "    <td>7</td><td>8</td><td>9</td>\n",
    "  </tr>\n",
    "</tbody>\n",
    "</table>\n",
    "</div>\n",
    "<div>,</div>\n",
    "<div>\n",
    "<table class=\"array\">\n",
    "<tbody>\n",
    "  <tr>\n",
    "    <td>■</td><td>■</td><td>■</td>\n",
    "  </tr>\n",
    "  <tr>\n",
    "    <td>■</td><td>□</td><td>□</td>\n",
    "  </tr>\n",
    "  <tr>\n",
    "    <td>□</td><td>□</td><td>□</td>\n",
    "  </tr>\n",
    "</tbody>\n",
    "</table>\n",
    "</div>\n",
    "<div>)</div>\n",
    "<span style=\"font-size: 200%;\">⇨</span>\n",
    "<div>\n",
    "<table class=\"array\">\n",
    "<tbody>\n",
    "  <tr>\n",
    "    <td class=\"empty\">&nbsp;</td><td class=\"empty\">&nbsp;</td><td class=\"empty\">&nbsp;</td>\n",
    "  </tr>\n",
    "  <tr>\n",
    "    <td class=\"empty\">&nbsp;</td><td>5</td><td>6</td>\n",
    "  </tr>\n",
    "  <tr>\n",
    "    <td>7</td><td>8</td><td>9</td>\n",
    "  </tr>\n",
    "</tbody>\n",
    "</table>\n",
    "</div>\n",
    "</div>"
   ]
  },
  {
   "cell_type": "code",
   "execution_count": 21,
   "id": "fda35344-eb25-40ba-8118-2df2a3f73d80",
   "metadata": {},
   "outputs": [
    {
     "data": {
      "text/plain": [
       "7.0"
      ]
     },
     "execution_count": 21,
     "metadata": {},
     "output_type": "execute_result"
    }
   ],
   "source": [
    "np.mean(masked_grid)"
   ]
  },
  {
   "attachments": {},
   "cell_type": "markdown",
   "id": "73d0457f-3958-471b-90af-5fe713670fb0",
   "metadata": {
    "tags": [
     "exercise"
    ]
   },
   "source": [
    "### Exercise #\n",
    "\n",
    "The `rain` data set represents the prediction of metres of rainfall in an area and is based on the data from [ECMWF](https://apps.ecmwf.int/codes/grib/param-db/?id=228). It is two-dimensional with axes of latitude and longitude.\n",
    "\n",
    "```python\n",
    "with np.load(\"weather_data.npz\") as weather:\n",
    "    rain = weather[\"rain\"]\n",
    "    uk_mask = weather[\"uk\"]\n",
    "    irl_mask = weather[\"ireland\"]\n",
    "    spain_mask = weather[\"spain\"]\n",
    "```\n",
    "\n",
    "- Calculate the mean of the entire 2D `rain` data set.\n",
    "- Look at the `uk_mask` array, including its `dtype` and `shape`\n",
    "- Filter the `rain` data set to contain only those values from within the UK.\n",
    "  - Does `[]` indexing, `np.where` or `masked_arrays` make the most sense for this task?\n",
    "- Calculate the mean (and maximum and minimum if you like) of the data\n",
    "- Do the same with Ireland and Spain and compare the numbers\n",
    "\n"
   ]
  },
  {
   "cell_type": "code",
   "execution_count": 1,
   "id": "948becb1-c1d4-4005-864d-83baa606eb74",
   "metadata": {},
   "outputs": [],
   "source": [
    "import numpy as np\n",
    "\n",
    "with np.load(\"weather_data.npz\") as weather:\n",
    "    rain = weather[\"rain\"]\n",
    "    uk_mask = weather[\"uk\"]\n",
    "    irl_mask = weather[\"ireland\"]\n",
    "    spain_mask = weather[\"spain\"]"
   ]
  },
  {
   "cell_type": "code",
   "execution_count": 2,
   "id": "8fc64dc3-be5d-4adb-b2f5-9deb2f1c9cf4",
   "metadata": {},
   "outputs": [
    {
     "data": {
      "text/plain": [
       "0.003113156467013889"
      ]
     },
     "execution_count": 2,
     "metadata": {},
     "output_type": "execute_result"
    }
   ],
   "source": [
    "np.mean(rain)"
   ]
  },
  {
   "cell_type": "markdown",
   "id": "2f312a48-4071-4728-8945-27b45bb4d554",
   "metadata": {},
   "source": [
    "This is very small since it's in metres, so let's convert it into mm:"
   ]
  },
  {
   "cell_type": "code",
   "execution_count": 3,
   "id": "d35d10ce-988e-4a8e-bc40-8d9367c06f6f",
   "metadata": {},
   "outputs": [],
   "source": [
    "rain *= 1000"
   ]
  },
  {
   "cell_type": "code",
   "execution_count": 4,
   "id": "facdcb1a-cfc4-4a64-9cbf-f47f91b7febb",
   "metadata": {},
   "outputs": [
    {
     "data": {
      "text/plain": [
       "3.113156467013889"
      ]
     },
     "execution_count": 4,
     "metadata": {},
     "output_type": "execute_result"
    }
   ],
   "source": [
    "np.mean(rain)"
   ]
  },
  {
   "cell_type": "code",
   "execution_count": 5,
   "id": "b7b216ad-5439-4077-ae58-89f92ac3415a",
   "metadata": {},
   "outputs": [
    {
     "data": {
      "text/plain": [
       "dtype('bool')"
      ]
     },
     "execution_count": 5,
     "metadata": {},
     "output_type": "execute_result"
    }
   ],
   "source": [
    "uk_mask.dtype"
   ]
  },
  {
   "cell_type": "code",
   "execution_count": 6,
   "id": "92d3156a-b8a8-481d-b952-4351c5f0914c",
   "metadata": {},
   "outputs": [
    {
     "data": {
      "text/plain": [
       "(75, 75)"
      ]
     },
     "execution_count": 6,
     "metadata": {},
     "output_type": "execute_result"
    }
   ],
   "source": [
    "uk_mask.shape"
   ]
  },
  {
   "cell_type": "markdown",
   "id": "fc54183c-82ce-44d9-b9a1-fbeb192a1828",
   "metadata": {},
   "source": [
    "This is the same as the `rain` array:"
   ]
  },
  {
   "cell_type": "code",
   "execution_count": 7,
   "id": "79ac0f32-6a3d-4e05-9e51-a055ed69d530",
   "metadata": {},
   "outputs": [
    {
     "data": {
      "text/plain": [
       "(75, 75)"
      ]
     },
     "execution_count": 7,
     "metadata": {},
     "output_type": "execute_result"
    }
   ],
   "source": [
    "rain.shape"
   ]
  },
  {
   "cell_type": "markdown",
   "id": "5a510a20-caf7-4988-ad9b-b29cea964d82",
   "metadata": {},
   "source": [
    "What filtering method to use:\n",
    "- Using `[]` will lose the original shape, but since we're averaging the whole thing that doesn't matter\n",
    "- Using `np.where` will be tricky as if we fill the masked-out areads with `0` then it will skew the mean\n",
    "- Using `masked_array` would work fine\n",
    "\n",
    "For questions like this, using `[]` is often simplest:"
   ]
  },
  {
   "cell_type": "code",
   "execution_count": 8,
   "id": "224a5cd8-c7e9-4919-aaa0-bc06dc0afaa2",
   "metadata": {},
   "outputs": [],
   "source": [
    "uk_rain = rain[uk_mask]"
   ]
  },
  {
   "cell_type": "code",
   "execution_count": 9,
   "id": "88b7a4c9-0cfc-46aa-8d63-4bd59ad8a4c8",
   "metadata": {},
   "outputs": [
    {
     "data": {
      "text/plain": [
       "7.5836526862097005"
      ]
     },
     "execution_count": 9,
     "metadata": {},
     "output_type": "execute_result"
    }
   ],
   "source": [
    "np.mean(uk_rain)"
   ]
  },
  {
   "cell_type": "code",
   "execution_count": 10,
   "id": "00fffab0-4791-4840-bc19-7a1f708d6ce1",
   "metadata": {},
   "outputs": [
    {
     "data": {
      "text/plain": [
       "4.611112633529975"
      ]
     },
     "execution_count": 10,
     "metadata": {},
     "output_type": "execute_result"
    }
   ],
   "source": [
    "np.mean(rain[irl_mask])"
   ]
  },
  {
   "cell_type": "code",
   "execution_count": 11,
   "id": "e6269c5e-720d-44f1-85d7-14aedcfb5fde",
   "metadata": {},
   "outputs": [
    {
     "data": {
      "text/plain": [
       "0.8478509374411709"
      ]
     },
     "execution_count": 11,
     "metadata": {},
     "output_type": "execute_result"
    }
   ],
   "source": [
    "np.mean(rain[spain_mask])"
   ]
  },
  {
   "cell_type": "markdown",
   "id": "371fa1ee-4cdc-4d32-9866-e1a9013dda50",
   "metadata": {},
   "source": [
    "The UK has the heaviest rain, followed by Ireland, followed by Spain."
   ]
  }
 ],
 "metadata": {
  "kernelspec": {
   "display_name": "Python 3 (ipykernel)",
   "language": "python",
   "name": "python3"
  },
  "language_info": {
   "codemirror_mode": {
    "name": "ipython",
    "version": 3
   },
   "file_extension": ".py",
   "mimetype": "text/x-python",
   "name": "python",
   "nbconvert_exporter": "python",
   "pygments_lexer": "ipython3",
   "version": "3.12.4"
  }
 },
 "nbformat": 4,
 "nbformat_minor": 5
}
