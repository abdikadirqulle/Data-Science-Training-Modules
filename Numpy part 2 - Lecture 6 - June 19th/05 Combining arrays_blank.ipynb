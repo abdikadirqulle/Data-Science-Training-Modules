{
 "cells": [
  {
   "cell_type": "markdown",
   "id": "ca42ee75-2967-4e8a-9faa-c723ba5c86ef",
   "metadata": {},
   "source": [
    "# Combining arrays"
   ]
  },
  {
   "cell_type": "code",
   "execution_count": 1,
   "id": "12935fa0-9929-44d7-b8f4-10731e8e2ad1",
   "metadata": {},
   "outputs": [],
   "source": [
    "# write code here"
   ]
  },
  {
   "cell_type": "markdown",
   "id": "351ea05f-da9a-4fa8-a5b5-ef605e651026",
   "metadata": {},
   "source": [
    "## Matching shape\n",
    "\n",
    "If you have two arrays which exactly match each other in shape then you can directly combine them. So, if we have one `(2, 3)` array, `grid_a`:"
   ]
  },
  {
   "cell_type": "code",
   "execution_count": 2,
   "id": "b9dc486e-55b2-42f4-9067-19217e2bde83",
   "metadata": {},
   "outputs": [],
   "source": [
    "# write code here"
   ]
  },
  {
   "cell_type": "markdown",
   "id": "115c7529-981f-4598-989a-17d1d5de0741",
   "metadata": {},
   "source": [
    "And another, `grid_b` which is also `(2, 3)`:"
   ]
  },
  {
   "cell_type": "code",
   "execution_count": 3,
   "id": "08ba59f9-5c82-4ec9-bb2b-4b15bc999825",
   "metadata": {},
   "outputs": [],
   "source": [
    "# write code here"
   ]
  },
  {
   "cell_type": "markdown",
   "id": "26303b87-5677-4650-a5df-80b249af17dd",
   "metadata": {},
   "source": [
    "Then we can do any numerical or logical operation between them, just as we did with an array and a single number. For example, a multiplication will multiply the values element-by-element ($1\\times9=9$, $2\\times8=16$, $3\\times7=21$ etc.):"
   ]
  },
  {
   "cell_type": "code",
   "execution_count": 4,
   "id": "38034e47-d95f-4b44-b0f0-210775c8f183",
   "metadata": {},
   "outputs": [],
   "source": [
    "# write code here"
   ]
  },
  {
   "cell_type": "markdown",
   "id": "0d6393d2-a211-4b43-b4fd-84afeca355c6",
   "metadata": {},
   "source": [
    "If we define a different array with a different size, for example `(3, 2)`:"
   ]
  },
  {
   "cell_type": "code",
   "execution_count": 5,
   "id": "b4d7af1c-3f57-45f6-b495-f2b1438c4f14",
   "metadata": {},
   "outputs": [],
   "source": [
    "# write code here"
   ]
  },
  {
   "cell_type": "markdown",
   "id": "30dd01b1-1872-4bd8-bd73-9e3494effbeb",
   "metadata": {},
   "source": [
    "Then the multiplication will not work as the shapes don't exactly match:"
   ]
  },
  {
   "cell_type": "code",
   "execution_count": 6,
   "id": "71dc4d10-b89c-4e3e-b8e7-ba921b467990",
   "metadata": {
    "tags": [
     "raises-exception"
    ]
   },
   "outputs": [],
   "source": [
    "# write code here"
   ]
  },
  {
   "cell_type": "markdown",
   "id": "2153b281-3df3-497c-9760-61595209faa9",
   "metadata": {},
   "source": [
    "In a way, this makes sense. Exactly what did we expect to be the result of `grid_a * grid_c`?\n",
    "\n",
    "We see the term \"*broadcast*\" in that error message. We'll get back to that in a minute."
   ]
  },
  {
   "cell_type": "markdown",
   "id": "2de99c9e-416e-42e2-b534-e1100189032f",
   "metadata": {},
   "source": [
    "## Mismatched dimensions\n",
    "\n",
    "This doesn't seem very useful, if we can only ever work with exactly matching array shapes. Luckily, there are many situations where NumPy is able to combine arrays, even if they don't match. For example, we can take an array:"
   ]
  },
  {
   "cell_type": "code",
   "execution_count": 7,
   "id": "7f3f656a-0954-41d4-8a59-71f7d207fa43",
   "metadata": {},
   "outputs": [],
   "source": [
    "# write code here"
   ]
  },
  {
   "cell_type": "code",
   "execution_count": 8,
   "id": "090364fd-d297-4bf9-af73-ec570df5dc4b",
   "metadata": {},
   "outputs": [],
   "source": [
    "# write code here"
   ]
  },
  {
   "cell_type": "markdown",
   "id": "9fff85b1-2d24-4782-8b2c-e5ebf3989fba",
   "metadata": {},
   "source": [
    "and multiply it with `grid_a`:"
   ]
  },
  {
   "cell_type": "code",
   "execution_count": 9,
   "id": "c20962c5-e1a9-4b4c-be02-4b3710ba2f16",
   "metadata": {},
   "outputs": [],
   "source": [
    "# write code here"
   ]
  },
  {
   "cell_type": "markdown",
   "id": "966a6523-7600-4fa3-b5f8-07d2f2202dfa",
   "metadata": {},
   "source": [
    "This works because it's combining an array `grid_a` with shape `(2,3)` with another array `a` with shape `(3)`. It's able to match them together by stretching `a` so that its dimensions match `grid_a`:"
   ]
  },
  {
   "cell_type": "markdown",
   "id": "ea05f852-7949-4cf9-8df9-47530db2a35f",
   "metadata": {},
   "source": [
    "<div class=\"operation\">\n",
    "<div>\n",
    "    <table class=\"array\">\n",
    "    <tr><td>1</td><td>2</td><td>3</td></tr>\n",
    "    <tr><td>4</td><td>5</td><td>6</td></tr>\n",
    "    </table>\n",
    "</div>\n",
    "<div>×</div>\n",
    "<div>\n",
    "    <table class=\"array\"><tr><td>6.0</td><td>2.1</td><td>8.2</td></tr></table>\n",
    "</div>\n",
    "<span style=\"font-size: 200%;\">⇨</span>\n",
    "<div>\n",
    "    <table class=\"array\">\n",
    "    <tr><td>1</td><td>2</td><td>3</td></tr>\n",
    "    <tr><td>4</td><td>5</td><td>6</td></tr>\n",
    "    </table>\n",
    "</div>\n",
    "<div>×</div>\n",
    "<div>\n",
    "    <table class=\"array\">\n",
    "    <tr><td>6.0</td><td>2.1</td><td>8.2</td></tr>\n",
    "    <tr class=\"empty\"><td>6.0</td><td>2.1</td><td>8.2</td></tr>\n",
    "    </table>\n",
    "</div>\n",
    "<span style=\"font-size: 200%;\">⇨</span>\n",
    "<div>\n",
    "    <table class=\"array\">\n",
    "    <tr><td>&nbsp;6.0</td><td>&nbsp;4.2</td><td>24.6</td></tr>\n",
    "    <tr><td>24.0</td><td>10.5</td><td>49.2</td></tr>\n",
    "    </table>\n",
    "</div>\n",
    "</div>"
   ]
  },
  {
   "cell_type": "markdown",
   "id": "98cdb62f-2d98-4d18-9218-88a632dc6c12",
   "metadata": {},
   "source": [
    "Note here we have switched to the row-format of one-dimensional arrays as it makes it easier to understand how they are combined.\n",
    "\n",
    "This stretching operations is known as \"*broadcasting*\" in NumPy. There are a set of rules which govern what shape arrays can be combined with others which is detailed in [the official broadcasting documentation](https://numpy.org/devdocs/user/basics.broadcasting.html)."
   ]
  },
  {
   "cell_type": "markdown",
   "id": "fbb91ce4-4f17-47d7-b8be-469ec5436600",
   "metadata": {},
   "source": [
    "So, if we try to combine `grid_a` with an array of shape `(2)`:"
   ]
  },
  {
   "cell_type": "code",
   "execution_count": 10,
   "id": "83ac5587-0b94-446a-b413-718ad56a7d55",
   "metadata": {
    "tags": []
   },
   "outputs": [],
   "source": [
    "# write code here"
   ]
  },
  {
   "cell_type": "markdown",
   "id": "b86bce75-fdfe-4340-91c1-d1d1010003ee",
   "metadata": {},
   "source": [
    "Then it fails since it was unable to *broadcast* a `(2)` to a `(2,3)`.\n",
    "\n",
    "There are ways to manipulate the arrays to make this work which are all covered in the documentation linked above. You might hope that it would see that it's combining a `(2,3)` with a `(2)` and stretch in the other dimension but the rules are designed to be predictable and simple so you can always reason about them without them being too clever and magic."
   ]
  },
  {
   "attachments": {},
   "cell_type": "markdown",
   "id": "2d04e1e0",
   "metadata": {},
   "source": [
    "NumPy provides a variety of functions for manipulating arrays, such as reshaping, stacking, splitting, and transposing arrays. These functions are optimized for efficiency and provide convenient ways to transform and manipulate data."
   ]
  },
  {
   "cell_type": "markdown",
   "id": "dd366944-f498-415f-afb7-ca76baa98b2b",
   "metadata": {},
   "source": [
    "As a final example, when you do `a * 5` NumPy is effectively behind the scenes automatically doing this stretching:"
   ]
  },
  {
   "cell_type": "markdown",
   "id": "641787c6-2d96-49f7-8f8b-f76fe3e10947",
   "metadata": {},
   "source": [
    "<div class=\"operation\">\n",
    "<div>\n",
    "    <table class=\"array\"><tr><td>6.0</td><td>2.1</td><td>8.2</td></tr></table>\n",
    "</div>\n",
    "<div>×</div>\n",
    "<div>5</div>\n",
    "<span style=\"font-size: 200%;\">⇨</span>\n",
    "<div>\n",
    "    <table class=\"array\"><tr><td>6.0</td><td>2.1</td><td>8.2</td></tr></table>\n",
    "</div>\n",
    "<div>×</div>\n",
    "<div>\n",
    "    <table class=\"array\"><tr><td>&nbsp;5&nbsp;</td><td>&nbsp;5&nbsp;</td><td>&nbsp;5&nbsp;</td></tr></table>\n",
    "</div>\n",
    "<span style=\"font-size: 200%;\">⇨</span>\n",
    "<div>\n",
    "    <table class=\"array\"><tr><td>30.0</td><td>10.5</td><td>41.0</td></tr></table>\n",
    "</div>\n",
    "</div>"
   ]
  },
  {
   "attachments": {},
   "cell_type": "markdown",
   "id": "fcb5a2f4",
   "metadata": {},
   "source": [
    "We can use `np.reshape` to change the shape of grid_a, to make that operation work. But be mindful about reshaping, because it might not give you the desired output"
   ]
  },
  {
   "cell_type": "code",
   "execution_count": 11,
   "id": "897b7026",
   "metadata": {},
   "outputs": [],
   "source": [
    "#write code here"
   ]
  },
  {
   "cell_type": "markdown",
   "id": "17e942a0-eae1-48ff-b03a-a7a4e87118ab",
   "metadata": {
    "tags": [
     "exercise"
    ]
   },
   "source": [
    "### Exercise\n",
    "\n",
    "Once again, grab the `\"temperature\"` array. Remember, this is in units of Kelvin and is three-dimensional with axes of altitude, latitude and longitude. The altitude axis is layered such that the 0<sup>th</sup> layer is ground-level and each layer beyond that increases in altitude.\n",
    "\n",
    "```python\n",
    "with np.load(\"weather_data.npz\") as weather:\n",
    "    temperature = weather[\"temperature\"]\n",
    "    \n",
    "    # masks\n",
    "    uk_mask = weather[\"uk\"]\n",
    "    irl_mask = weather[\"ireland\"]\n",
    "```\n",
    "\n",
    "- Calculate the maximum of the entire 3D `temperature` data set\n",
    "- Multiply the `temperature` data with the mask to extract only those values from within the UK.\n",
    "- Calculate the maximum of the UK data\n",
    "- Do the same with Ireland and Spain and compare the numbers\n"
   ]
  }
 ],
 "metadata": {
  "kernelspec": {
   "display_name": "Python 3 (ipykernel)",
   "language": "python",
   "name": "python3"
  },
  "language_info": {
   "codemirror_mode": {
    "name": "ipython",
    "version": 3
   },
   "file_extension": ".py",
   "mimetype": "text/x-python",
   "name": "python",
   "nbconvert_exporter": "python",
   "pygments_lexer": "ipython3",
   "version": "3.10.9"
  }
 },
 "nbformat": 4,
 "nbformat_minor": 5
}
