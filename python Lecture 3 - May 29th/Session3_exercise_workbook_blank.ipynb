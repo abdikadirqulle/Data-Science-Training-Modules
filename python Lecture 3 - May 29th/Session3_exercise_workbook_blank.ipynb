{
 "cells": [
  {
   "cell_type": "markdown",
   "metadata": {},
   "source": [
    "#### Session 3 exercise workbook"
   ]
  },
  {
   "cell_type": "markdown",
   "metadata": {},
   "source": [
    "1- Loops and conditionals\n",
    "\n",
    "    Loop over the first 100 numbers (0 to 99):\n",
    "    \n",
    "- Add even numbers to a list\n",
    "- Add odd numbers to a second list\n",
    "- Add multiples of 5 to a third list\n",
    "\n",
    "Hint: use the modulo operator %\n",
    "\n",
    "How does the use of elif affect the result?\n"
   ]
  },
  {
   "cell_type": "code",
   "execution_count": 3,
   "metadata": {},
   "outputs": [],
   "source": [
    "odd_numbers = []\n",
    "even_numbers = []\n",
    "multiple_5 = []\n",
    "\n",
    "for i in range(100):\n",
    "    if i % 2 == 0:\n",
    "        numbers = odd_numbers.append(i)\n",
    "\n",
    "\n"
   ]
  },
  {
   "cell_type": "markdown",
   "metadata": {},
   "source": [
    "===================================================================================================================================="
   ]
  },
  {
   "cell_type": "markdown",
   "metadata": {},
   "source": [
    "2 -  Dictionaries\n",
    "    \n",
    "    Exercise: Favourite Movies Collection\n",
    "Create and manage a collection of your favorite movies using a dictionary. Each movie will have a title (key) and details (value). The details will be stored in another dictionary containing the director, year of release, and rating.\n",
    "\n",
    "1. Create the Movies Dictionary\n",
    "    Create an empty dictionary called movies.\n",
    "\n",
    "2. Add at least three movies to the dictionary. Each movie should be represented by a title and a dictionary containing the director, year, and rating. Use a loop to add these movies.\n",
    "\n",
    "3. Retrieve and print the details of a specific movie by its title. Use an if statement to check if the movie exists in the dictionary.\n",
    "\n",
    "4. Print out all movies in the collection in a readable format. Use a loop to iterate through the dictionary."
   ]
  },
  {
   "cell_type": "code",
   "execution_count": 2,
   "metadata": {},
   "outputs": [],
   "source": [
    "# write code here"
   ]
  },
  {
   "cell_type": "markdown",
   "metadata": {},
   "source": [
    "===================================================================================================================================="
   ]
  },
  {
   "cell_type": "markdown",
   "metadata": {},
   "source": [
    "3 - File handling\n",
    "\n",
    "    Exercise: File Operations and Calculations with Numbers\n",
    "\n",
    "1. Define a list of numbers.\n",
    "2. Write the numbers to a file.\n",
    "3. Read the numbers back from the file.\n",
    "4. Calculate the average of the numbers.\n",
    "5. Divide each number by 2.\n",
    "6. Calculate the average of the modified numbers.\n",
    "7.  Store the averages in a dictionary and print the dictionary."
   ]
  },
  {
   "cell_type": "code",
   "execution_count": 3,
   "metadata": {},
   "outputs": [],
   "source": [
    "# write code here"
   ]
  }
 ],
 "metadata": {
  "kernelspec": {
   "display_name": "base",
   "language": "python",
   "name": "python3"
  },
  "language_info": {
   "codemirror_mode": {
    "name": "ipython",
    "version": 3
   },
   "file_extension": ".py",
   "mimetype": "text/x-python",
   "name": "python",
   "nbconvert_exporter": "python",
   "pygments_lexer": "ipython3",
   "version": "3.12.4"
  }
 },
 "nbformat": 4,
 "nbformat_minor": 2
}
