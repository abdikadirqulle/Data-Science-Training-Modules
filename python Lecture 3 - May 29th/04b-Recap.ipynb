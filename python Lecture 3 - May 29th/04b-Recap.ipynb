{
 "cells": [
  {
   "attachments": {},
   "cell_type": "markdown",
   "metadata": {},
   "source": [
    "### For Loops\n"
   ]
  },
  {
   "attachments": {},
   "cell_type": "markdown",
   "metadata": {},
   "source": [
    "We have seen that it is possible to repeat certain lines of code using loops"
   ]
  },
  {
   "cell_type": "code",
   "execution_count": null,
   "metadata": {},
   "outputs": [],
   "source": [
    "words = [\"This\", \"is\", \"a\", \"list\", \"of\", \"words\"]\n",
    "\n",
    "for word in words:\n",
    "    print(word)\n"
   ]
  },
  {
   "attachments": {},
   "cell_type": "markdown",
   "metadata": {},
   "source": [
    "We have also seen that we can loop over anything that python considers _iterable_:\n",
    "words (strings), lists, `range` of numbers:"
   ]
  },
  {
   "cell_type": "code",
   "execution_count": null,
   "metadata": {},
   "outputs": [],
   "source": [
    "for letter in \"word\":\n",
    "    print(letter)"
   ]
  },
  {
   "cell_type": "code",
   "execution_count": null,
   "metadata": {},
   "outputs": [],
   "source": [
    "for number in range(5):\n",
    "    print(number)"
   ]
  },
  {
   "cell_type": "code",
   "execution_count": null,
   "metadata": {},
   "outputs": [],
   "source": [
    "for index, number in enumerate(range(5,10)):\n",
    "    print(index, \": \", number)"
   ]
  },
  {
   "attachments": {},
   "cell_type": "markdown",
   "metadata": {},
   "source": [
    "And we have seen that we can have nested for loops:"
   ]
  },
  {
   "cell_type": "code",
   "execution_count": null,
   "metadata": {},
   "outputs": [],
   "source": [
    "for word in words:\n",
    "    print(word)\n",
    "    for letter in word:\n",
    "        print(letter)"
   ]
  },
  {
   "attachments": {},
   "cell_type": "markdown",
   "metadata": {},
   "source": [
    "### Then we have used conditionals to alter ordering in which statements are executed:"
   ]
  },
  {
   "cell_type": "code",
   "execution_count": null,
   "metadata": {},
   "outputs": [],
   "source": [
    "for i in range(10):\n",
    "    if i < 5:\n",
    "        print(i, \"is less than 5.\")\n",
    "\n",
    "    elif i > 5:\n",
    "        print(i, \"is greater than 5.\")\n",
    "\n",
    "    else:\n",
    "        print(i, \"is equal to 5.\")"
   ]
  },
  {
   "attachments": {},
   "cell_type": "markdown",
   "metadata": {},
   "source": [
    "And that the order of the if statements counts if we care about a *specific* instructions to be performed: e.g. you want to print a statement for positive numbers, and do something special if the number is greater than 100:"
   ]
  },
  {
   "cell_type": "code",
   "execution_count": 8,
   "metadata": {},
   "outputs": [
    {
     "name": "stdout",
     "output_type": "stream",
     "text": [
      "128 is large\n"
     ]
    }
   ],
   "source": [
    "my_number = 128\n",
    "\n",
    "#put this first\n",
    "if my_number > 100:\n",
    "    print(my_number, \"is large\")\n",
    "#and then the more generic question\n",
    "elif my_number > 1:\n",
    "    print(my_number, \"is positive\")\n",
    "else:\n",
    "    print(my_number, \"negative\")"
   ]
  },
  {
   "attachments": {},
   "cell_type": "markdown",
   "metadata": {},
   "source": [
    "What if we want to check all the cases?"
   ]
  },
  {
   "attachments": {},
   "cell_type": "markdown",
   "metadata": {},
   "source": [
    "in this case you don't use elif, but define all the if statements at the same level:"
   ]
  },
  {
   "attachments": {},
   "cell_type": "markdown",
   "metadata": {},
   "source": [
    "Play with the numbers a bit and see how many statements are printed out (e.g. a negative number, or a number that is higher than 1000)"
   ]
  },
  {
   "cell_type": "code",
   "execution_count": 7,
   "metadata": {},
   "outputs": [
    {
     "name": "stdout",
     "output_type": "stream",
     "text": [
      "-1 is negative\n",
      "-1 is less than 10\n"
     ]
    }
   ],
   "source": [
    "my_number = -1\n",
    "if my_number > 1000:\n",
    "    print(my_number, \"is very large\")\n",
    "if my_number > 100:\n",
    "    print(my_number, \"is large\")    \n",
    "if my_number < 0 :\n",
    "    print(my_number, \"is negative\")\n",
    "if my_number < 10:\n",
    "    print(my_number, \"is less than 10\")"
   ]
  },
  {
   "cell_type": "code",
   "execution_count": null,
   "metadata": {},
   "outputs": [],
   "source": []
  }
 ],
 "metadata": {
  "kernelspec": {
   "display_name": "base",
   "language": "python",
   "name": "python3"
  },
  "language_info": {
   "codemirror_mode": {
    "name": "ipython",
    "version": 3
   },
   "file_extension": ".py",
   "mimetype": "text/x-python",
   "name": "python",
   "nbconvert_exporter": "python",
   "pygments_lexer": "ipython3",
   "version": "3.10.9"
  },
  "orig_nbformat": 4
 },
 "nbformat": 4,
 "nbformat_minor": 2
}
