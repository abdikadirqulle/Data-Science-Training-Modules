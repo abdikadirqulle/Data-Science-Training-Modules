{
 "cells": [
  {
   "cell_type": "markdown",
   "id": "15d747d6-f257-4c11-9886-5d8b187f7a3d",
   "metadata": {},
   "source": [
    "## Files\n",
    "---\n",
    "Everything we've done so far has been completely self-contained in the notebook, and every time we run any of the cells we will get exactly the same output. The power of programming is to be able to take the same piece of code and apply it to different data to get different results. One common way in which this is done is writing a script which can analyse a data file. To do that we need to learn how to open files.\n",
    "\n",
    "The simplest thing we can do with files is read a file in and print it to the screen:"
   ]
  },
  {
   "cell_type": "code",
   "execution_count": 1,
   "id": "a37880cf-fe58-4571-8d90-4c30854772ce",
   "metadata": {},
   "outputs": [],
   "source": [
    "# write code here"
   ]
  },
  {
   "cell_type": "markdown",
   "id": "c10de551-33b5-4dbc-bdea-3791a3882a36",
   "metadata": {},
   "source": [
    "which is the contents of the file `print.py`.\n"
   ]
  },
  {
   "attachments": {},
   "cell_type": "markdown",
   "id": "0bbea0a4-a3ec-438d-9294-daf4374405ab",
   "metadata": {},
   "source": [
    "### Exercise: reading numbers\n",
    "- Printing out Python code isn't the most useful so let's make a data file to read instead. Make a new file called `data.txt` and put inside it:\n",
    "`12`\n",
    "\n",
    "`54`\n",
    "\n",
    "`7`\n",
    "\n",
    "`332`\n",
    "\n",
    "`54`\n",
    "\n",
    "`1`\n",
    "\n",
    "`0`\n",
    "\n",
    "- print out the content of `data.txt\n"
   ]
  },
  {
   "cell_type": "code",
   "execution_count": 2,
   "id": "18939cb9-3d40-4f31-b227-2b26f30a4e66",
   "metadata": {},
   "outputs": [],
   "source": [
    "# write code here"
   ]
  },
  {
   "cell_type": "markdown",
   "id": "87275899",
   "metadata": {},
   "source": [
    "As you can see, there is an empty line after each number we read from the file. Why is this happening?\n",
    "Let's store at the content of the opened file into a variable:"
   ]
  },
  {
   "cell_type": "code",
   "execution_count": 3,
   "id": "2b79b231-26cb-4a02-b551-ee27e7ae96ec",
   "metadata": {},
   "outputs": [],
   "source": [
    "# write code here"
   ]
  },
  {
   "cell_type": "markdown",
   "id": "b7da87cf",
   "metadata": {},
   "source": [
    "Since it's number is written in a separate line, there is a \"newline\" character `\\n` after each number."
   ]
  },
  {
   "cell_type": "markdown",
   "id": "277a878f",
   "metadata": {},
   "source": [
    "Python's `print()` function by default also ends with a `newline` character: `\\n`. So, effectively, we are printing two consecutive \"newline\" characters.\n",
    "\n",
    "By explicitly setting the end parameter into print to empty string `\"\"`, we can avoid an empty line printed after each line in the file:"
   ]
  },
  {
   "cell_type": "code",
   "execution_count": 4,
   "id": "812afe87",
   "metadata": {},
   "outputs": [],
   "source": [
    "# write code here"
   ]
  },
  {
   "cell_type": "markdown",
   "id": "67db7a6c-c39d-4e81-bce8-1922c6695d5f",
   "metadata": {},
   "source": [
    "### Data type conversion\n",
    "---\n",
    "\n",
    "Simply reading the data and printing it isn't very useful. Let's take a first step towards some data analysis and pretend that the task we're trying to do is to read in data from the file and add 17 to each value."
   ]
  },
  {
   "cell_type": "code",
   "execution_count": 5,
   "id": "551ebffb-9e97-451a-b36f-b4c8ac83e553",
   "metadata": {},
   "outputs": [],
   "source": [
    "# write code here"
   ]
  },
  {
   "cell_type": "markdown",
   "id": "69cf76fd-9ff4-4fcd-a606-8c91f5d98711",
   "metadata": {},
   "source": [
    "We have got and error. \n",
    "This is telling us that there is an error occuring when trying to add 17 to the data read in from the line in the file.\n",
    "\n",
    "When reading from a file like this, everything it gives you will *always* be a string, even if the string only contains digits like `\"12\"`. If we know that the file only contains integers then we can convert each number as it comes in using the `int` function. Also, since we're now printing integers, we no longer need the `end=\"\"` tweak:"
   ]
  },
  {
   "cell_type": "code",
   "execution_count": 6,
   "id": "77ba63db-c9e5-4056-9e7d-da2d0f7da763",
   "metadata": {},
   "outputs": [],
   "source": [
    "# write code here"
   ]
  },
  {
   "attachments": {},
   "cell_type": "markdown",
   "id": "c6ed84f3-e1cf-4f6e-937d-16d3c37ec0ed",
   "metadata": {},
   "source": [
    "### Examples of operations\n",
    "\n",
    "- Change the instruction to multiply the data by 10 instead of adding 17."
   ]
  },
  {
   "cell_type": "code",
   "execution_count": 7,
   "id": "2ada6280-f45c-4497-9628-ea2808ea9bdf",
   "metadata": {},
   "outputs": [],
   "source": [
    "# write code here"
   ]
  },
  {
   "attachments": {},
   "cell_type": "markdown",
   "id": "81978052",
   "metadata": {},
   "source": [
    "- After looping though the data, print out the sum of all the data values seen.\n",
    "    - hint: Make an integer before the loop, initially set to zero and add to it each time around the loop using `+=`:\n",
    "        ```python\n",
    "        num = 3\n",
    "        num += 4\n",
    "        print(num)  # `num` will now be 7\n",
    "        ```\n",
    "\n",
    "    - Note: This is the same as writing:\n",
    "        ```python\n",
    "        num = 3\n",
    "        num = num + 4\n",
    "        print(num)  # `num` will now be 7\n",
    "        ```"
   ]
  },
  {
   "cell_type": "code",
   "execution_count": 8,
   "id": "1f4cbb30-f910-46a4-bdbd-47eec8a91aed",
   "metadata": {},
   "outputs": [],
   "source": [
    "# write code here"
   ]
  },
  {
   "cell_type": "markdown",
   "id": "5e96c894-bdde-49db-950b-19ad874743c6",
   "metadata": {},
   "source": [
    "- Print out the count of the number of data points seen as well. "
   ]
  },
  {
   "cell_type": "code",
   "execution_count": 9,
   "id": "4f34ef6a-3a5a-4360-a32e-a9c6c189a189",
   "metadata": {},
   "outputs": [],
   "source": [
    "# write code here"
   ]
  },
  {
   "cell_type": "markdown",
   "id": "268d42c0-59fd-4121-8de0-f1efde6cdf2b",
   "metadata": {},
   "source": [
    "- Print out the mean average of the data in the file."
   ]
  },
  {
   "cell_type": "code",
   "execution_count": 10,
   "id": "0ed22e26-c797-4994-8ed9-1e792a375d1c",
   "metadata": {},
   "outputs": [],
   "source": [
    "# write code here"
   ]
  },
  {
   "cell_type": "markdown",
   "id": "e01aef29-4a8b-4d73-9516-da34339ec5e2",
   "metadata": {},
   "source": [
    "See what happens if you run the script after deleting the contents of `data.txt`.  Add an `if` statement to fix it."
   ]
  },
  {
   "cell_type": "code",
   "execution_count": 11,
   "id": "9a3059f6-9cd7-41e8-bd21-2cd96b02347a",
   "metadata": {},
   "outputs": [],
   "source": [
    "# write code here"
   ]
  },
  {
   "cell_type": "code",
   "execution_count": 12,
   "id": "f65e585d-1f23-41b1-a7b0-a2e78ff666ac",
   "metadata": {},
   "outputs": [],
   "source": [
    "# write code here"
   ]
  },
  {
   "cell_type": "markdown",
   "id": "eb06fac7-47e0-4a80-871b-399cded1290d",
   "metadata": {},
   "source": [
    "Collect the statistics into a summary dictionary with keys `\"sum\"`, `\"count\"` and `\"mean\"`."
   ]
  },
  {
   "cell_type": "code",
   "execution_count": 13,
   "id": "748668d7-c91e-49d0-bee8-60a8af0e91e9",
   "metadata": {},
   "outputs": [],
   "source": [
    "# write code here\n"
   ]
  },
  {
   "cell_type": "code",
   "execution_count": 14,
   "id": "1cb5c115-597d-48e0-a8c9-69d111362c00",
   "metadata": {},
   "outputs": [],
   "source": [
    "# write code here"
   ]
  },
  {
   "cell_type": "markdown",
   "id": "5aec9332",
   "metadata": {},
   "source": [
    "### Writing to a file"
   ]
  },
  {
   "cell_type": "markdown",
   "id": "66f696b9",
   "metadata": {},
   "source": [
    "Let's now create a file and write a string to it using the argument `file` of the function `print()`"
   ]
  },
  {
   "cell_type": "code",
   "execution_count": 15,
   "id": "eace94dc",
   "metadata": {},
   "outputs": [],
   "source": [
    "# write code here"
   ]
  },
  {
   "cell_type": "markdown",
   "id": "cb3a0114",
   "metadata": {},
   "source": [
    "Does't seem like it did anything, but actually it created a `text.txt` file in out working directory. \n",
    "We can open the file in the editor, or read it as we have just learnt:"
   ]
  },
  {
   "cell_type": "code",
   "execution_count": 16,
   "id": "22731754",
   "metadata": {},
   "outputs": [],
   "source": [
    "# write code here"
   ]
  },
  {
   "cell_type": "markdown",
   "id": "925eabc5",
   "metadata": {},
   "source": [
    "Trying to open a non-existent file with `w` or `a` creates the file for\n",
    "us, but doing that with `r` gives us an error instead. We'll learn more\n",
    "about errors later on.\n"
   ]
  },
  {
   "cell_type": "code",
   "execution_count": 17,
   "id": "23859ff6",
   "metadata": {},
   "outputs": [],
   "source": [
    "# write code here\n"
   ]
  }
 ],
 "metadata": {
  "kernelspec": {
   "display_name": "Python 3 (ipykernel)",
   "language": "python",
   "name": "python3"
  },
  "language_info": {
   "codemirror_mode": {
    "name": "ipython",
    "version": 3
   },
   "file_extension": ".py",
   "mimetype": "text/x-python",
   "name": "python",
   "nbconvert_exporter": "python",
   "pygments_lexer": "ipython3",
   "version": "3.10.9"
  }
 },
 "nbformat": 4,
 "nbformat_minor": 5
}
