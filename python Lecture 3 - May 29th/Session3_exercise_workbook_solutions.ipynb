{
 "cells": [
  {
   "cell_type": "markdown",
   "metadata": {},
   "source": [
    "#### Session 3 exercise workbook"
   ]
  },
  {
   "cell_type": "markdown",
   "metadata": {},
   "source": [
    "1- Loops and conditionals\n",
    "\n",
    "    Loop over the first 100 numbers (0 to 99):\n",
    "    \n",
    "- Add even numbers to a list\n",
    "- Add odd numbers to a second list\n",
    "- Add multiples of 5 to a third list\n",
    "\n",
    "Hint: use the modulo operator %\n",
    "\n",
    "How does the use of elif affect the result?\n"
   ]
  },
  {
   "cell_type": "code",
   "execution_count": 1,
   "metadata": {},
   "outputs": [
    {
     "name": "stdout",
     "output_type": "stream",
     "text": [
      "even numbers: [0, 2, 4, 6, 8, 10, 12, 14, 16, 18, 20, 22, 24, 26, 28, 30, 32, 34, 36, 38, 40, 42, 44, 46, 48, 50, 52, 54, 56, 58, 60, 62, 64, 66, 68, 70, 72, 74, 76, 78, 80, 82, 84, 86, 88, 90, 92, 94, 96, 98]\n",
      "odd numbers:  [1, 3, 5, 7, 9, 11, 13, 15, 17, 19, 21, 23, 25, 27, 29, 31, 33, 35, 37, 39, 41, 43, 45, 47, 49, 51, 53, 55, 57, 59, 61, 63, 65, 67, 69, 71, 73, 75, 77, 79, 81, 83, 85, 87, 89, 91, 93, 95, 97, 99]\n",
      "multiples of 5:  []\n"
     ]
    }
   ],
   "source": [
    "odd_numbers = []\n",
    "even_numbers = []\n",
    "multiple_5 = []\n",
    "\n",
    "for i in range(100):\n",
    "    if i%2==0:\n",
    "        even_numbers.append(i)\n",
    "    elif(i%2)!=0:\n",
    "        odd_numbers.append(i)\n",
    "    elif i%5==0:\n",
    "        multiple_5.append(i)\n",
    "\n",
    "print(\"even numbers:\", even_numbers)\n",
    "print(\"odd numbers: \", odd_numbers)\n",
    "print(\"multiples of 5: \", multiple_5)"
   ]
  },
  {
   "cell_type": "code",
   "execution_count": 2,
   "metadata": {},
   "outputs": [
    {
     "name": "stdout",
     "output_type": "stream",
     "text": [
      "even numbers: [0, 2, 4, 6, 8, 10, 12, 14, 16, 18, 20, 22, 24, 26, 28, 30, 32, 34, 36, 38, 40, 42, 44, 46, 48, 50, 52, 54, 56, 58, 60, 62, 64, 66, 68, 70, 72, 74, 76, 78, 80, 82, 84, 86, 88, 90, 92, 94, 96, 98]\n",
      "odd numbers:  [1, 3, 5, 7, 9, 11, 13, 15, 17, 19, 21, 23, 25, 27, 29, 31, 33, 35, 37, 39, 41, 43, 45, 47, 49, 51, 53, 55, 57, 59, 61, 63, 65, 67, 69, 71, 73, 75, 77, 79, 81, 83, 85, 87, 89, 91, 93, 95, 97, 99]\n",
      "multiples of 5:  [0, 5, 10, 15, 20, 25, 30, 35, 40, 45, 50, 55, 60, 65, 70, 75, 80, 85, 90, 95]\n"
     ]
    }
   ],
   "source": [
    "odd_numbers = []\n",
    "even_numbers = []\n",
    "multiple_5 = []\n",
    "\n",
    "for i in range(100):\n",
    "    if i%2==0:\n",
    "        even_numbers.append(i)\n",
    "    elif(i%2)!=0:\n",
    "        odd_numbers.append(i)\n",
    "    if i%5==0:\n",
    "        multiple_5.append(i)\n",
    "\n",
    "print(\"even numbers:\", even_numbers)\n",
    "print(\"odd numbers: \", odd_numbers)\n",
    "print(\"multiples of 5: \", multiple_5)"
   ]
  },
  {
   "cell_type": "markdown",
   "metadata": {},
   "source": [
    "===================================================================================================================================="
   ]
  },
  {
   "cell_type": "markdown",
   "metadata": {},
   "source": [
    "2 -  Dictionaries\n",
    "    \n",
    "    Exercise: Favourite Movies Collection\n",
    "Create and manage a collection of your favorite movies using a dictionary. Each movie will have a title (key) and details (value). The details will be stored in another dictionary containing the director, year of release, and rating.\n",
    "\n",
    "1. Create the Movies Dictionary\n",
    "    Create an empty dictionary called movies.\n",
    "\n",
    "2. Add at least three movies to the dictionary. Each movie should be represented by a title and a dictionary containing the director, year, and rating. Use a loop to add these movies.\n",
    "\n",
    "3. Retrieve and print the details of a specific movie by its title. Use an if statement to check if the movie exists in the dictionary.\n",
    "\n",
    "4. Print out all movies in the collection in a readable format. Use a loop to iterate through the dictionary."
   ]
  },
  {
   "cell_type": "code",
   "execution_count": 3,
   "metadata": {},
   "outputs": [],
   "source": [
    "movies = {}"
   ]
  },
  {
   "cell_type": "code",
   "execution_count": 4,
   "metadata": {},
   "outputs": [],
   "source": [
    "movie_list = [ (\"Inception\", \"Christopher Nolan\", 2010, 8.8),\n",
    "               (\"The Godfather\", \"Francis Ford Coppola\", 1972, 9.2),\n",
    "               (\"Spirited Away\", \"Hayao Miyazaki\", 2001, 8.6)\n",
    "]\n",
    "\n",
    "for title, director, year, rating in movie_list:\n",
    "    movies[title] = {\n",
    "        \"director\": director,\n",
    "        \"year\": year,\n",
    "        \"rating\": rating\n",
    "\n",
    "    }"
   ]
  },
  {
   "cell_type": "code",
   "execution_count": 5,
   "metadata": {},
   "outputs": [
    {
     "name": "stdout",
     "output_type": "stream",
     "text": [
      "Details of Inception\n",
      "Director Christopher Nolan\n",
      "Year 2010\n",
      "rating:  8.8\n"
     ]
    }
   ],
   "source": [
    "search_title = \"Inception\"\n",
    "\n",
    "if search_title in movies:\n",
    "    details = movies[search_title]\n",
    "    print(\"Details of\", search_title)\n",
    "    print(\"Director\", details['director'])\n",
    "    print(\"Year\", details['year'])\n",
    "    print(\"rating: \", details['rating'])\n",
    "else:\n",
    "    print(\"The Movie\", search_title, \"is not found\")"
   ]
  },
  {
   "cell_type": "code",
   "execution_count": 6,
   "metadata": {},
   "outputs": [
    {
     "name": "stdout",
     "output_type": "stream",
     "text": [
      "The Movie Mary Poppins is not found\n"
     ]
    }
   ],
   "source": [
    "search_title = \"Mary Poppins\"\n",
    "\n",
    "if search_title in movies:\n",
    "    details = movies[search_title]\n",
    "    print(\"Details of\", search_title)\n",
    "    print(\"Director\", details['director'])\n",
    "    print(\"Year\", details['year'])\n",
    "    print(\"rating: \", details['rating'])\n",
    "else:\n",
    "    print(\"The Movie\", search_title, \"is not found\")"
   ]
  },
  {
   "cell_type": "code",
   "execution_count": 9,
   "metadata": {},
   "outputs": [
    {
     "name": "stdout",
     "output_type": "stream",
     "text": [
      "All movies in the collection: \n",
      "Title:  Inception\n",
      "Director:  Christopher Nolan\n",
      "Year:  2010\n",
      "Rating:  8.8\n",
      "\n",
      "Title:  The Godfather\n",
      "Director:  Francis Ford Coppola\n",
      "Year:  1972\n",
      "Rating:  9.2\n",
      "\n",
      "Title:  Spirited Away\n",
      "Director:  Hayao Miyazaki\n",
      "Year:  2001\n",
      "Rating:  8.6\n",
      "\n"
     ]
    }
   ],
   "source": [
    "print(\"All movies in the collection: \")\n",
    "\n",
    "for title, details in movies.items():\n",
    "    print(\"Title: \", title)\n",
    "    print(\"Director: \", details['director'])\n",
    "    print(\"Year: \", details['year'])\n",
    "    print(\"Rating: \", details['rating'])\n",
    "    print(\"\")\n"
   ]
  },
  {
   "cell_type": "markdown",
   "metadata": {},
   "source": [
    "===================================================================================================================================="
   ]
  },
  {
   "cell_type": "markdown",
   "metadata": {},
   "source": [
    "3 - File handling\n",
    "\n",
    "    Exercise: File Operations and Calculations with Numbers\n",
    "\n",
    "1. Define a list of numbers.\n",
    "2. Write the numbers to a file.\n",
    "3. Read the numbers back from the file.\n",
    "4. Calculate the average of the numbers.\n",
    "5. Divide each number by 2.\n",
    "6. Calculate the average of the modified numbers.\n",
    "7.  Store the averages in a dictionary and print the dictionary."
   ]
  },
  {
   "cell_type": "code",
   "execution_count": 10,
   "metadata": {},
   "outputs": [],
   "source": [
    "numbers = [10, 20, 30, 40, 50]"
   ]
  },
  {
   "cell_type": "code",
   "execution_count": 14,
   "metadata": {},
   "outputs": [],
   "source": [
    "with open(\"numbers.txt\", \"w\") as file:\n",
    "    for number in numbers:\n",
    "        file.write(str(number)+'\\n')"
   ]
  },
  {
   "cell_type": "code",
   "execution_count": 17,
   "metadata": {},
   "outputs": [],
   "source": [
    "read_numbers = [] \n",
    "with open(\"numbers.txt\", \"r\") as file:\n",
    "    for line in file:\n",
    "        read_numbers.append(int(line))"
   ]
  },
  {
   "cell_type": "code",
   "execution_count": 18,
   "metadata": {},
   "outputs": [
    {
     "data": {
      "text/plain": [
       "[10, 20, 30, 40, 50]"
      ]
     },
     "execution_count": 18,
     "metadata": {},
     "output_type": "execute_result"
    }
   ],
   "source": [
    "read_numbers"
   ]
  },
  {
   "cell_type": "code",
   "execution_count": 19,
   "metadata": {},
   "outputs": [],
   "source": [
    "sum_numbers = sum(read_numbers)"
   ]
  },
  {
   "cell_type": "code",
   "execution_count": 20,
   "metadata": {},
   "outputs": [
    {
     "name": "stdout",
     "output_type": "stream",
     "text": [
      "150\n"
     ]
    }
   ],
   "source": [
    "print(sum_numbers)"
   ]
  },
  {
   "cell_type": "code",
   "execution_count": 21,
   "metadata": {},
   "outputs": [
    {
     "name": "stdout",
     "output_type": "stream",
     "text": [
      "5\n"
     ]
    }
   ],
   "source": [
    "count = len(read_numbers)\n",
    "print(count)"
   ]
  },
  {
   "cell_type": "code",
   "execution_count": 22,
   "metadata": {},
   "outputs": [],
   "source": [
    "average_original = sum_numbers/count"
   ]
  },
  {
   "cell_type": "code",
   "execution_count": 23,
   "metadata": {},
   "outputs": [
    {
     "name": "stdout",
     "output_type": "stream",
     "text": [
      "30.0\n"
     ]
    }
   ],
   "source": [
    "print(average_original)"
   ]
  },
  {
   "cell_type": "code",
   "execution_count": 25,
   "metadata": {},
   "outputs": [],
   "source": [
    "divided_numbers = []\n",
    "for number in read_numbers:\n",
    "    divided_numbers.append(number/2)"
   ]
  },
  {
   "cell_type": "code",
   "execution_count": 26,
   "metadata": {},
   "outputs": [
    {
     "data": {
      "text/plain": [
       "[5.0, 10.0, 15.0, 20.0, 25.0]"
      ]
     },
     "execution_count": 26,
     "metadata": {},
     "output_type": "execute_result"
    }
   ],
   "source": [
    "divided_numbers"
   ]
  },
  {
   "cell_type": "code",
   "execution_count": 27,
   "metadata": {},
   "outputs": [],
   "source": [
    "average_divided = sum(divided_numbers)/len(divided_numbers)"
   ]
  },
  {
   "cell_type": "code",
   "execution_count": 30,
   "metadata": {},
   "outputs": [],
   "source": [
    "averages = {\n",
    "    \"original average\": average_original,\n",
    "    \"divided average\": average_divided\n",
    "}"
   ]
  },
  {
   "cell_type": "code",
   "execution_count": 31,
   "metadata": {},
   "outputs": [
    {
     "data": {
      "text/plain": [
       "30.0"
      ]
     },
     "execution_count": 31,
     "metadata": {},
     "output_type": "execute_result"
    }
   ],
   "source": [
    "averages[\"original average\"]"
   ]
  },
  {
   "cell_type": "code",
   "execution_count": 29,
   "metadata": {},
   "outputs": [
    {
     "name": "stdout",
     "output_type": "stream",
     "text": [
      "{'original_average': 30.0, 'divided_average': 15.0}\n"
     ]
    }
   ],
   "source": [
    "print(averages)"
   ]
  },
  {
   "cell_type": "code",
   "execution_count": null,
   "metadata": {},
   "outputs": [],
   "source": []
  }
 ],
 "metadata": {
  "kernelspec": {
   "display_name": "base",
   "language": "python",
   "name": "python3"
  },
  "language_info": {
   "codemirror_mode": {
    "name": "ipython",
    "version": 3
   },
   "file_extension": ".py",
   "mimetype": "text/x-python",
   "name": "python",
   "nbconvert_exporter": "python",
   "pygments_lexer": "ipython3",
   "version": "3.11.4"
  }
 },
 "nbformat": 4,
 "nbformat_minor": 2
}
