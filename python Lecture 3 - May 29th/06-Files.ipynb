{
 "cells": [
  {
   "cell_type": "markdown",
   "id": "15d747d6-f257-4c11-9886-5d8b187f7a3d",
   "metadata": {},
   "source": [
    "## Files\n",
    "---\n",
    "Everything we've done so far has been completely self-contained in the notebook, and every time we run any of the cells we will get exactly the same output. The power of programming is to be able to take the same piece of code and apply it to different data to get different results. One common way in which this is done is writing a script which can analyse a data file. To do that we need to learn how to open files.\n",
    "\n",
    "The simplest thing we can do with files is read a file in and print it to the screen:"
   ]
  },
  {
   "cell_type": "code",
   "execution_count": 9,
   "id": "a37880cf-fe58-4571-8d90-4c30854772ce",
   "metadata": {},
   "outputs": [
    {
     "name": "stdout",
     "output_type": "stream",
     "text": [
      "#this is a file with a single instruction and a comment\n",
      "print(\"hello\")"
     ]
    }
   ],
   "source": [
    "with open(\"file.py\") as f:\n",
    "    for line in f:\n",
    "        print(line, end=\"\")"
   ]
  },
  {
   "attachments": {},
   "cell_type": "markdown",
   "id": "c10de551-33b5-4dbc-bdea-3791a3882a36",
   "metadata": {},
   "source": [
    "which is the contents of the file `file.py`.\n",
    "\n",
    "There are a few new things here so let's go through them in turn. The first thing is to open the file. You open files using the `open` function. The part open(`\"file.py\"`) says to open the file `file.py`. This returns a *file handle* which is assigned to the variable `f`. If the file does not exist, or is not readable then the script will exit with an error (have a try and see what the error looks like!). The use of a `with` statement means that when the code inside the with block has finished running the file will be closed automatically.\n",
    "\n",
    "In the next line (`for line in f:`) we are looping over the lines of the file. This loop looks just like those we used when looping over lists a few chapters previously. When looping over a list you get each of the *elements* in turn but when looping over an open file you get each of the *lines* in turn. We assign the string containing the line from the file to the variable `line`.\n",
    "\n",
    "Finally, we print the string `line`. Each line in the file already ends with a \"new-line\" character so when it is printed, it will print the new-line too. By default the `print` function will also add its own new-line so we disable that by using `end=\"\"`."
   ]
  },
  {
   "attachments": {},
   "cell_type": "markdown",
   "id": "0bbea0a4-a3ec-438d-9294-daf4374405ab",
   "metadata": {},
   "source": [
    "### Exercise: reading numbers\n",
    "- Printing out Python code isn't the most useful so let's make a data file to read instead. Make a new file called `data.txt` and put inside it:\n",
    "`12`\n",
    "\n",
    "`54`\n",
    "\n",
    "`7`\n",
    "\n",
    "`332`\n",
    "\n",
    "`54`\n",
    "\n",
    "`1`\n",
    "\n",
    "`0`\n",
    "\n",
    "- print out the content of `data.txt\n"
   ]
  },
  {
   "cell_type": "code",
   "execution_count": 10,
   "id": "2b79b231-26cb-4a02-b551-ee27e7ae96ec",
   "metadata": {},
   "outputs": [
    {
     "name": "stdout",
     "output_type": "stream",
     "text": [
      "12\n",
      "\n",
      "54\n",
      "\n",
      "7\n",
      "\n",
      "332\n",
      "\n",
      "54\n",
      "\n",
      "1\n",
      "\n",
      "0\n"
     ]
    }
   ],
   "source": [
    "with open(\"data.txt\") as f:\n",
    "    for line in f:\n",
    "        print(line)"
   ]
  },
  {
   "attachments": {},
   "cell_type": "markdown",
   "id": "02014010",
   "metadata": {},
   "source": [
    "As you can see, there is an empty line after each number we read from the file. Why is this happening?\n",
    "Let's store at the content of the opened file into a variable. We will use the method `.read()`"
   ]
  },
  {
   "cell_type": "code",
   "execution_count": 21,
   "id": "5c33cdaa",
   "metadata": {},
   "outputs": [
    {
     "data": {
      "text/plain": [
       "'12\\n54\\n7\\n332\\n54\\n1\\n0'"
      ]
     },
     "execution_count": 21,
     "metadata": {},
     "output_type": "execute_result"
    }
   ],
   "source": [
    "with open(\"data.txt\") as f:\n",
    "    content = f.read()\n",
    "content"
   ]
  },
  {
   "attachments": {},
   "cell_type": "markdown",
   "id": "8440e583",
   "metadata": {},
   "source": [
    "Since it's number is written in a separate line, there is a \"newline\" character `\\n` after each number."
   ]
  },
  {
   "cell_type": "markdown",
   "id": "4a669ee4",
   "metadata": {},
   "source": [
    "Python's `print()` function by default also ends with a `newline` character: `\\n`. So, effectively, we are printing two consecutive \"newline\" characters.\n",
    "\n",
    "By explicitly setting the end parameter into print to empty string `\"\"`, we can avoid an empty line printed after each line in the file:"
   ]
  },
  {
   "cell_type": "code",
   "execution_count": 11,
   "metadata": {},
   "outputs": [
    {
     "name": "stdout",
     "output_type": "stream",
     "text": [
      "12\n",
      "54\n",
      "7\n",
      "332\n",
      "54\n",
      "1\n",
      "0"
     ]
    }
   ],
   "source": [
    "with open(\"data.txt\") as f:\n",
    "    for line in f:\n",
    "        print(line, end=\"\")"
   ]
  },
  {
   "attachments": {},
   "cell_type": "markdown",
   "id": "5c333afc",
   "metadata": {},
   "source": [
    "Python's `print()` function by default also ends with a `newline` character: `\\n`. So, effectively, we are printing two consecutive \"newline\" characters.\n",
    "\n",
    "By explicitly setting the end parameter into print to empty string `\"\"`, we can avoid an empty line printed after each line in the file:"
   ]
  },
  {
   "cell_type": "code",
   "execution_count": 3,
   "id": "18939cb9-3d40-4f31-b227-2b26f30a4e66",
   "metadata": {},
   "outputs": [
    {
     "name": "stdout",
     "output_type": "stream",
     "text": [
      "12\n",
      "54\n",
      "7\n",
      "332\n",
      "54\n",
      "1\n",
      "0"
     ]
    }
   ],
   "source": [
    "with open(\"data.txt\") as f:\n",
    "    for line in f:\n",
    "        print(line, end=\"\")"
   ]
  },
  {
   "cell_type": "markdown",
   "id": "67db7a6c-c39d-4e81-bce8-1922c6695d5f",
   "metadata": {},
   "source": [
    "### Data type conversion\n",
    "---\n",
    "\n",
    "Simply reading the data and printing it isn't very useful. Let's take a first step towards some data analysis and pretend that the task we're trying to do is to read in data from the file and add 17 to each value."
   ]
  },
  {
   "cell_type": "code",
   "execution_count": 5,
   "id": "551ebffb-9e97-451a-b36f-b4c8ac83e553",
   "metadata": {},
   "outputs": [
    {
     "ename": "TypeError",
     "evalue": "can only concatenate str (not \"int\") to str",
     "output_type": "error",
     "traceback": [
      "\u001b[0;31m---------------------------------------------------------------------------\u001b[0m",
      "\u001b[0;31mTypeError\u001b[0m                                 Traceback (most recent call last)",
      "Input \u001b[0;32mIn [5]\u001b[0m, in \u001b[0;36m<module>\u001b[0;34m\u001b[0m\n\u001b[1;32m      1\u001b[0m \u001b[38;5;28;01mwith\u001b[39;00m \u001b[38;5;28mopen\u001b[39m(\u001b[38;5;124m\"\u001b[39m\u001b[38;5;124mdata.txt\u001b[39m\u001b[38;5;124m\"\u001b[39m) \u001b[38;5;28;01mas\u001b[39;00m f:\n\u001b[1;32m      2\u001b[0m     \u001b[38;5;28;01mfor\u001b[39;00m line \u001b[38;5;129;01min\u001b[39;00m f:\n\u001b[0;32m----> 3\u001b[0m         new_number \u001b[38;5;241m=\u001b[39m \u001b[43mline\u001b[49m\u001b[43m \u001b[49m\u001b[38;5;241;43m+\u001b[39;49m\u001b[43m \u001b[49m\u001b[38;5;241;43m17\u001b[39;49m  \u001b[38;5;66;03m# Here is where we do our \"data analysis\"\u001b[39;00m\n\u001b[1;32m      4\u001b[0m         \u001b[38;5;28mprint\u001b[39m(new_number, end\u001b[38;5;241m=\u001b[39m\u001b[38;5;124m\"\u001b[39m\u001b[38;5;124m\"\u001b[39m)\n",
      "\u001b[0;31mTypeError\u001b[0m: can only concatenate str (not \"int\") to str"
     ]
    }
   ],
   "source": [
    "with open(\"data.txt\") as f:\n",
    "    for line in f:\n",
    "        new_number = line + 17  # Here is where we do our \"data analysis\"\n",
    "        print(new_number, end=\"\")"
   ]
  },
  {
   "cell_type": "markdown",
   "id": "69cf76fd-9ff4-4fcd-a606-8c91f5d98711",
   "metadata": {},
   "source": [
    "We have got and error. \n",
    "This is telling us that there is an error occuring when trying to add 17 to the data read in from the line in the file. The *type* of the error is `TypeError` which tells us the problem is likely due to incorrect data types (i.e. string, float, int, list etc.). The error message says `can only concatenate str (not \"int\") to str` which implies that the computer believes that we're trying to concatenate (join together) something with a string. The only two things involved in this operation are `line` and `17`. We know that `17` is an integer so `line` must be a string!\n",
    "\n",
    "When reading from a file like this, everything it gives you will *always* be a string, even if the string only contains digits like `\"12\"`. If we know that the file only contains integers then we can convert each number as it comes in using the `int` function. Also, since we're now printing integers, we no longer need the `end=\"\"` tweak:"
   ]
  },
  {
   "cell_type": "code",
   "execution_count": 6,
   "id": "77ba63db-c9e5-4056-9e7d-da2d0f7da763",
   "metadata": {},
   "outputs": [
    {
     "name": "stdout",
     "output_type": "stream",
     "text": [
      "29\n",
      "71\n",
      "24\n",
      "349\n",
      "71\n",
      "18\n",
      "17\n"
     ]
    }
   ],
   "source": [
    "with open(\"data.txt\") as f:\n",
    "    for line in f:\n",
    "        number = int(line)  # Here we do the type conversion\n",
    "        new_number = number + 17  # Here is where we do our \"data analysis\"\n",
    "        print(new_number)"
   ]
  },
  {
   "cell_type": "markdown",
   "id": "c6ed84f3-e1cf-4f6e-937d-16d3c37ec0ed",
   "metadata": {},
   "source": [
    "### Exercise\n",
    "\n",
    "- Change the instrution to multiply the data by 10 instead of adding 17."
   ]
  },
  {
   "cell_type": "code",
   "execution_count": 14,
   "id": "2ada6280-f45c-4497-9628-ea2808ea9bdf",
   "metadata": {},
   "outputs": [
    {
     "name": "stdout",
     "output_type": "stream",
     "text": [
      "120\n",
      "540\n",
      "70\n",
      "3320\n",
      "540\n",
      "10\n",
      "0\n"
     ]
    }
   ],
   "source": [
    "with open(\"data.txt\") as f:\n",
    "    for line in f:\n",
    "        number = int(line)  # Here we do the type conversion\n",
    "        new_number = number * 10  # Here is where we do our \"data analysis\"\n",
    "        print(new_number)"
   ]
  },
  {
   "attachments": {},
   "cell_type": "markdown",
   "id": "da1930b6",
   "metadata": {},
   "source": [
    "- After looping though the data, print out the sum of all the data values seen.\n",
    "    - hint: Make an integer before the loop, initially set to zero and add to it each time around the loop using `+=`:\n",
    "        ```python\n",
    "        num = 3\n",
    "        num += 4\n",
    "        print(num)  # `num` will now be 7\n",
    "        ```\n",
    "\n",
    "    - Note: This is the same as writing:\n",
    "        ```python\n",
    "        num = 3\n",
    "        num = num + 4\n",
    "        print(num)  # `num` will now be 7\n",
    "        ```"
   ]
  },
  {
   "cell_type": "code",
   "execution_count": 4,
   "id": "2e2cb000-7f81-4725-9c0a-6e376fcafe46",
   "metadata": {},
   "outputs": [
    {
     "name": "stdout",
     "output_type": "stream",
     "text": [
      "Sum of all values is: 460\n"
     ]
    }
   ],
   "source": [
    "total = 0\n",
    "\n",
    "with open(\"data.txt\") as f:\n",
    "    for line in f:\n",
    "        number = int(line)\n",
    "        total += number\n",
    "print(\"Sum of all values is:\", total)"
   ]
  },
  {
   "cell_type": "markdown",
   "id": "5e96c894-bdde-49db-950b-19ad874743c6",
   "metadata": {},
   "source": [
    "- Print out the count of the number of data points seen as well. "
   ]
  },
  {
   "cell_type": "code",
   "execution_count": 7,
   "id": "4f34ef6a-3a5a-4360-a32e-a9c6c189a189",
   "metadata": {},
   "outputs": [
    {
     "name": "stdout",
     "output_type": "stream",
     "text": [
      "Sum of all 7 values is: 460\n"
     ]
    }
   ],
   "source": [
    "total = 0\n",
    "count = 0\n",
    "\n",
    "with open(\"data.txt\") as f:\n",
    "    for line in f:\n",
    "        number = int(line)\n",
    "        total += number\n",
    "        count += 1\n",
    "\n",
    "print(\"Sum of all\", count, \"values is:\", total)"
   ]
  },
  {
   "cell_type": "markdown",
   "id": "268d42c0-59fd-4121-8de0-f1efde6cdf2b",
   "metadata": {},
   "source": [
    "- Print out the mean average of the data in the file."
   ]
  },
  {
   "cell_type": "code",
   "execution_count": 10,
   "id": "0ed22e26-c797-4994-8ed9-1e792a375d1c",
   "metadata": {},
   "outputs": [
    {
     "name": "stdout",
     "output_type": "stream",
     "text": [
      "Sum of all 7 values is: 460\n",
      "The mean is 65.71428571428571\n"
     ]
    }
   ],
   "source": [
    "total = 0\n",
    "count = 0\n",
    "\n",
    "with open(\"data.txt\") as f:\n",
    "    for line in f:\n",
    "        number = int(line)\n",
    "        total += number\n",
    "        count += 1\n",
    "\n",
    "mean = total / count\n",
    "\n",
    "print(\"Sum of all\", count, \"values is:\", total)\n",
    "print(\"The mean is\", mean)"
   ]
  },
  {
   "cell_type": "markdown",
   "id": "e01aef29-4a8b-4d73-9516-da34339ec5e2",
   "metadata": {},
   "source": [
    "See what happens if you run the script after deleting the contents of `data.txt`.  Add an `if` statement to fix it."
   ]
  },
  {
   "cell_type": "markdown",
   "id": "e2b7c202-6e0a-4968-a403-202a57fc35bf",
   "metadata": {},
   "source": [
    "#### if you have a Linux or mac computer, please run these commands to delete and recreate the (empty) file\n",
    "``` \n",
    "!rm -f data.txt\n",
    "!touch data.txt\n",
    "```\n",
    "(copy the commands and paste them into a new cell, then run it)"
   ]
  },
  {
   "cell_type": "markdown",
   "id": "8f130ce0-be6f-41c5-94f3-1b9d1539e522",
   "metadata": {},
   "source": [
    "#### if you have a windows computer, please run these commands to delete and recreate the (empty) file\n",
    "```\n",
    "!del data.txt\n",
    "!copy NUL data.txt\n",
    "```\n",
    "(copy the commands and paste them into a new cell, then run it)"
   ]
  },
  {
   "cell_type": "code",
   "execution_count": 15,
   "id": "f65e585d-1f23-41b1-a7b0-a2e78ff666ac",
   "metadata": {},
   "outputs": [
    {
     "name": "stdout",
     "output_type": "stream",
     "text": [
      "Sum of all 0 values is: 0\n"
     ]
    }
   ],
   "source": [
    "total = 0\n",
    "count = 0\n",
    "\n",
    "with open(\"data.txt\") as f:\n",
    "    for line in f:\n",
    "        number = int(line)\n",
    "        total += number\n",
    "        count += 1\n",
    "\n",
    "print(\"Sum of all\", count, \"values is:\", total)\n",
    "\n",
    "if count > 0:\n",
    "    mean = total / count\n",
    "    print(\"The mean is\", mean)"
   ]
  },
  {
   "cell_type": "markdown",
   "id": "eb06fac7-47e0-4a80-871b-399cded1290d",
   "metadata": {},
   "source": [
    "Collect the statistics into a summary dictionary with keys `\"sum\"`, `\"count\"` and `\"mean\"`."
   ]
  },
  {
   "cell_type": "code",
   "execution_count": 16,
   "id": "748668d7-c91e-49d0-bee8-60a8af0e91e9",
   "metadata": {},
   "outputs": [
    {
     "name": "stdout",
     "output_type": "stream",
     "text": [
      "{'sum': 0, 'count': 0}\n"
     ]
    }
   ],
   "source": [
    "stats = {\"sum\": 0, \"count\": 0}\n",
    "\n",
    "with open(\"data.txt\") as f:\n",
    "    for line in f:\n",
    "        number = int(line)\n",
    "        stats[\"sum\"] += number\n",
    "        stats[\"count\"] += 1\n",
    "\n",
    "if stats[\"count\"] > 0:\n",
    "    stats[\"mean\"] = stats[\"sum\"] / stats[\"count\"]\n",
    "\n",
    "print(stats)"
   ]
  },
  {
   "attachments": {},
   "cell_type": "markdown",
   "id": "1cb5c115-597d-48e0-a8c9-69d111362c00",
   "metadata": {},
   "source": [
    "### Writing to a file"
   ]
  },
  {
   "attachments": {},
   "cell_type": "markdown",
   "id": "849c280b",
   "metadata": {},
   "source": [
    "Let's now create a file and write a string to it using the argument `file` of the function `print()`"
   ]
  },
  {
   "cell_type": "code",
   "execution_count": 18,
   "id": "9ec24309",
   "metadata": {},
   "outputs": [],
   "source": [
    "with open(\"text.txt\", \"w\") as f: \n",
    "    print(\"#this is a comment\", file=f)\n",
    "    print(\"This is text!\", file=f)"
   ]
  },
  {
   "attachments": {},
   "cell_type": "markdown",
   "id": "98e1a6b9",
   "metadata": {},
   "source": [
    "Does't seem like it did anything, but actually it created a `text.txt` file in out working directory. \n",
    "We can open the file in the editor, or read it as we have just learnt:"
   ]
  },
  {
   "cell_type": "code",
   "execution_count": 21,
   "id": "3cbbec3f",
   "metadata": {},
   "outputs": [
    {
     "name": "stdout",
     "output_type": "stream",
     "text": [
      "#this is a comment\n",
      "\n",
      "This is text!\n",
      "\n"
     ]
    }
   ],
   "source": [
    "with open(\"text.txt\", \"r\") as f:\n",
    "    for line in f:\n",
    "        print(line)"
   ]
  },
  {
   "attachments": {},
   "cell_type": "markdown",
   "id": "19aa6130",
   "metadata": {},
   "source": [
    "Trying to open a non-existent file with `w` or `a` creates the file for\n",
    "us, but doing that with `r` gives us an error instead. We'll learn more\n",
    "about errors later on.\n"
   ]
  },
  {
   "cell_type": "code",
   "execution_count": 4,
   "id": "a675182e",
   "metadata": {},
   "outputs": [
    {
     "ename": "FileNotFoundError",
     "evalue": "[Errno 2] No such file or directory: 'this-doesnt-exist.txt'",
     "output_type": "error",
     "traceback": [
      "\u001b[0;31m---------------------------------------------------------------------------\u001b[0m",
      "\u001b[0;31mFileNotFoundError\u001b[0m                         Traceback (most recent call last)",
      "Cell \u001b[0;32mIn[4], line 1\u001b[0m\n\u001b[0;32m----> 1\u001b[0m \u001b[39mwith\u001b[39;00m \u001b[39mopen\u001b[39;49m(\u001b[39m'\u001b[39;49m\u001b[39mthis-doesnt-exist.txt\u001b[39;49m\u001b[39m'\u001b[39;49m, \u001b[39m'\u001b[39;49m\u001b[39mr\u001b[39;49m\u001b[39m'\u001b[39;49m) \u001b[39mas\u001b[39;00m f:\n\u001b[1;32m      2\u001b[0m     \u001b[39mprint\u001b[39m(\u001b[39m\"\u001b[39m\u001b[39mIt\u001b[39m\u001b[39m'\u001b[39m\u001b[39ms working!\u001b[39m\u001b[39m\"\u001b[39m)\n",
      "File \u001b[0;32m~/anaconda3/lib/python3.10/site-packages/IPython/core/interactiveshell.py:282\u001b[0m, in \u001b[0;36m_modified_open\u001b[0;34m(file, *args, **kwargs)\u001b[0m\n\u001b[1;32m    275\u001b[0m \u001b[39mif\u001b[39;00m file \u001b[39min\u001b[39;00m {\u001b[39m0\u001b[39m, \u001b[39m1\u001b[39m, \u001b[39m2\u001b[39m}:\n\u001b[1;32m    276\u001b[0m     \u001b[39mraise\u001b[39;00m \u001b[39mValueError\u001b[39;00m(\n\u001b[1;32m    277\u001b[0m         \u001b[39mf\u001b[39m\u001b[39m\"\u001b[39m\u001b[39mIPython won\u001b[39m\u001b[39m'\u001b[39m\u001b[39mt let you open fd=\u001b[39m\u001b[39m{\u001b[39;00mfile\u001b[39m}\u001b[39;00m\u001b[39m by default \u001b[39m\u001b[39m\"\u001b[39m\n\u001b[1;32m    278\u001b[0m         \u001b[39m\"\u001b[39m\u001b[39mas it is likely to crash IPython. If you know what you are doing, \u001b[39m\u001b[39m\"\u001b[39m\n\u001b[1;32m    279\u001b[0m         \u001b[39m\"\u001b[39m\u001b[39myou can use builtins\u001b[39m\u001b[39m'\u001b[39m\u001b[39m open.\u001b[39m\u001b[39m\"\u001b[39m\n\u001b[1;32m    280\u001b[0m     )\n\u001b[0;32m--> 282\u001b[0m \u001b[39mreturn\u001b[39;00m io_open(file, \u001b[39m*\u001b[39;49margs, \u001b[39m*\u001b[39;49m\u001b[39m*\u001b[39;49mkwargs)\n",
      "\u001b[0;31mFileNotFoundError\u001b[0m: [Errno 2] No such file or directory: 'this-doesnt-exist.txt'"
     ]
    }
   ],
   "source": [
    "\n",
    "with open('this-doesnt-exist.txt', 'r') as f:\n",
    "    print(\"It's working!\")\n"
   ]
  },
  {
   "cell_type": "code",
   "execution_count": null,
   "id": "e5764f1b",
   "metadata": {},
   "outputs": [],
   "source": []
  }
 ],
 "metadata": {
  "kernelspec": {
   "display_name": "Python 3 (ipykernel)",
   "language": "python",
   "name": "python3"
  },
  "language_info": {
   "codemirror_mode": {
    "name": "ipython",
    "version": 3
   },
   "file_extension": ".py",
   "mimetype": "text/x-python",
   "name": "python",
   "nbconvert_exporter": "python",
   "pygments_lexer": "ipython3",
   "version": "3.10.9"
  }
 },
 "nbformat": 4,
 "nbformat_minor": 5
}
