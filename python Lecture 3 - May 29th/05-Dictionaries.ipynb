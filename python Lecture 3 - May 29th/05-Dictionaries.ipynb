{
 "cells": [
  {
   "cell_type": "markdown",
   "id": "0169dfbc-39cd-4113-a44d-60e5982c6f5e",
   "metadata": {},
   "source": [
    "## Dictionaries\n",
    "---\n",
    "Lists let you store lots of variables, and to access them by their location in the list. \n",
    "\n",
    "However, there are times when you want to store lots of variables, but access them using more complex relationships. One example is a *dictionary*, which lets you store variables and access them using a *key*.\n",
    "\n",
    "Dictionaries in Python are created using curly brackets:"
   ]
  },
  {
   "cell_type": "code",
   "execution_count": 10,
   "id": "c86bad8f-cb0b-468d-a960-d1b4364db28e",
   "metadata": {},
   "outputs": [
    {
     "name": "stdout",
     "output_type": "stream",
     "text": [
      "green\n"
     ]
    }
   ],
   "source": [
    "colours = {\"spinach\": \"green\", \"strawberry\": \"red\", \"banana\": \"yellow\"}\n",
    "\n",
    "spinach_colour = colours[\"spinach\"]\n",
    "\n",
    "\n",
    "print(spinach_colour)"
   ]
  },
  {
   "cell_type": "markdown",
   "id": "6877121c-806e-4b53-a742-c0a62e110d40",
   "metadata": {},
   "source": [
    "What we did here was create a dictionary on the first line. A dictionary is created using curly brackets (`{}`), in much the same way as square brackets are used for creating lists. The dictionary we created here has three items in it where each item comprises a *key* and a *value*. The *value* is the real data that we want to keep hold of and the *key* is how we can get at the data we want. The key and value are separated by a colon and each key-value pair is separated by a comma.\n",
    "\n",
    "On the next line we access the data in the dictionary `colours`. Again, like lists we use the square brackets to ask questions of our data. In this case we're asking the dictionary to give us the value associated with the key `\"spinach\"` and so it will return to us `\"green\"`.\n",
    "\n",
    "Since dictionaries can be quite large and it can sometimes be hard to see which parts are keys and which are values, it is possible to write dictionaries over multiple lines, one line per key-value item:"
   ]
  },
  {
   "cell_type": "code",
   "execution_count": 2,
   "id": "0857d891-2052-4705-9df1-9447f768104b",
   "metadata": {},
   "outputs": [
    {
     "name": "stdout",
     "output_type": "stream",
     "text": [
      "green\n"
     ]
    }
   ],
   "source": [
    "colours = {\"spinach\": \"green\",\n",
    "           \"strawberry\": \"red\", \n",
    "           \"banana\": \"yellow\"}\n",
    "\n",
    "spinach_colour = colours[\"spinach\"]\n",
    "\n",
    "print(spinach_colour)"
   ]
  },
  {
   "cell_type": "markdown",
   "id": "1da3b298-8777-4012-b0e5-0aaeabf81455",
   "metadata": {},
   "source": [
    "### Exercise\n",
    "\n",
    "Ask the dictionary we have just defined for the colour of strawberries and bananas.\n",
    "- What happens if you ask for an item that isn't in the dictionary?"
   ]
  },
  {
   "cell_type": "code",
   "execution_count": 4,
   "id": "51e256c5-ef2e-425a-9dca-7c22e698b979",
   "metadata": {},
   "outputs": [
    {
     "name": "stdout",
     "output_type": "stream",
     "text": [
      "Strawberries are red\n",
      "Bananas are yellow\n"
     ]
    }
   ],
   "source": [
    "#colours = {\"spinach\": \"green\", \"strawberry\": \"red\", \"banana\": \"yellow\"}\n",
    "\n",
    "strawberry_colour = colours[\"strawberry\"]\n",
    "banana_colour = colours['banana']\n",
    "\n",
    "print(\"Strawberries are\", strawberry_colour)\n",
    "print(\"Bananas are\", banana_colour)"
   ]
  },
  {
   "cell_type": "markdown",
   "id": "4a428cbd-c093-4bf6-ae76-85c4c34bed29",
   "metadata": {},
   "source": [
    "If we ask for a key that doesn't exist, we will see an error being produced:"
   ]
  },
  {
   "cell_type": "code",
   "execution_count": 5,
   "id": "44d4797a-fe39-4061-96f5-016b9ab36d77",
   "metadata": {},
   "outputs": [
    {
     "ename": "KeyError",
     "evalue": "'orange'",
     "output_type": "error",
     "traceback": [
      "\u001b[0;31m---------------------------------------------------------------------------\u001b[0m",
      "\u001b[0;31mKeyError\u001b[0m                                  Traceback (most recent call last)",
      "Input \u001b[0;32mIn [5]\u001b[0m, in \u001b[0;36m<module>\u001b[0;34m\u001b[0m\n\u001b[0;32m----> 1\u001b[0m orange_colour \u001b[38;5;241m=\u001b[39m \u001b[43mcolours\u001b[49m\u001b[43m[\u001b[49m\u001b[38;5;124;43m'\u001b[39;49m\u001b[38;5;124;43morange\u001b[39;49m\u001b[38;5;124;43m'\u001b[39;49m\u001b[43m]\u001b[49m\n\u001b[1;32m      3\u001b[0m \u001b[38;5;28mprint\u001b[39m(orange_colour)\n",
      "\u001b[0;31mKeyError\u001b[0m: 'orange'"
     ]
    }
   ],
   "source": [
    "orange_colour = colours['orange']\n",
    "\n",
    "print(orange_colour)"
   ]
  },
  {
   "cell_type": "markdown",
   "id": "1cfa4461-7a27-45a1-92e4-e2b893d2c701",
   "metadata": {},
   "source": [
    "### Adding new data into dictionaries\n",
    "---\n",
    "As with lists, dictionaries are dynamic so we can add entries into a dictionary.\n",
    "\n",
    "Let's say that we want to add in a new colour for the blueberry into our `colours` dictionary. The key that the data will have will be`\"blueberry\"` and the value will be `\"blue\"`. To do so we put `colours[\"blueberry\"]` on the left-hand side of a variable assignment expression, as if we're making a new variable. On the right goes the data that we want to put into the dictionary:"
   ]
  },
  {
   "cell_type": "code",
   "execution_count": 6,
   "id": "dd208a4d-eee4-45b1-a225-34db8f6f97b0",
   "metadata": {},
   "outputs": [
    {
     "name": "stdout",
     "output_type": "stream",
     "text": [
      "{'spinach': 'green', 'strawberry': 'red', 'banana': 'yellow', 'blueberry': 'blue'}\n"
     ]
    }
   ],
   "source": [
    "colours[\"blueberry\"] = \"blue\"\n",
    "\n",
    "print(colours)"
   ]
  },
  {
   "cell_type": "markdown",
   "id": "13232675-e3d2-45ca-8752-5b4f3cb3d7d2",
   "metadata": {},
   "source": [
    "This is saying that we want the value `\"blue\"` associated with the key `\"blueberry\"` in the dictionary `colours`."
   ]
  },
  {
   "cell_type": "markdown",
   "id": "1b119c49-c95e-4375-bb78-aabb78e467bf",
   "metadata": {},
   "source": [
    "### Exercise\n",
    "Edit the dictionary so that the it is initially defined with only the strawberry and  banana. Add the entry for the spinach and then the blueberry dynamically."
   ]
  },
  {
   "cell_type": "code",
   "execution_count": 2,
   "id": "af7a3cdd-e1b5-4eb0-9358-d4913e380ec1",
   "metadata": {},
   "outputs": [
    {
     "name": "stdout",
     "output_type": "stream",
     "text": [
      "{'strawberry': 'red', 'banana': 'yellow'}\n"
     ]
    }
   ],
   "source": [
    "colours = {\"strawberry\" : \"red\", \"banana\": \"yellow\"}\n",
    "print(colours)"
   ]
  },
  {
   "cell_type": "code",
   "execution_count": 3,
   "id": "e1b99bd8-5fec-41a9-9f19-02cc7b10f114",
   "metadata": {},
   "outputs": [],
   "source": [
    "colours[\"blueberry\"]=\"blue\"\n",
    "colours[\"spinach\"]=\"green\""
   ]
  },
  {
   "cell_type": "code",
   "execution_count": 4,
   "id": "49a66a6b-07fe-43cc-80f9-456bd8b8ae05",
   "metadata": {},
   "outputs": [
    {
     "data": {
      "text/plain": [
       "{'strawberry': 'red',\n",
       " 'banana': 'yellow',\n",
       " 'blueberry': 'blue',\n",
       " 'spinach': 'green'}"
      ]
     },
     "execution_count": 4,
     "metadata": {},
     "output_type": "execute_result"
    }
   ],
   "source": [
    "colours"
   ]
  },
  {
   "cell_type": "markdown",
   "id": "49b2f7ad-8b53-47b8-a556-5c061aa54d01",
   "metadata": {},
   "source": [
    "### Looping over dictionaries\n",
    "---\n",
    "\n",
    "When discussing `for` loops you were told that Python allows you to loop over lots of different types of data such as lists, strings and `range`s. We can add dictionaries to that set.\n",
    "\n",
    "To discover how it works, let's do the naïve thing first and just see what happens when we loop over a dictionary:"
   ]
  },
  {
   "cell_type": "code",
   "execution_count": 7,
   "id": "fb81701b-5389-483b-ba24-6d678cd60c63",
   "metadata": {},
   "outputs": [
    {
     "name": "stdout",
     "output_type": "stream",
     "text": [
      "spinach\n",
      "strawberry\n",
      "banana\n",
      "blueberry\n"
     ]
    }
   ],
   "source": [
    "colours = {\"spinach\": \"green\", \"strawberry\": \"red\", \"banana\": \"yellow\", \"blueberry\" : \"blue\"}\n",
    "\n",
    "for thing in colours:\n",
    "    print(thing)"
   ]
  },
  {
   "cell_type": "markdown",
   "id": "525d78dc-c416-42f6-a6c5-b5317ea8bd89",
   "metadata": {},
   "source": [
    " Hopefully, you recognise those as the keys from the dictionary. So, it seems that when looping over a dictionary we will be given the *keys*.\n",
    " \n",
    " What if, for example, you wanted to loop over the *values* instead. Well, there is a method on dictionaries called `values` which gives you just those so that you can loop over them:"
   ]
  },
  {
   "cell_type": "code",
   "execution_count": 8,
   "id": "50eb83e0-bb38-4f1e-979b-a07fd37b4ce5",
   "metadata": {},
   "outputs": [
    {
     "name": "stdout",
     "output_type": "stream",
     "text": [
      "green\n",
      "red\n",
      "yellow\n",
      "blue\n"
     ]
    }
   ],
   "source": [
    "for colour in colours.values():\n",
    "    print(colour)"
   ]
  },
  {
   "cell_type": "markdown",
   "id": "1325dbd9-4f96-4399-acee-cbc5a045370d",
   "metadata": {},
   "source": [
    "If we want to loop over the dictionary and get both the *keys* and the *values*, there is a method called `items`. Since it will be giving us two things each loop iteration, we'll have to use the same trick as we did with `enumerate` and give two variable names in the for loop declaration:"
   ]
  },
  {
   "cell_type": "code",
   "execution_count": 10,
   "id": "02836f61-30a9-45d5-a48f-6e1230f226b7",
   "metadata": {},
   "outputs": [
    {
     "name": "stdout",
     "output_type": "stream",
     "text": [
      "spinach is green\n",
      "strawberry is red\n",
      "banana is yellow\n",
      "blueberry is blue\n"
     ]
    }
   ],
   "source": [
    "for thing, colour in colours.items():\n",
    "    print(thing, \"is\", colour) "
   ]
  },
  {
   "cell_type": "markdown",
   "id": "055b5c92-9897-4f83-a76a-b2743f42d888",
   "metadata": {},
   "source": [
    "The `items` method gives us two pieces of data where the first is always the key and the second if always the value. We give the keys the name `thing` and the values the name `colour`. We can then use both those variables in the loop body."
   ]
  },
  {
   "cell_type": "markdown",
   "id": "a14da962-8886-4da3-8754-e30ab9e32b9b",
   "metadata": {},
   "source": [
    "### Exercise\n",
    "Make a dictionary with the keys being the name of countries and the value being the country's capital city. Loop over the dictionary and print something like `\"The capital of France is Paris\"` for each item."
   ]
  },
  {
   "cell_type": "code",
   "execution_count": 11,
   "id": "e77c7b6a-a718-4e53-954d-35024694e516",
   "metadata": {},
   "outputs": [
    {
     "name": "stdout",
     "output_type": "stream",
     "text": [
      "The capital of France is Paris\n",
      "The capital of United Kingdom is London\n",
      "The capital of USA is Washington DC\n",
      "The capital of Kenya is Nairobi\n"
     ]
    }
   ],
   "source": [
    "capitals = {\n",
    "    \"France\": \"Paris\",\n",
    "    \"United Kingdom\": \"London\",\n",
    "    \"USA\": \"Washington DC\",\n",
    "    \"Kenya\": \"Nairobi\"\n",
    "}\n",
    "\n",
    "for country, capital in capitals.items():\n",
    "    print(\"The capital of\", country, \"is\", capital) "
   ]
  },
  {
   "cell_type": "markdown",
   "id": "3eecb3a9-8dde-4d55-87f9-cf36aa104b07",
   "metadata": {},
   "source": [
    "To summarise the different things we can pass to loops and the data that we get given each iteration:\n",
    "\n",
    "- `list`: the items in the list\n",
    "- `str`: the characters in the string\n",
    "- `enumerate(`: a pair of the index of the item and the item itself\n",
    "- `dict`: the keys of the dictionary\n",
    "- `dict.keys()`: the keys from the dictionary\n",
    "- `dict.values()`: the values from the dictionary\n",
    "- `dict.items()`: the key-value pairs from the dictionary"
   ]
  }
 ],
 "metadata": {
  "kernelspec": {
   "display_name": "Python 3 (ipykernel)",
   "language": "python",
   "name": "python3"
  },
  "language_info": {
   "codemirror_mode": {
    "name": "ipython",
    "version": 3
   },
   "file_extension": ".py",
   "mimetype": "text/x-python",
   "name": "python",
   "nbconvert_exporter": "python",
   "pygments_lexer": "ipython3",
   "version": "3.12.4"
  }
 },
 "nbformat": 4,
 "nbformat_minor": 5
}
