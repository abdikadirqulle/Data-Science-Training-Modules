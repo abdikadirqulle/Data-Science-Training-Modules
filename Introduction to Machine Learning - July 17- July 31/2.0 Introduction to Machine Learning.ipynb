{
 "cells": [
  {
   "attachments": {},
   "cell_type": "markdown",
   "metadata": {
    "slideshow": {
     "slide_type": "slide"
    }
   },
   "source": [
    "# Introduction to Machine Learning in Python"
   ]
  },
  {
   "attachments": {},
   "cell_type": "markdown",
   "metadata": {
    "slideshow": {
     "slide_type": "subslide"
    }
   },
   "source": [
    "## What is Machine Learning?"
   ]
  },
  {
   "attachments": {},
   "cell_type": "markdown",
   "metadata": {
    "slideshow": {
     "slide_type": "subslide"
    }
   },
   "source": [
    "### Machine Learning at Glance"
   ]
  },
  {
   "attachments": {},
   "cell_type": "markdown",
   "metadata": {
    "slideshow": {
     "slide_type": "-"
    }
   },
   "source": [
    "<img src=\"resources/imgs/ml-wordle-436.jpg\" width=\"60%\">"
   ]
  },
  {
   "attachments": {},
   "cell_type": "markdown",
   "metadata": {
    "slideshow": {
     "slide_type": "subslide"
    }
   },
   "source": [
    "### Machine learning teaches machines how to carry out tasks by themselves. It is that simple.\n",
    "### The complexity comes with the details.\n",
    "\n",
    "_W. Richert & L.P. Coelho, 2013\n",
    "Building Machine Learning Systems with Python_"
   ]
  },
  {
   "attachments": {},
   "cell_type": "markdown",
   "metadata": {
    "slideshow": {
     "slide_type": "subslide"
    }
   },
   "source": [
    "Machine learning is the process to automatically **extract knowledge** from data, usually with the goal of making **predictions** on _new_, _unseen_ data. \n",
    "\n",
    "A classical example is a _spam filter_, for which the user keeps labeling incoming mails as either spam or not spam. \n",
    "\n",
    "A machine learning algorithm then \"learns\" what distinguishes spam from normal emails, and can predict for new emails whether they are spam or not."
   ]
  },
  {
   "cell_type": "code",
   "execution_count": null,
   "metadata": {
    "vscode": {
     "languageId": "plaintext"
    }
   },
   "outputs": [],
   "source": []
  },
  {
   "attachments": {},
   "cell_type": "markdown",
   "metadata": {
    "slideshow": {
     "slide_type": "subslide"
    }
   },
   "source": [
    "<font size=\"4\"> Central to machine learning is the concept of **making decision automatically** from data, **without the user specifying explicit rules** how this decision should be made.</font>\n",
    "\n",
    "For the case of emails, the user doesn't provide a list of words or characteristics that make an email spam. Instead, the user provides examples of spam and non-spam emails."
   ]
  },
  {
   "attachments": {},
   "cell_type": "markdown",
   "metadata": {
    "slideshow": {
     "slide_type": "subslide"
    }
   },
   "source": [
    "The second central concept is **generalization**. \n",
    "\n",
    "The goal of a machine learning algorithm is to predict on new, previously unseen data. We are not interested in marking an email as spam or not, that the human already labeled. Instead, we want to make the users' life easier by making an automatic decision for new incoming mail."
   ]
  },
  {
   "attachments": {},
   "cell_type": "markdown",
   "metadata": {
    "slideshow": {
     "slide_type": "subslide"
    }
   },
   "source": [
    "There are two kinds of machine learning we will talk about in these notebooks: \n",
    "\n",
    "* **Supervised learning;** \n",
    "* **Unsupervised learning.**"
   ]
  },
  {
   "attachments": {},
   "cell_type": "markdown",
   "metadata": {
    "slideshow": {
     "slide_type": "slide"
    }
   },
   "source": [
    "### Supervised Learning\n",
    "\n",
    "In **Supervised Learning**, we have a dataset consisting of both **input features** and a **desired output** (aka target or ground truth), such as in the spam / no-spam example.\n",
    "\n",
    "The task is to construct a model (or program) which is able to predict the desired output of an **unseen** object\n",
    "given the set of features."
   ]
  },
  {
   "attachments": {},
   "cell_type": "markdown",
   "metadata": {
    "slideshow": {
     "slide_type": "subslide"
    }
   },
   "source": [
    "<img src=\"resources/imgs/ml_supervised_example.png\" width=\"100%\" />"
   ]
  },
  {
   "attachments": {},
   "cell_type": "markdown",
   "metadata": {
    "slideshow": {
     "slide_type": "subslide"
    }
   },
   "source": [
    "Supervised learning is further broken down into two categories, **classification** and **regression**.\n",
    "\n",
    "In classification, the label is discrete (a.k.a. _Categorical Data_, i.e. _Integer values_), such as \"spam\" or \"no spam\". \n",
    "In other words, it provides a clear-cut distinction between categories. \n",
    "\n",
    "In regression, the label is continuous, i.e. _Float output_."
   ]
  },
  {
   "attachments": {},
   "cell_type": "markdown",
   "metadata": {
    "slideshow": {
     "slide_type": "subslide"
    }
   },
   "source": [
    "### Other Examples\n",
    "\n",
    "Some more complicated examples are:"
   ]
  },
  {
   "cell_type": "markdown",
   "metadata": {},
   "source": [
    "- Image Classification: Given a dataset of images labeled with different objects or classes, supervised learning algorithms can be used to build models that can classify new images into the correct categories. This application is widely used in various domains, such as autonomous vehicles, medical imaging, and facial recognition. Examples are: \n",
    "    - given a multicolor image of an object through a telescope, determine\n",
    "  whether that object is a star, a quasar, or a galaxy.\n",
    "  - given a photograph of a person, identify the person in the photo.\n",
    "\n",
    "- Sentiment Analysis: Supervised learning can be used for sentiment analysis in natural language processing (NLP). By training on labeled data containing text and corresponding sentiment labels (positive, negative, neutral), models can be developed to determine the sentiment of new, unseen text data.\n",
    "\n",
    "- Spam Detection: In email filtering, supervised learning algorithms can be used to distinguish between spam and legitimate emails. By training on a dataset of labeled emails, the model learns to identify patterns and characteristics associated with spam messages.\n",
    "\n",
    "- Credit Risk Assessment: In the financial industry, supervised learning can be employed to predict credit risk for loan applicants. By using historical data on borrowers and their repayment behavior, models can be built to evaluate the creditworthiness of new loan applicants.\n",
    "\n",
    "- Medical Diagnosis: Supervised learning can be used in medical applications to assist in diagnosing diseases. By training on labeled medical records and corresponding diagnoses, models can be developed to aid in the identification of certain conditions or diseases."
   ]
  },
  {
   "attachments": {},
   "cell_type": "markdown",
   "metadata": {
    "slideshow": {
     "slide_type": "subslide"
    }
   },
   "source": [
    "What these tasks have in common is that there is one or more unknown\n",
    "quantities associated with the object which needs to be determined from other\n",
    "observed quantities."
   ]
  },
  {
   "attachments": {},
   "cell_type": "markdown",
   "metadata": {
    "slideshow": {
     "slide_type": "subslide"
    }
   },
   "source": [
    "### For example\n",
    "\n",
    "* In astronomy, the task of determining whether an object is a star, a galaxy, or a quasar is a **classification problem**: the label is from three distinct categories. \n",
    "\n",
    "* On the other hand, we might wish to estimate the age of an object based on such observations: this would be a **regression problem**, because the label (age) is a continuous quantity."
   ]
  },
  {
   "attachments": {},
   "cell_type": "markdown",
   "metadata": {
    "slideshow": {
     "slide_type": "slide"
    }
   },
   "source": [
    "### Unsupervised Learning\n",
    "\n",
    "In **Unsupervised Learning** there is no desired output associated with the data.\n",
    "\n",
    "Instead, we are interested in extracting some form of knowledge or model from the given data.\n",
    "\n",
    "In a sense, you can think of unsupervised learning as a means of discovering labels from the data itself.\n",
    "\n",
    "Unsupervised learning comprises tasks such as *dimensionality reduction*, *clustering*, and\n",
    "*density estimation*. "
   ]
  },
  {
   "attachments": {},
   "cell_type": "markdown",
   "metadata": {
    "slideshow": {
     "slide_type": "subslide"
    }
   },
   "source": [
    "<img src=\"resources/imgs/ml_unsupervised_example.png\" width=\"100%\" />"
   ]
  },
  {
   "attachments": {},
   "cell_type": "markdown",
   "metadata": {
    "slideshow": {
     "slide_type": "fragment"
    }
   },
   "source": [
    "Unsupervised learning is often harder to understand and to evaluate.\n",
    "\n",
    "Sometimes the two may even be combined: e.g. Unsupervised learning can be used to find useful\n",
    "features in heterogeneous data, and then these features can be used within a supervised\n",
    "framework."
   ]
  },
  {
   "attachments": {},
   "cell_type": "markdown",
   "metadata": {
    "slideshow": {
     "slide_type": "subslide"
    }
   },
   "source": [
    "### Other Examples\n",
    "\n",
    "Some more involved unsupervised learning problems are:\n",
    "\n",
    "- given detailed observations of distant galaxies, determine which features or combinations of\n",
    "  features summarize best the information.\n",
    "- given a mixture of two sound sources (for example, a person talking over some music),\n",
    "  separate the two (this is called the [blind source separation](http://en.wikipedia.org/wiki/Blind_signal_separation) problem).\n",
    "- given a large collection of news articles, find recurring topics inside these articles.\n",
    "- given a collection of images, cluster similar images together (for example to group them when visualizing a collection)"
   ]
  },
  {
   "cell_type": "markdown",
   "metadata": {},
   "source": [
    "Some of the most common algorithms are:\n",
    "\n",
    "- Clustering: Unsupervised learning can be used for clustering similar data points together based on their intrinsic characteristics. This application is employed in market segmentation, customer profiling, and anomaly detection.\n",
    "\n",
    "- Dimensionality Reduction: In cases where datasets have a large number of features, unsupervised learning techniques like Principal Component Analysis (PCA) can be utilized to reduce the dimensionality of the data while preserving its essential information.\n",
    "\n",
    "- Recommendation Systems: Unsupervised learning can be used to build recommendation systems that suggest products, movies, or content to users based on their past behavior and preferences.\n",
    "\n",
    "- Anomaly Detection: Unsupervised learning algorithms can be used to identify rare and unusual patterns or outliers in datasets, which can be crucial for detecting fraudulent transactions, defective products, or anomalies in system logs."
   ]
  },
  {
   "cell_type": "markdown",
   "metadata": {},
   "source": [
    "### There are many Machine (and Deep) learning frameworks in the python ecosystem\n",
    "and the choice depends on the data you have, and the task you want to tackle.\n",
    "TensorFlow is the leading Deep Learning framework. Other widely popular frameworks include Keras, Caffe, and PyTorch. \n",
    "\n",
    "\n",
    "Scikit-learn is a widely used machine learning library for Python. While it is not specifically designed for deep learning, it offers a wide range of classical machine learning algorithms, such as SVMs, decision trees, and random forests. Scikit-learn is well-documented, easy to use, and serves as a great starting point for those new to machine learning."
   ]
  },
  {
   "attachments": {},
   "cell_type": "markdown",
   "metadata": {
    "slideshow": {
     "slide_type": "slide"
    }
   },
   "source": [
    "# Scikit-learn at a Glance"
   ]
  },
  {
   "cell_type": "markdown",
   "metadata": {},
   "source": [
    " Scikit-learn is a popular and widely used machine learning library for Python. \n",
    " - It is built on top of other scientific libraries such as NumPy and SciPy, making it easy to integrate with the Python data science ecosystem. \n",
    " -  It includes supervised learning algorithms such as linear regression, logistic regression, support vector machines (SVM), decision trees, random forests, and more. Additionally, it offers unsupervised learning algorithms like clustering (K-means, DBSCAN) and dimensionality reduction techniques (PCA, t-SNE).\n",
    " - It provides a wide range of tools for data preprocessing and feature engineering. It includes functionalities for handling missing values, feature scaling, one-hot encoding, and more.\n",
    " - It offers various metrics for evaluating the performance of machine learning models, and provides utilities for cross-validation, hyperparameter tuning, and model selection.\n",
    " - It is well-integrated with other Python data science libraries, such as Pandas, for data manipulation and Seaborn/Matplotlib for data visualization."
   ]
  },
  {
   "attachments": {},
   "cell_type": "markdown",
   "metadata": {},
   "source": [
    "<img src=\"resources/imgs/scikit-learn-cheatsheet.png\" width=\"80%\" />"
   ]
  },
  {
   "cell_type": "markdown",
   "metadata": {},
   "source": []
  }
 ],
 "metadata": {
  "kernelspec": {
   "display_name": "Python 3",
   "language": "python",
   "name": "python3"
  },
  "language_info": {
   "codemirror_mode": {
    "name": "ipython",
    "version": 3
   },
   "file_extension": ".py",
   "mimetype": "text/x-python",
   "name": "python",
   "nbconvert_exporter": "python",
   "pygments_lexer": "ipython3",
   "version": "3.6.5"
  }
 },
 "nbformat": 4,
 "nbformat_minor": 2
}
