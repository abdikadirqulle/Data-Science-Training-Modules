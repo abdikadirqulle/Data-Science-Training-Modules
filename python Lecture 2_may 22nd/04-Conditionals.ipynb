{
 "cells": [
  {
   "cell_type": "markdown",
   "id": "20289e10-7b45-4b58-bc1e-4bf9c029232a",
   "metadata": {},
   "source": [
    "## Conditionals\n",
    "---\n",
    "We've seen loops are one way of changing the default \"top to bottom\" reading of Python scripts. Loops are an example of *control flow* statements. Another very useful tool in Python is the *conditional*. This, rather than allowing you to repeat parts of the program, gives you the ability to skip parts depending on certain conditions.\n",
    "\n",
    "The simplest place to start is the `if` statement. This lets you only run a block of code if a certain condition is true."
   ]
  },
  {
   "cell_type": "code",
   "execution_count": 1,
   "id": "acadd608-5f5d-4544-bbf3-68484952a6d3",
   "metadata": {},
   "outputs": [
    {
     "name": "stdout",
     "output_type": "stream",
     "text": [
      "128 is large\n"
     ]
    }
   ],
   "source": [
    "my_number = 128\n",
    "\n",
    "if my_number > 100:\n",
    "    print(my_number, \"is large\")"
   ]
  },
  {
   "cell_type": "markdown",
   "id": "9a7ff947-26b4-4ada-879b-d94b318cc865",
   "metadata": {},
   "source": [
    "### Exercise\n",
    "Change `my_number` to a number less than `100` and rerun the same code. What is the output?"
   ]
  },
  {
   "cell_type": "code",
   "execution_count": 2,
   "id": "c1568354-2f22-4915-bc27-0cfdb6751475",
   "metadata": {},
   "outputs": [],
   "source": [
    "my_number = 74\n",
    "\n",
    "if my_number > 100:\n",
    "    print(my_number, \"is large\")"
   ]
  },
  {
   "cell_type": "markdown",
   "id": "9c0d8832-5088-4579-83d2-dfc7274b542a",
   "metadata": {},
   "source": [
    "### Booleans\n",
    "---\n",
    "If we take a closer look at that user-supplied conditional we'll see it's made up of three parts, some data on either side of a greater-than sign (`>`). In Python this means \"is `my_number` more than `100`?\". It's asking a question and in Python the answer to a question like this can be either `True` or `False`."
   ]
  },
  {
   "cell_type": "code",
   "execution_count": 3,
   "id": "dc294e86-538d-449f-8711-ce1dc7a4efd7",
   "metadata": {},
   "outputs": [
    {
     "name": "stdout",
     "output_type": "stream",
     "text": [
      "True\n"
     ]
    }
   ],
   "source": [
    "print(128 > 100)"
   ]
  },
  {
   "cell_type": "markdown",
   "id": "807271bc-d588-4684-ba97-b8ffb9575da8",
   "metadata": {},
   "source": [
    "These are booleans and the question `128 > 100` is a boolean statement. `True` and `False` are values in the same way that `12` and `\"Hello\"` are values, but belong to their own data type: `bool`"
   ]
  },
  {
   "cell_type": "markdown",
   "id": "bfb0bf3f-98e2-4cb5-bf64-09502d092e67",
   "metadata": {},
   "source": [
    "Other boolean operations we can perform are:\n",
    "```python\n",
    "334 < 98  # Less than\n",
    "76 == 70 + 6  # Are they equal to each other?\n",
    "3.14159 != 3  # Are they *not* equal to each other\n",
    "4 <= 43  # Less than or equal to\n",
    "45 >= 17  # Greater than or equal to\n",
    "\n",
    "```"
   ]
  },
  {
   "cell_type": "markdown",
   "id": "0f6087bf-fa6a-4f46-b950-f76770c5ef96",
   "metadata": {},
   "source": [
    "Notice that when comparing two values, we use a double equals sign (`==`), wheras we used a single equals sign (`=`) to create a variable. \n",
    "\n",
    "We also used a `#` symbol in this code to denote a \"comment\". Comments are ignored by Python when running your code which means you can use them to explain to other humans reading your code what it's doing. This is a good idea if there's anything non-obvious in your code."
   ]
  },
  {
   "cell_type": "markdown",
   "id": "6bad95d2-4c2c-4999-9649-4f561e4bdebb",
   "metadata": {},
   "source": [
    "### Exercise\n",
    "Use some different boolean statements. "
   ]
  },
  {
   "cell_type": "code",
   "execution_count": 4,
   "id": "e3f962d0-97f8-49cb-b5e1-0ed6218cb540",
   "metadata": {},
   "outputs": [
    {
     "name": "stdout",
     "output_type": "stream",
     "text": [
      "74 is less than 100\n"
     ]
    }
   ],
   "source": [
    "my_number = 74\n",
    "\n",
    "if my_number < 100:\n",
    "    print(my_number, \"is less than 100\")"
   ]
  },
  {
   "cell_type": "code",
   "execution_count": 5,
   "id": "e3de3811-46db-4ee3-b1f8-dfe029312230",
   "metadata": {},
   "outputs": [
    {
     "name": "stdout",
     "output_type": "stream",
     "text": [
      "74 == 74\n"
     ]
    }
   ],
   "source": [
    "my_number = 74\n",
    "\n",
    "if my_number == 100:\n",
    "    print(my_number, \"== 100\")\n",
    "\n",
    "if my_number == 74:\n",
    "    print(my_number, \"== 74\")"
   ]
  },
  {
   "cell_type": "code",
   "execution_count": 6,
   "id": "82d895c7-824d-4c39-ab09-6172ef3cb216",
   "metadata": {},
   "outputs": [
    {
     "name": "stdout",
     "output_type": "stream",
     "text": [
      "74 != 100\n"
     ]
    }
   ],
   "source": [
    "my_number = 74\n",
    "\n",
    "if my_number != 100:\n",
    "    print(my_number, \"!= 100\")\n",
    "\n",
    "if my_number != 74:\n",
    "    print(my_number, \"!= 74\")"
   ]
  },
  {
   "cell_type": "markdown",
   "id": "88ccd296-f62a-433b-93f2-6566871976c1",
   "metadata": {},
   "source": [
    "### else"
   ]
  },
  {
   "cell_type": "markdown",
   "id": "64615386-9f51-4333-9a6e-36a14f20ae34",
   "metadata": {},
   "source": [
    "We've just seen that the body of an `if` statement will only run if the conditional is `True`. But what if we want to do one thing if it's true, but another if it's false? We can do this by attaching an `else` statement to the if statement:"
   ]
  },
  {
   "cell_type": "code",
   "execution_count": 7,
   "id": "08d56644-2492-4930-bac7-c2e92af51dcd",
   "metadata": {},
   "outputs": [
    {
     "name": "stdout",
     "output_type": "stream",
     "text": [
      "128 is large\n"
     ]
    }
   ],
   "source": [
    "my_number = 128\n",
    "\n",
    "if my_number > 100:\n",
    "    print(my_number, \"is large\")\n",
    "else:\n",
    "    print(my_number, \"is not large\")"
   ]
  },
  {
   "cell_type": "markdown",
   "id": "b30f6d12-bb46-4e49-9216-8f6578740c0d",
   "metadata": {},
   "source": [
    "The `else` statement must be at the same level of indentation as the `if`keyword and does not have any option for the user to provide a boolean statement to it. In this case, you can guarantee that *one* and *only one* of the two bodies will run."
   ]
  },
  {
   "cell_type": "markdown",
   "id": "870cae03-7691-4e6c-9365-6e2a76a020c9",
   "metadata": {},
   "source": [
    "### elif\n",
    "---\n",
    "If you do want to provide a boolean statement to an `else` then you can use an `elif` instead. It stands for \"else, if ...\" and it allows you to refine the questions you are asking:"
   ]
  },
  {
   "cell_type": "code",
   "execution_count": 8,
   "id": "251a0454-68b7-4461-85d0-887c5ed90831",
   "metadata": {},
   "outputs": [
    {
     "name": "stdout",
     "output_type": "stream",
     "text": [
      "128 is large\n"
     ]
    }
   ],
   "source": [
    "my_number = 128\n",
    "\n",
    "if my_number > 100:\n",
    "    print(my_number, \"is large\")\n",
    "elif my_number < 0:\n",
    "    print(my_number, \"is negative\")\n",
    "else:\n",
    "    print(my_number, \"is not large\")"
   ]
  },
  {
   "cell_type": "markdown",
   "id": "e01e4314",
   "metadata": {},
   "source": [
    "This also helps you avoind adding too many levels of indendations. This is allowed in principle, but it's bad for readability:"
   ]
  },
  {
   "cell_type": "code",
   "execution_count": 4,
   "id": "11f4fbbf",
   "metadata": {},
   "outputs": [
    {
     "name": "stdout",
     "output_type": "stream",
     "text": [
      "128 is large\n"
     ]
    }
   ],
   "source": [
    "my_number  = 128\n",
    "\n",
    "if my_number > 1000:\n",
    "    print(my_number, \"is very large\")\n",
    "else:\n",
    "    if my_number > 100:\n",
    "        print(my_number, \"is large\")    \n",
    "    else:\n",
    "        if my_number < 0 :\n",
    "            print(my_number, \"is negative\")\n",
    "        else:\n",
    "            print(my_number, \"is not large\")"
   ]
  },
  {
   "cell_type": "markdown",
   "id": "b62dfd41-d2c2-406a-804d-e55786ccdebb",
   "metadata": {},
   "source": [
    "### Ordering your options\n",
    "---\n",
    "When working out which lines of code will be run, Python will work down the list of `if`, `elif`s and `else` and will run the *first one* that matches. Once it's matched one, it will not bother checking to see if any of those later on would have matched. This means that you should order your questions from most-specific to least-specific.\n",
    "For example, if you want to do one thing for positive numbers, but something special instead for numbers greater than 100, then you should put the more specific check first:"
   ]
  },
  {
   "cell_type": "code",
   "execution_count": 9,
   "id": "3f13ac36-67e9-47ae-9eb6-30a4522ca2a9",
   "metadata": {},
   "outputs": [
    {
     "name": "stdout",
     "output_type": "stream",
     "text": [
      "128 is large\n"
     ]
    }
   ],
   "source": [
    "my_number = 128\n",
    "\n",
    "if my_number > 100:\n",
    "    print(my_number, \"is large\")\n",
    "elif my_number > 1:\n",
    "    print(my_number, \"is positive\")\n",
    "else:\n",
    "    print(my_number, \"negative\")"
   ]
  },
  {
   "cell_type": "markdown",
   "id": "98acf36b-9e2c-4b36-8ce7-fe46f13ee52a",
   "metadata": {},
   "source": [
    "###  Exercise\n",
    "Loop over the numbers from `0` to `9` and print a message for each. It should print one messsage if the number is greater than `5`, another message if it is less than `5` and otherwise should print that the number is equal to `5`.\n",
    "- Hint: Use a `range()` function to help loop over the numbers\n",
    "- Hint: You can do it using only one `if`, one `elif` and one `else`\n",
    "\n"
   ]
  },
  {
   "cell_type": "code",
   "execution_count": null,
   "id": "dee69d8a-7457-4fb9-96fb-2807841f2f43",
   "metadata": {},
   "outputs": [
    {
     "name": "stdout",
     "output_type": "stream",
     "text": [
      "0 is less than 5.\n",
      "1 is less than 5.\n",
      "2 is less than 5.\n",
      "3 is less than 5.\n",
      "4 is less than 5.\n",
      "5 is equal to 5.\n",
      "6 is greater than 5.\n",
      "7 is greater than 5.\n",
      "8 is greater than 5.\n",
      "9 is greater than 5.\n"
     ]
    }
   ],
   "source": [
    "for i in range(10):\n",
    "    if i < 5:\n",
    "        print(i, \"is less than 5.\")\n",
    "\n",
    "    elif i > 5:\n",
    "        print(i, \"is greater than 5.\")\n",
    "\n",
    "    else:\n",
    "        print(i, \"is equal to 5.\")"
   ]
  },
  {
   "cell_type": "code",
   "execution_count": null,
   "id": "66cb9b82-03b4-4c8e-bed1-1bda523cb530",
   "metadata": {},
   "outputs": [],
   "source": []
  }
 ],
 "metadata": {
  "kernelspec": {
   "display_name": "Python 3 (ipykernel)",
   "language": "python",
   "name": "python3"
  },
  "language_info": {
   "codemirror_mode": {
    "name": "ipython",
    "version": 3
   },
   "file_extension": ".py",
   "mimetype": "text/x-python",
   "name": "python",
   "nbconvert_exporter": "python",
   "pygments_lexer": "ipython3",
   "version": "3.10.9"
  }
 },
 "nbformat": 4,
 "nbformat_minor": 5
}
