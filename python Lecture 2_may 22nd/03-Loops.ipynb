{
 "cells": [
  {
   "cell_type": "markdown",
   "id": "9250a8df-98d4-4c6b-961b-db77883c5687",
   "metadata": {},
   "source": [
    "## Loops\n",
    "---\n",
    "it is possible to make Python repeat certain lines of code using loops."
   ]
  },
  {
   "cell_type": "markdown",
   "id": "917e2080-2c74-4958-a541-664a70114cf3",
   "metadata": {},
   "source": [
    "The ability to run a line of code multiple times is the first large step on your road to making your code *reusable*. \n",
    "\n",
    "Imagine we have two strings that we want to print. We could start by making a variable containing one of the words and then printing it:"
   ]
  },
  {
   "cell_type": "code",
   "execution_count": 1,
   "id": "0d82a34d-8495-42a0-b673-734cf78ba306",
   "metadata": {},
   "outputs": [
    {
     "name": "stdout",
     "output_type": "stream",
     "text": [
      "Hello\n"
     ]
    }
   ],
   "source": [
    "word = \"Hello\"\n",
    "\n",
    "print(word)"
   ]
  },
  {
   "cell_type": "markdown",
   "id": "3b1f2a7d-e6de-495a-be09-ff4c9d1d36be",
   "metadata": {},
   "source": [
    "To print our second word, we could copy and paste those two lines to create a program which can print both words:"
   ]
  },
  {
   "cell_type": "code",
   "execution_count": 2,
   "id": "3428e5e6-30be-499f-ba2f-d95dbe9038f2",
   "metadata": {},
   "outputs": [
    {
     "name": "stdout",
     "output_type": "stream",
     "text": [
      "Hello\n",
      "Python\n"
     ]
    }
   ],
   "source": [
    "word = \"Hello\"\n",
    "\n",
    "print(word)\n",
    "\n",
    "word = \"Python\"\n",
    "\n",
    "print(word)"
   ]
  },
  {
   "cell_type": "markdown",
   "id": "df09d511-0cb3-4947-a930-73f3f2a7009e",
   "metadata": {},
   "source": [
    "This printed the output we want. But we can see that this code is wasteful as the two `print` lines are identical to each other. They both print whatever the variable `word` is pointing at. If we can manage to write that line only once then we could save ourselves some typing! \n",
    "\n",
    "Let's start by making a container for our words. A Python `list` makes sense:"
   ]
  },
  {
   "cell_type": "code",
   "execution_count": 1,
   "id": "9232d35a-f8be-46d3-9024-9856e297004f",
   "metadata": {},
   "outputs": [],
   "source": [
    "my_words = [\"Hello\", \"Python\"]"
   ]
  },
  {
   "cell_type": "markdown",
   "id": "0db32489-2041-43f7-82b5-57fc818efe8a",
   "metadata": {},
   "source": [
    "we can now write a loop which will perform a task once for each word in our list:"
   ]
  },
  {
   "cell_type": "code",
   "execution_count": 2,
   "id": "9b0d6572-18ca-4deb-811d-7e7f296d704e",
   "metadata": {},
   "outputs": [
    {
     "name": "stdout",
     "output_type": "stream",
     "text": [
      "Hello\n",
      "Python\n"
     ]
    }
   ],
   "source": [
    "for word in my_words:\n",
    "    \n",
    "    print(word)"
   ]
  },
  {
   "cell_type": "markdown",
   "id": "b3e2841e-ae37-4f20-b215-7c3c0dcafd10",
   "metadata": {},
   "source": [
    "we should see that it prints the same output as our previous example."
   ]
  },
  {
   "cell_type": "markdown",
   "id": "cc9bb84e-2917-4d56-8108-3f116365553a",
   "metadata": {},
   "source": [
    "We've taken a script that was four lines of code and have reduced it to three lines. That might not seem like much of a reduction but the loop we wrote will work no matter how many items there are in the list `my_words`.\n",
    "\n",
    "Most loops in Python work by doing some set of actions for each item in the list. For this reason, this sort of loop is sometimes called a for-each loop.\n",
    "\n",
    "This maps to real life where you may want, for example, to buy each item on your shopping list. Another way of saying that could be \"for each item on my shopping list, buy the item\", or as you would write that in Python:\n",
    "\n",
    "```python \n",
    "for item in shopping_list:\n",
    "    buy(item)\n",
    "```"
   ]
  },
  {
   "cell_type": "markdown",
   "id": "95ac6256-2cd8-4a05-b9f7-5de52ee662a3",
   "metadata": {},
   "source": [
    "### Exercise\n",
    "Define more than one version of the same list, with a different number of words, and print them in the same way.\n",
    "- Does it work if you put integers or floats in there as well?\n",
    "- What happens if the list my_words is emtpy?\n",
    "    - hint: empty lists look like `[]`"
   ]
  },
  {
   "cell_type": "code",
   "execution_count": 3,
   "id": "ff1f66a8-b087-4110-b49d-8c5a5d937d89",
   "metadata": {},
   "outputs": [
    {
     "name": "stdout",
     "output_type": "stream",
     "text": [
      "Hello\n",
      "Python\n",
      "Goodbye\n",
      "Python\n"
     ]
    }
   ],
   "source": [
    "my_words = [\"Hello\", \"Python\", \"Goodbye\", \"Python\"]\n",
    "\n",
    "for word in my_words:\n",
    "    print(word)"
   ]
  },
  {
   "cell_type": "code",
   "execution_count": 4,
   "id": "59c5d5c1-cbbe-4f3a-83d4-c6d1b3cbb8d8",
   "metadata": {},
   "outputs": [
    {
     "name": "stdout",
     "output_type": "stream",
     "text": [
      "Hello\n",
      "Python\n",
      "404\n",
      "Goodbye\n",
      "Python\n",
      "42\n"
     ]
    }
   ],
   "source": [
    "my_words = [\"Hello\", \"Python\", 404, \"Goodbye\", \"Python\", 42]\n",
    "\n",
    "for word in my_words:\n",
    "    print(word)"
   ]
  },
  {
   "cell_type": "code",
   "execution_count": 20,
   "id": "f18669c4-1ea4-4b58-801d-037af709fc65",
   "metadata": {},
   "outputs": [],
   "source": [
    "my_words = []\n",
    "\n",
    "for word in my_words:\n",
    "    print(word)"
   ]
  },
  {
   "cell_type": "markdown",
   "id": "67591446-71e5-4212-9929-594a2351f77a",
   "metadata": {},
   "source": [
    "---"
   ]
  },
  {
   "cell_type": "markdown",
   "id": "a5f83798-cbe2-459c-95ab-a311bc272a3b",
   "metadata": {},
   "source": [
    "## Loop syntax breakdown\n",
    "\n",
    "Before we move on to other things we can do with loops, let's first make sure that we understand what's happening on those two lines of Python code that make up the loop.\n",
    "\n",
    "The first line is where most of the magic is hapenning and I like to break it down into five sections, three of fixed scaffolding and two where you as a programmer can have input.\n",
    "\n",
    "The scaffolding is the parts of the line which must always be the same and which Python uses to know that you're trying to make a loop. They're pointed out here as the word `for`, the word `in` and the colon (`:`) at the end of the line. These must always be there and in that order:\n",
    "\n",
    "<pre>\n",
    " ↓        ↓         ↓\n",
    "<b style=\"color:green\">for</b> word <b style=\"color:green\">in</b> my_words<b style=\"color:green\">:</b>\n",
    "   <b style=\"color:green\">print</b>(word)\n",
    "</pre>\n",
    "\n",
    "\n",
    "Once the scaffolding is in place, you can place between it the things that *you* care about. the first thing to think about is the object that you want to loop over. In our case we want to loop over the list `my_words` because we want to perform some action on every item in that list (we want to print the item):\n",
    "\n",
    "<pre>\n",
    "                ↓\n",
    "for word in <b style=\"color:magenta\">my_words</b>:\n",
    "    print(word)\n",
    "</pre>\n",
    "\n",
    "Now we have decided what object we are looping over, we need to decide what name we want to give temporarily to each item as we get to it. As with any variable naming, it is important that we choose a good name which describe a single object from the list. For example, if we're looping over all students in a class then we could call the variable `student` or if we're looping over a list of ages then we could call the variable `age`. The actual choice of variable name here does not affect how the code runs. We could use the name `sausage` and the code would run identically.\n",
    "\n",
    "Here, since we're looping over a list of generic *words*, we name our variable `word`:\n",
    "\n",
    "<pre>\n",
    "      ↓\n",
    "for <b style=\"color:magenta\">word</b> in my_words:\n",
    "    print(word)\n",
    "</pre>\n",
    "\n",
    "That's all that's required to tell Python that we're making a loop but if we want the loop to actually *do* something then we need to give the loop a *body*. The body is the lines of code that are going to be repeated. They can be any Python code but it is only within the body of the loop that we can refer to the loop variable `word`:\n",
    "\n",
    "<pre>\n",
    "for word in my_words:\n",
    "    <b style=\"color:green\">print</b>(<b style=\"color:magenta\">word</b>)     ← body of loop\n",
    "</pre>\n",
    "\n",
    "Finally, we get to a peculiarity of Python in that it uses indentation to decide what is in the body of the loop and what is not. Remember that it will only repeat the code in the body. All code in the body must be indented relative to the word `for` by four spaces. A trick to help remember this is that every time you see a colon in Python you should start a new line and indent:\n",
    "\n",
    "<pre>\n",
    "                  <i>colon</i>\n",
    "                    ↓\n",
    "for word in my_words<b style=\"color:magenta\">:</b>\n",
    "    print(word)\n",
    "  ↑\n",
    "<i>indentation</i>\n",
    "</pre>"
   ]
  },
  {
   "cell_type": "markdown",
   "id": "2d181044-9af7-4cf2-a733-1cdd3743cb81",
   "metadata": {},
   "source": [
    "### Indentation"
   ]
  },
  {
   "cell_type": "markdown",
   "id": "b9561f6d-0f1f-4e00-9443-6dad90c97686",
   "metadata": {},
   "source": [
    "If we want to write code after the end of a loop, we have to make sure that it is *not* indented. Let's look at what output this code produces:"
   ]
  },
  {
   "cell_type": "code",
   "execution_count": 13,
   "id": "e8c7867a-19f8-4961-a953-6011ef2830d9",
   "metadata": {},
   "outputs": [
    {
     "name": "stdout",
     "output_type": "stream",
     "text": [
      "Hello\n",
      "Python\n",
      "...Goodbye\n"
     ]
    }
   ],
   "source": [
    "my_words = [\"Hello\", \"Python\"]\n",
    "\n",
    "for word in my_words:\n",
    "    print(word)\n",
    "\n",
    "print(\"...Goodbye\")"
   ]
  },
  {
   "cell_type": "markdown",
   "id": "35751151-f24e-4c0b-8b72-118ac377dc0b",
   "metadata": {},
   "source": [
    "And now let's look at the output of this code:"
   ]
  },
  {
   "cell_type": "code",
   "execution_count": 17,
   "id": "dd10b572-1965-4b23-8dcd-b6d49fd97314",
   "metadata": {},
   "outputs": [
    {
     "name": "stdout",
     "output_type": "stream",
     "text": [
      "Hello\n",
      "...Goodbye\n",
      "Python\n",
      "...Goodbye\n"
     ]
    }
   ],
   "source": [
    "my_words = [\"Hello\", \"Python\"]\n",
    "\n",
    "for word in my_words:\n",
    "    print(word)\n",
    "\n",
    "    print(\"...Goodbye\")"
   ]
  },
  {
   "cell_type": "markdown",
   "id": "c7faa653-84ca-428b-a881-4b1e270aadad",
   "metadata": {},
   "source": [
    "See how the `...Goodbye` was repeated in the second example, this is because it was inside the body of the loop since it was indented."
   ]
  },
  {
   "cell_type": "markdown",
   "id": "b1835e75-b7ca-42f5-9e81-a747af86bb3f",
   "metadata": {},
   "source": [
    "---\n",
    "### What can we loop over\n",
    "A lot of the power of loops comes from being able to put a lot of different things in the place of `my_words`. \n",
    "\n",
    "Most simply, instead of putting a variable name there, you can put a list directly:"
   ]
  },
  {
   "cell_type": "code",
   "execution_count": 43,
   "id": "addbb6b0-d989-433f-8ca8-eb2ecc37974f",
   "metadata": {},
   "outputs": [
    {
     "name": "stdout",
     "output_type": "stream",
     "text": [
      "Hello\n",
      "Python\n"
     ]
    }
   ],
   "source": [
    "for word in [\"Hello\", \"Python\"]:\n",
    "    print(word)"
   ]
  },
  {
   "cell_type": "markdown",
   "id": "03af6051-d0ca-4f48-b72e-7f3dea6db1af",
   "metadata": {},
   "source": [
    "As well as lists we can put anything which Python considers *iterable*. For now we haven't come across many of those but as we keep learning we'll discover many more. One that we have already come across is strings:"
   ]
  },
  {
   "cell_type": "code",
   "execution_count": 40,
   "id": "e6c94cd6-cbe3-4731-866e-87db4a7db80c",
   "metadata": {},
   "outputs": [
    {
     "name": "stdout",
     "output_type": "stream",
     "text": [
      "H\n",
      "e\n",
      "l\n",
      "l\n",
      "o\n",
      " \n",
      "P\n",
      "y\n",
      "t\n",
      "h\n",
      "o\n",
      "n\n"
     ]
    }
   ],
   "source": [
    "phrase = \"Hello Python\"\n",
    "\n",
    "for letter in phrase:\n",
    "    print(letter)"
   ]
  },
  {
   "cell_type": "markdown",
   "id": "c567a763-7764-4b1e-ba6e-2180f1c64a88",
   "metadata": {},
   "source": [
    "---\n",
    "### Ranges of numbers\n",
    "\n",
    "There's a built in function in Python called `range` which provides you with numbers in a range. If given one number as an argument it will give you integers, starting from zero and going up to, *but not including*, the number you gave as an argument. We can put this call to the `range` function directly into our loop as the object to loop over:"
   ]
  },
  {
   "cell_type": "code",
   "execution_count": 21,
   "id": "045bce53-74f7-4d28-8dec-0860e286a831",
   "metadata": {},
   "outputs": [
    {
     "name": "stdout",
     "output_type": "stream",
     "text": [
      "0\n",
      "1\n",
      "2\n",
      "3\n",
      "4\n"
     ]
    }
   ],
   "source": [
    "for number in range(5):\n",
    "    print(number)"
   ]
  },
  {
   "cell_type": "markdown",
   "id": "2beb9c68-40c7-402b-bc5c-05e42905b00f",
   "metadata": {},
   "source": [
    "The `range` function can also be given two arguments, in which case, the first argument is the number to start counting from and the second argument is used as above:"
   ]
  },
  {
   "cell_type": "code",
   "execution_count": 29,
   "id": "1376e37d-522e-44d8-8f27-e515c659311c",
   "metadata": {},
   "outputs": [
    {
     "name": "stdout",
     "output_type": "stream",
     "text": [
      "3\n",
      "4\n",
      "5\n",
      "6\n",
      "7\n",
      "8\n",
      "9\n"
     ]
    }
   ],
   "source": [
    "for number in range(3,10):\n",
    "    print(number)"
   ]
  },
  {
   "cell_type": "markdown",
   "id": "546d2626-0872-47f8-9a15-28ee3dd0fc2c",
   "metadata": {},
   "source": [
    "---\n",
    "### Enumerating\n",
    "\n",
    "When looping over a list we are provided with one element at a time which we give a name (`word` in our example earlier) to be used inside the loop body. However, we don't have any context about, for example, what the index of the item is from the list.\n",
    "\n",
    "To be able to loop over a list and keep track of both the index of the item and the item itself we can use the `enumerate` function. This function, if given a list, can give to the loop both pieces of information at once."
   ]
  },
  {
   "cell_type": "markdown",
   "id": "5bac466b-5ccd-48dd-8d7c-6dbafa8a4b44",
   "metadata": {},
   "source": [
    "Since each time through the loop we are being given not just one piece of information (the element) but two (the index and the element) we need to provide two loop variable names. We do this by giving both names separated by commas in the usual place:"
   ]
  },
  {
   "cell_type": "markdown",
   "id": "50c3ddc2-5323-48ee-8d88-765514ffef8c",
   "metadata": {},
   "source": [
    "```python\n",
    "for index, word in enumerate(my_words):\n",
    "    print(word, \"is at index\", index)\n",
    "```"
   ]
  },
  {
   "cell_type": "markdown",
   "id": "fa846b43-b58a-433a-bbc4-a61d84549e07",
   "metadata": {},
   "source": [
    "### Exercise\n",
    "\n",
    "Define a list of floats and loop over them, printing the index of the element as well as the value of the float."
   ]
  },
  {
   "cell_type": "code",
   "execution_count": 32,
   "id": "96c95a91-09c3-4bf8-a2f4-6a3d0441b108",
   "metadata": {},
   "outputs": [
    {
     "name": "stdout",
     "output_type": "stream",
     "text": [
      "0 : 4.5\n",
      "1 : 3.7\n",
      "2 : 8.9\n",
      "3 : 2.3\n",
      "4 : 3.14159\n",
      "5 : 4.0\n"
     ]
    }
   ],
   "source": [
    "my_numbers = [4.5, 3.7, 8.9, 2.3, 3.14159, 4.0]\n",
    "\n",
    "for index, value in enumerate(my_numbers):\n",
    "    print(index, \":\", value)"
   ]
  },
  {
   "cell_type": "code",
   "execution_count": 39,
   "id": "b0c2c759-3517-4fcd-a631-b19a523cbf44",
   "metadata": {},
   "outputs": [
    {
     "name": "stdout",
     "output_type": "stream",
     "text": [
      "0 : 2.2\n",
      "1 : 3.3\n",
      "2 : 4.4\n",
      "3 : 5.5\n",
      "4 : 6.6\n",
      "5 : 7.7\n",
      "6 : 8.8\n",
      "7 : 9.9\n"
     ]
    }
   ],
   "source": [
    "nums = [2.2 , 3.3 ,4.4 , 5.5, 6.6, 7.7, 8.8, 9.9]\n",
    "\n",
    "for index, numbwers in enumerate(nums):\n",
    "    print(index, \":\" , numbwers)"
   ]
  }
 ],
 "metadata": {
  "kernelspec": {
   "display_name": "Python 3 (ipykernel)",
   "language": "python",
   "name": "python3"
  },
  "language_info": {
   "codemirror_mode": {
    "name": "ipython",
    "version": 3
   },
   "file_extension": ".py",
   "mimetype": "text/x-python",
   "name": "python",
   "nbconvert_exporter": "python",
   "pygments_lexer": "ipython3",
   "version": "3.12.4"
  }
 },
 "nbformat": 4,
 "nbformat_minor": 5
}
