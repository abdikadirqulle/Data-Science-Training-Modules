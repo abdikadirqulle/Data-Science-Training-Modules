{
 "cells": [
  {
   "attachments": {},
   "cell_type": "markdown",
   "id": "6eec9b0b-64b9-4221-af7a-7d14af1ae8a1",
   "metadata": {},
   "source": [
    "## Lists\n",
    "---\n",
    "Until now all the variables we have used have contained a single piece of information, for example, `a = 4` makes a variable a containing a single number, `4`. It’s very common in programming (and in fact real life) to want to refer to collections of this. \n",
    "\n",
    "For example a shopping list contains a list of items you want to buy.\n",
    "\n",
    "Let's define our first list:"
   ]
  },
  {
   "cell_type": "code",
   "execution_count": 1,
   "id": "1ebfc063-c90b-4fe0-80aa-e2a4f8a6eb80",
   "metadata": {},
   "outputs": [],
   "source": [
    "my_list = [\"cat\", \"dog\", 261]"
   ]
  },
  {
   "cell_type": "markdown",
   "id": "f3bb874c-fa47-417f-8ba1-1cc812e8f1db",
   "metadata": {},
   "source": [
    "This will create a Python `list` with three elements and assign it to the variable `my_list`. The square brackets `[` and `]` in this case mean \"create a list\" and the elements of the list are then separated by commas. As with previous variable types, you can print lists by passing their name to the `print()` function.\n",
    "\n",
    "Let's print out list and look at the output."
   ]
  },
  {
   "cell_type": "code",
   "execution_count": 2,
   "id": "0fc9bdeb-79ad-44b7-b623-5d3f048186a0",
   "metadata": {},
   "outputs": [
    {
     "name": "stdout",
     "output_type": "stream",
     "text": [
      "['cat', 'dog', 261]\n"
     ]
    }
   ],
   "source": [
    "print(my_list)"
   ]
  },
  {
   "cell_type": "markdown",
   "id": "849188d8-a597-4b5a-8d10-6ccd4d418940",
   "metadata": {},
   "source": [
    " You can have as many items in a list as you like, even zero items. An empty list could look like:"
   ]
  },
  {
   "cell_type": "code",
   "execution_count": 3,
   "id": "4768c19c-3140-4fba-befa-e88b14a84ce5",
   "metadata": {},
   "outputs": [],
   "source": [
    "my_empty_list = []"
   ]
  },
  {
   "cell_type": "markdown",
   "id": "2c281311-8a7b-4f65-8af2-31eadb4424ff",
   "metadata": {},
   "source": [
    "And a list with six different numbers could look like:"
   ]
  },
  {
   "cell_type": "code",
   "execution_count": 4,
   "id": "ab4279f1-3325-4f03-90b9-4b4951492c01",
   "metadata": {},
   "outputs": [],
   "source": [
    "my_six_number_list = [32, 65, 3, 867, 3, -5]"
   ]
  },
  {
   "cell_type": "code",
   "execution_count": 5,
   "id": "d08af61b",
   "metadata": {},
   "outputs": [
    {
     "name": "stdout",
     "output_type": "stream",
     "text": [
      "[32, 65, 3, 867, 3, -5]\n"
     ]
    }
   ],
   "source": [
    "print(my_six_number_list)"
   ]
  },
  {
   "cell_type": "markdown",
   "id": "729d4da5-170c-4b5f-8da1-b58d2db408d2",
   "metadata": {},
   "source": [
    "### Exercise\n",
    "Edit the list so that it has some more items in it. Try adding some different data types and even rearranging the items. Print it, and check that the output matches what you expect. "
   ]
  },
  {
   "cell_type": "code",
   "execution_count": 7,
   "id": "dac5f6f3-858a-4577-86cc-ed35d0761650",
   "metadata": {},
   "outputs": [
    {
     "name": "stdout",
     "output_type": "stream",
     "text": [
      "['cat', 'dog', 261, 'hello', 5.67]\n",
      "[261, 'cat', 'hello', 'dog', 5.67]\n"
     ]
    }
   ],
   "source": [
    "my_list = [\"cat\", \"dog\", 261, \"hello\", 5.67]\n",
    "\n",
    "print(my_list)\n",
    "\n",
    "my_list = [261, \"cat\", \"hello\", \"dog\", 5.67]\n",
    "\n",
    "print(my_list)"
   ]
  },
  {
   "cell_type": "markdown",
   "id": "993dc223-ff74-4750-8b94-6ad28aefe84b",
   "metadata": {},
   "source": [
    "Here we are overwriting the same variable `my_list`. This means that from the time the third line is executed, the list will be the one with the items in the rearranged order. There is no way to recover the previous ordering. \n",
    "If by any chance you need to keep track of the changes, just assign each list to a new variable with a different name."
   ]
  },
  {
   "cell_type": "markdown",
   "id": "7d161004-97c6-48b7-917f-c4cb5300b835",
   "metadata": {},
   "source": [
    "---\n",
    "### Indexing\n",
    "The power of Python's lists comes not simply from being able to hold many pieces of data but from being able to get specific pieces of data out. The primary method of this is called *indexing*. Indexing a list in Python is done using the square brackets `[]`. This is a different use of the square brackets to that which we saw above for *making* a list.\n",
    "\n",
    "To get a single element out of a list you write the name of the variable followed by a pair of square brackets with a single number between them:"
   ]
  },
  {
   "cell_type": "code",
   "execution_count": 8,
   "id": "bba8d263-505d-466e-b780-192b9e73f820",
   "metadata": {},
   "outputs": [
    {
     "name": "stdout",
     "output_type": "stream",
     "text": [
      "dog\n"
     ]
    }
   ],
   "source": [
    "my_list = [\"cat\", \"dog\", 261]\n",
    "\n",
    "my_element = my_list[1]\n",
    "\n",
    "print(my_element)"
   ]
  },
  {
   "attachments": {},
   "cell_type": "markdown",
   "id": "f5a096d1-ca1b-4936-8597-58f880853fca",
   "metadata": {},
   "source": [
    "The code `my_list[1]` means \"give me the number 1 element of the list `my_list`\". \n",
    "Is it what you expect?\n",
    "\n",
    "You'll probably notice that it prints `dog` whereas you may have expected it to print `cat`. This is because in Python you count from zero when indexing lists and so index `1` refers to the second item in the list. To get the first item you must use the index `0`. This \"zero-indexing\" is very common and is used by most programming languages`\n"
   ]
  },
  {
   "cell_type": "code",
   "execution_count": 11,
   "id": "e72a7e38",
   "metadata": {},
   "outputs": [
    {
     "data": {
      "text/plain": [
       "261"
      ]
     },
     "execution_count": 11,
     "metadata": {},
     "output_type": "execute_result"
    }
   ],
   "source": [
    "my_list[2]"
   ]
  },
  {
   "cell_type": "markdown",
   "id": "ecb5db7e-f0a0-4bcc-9665-1acf8aa89419",
   "metadata": {},
   "source": [
    "### Exercise\n",
    "Try accessing some different elements from the list by putting in different number between the square brackets."
   ]
  },
  {
   "cell_type": "code",
   "execution_count": 18,
   "id": "f8a86a17-04ef-4077-afae-7e6201386fac",
   "metadata": {},
   "outputs": [
    {
     "name": "stdout",
     "output_type": "stream",
     "text": [
      "cat\n",
      "56\n"
     ]
    }
   ],
   "source": [
    "my_list = [\"cat\", \"dog\", 56]\n",
    "\n",
    "my_element = my_list[0]\n",
    "print(my_element)\n",
    "\n",
    "my_element = my_list[2]\n",
    "\n",
    "print(my_element)"
   ]
  },
  {
   "cell_type": "markdown",
   "id": "557016d8-5473-4607-9927-a7d684b241c5",
   "metadata": {},
   "source": [
    "---\n",
    "### Reverse indexing\n",
    "Putting a single positive number in the square brackets gives us back the element which is that distance from the start of the list, but what if we wanted the *last* element? If we know the length of the list (in our case here, 3 elements) then we can use that to know the index of the last element (in this case, `2`), but perhaps we don't know (or don't want to have to check) how long the list is.\n",
    "\n",
    "In this case we can use Python's reverse indexing by placing a negative integer in the square brackets:"
   ]
  },
  {
   "cell_type": "code",
   "execution_count": 4,
   "id": "92826951-c9e9-482f-b89b-c61af4ecde97",
   "metadata": {},
   "outputs": [
    {
     "name": "stdout",
     "output_type": "stream",
     "text": [
      "90\n"
     ]
    }
   ],
   "source": [
    "my_list = [\"cat\", \"camel\", 90]\n",
    "\n",
    "my_last_element = my_list[-1]\n",
    "\n",
    "print(my_last_element)"
   ]
  },
  {
   "cell_type": "code",
   "execution_count": 7,
   "id": "bc59b29f",
   "metadata": {},
   "outputs": [
    {
     "data": {
      "text/plain": [
       "90"
      ]
     },
     "execution_count": 7,
     "metadata": {},
     "output_type": "execute_result"
    }
   ],
   "source": [
    "my_list[2]"
   ]
  },
  {
   "cell_type": "markdown",
   "id": "bb24732b-5e0f-4b35-ad3f-2aee0e607ab3",
   "metadata": {},
   "source": [
    "You will see that it prints `261` which is the last item in the list. Using negative numbers allows you to count backwards from the end of the list so that`-1` is the last item, `-2` is the second-last item etc."
   ]
  },
  {
   "cell_type": "markdown",
   "id": "d99b7be7-e74a-42d9-b1cd-22954daaf8ca",
   "metadata": {},
   "source": [
    "---\n",
    "### Python errors\n",
    "Indexing lists is likely the first time you will see a Python error. \n",
    "\n",
    "A Python list with three elements will not have an element at index `6` (the highest index in that case would be `2`) so let's have a look at what happens if we ask for it anyway:"
   ]
  },
  {
   "cell_type": "code",
   "execution_count": 21,
   "id": "b33046d5-e988-4058-b83a-3531d3b0472a",
   "metadata": {},
   "outputs": [
    {
     "data": {
      "text/plain": [
       "['cat', 'camel', 90]"
      ]
     },
     "execution_count": 21,
     "metadata": {},
     "output_type": "execute_result"
    }
   ],
   "source": [
    "my_list\n"
   ]
  },
  {
   "cell_type": "code",
   "execution_count": 23,
   "id": "c2f9d5d6",
   "metadata": {},
   "outputs": [
    {
     "ename": "IndexError",
     "evalue": "list index out of range",
     "output_type": "error",
     "traceback": [
      "\u001b[0;31m---------------------------------------------------------------------------\u001b[0m",
      "\u001b[0;31mIndexError\u001b[0m                                Traceback (most recent call last)",
      "Cell \u001b[0;32mIn[23], line 1\u001b[0m\n\u001b[0;32m----> 1\u001b[0m my_list[\u001b[39m6\u001b[39;49m]\n\u001b[1;32m      2\u001b[0m \u001b[39mprint\u001b[39m(my_list[\u001b[39m6\u001b[39m])\n",
      "\u001b[0;31mIndexError\u001b[0m: list index out of range"
     ]
    }
   ],
   "source": [
    "my_list[6]\n",
    "print(my_list[6])"
   ]
  },
  {
   "cell_type": "markdown",
   "id": "2ec0bb9d-3fed-4937-9d91-de11bf2b5d56",
   "metadata": {},
   "source": [
    "You will see a very dense collection of information. \n",
    "Let's start by reading the *last* line of the error, as that is usually where the most useful information is.\n",
    "\n"
   ]
  },
  {
   "cell_type": "markdown",
   "id": "6902b63f-367f-406f-a894-2940004862f0",
   "metadata": {},
   "source": [
    "---\n",
    "### Slicing\n",
    "As well as being able to select individual elements from a list, you can also grab sections of it at once. This process of asking for subsections of a list of called *slicing*. Slicing starts out the same way as standard indexing (i.e. with square brackets) but instead of putting a single number between them, you put multiple numbers separated by colons.\n",
    "\n",
    "Between the square brackets you put two numbers, the starting index and the ending index. So, to get the elements from index `2` to index `4`, you do:"
   ]
  },
  {
   "cell_type": "code",
   "execution_count": 14,
   "id": "30efe57c-9cdb-491c-9b66-1e3e7dc81069",
   "metadata": {},
   "outputs": [
    {
     "name": "stdout",
     "output_type": "stream",
     "text": [
      "[5.3, 'house', 100, 1]\n"
     ]
    }
   ],
   "source": [
    "my_list = [3, 5, \"green\", 5.3, \"house\", 100, 1]\n",
    "\n",
    "my_slice = my_list[3:7]\n",
    "\n",
    "print(my_slice)"
   ]
  },
  {
   "cell_type": "markdown",
   "id": "f39eabfe-de22-4e17-aa4b-f24a8abe25a4",
   "metadata": {},
   "source": [
    "Let's look at the output.\n",
    "\n",
    "You see that is printed `['green', 5.3, 'house']` which is index `2` (`'green'`), index `3` (`5.3`) and index `4` (`'house'`). Notice that it did not give us the element at index `5` and that is because with slicing, Python will give you the elements from the starting index up to, but not including, the end index.\n"
   ]
  },
  {
   "cell_type": "markdown",
   "id": "4f1326ca-94ba-47cf-83c8-96039b9bfd50",
   "metadata": {},
   "source": [
    "### Exercise\n",
    "Print various slices of your list. If you get an error printed, make sure you understand what it is telling you."
   ]
  },
  {
   "cell_type": "code",
   "execution_count": 11,
   "id": "f7e27aee-92b2-447e-8896-ecf20136def2",
   "metadata": {},
   "outputs": [],
   "source": [
    "# insert code here"
   ]
  },
  {
   "cell_type": "markdown",
   "id": "4afe847c-05b6-4605-b810-2c0d55997805",
   "metadata": {},
   "source": [
    "---\n",
    "### Adding things to lists\n",
    "Lists in Python are *dynamic*, meaning that they can change size during your script. You can add items to the end of your list by using the `append` function. The `append` function is a little different to other functions that we've used so far (like `print` and `range`) in that it is a part of the list data type so we use it like: "
   ]
  },
  {
   "cell_type": "code",
   "execution_count": 28,
   "id": "18b8e23d-f7ee-4d6c-8a4b-9af3ec06df39",
   "metadata": {},
   "outputs": [
    {
     "name": "stdout",
     "output_type": "stream",
     "text": [
      "['green', 5.3]\n",
      "[5.3, 'house']\n",
      "[3]\n"
     ]
    }
   ],
   "source": [
    "my_list = [3, 5, \"green\", 5.3, \"house\", 100, 1]\n",
    "\n",
    "print(my_list[2:4])\n",
    "print(my_list[3:-2])\n",
    "print(my_list[0:1])"
   ]
  },
  {
   "cell_type": "markdown",
   "id": "8db16ae0-5693-46d0-8a50-117feb3dfca9",
   "metadata": {},
   "source": [
    "Here you see we gave the name of our list (`my_list`) followed it by a dot (`.`) and then the name of the function that we wanted to call (`append`). Functions which are part of data types like this are sometimes called *methods*. \n",
    "\n",
    "We might describe the middle line here as \"calling the `append` method on the object `my_list`\"."
   ]
  },
  {
   "attachments": {},
   "cell_type": "markdown",
   "id": "81914beb",
   "metadata": {},
   "source": [
    "Lists have a few other [useful methods](https://docs.python.org/3/tutorial/datastructures.html#more-on-lists).\n",
    "Some of the most commonly used ones are extend and remove.\n",
    "While `append` adds an item to the end of a list, `extend` adds multiple items from another list, and `remove` removes an item. \n",
    "It can also be added with the method of `insert`, and deleted with `pop`. Let's see the differences."
   ]
  },
  {
   "cell_type": "code",
   "execution_count": null,
   "id": "08c1dd9b",
   "metadata": {},
   "outputs": [],
   "source": [
    "# insert code here"
   ]
  },
  {
   "cell_type": "markdown",
   "id": "32b65a23",
   "metadata": {},
   "source": [
    "`insert` places the item at the chosen position (index):"
   ]
  },
  {
   "cell_type": "code",
   "execution_count": 2,
   "id": "5bdc0cdf",
   "metadata": {},
   "outputs": [],
   "source": [
    "# insert code here"
   ]
  },
  {
   "cell_type": "markdown",
   "id": "e9df5477",
   "metadata": {},
   "source": [
    "similarly, you can use `pop` to delete an item at a particular index:"
   ]
  },
  {
   "cell_type": "code",
   "execution_count": 3,
   "id": "2c1ba6ab",
   "metadata": {},
   "outputs": [],
   "source": [
    "# insert code here"
   ]
  },
  {
   "cell_type": "markdown",
   "id": "285678a3",
   "metadata": {},
   "source": [
    "## Tuples\n",
    "\n",
    "#### Tuples are a lot like lists, but they're immutable so they can't be changed in-place. We create them like lists, but with `()` instead of `[]`."
   ]
  },
  {
   "cell_type": "code",
   "execution_count": null,
   "id": "784fb98d",
   "metadata": {},
   "outputs": [],
   "source": [
    "# insert code here"
   ]
  },
  {
   "cell_type": "markdown",
   "id": "bc0d904e",
   "metadata": {},
   "source": [
    "\n",
    "Tuples don't have methods like append, extend and remove\n",
    "because they can't change themselves in-place."
   ]
  },
  {
   "cell_type": "code",
   "execution_count": 4,
   "id": "3e6ae99a",
   "metadata": {},
   "outputs": [],
   "source": [
    "# insert code here"
   ]
  },
  {
   "cell_type": "markdown",
   "id": "37cca87c",
   "metadata": {},
   "source": [
    "So, why would we use tuples instead of lists? There are\n",
    "some cases when we don't want mutability, but there are also\n",
    "cases when Python programmers just like to use tuples. If you\n",
    "want to know more about this you can read [Ned Batchelder's blog\n",
    "post about this](http://nedbatchelder.com/blog/201608/lists_vs_tuples.html)."
   ]
  },
  {
   "attachments": {},
   "cell_type": "markdown",
   "id": "83336875",
   "metadata": {},
   "source": [
    "### Summary\n",
    "\n",
    "- Lists are a way to store multiple values in one variable.\n",
    "- Lists can be changed in-place and they have methods that change them\n",
    "    in-place, like append, extend and remove.\n",
    "- Indexing them returns an item from a list, given its index.\n",
    "- Slicing returns a **new** list, containing some elements of the original list.\n",
    "- Tuples are like lists, but they can't be changed in-place. They're\n",
    "    also used in different places."
   ]
  },
  {
   "cell_type": "markdown",
   "id": "d1a1e931",
   "metadata": {},
   "source": []
  }
 ],
 "metadata": {
  "kernelspec": {
   "display_name": "Python 3 (ipykernel)",
   "language": "python",
   "name": "python3"
  },
  "language_info": {
   "codemirror_mode": {
    "name": "ipython",
    "version": 3
   },
   "file_extension": ".py",
   "mimetype": "text/x-python",
   "name": "python",
   "nbconvert_exporter": "python",
   "pygments_lexer": "ipython3",
   "version": "3.12.4"
  }
 },
 "nbformat": 4,
 "nbformat_minor": 5
}
