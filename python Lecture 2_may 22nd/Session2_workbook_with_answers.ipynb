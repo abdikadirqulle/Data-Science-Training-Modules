{
 "cells": [
  {
   "cell_type": "markdown",
   "metadata": {
    "vscode": {
     "languageId": "plaintext"
    }
   },
   "source": [
    "#### Session 2 - Exercise Workbook"
   ]
  },
  {
   "cell_type": "markdown",
   "metadata": {},
   "source": [
    "\n",
    "1) Define a list and a tuple containing the same values. \n",
    "Show differences between list and tuple \n",
    "(e.g. cannot edit tuple, can append item to a list.)\n",
    "\n"
   ]
  },
  {
   "cell_type": "code",
   "execution_count": 7,
   "metadata": {},
   "outputs": [],
   "source": [
    "my_list = [12, 56, 34, 92, -4, 1005, 2028]\n",
    "\n",
    "my_tuple = (12, 56, 34, 92, -4, 1005, 2028)"
   ]
  },
  {
   "cell_type": "code",
   "execution_count": 8,
   "metadata": {},
   "outputs": [
    {
     "name": "stdout",
     "output_type": "stream",
     "text": [
      "[12, 56, 34, 92, -4, 1005, 2028, 0]\n"
     ]
    }
   ],
   "source": [
    "my_list.append(0)\n",
    "print(my_list)"
   ]
  },
  {
   "cell_type": "code",
   "execution_count": 3,
   "metadata": {},
   "outputs": [
    {
     "ename": "AttributeError",
     "evalue": "'tuple' object has no attribute 'append'",
     "output_type": "error",
     "traceback": [
      "\u001b[0;31m---------------------------------------------------------------------------\u001b[0m",
      "\u001b[0;31mAttributeError\u001b[0m                            Traceback (most recent call last)",
      "Cell \u001b[0;32mIn[3], line 1\u001b[0m\n\u001b[0;32m----> 1\u001b[0m my_tuple\u001b[38;5;241m.\u001b[39mappend(\u001b[38;5;241m0\u001b[39m)\n",
      "\u001b[0;31mAttributeError\u001b[0m: 'tuple' object has no attribute 'append'"
     ]
    }
   ],
   "source": [
    "my_tuple.append(0)"
   ]
  },
  {
   "cell_type": "code",
   "execution_count": 5,
   "metadata": {},
   "outputs": [
    {
     "name": "stdout",
     "output_type": "stream",
     "text": [
      "[0, 56, 34, 92, -4, 1005, 2028, 0]\n"
     ]
    }
   ],
   "source": [
    "my_list[0] = 0\n",
    "print(my_list)"
   ]
  },
  {
   "cell_type": "code",
   "execution_count": 6,
   "metadata": {},
   "outputs": [
    {
     "ename": "TypeError",
     "evalue": "'tuple' object does not support item assignment",
     "output_type": "error",
     "traceback": [
      "\u001b[0;31m---------------------------------------------------------------------------\u001b[0m",
      "\u001b[0;31mTypeError\u001b[0m                                 Traceback (most recent call last)",
      "Cell \u001b[0;32mIn[6], line 1\u001b[0m\n\u001b[0;32m----> 1\u001b[0m my_tuple[\u001b[38;5;241m0\u001b[39m] \u001b[38;5;241m=\u001b[39m \u001b[38;5;241m0\u001b[39m\n",
      "\u001b[0;31mTypeError\u001b[0m: 'tuple' object does not support item assignment"
     ]
    }
   ],
   "source": [
    "my_tuple[0] = 0"
   ]
  },
  {
   "cell_type": "markdown",
   "metadata": {},
   "source": [
    "2) Loop over list of numbers and print them\n"
   ]
  },
  {
   "cell_type": "code",
   "execution_count": 10,
   "metadata": {},
   "outputs": [
    {
     "data": {
      "text/plain": [
       "[12, 56, 34, 92, -4, 1005, 2028, 0]"
      ]
     },
     "execution_count": 10,
     "metadata": {},
     "output_type": "execute_result"
    }
   ],
   "source": [
    "my_list"
   ]
  },
  {
   "cell_type": "code",
   "execution_count": 9,
   "metadata": {},
   "outputs": [
    {
     "name": "stdout",
     "output_type": "stream",
     "text": [
      "12\n",
      "56\n",
      "34\n",
      "92\n",
      "-4\n",
      "1005\n",
      "2028\n",
      "0\n"
     ]
    }
   ],
   "source": [
    "for num in my_list:\n",
    "    print(num)"
   ]
  },
  {
   "cell_type": "markdown",
   "metadata": {},
   "source": [
    "3) Loop over tuple and print values\n"
   ]
  },
  {
   "cell_type": "code",
   "execution_count": 13,
   "metadata": {},
   "outputs": [
    {
     "name": "stdout",
     "output_type": "stream",
     "text": [
      "12\n",
      "56\n",
      "34\n",
      "92\n",
      "-4\n",
      "1005\n",
      "2028\n"
     ]
    }
   ],
   "source": [
    "for num2 in my_tuple:\n",
    "    print(num2)"
   ]
  },
  {
   "cell_type": "markdown",
   "metadata": {},
   "source": [
    "4) Use range to print a sub-section of a list, e.g. items in the range(2, 6).\n",
    "\n",
    "Show that you can do the same with indexing."
   ]
  },
  {
   "cell_type": "code",
   "execution_count": 16,
   "metadata": {},
   "outputs": [
    {
     "data": {
      "text/plain": [
       "[34, 92, -4, 1005, 2028]"
      ]
     },
     "execution_count": 16,
     "metadata": {},
     "output_type": "execute_result"
    }
   ],
   "source": [
    "my_list[2:7]\n"
   ]
  },
  {
   "cell_type": "code",
   "execution_count": 17,
   "metadata": {},
   "outputs": [
    {
     "name": "stdout",
     "output_type": "stream",
     "text": [
      "34\n",
      "92\n",
      "-4\n",
      "1005\n",
      "2028\n"
     ]
    }
   ],
   "source": [
    "for i in range(2,7):\n",
    "    print(my_list[i])"
   ]
  },
  {
   "cell_type": "markdown",
   "metadata": {},
   "source": [
    "5) Use enumerate to also print the indices in the previous exercise\n"
   ]
  },
  {
   "cell_type": "code",
   "execution_count": 18,
   "metadata": {},
   "outputs": [
    {
     "name": "stdout",
     "output_type": "stream",
     "text": [
      "0 : 34\n",
      "1 : 92\n",
      "2 : -4\n",
      "3 : 1005\n",
      "4 : 2028\n"
     ]
    }
   ],
   "source": [
    "for i, num in enumerate(my_list[2:7]):\n",
    "    print(i, \":\", num)"
   ]
  },
  {
   "cell_type": "markdown",
   "metadata": {},
   "source": [
    "\n",
    "6) Use if statement to print numbers from a list if a condition is met."
   ]
  },
  {
   "cell_type": "code",
   "execution_count": 19,
   "metadata": {},
   "outputs": [
    {
     "name": "stdout",
     "output_type": "stream",
     "text": [
      "12\n",
      "56\n",
      "34\n",
      "92\n",
      "not >1:  -4\n",
      "1005\n",
      "2028\n",
      "not >1:  0\n"
     ]
    }
   ],
   "source": [
    "for num in my_list:\n",
    "    if num > 1:\n",
    "        print(num)\n",
    "    else:\n",
    "        print(\"not >1: \", num)\n",
    "    "
   ]
  },
  {
   "cell_type": "markdown",
   "metadata": {},
   "source": [
    "7) Use enumerate to also print indices in the previous exercise\n"
   ]
  },
  {
   "cell_type": "code",
   "execution_count": 21,
   "metadata": {},
   "outputs": [
    {
     "name": "stdout",
     "output_type": "stream",
     "text": [
      "0 : 12\n",
      "1 : 56\n",
      "2 : 34\n",
      "3 : 92\n",
      "4 : not >1:  -4\n",
      "5 : 1005\n",
      "6 : 2028\n",
      "7 : not >1:  0\n"
     ]
    }
   ],
   "source": [
    "for idx, num in enumerate(my_list):\n",
    "    if num>1:\n",
    "        print(idx, \":\", num)\n",
    "    else:\n",
    "        print(idx, \": not >1: \", num)"
   ]
  },
  {
   "cell_type": "markdown",
   "metadata": {},
   "source": [
    "8) Use loops and conditionals to prove that ordering matters."
   ]
  },
  {
   "cell_type": "code",
   "execution_count": 22,
   "metadata": {},
   "outputs": [
    {
     "name": "stdout",
     "output_type": "stream",
     "text": [
      "12 >0\n",
      "56 >0\n",
      "34 >0\n",
      "92 >0\n",
      "-4\n",
      "1005 >0\n",
      "2028 >0\n",
      "0\n"
     ]
    }
   ],
   "source": [
    "for num in my_list:\n",
    "    if num>0:\n",
    "        print(num, \">0\")\n",
    "    elif num >1:\n",
    "        print(num, \">1\")\n",
    "    else:\n",
    "        print(num)"
   ]
  },
  {
   "cell_type": "code",
   "execution_count": 27,
   "metadata": {},
   "outputs": [
    {
     "name": "stdout",
     "output_type": "stream",
     "text": [
      "12 >1\n",
      "56 >1\n",
      "34 >1\n",
      "92 >1\n",
      "-4\n",
      "1005 >1\n",
      "2028 >1\n",
      "0 >=0\n"
     ]
    }
   ],
   "source": [
    "for num in my_list:\n",
    "    if num>1:\n",
    "        print(num, \">1\")\n",
    "    elif num >=0:\n",
    "        print(num, \">=0\")\n",
    "    else:\n",
    "        print(num)"
   ]
  },
  {
   "cell_type": "markdown",
   "metadata": {},
   "source": []
  }
 ],
 "metadata": {
  "kernelspec": {
   "display_name": "base",
   "language": "python",
   "name": "python3"
  },
  "language_info": {
   "codemirror_mode": {
    "name": "ipython",
    "version": 3
   },
   "file_extension": ".py",
   "mimetype": "text/x-python",
   "name": "python",
   "nbconvert_exporter": "python",
   "pygments_lexer": "ipython3",
   "version": "3.11.4"
  }
 },
 "nbformat": 4,
 "nbformat_minor": 2
}
