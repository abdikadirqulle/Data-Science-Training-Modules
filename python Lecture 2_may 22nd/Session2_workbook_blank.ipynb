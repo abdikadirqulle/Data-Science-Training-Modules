{
 "cells": [
  {
   "cell_type": "markdown",
   "metadata": {
    "vscode": {
     "languageId": "plaintext"
    }
   },
   "source": [
    "#### Session 2 - Exercise Workbook"
   ]
  },
  {
   "cell_type": "markdown",
   "metadata": {},
   "source": [
    "\n",
    "1) Define a list and a tuple containing the same values. \n",
    "Show differences between list and tuple \n",
    "(e.g. cannot edit tuple, can append item to a list.)\n",
    "\n"
   ]
  },
  {
   "cell_type": "code",
   "execution_count": 16,
   "metadata": {},
   "outputs": [
    {
     "name": "stdout",
     "output_type": "stream",
     "text": [
      "[0, -1, 2, 3, 4]\n",
      "(1, 2, 3, 4)\n"
     ]
    }
   ],
   "source": [
    "# insert code here\n",
    "\n",
    "listnums = [0,-1, 2, 3, 4]\n",
    "tuplenums = (1, 2, 3, 4)\n",
    "\n",
    "print(listnums)\n",
    "\n",
    "print(tuplenums)"
   ]
  },
  {
   "cell_type": "markdown",
   "metadata": {},
   "source": [
    "2) Loop over list of numbers and print them\n"
   ]
  },
  {
   "cell_type": "code",
   "execution_count": 4,
   "metadata": {},
   "outputs": [
    {
     "name": "stdout",
     "output_type": "stream",
     "text": [
      "1\n",
      "2\n",
      "3\n",
      "4\n",
      "5\n",
      "6\n"
     ]
    }
   ],
   "source": [
    "# insert code here\n",
    "numbers = [1, 2, 3, 4,5,6]\n",
    "\n",
    "for number in numbers:\n",
    "    print(number)"
   ]
  },
  {
   "cell_type": "markdown",
   "metadata": {},
   "source": [
    "3) Loop over tuple and print values\n"
   ]
  },
  {
   "cell_type": "code",
   "execution_count": 5,
   "metadata": {},
   "outputs": [
    {
     "name": "stdout",
     "output_type": "stream",
     "text": [
      "1\n",
      "2\n",
      "3\n",
      "4\n",
      "5\n"
     ]
    }
   ],
   "source": [
    "tnums = (1, 2, 3, 4,5)\n",
    "\n",
    "for tnum in tnums:\n",
    "    print(tnum)"
   ]
  },
  {
   "cell_type": "markdown",
   "metadata": {},
   "source": [
    "4) Use range to print a sub-section of a list, e.g. items in the range(2, 6).\n",
    "\n",
    "Show that you can do the same with indexing."
   ]
  },
  {
   "cell_type": "code",
   "execution_count": 22,
   "metadata": {},
   "outputs": [
    {
     "name": "stdout",
     "output_type": "stream",
     "text": [
      "3\n",
      "4\n",
      "5\n",
      "6\n"
     ]
    }
   ],
   "source": [
    "# insert code here\n",
    "for nuns in range(2,6):\n",
    "    print(numbers[nuns])"
   ]
  },
  {
   "cell_type": "markdown",
   "metadata": {},
   "source": [
    "5) Use enumerate to also print the indices in the previous exercise\n"
   ]
  },
  {
   "cell_type": "code",
   "execution_count": 7,
   "metadata": {},
   "outputs": [
    {
     "name": "stdout",
     "output_type": "stream",
     "text": [
      "0 1\n",
      "1 2\n",
      "2 3\n",
      "3 4\n",
      "4 5\n",
      "5 6\n"
     ]
    }
   ],
   "source": [
    "# insert code here\n",
    "\n",
    "for index, nums in enumerate(numbers):\n",
    "    print(index, nums)"
   ]
  },
  {
   "cell_type": "markdown",
   "metadata": {},
   "source": [
    "\n",
    "6) Use if statement to print numbers from a list if a condition is met."
   ]
  },
  {
   "cell_type": "code",
   "execution_count": 13,
   "metadata": {},
   "outputs": [
    {
     "name": "stdout",
     "output_type": "stream",
     "text": [
      "number < 1 1\n",
      "2\n",
      "3\n",
      "4\n",
      "5\n",
      "6\n"
     ]
    }
   ],
   "source": [
    "for nums in numbers:\n",
    "    if nums > 1:\n",
    "        print(nums)\n",
    "    else:\n",
    "        print(\"number < 1\",nums)"
   ]
  },
  {
   "cell_type": "markdown",
   "metadata": {},
   "source": [
    "7) Use enumerate to also print indices in the previous exercise\n"
   ]
  },
  {
   "cell_type": "code",
   "execution_count": 21,
   "metadata": {},
   "outputs": [
    {
     "name": "stdout",
     "output_type": "stream",
     "text": [
      "0 0\n",
      "1 -1\n",
      "2 2 > 0\n",
      "3 3 > 0\n",
      "4 4 > 0\n"
     ]
    }
   ],
   "source": [
    "for index, nums in enumerate(listnums):\n",
    "    if nums > 0: \n",
    "        print(index, nums,\"> 0\")\n",
    "    elif nums > 1:\n",
    "        print(index, nums,\"> 1\")\n",
    "    else : print(index, nums)"
   ]
  },
  {
   "cell_type": "markdown",
   "metadata": {},
   "source": [
    "8) Use loops and conditionals to prove that ordering matters."
   ]
  },
  {
   "cell_type": "code",
   "execution_count": 18,
   "metadata": {},
   "outputs": [
    {
     "name": "stdout",
     "output_type": "stream",
     "text": [
      "0\n",
      "-1\n",
      "2 > 0\n",
      "3 > 0\n",
      "4 > 0\n"
     ]
    }
   ],
   "source": [
    "# insert code here\n",
    "\n",
    "for nums in listnums:\n",
    "    if nums > 0:\n",
    "        print(nums , \"> 0\")\n",
    "    elif nums > 0:\n",
    "        print(nums, \"> 1\")\n",
    "    else:\n",
    "        print(nums)"
   ]
  },
  {
   "cell_type": "markdown",
   "metadata": {},
   "source": []
  }
 ],
 "metadata": {
  "kernelspec": {
   "display_name": "base",
   "language": "python",
   "name": "python3"
  },
  "language_info": {
   "codemirror_mode": {
    "name": "ipython",
    "version": 3
   },
   "file_extension": ".py",
   "mimetype": "text/x-python",
   "name": "python",
   "nbconvert_exporter": "python",
   "pygments_lexer": "ipython3",
   "version": "3.12.4"
  }
 },
 "nbformat": 4,
 "nbformat_minor": 2
}
