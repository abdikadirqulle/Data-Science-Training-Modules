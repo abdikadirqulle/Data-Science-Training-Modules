{
 "cells": [
  {
   "cell_type": "markdown",
   "id": "9250a8df-98d4-4c6b-961b-db77883c5687",
   "metadata": {},
   "source": [
    "## Loops\n",
    "---\n",
    "it is possible to make Python repeat certain lines of code using loops."
   ]
  },
  {
   "cell_type": "markdown",
   "id": "917e2080-2c74-4958-a541-664a70114cf3",
   "metadata": {},
   "source": [
    "Imagine we have two strings that we want to print. We could start by making a variable containing one of the words and then printing it:"
   ]
  },
  {
   "cell_type": "code",
   "execution_count": 1,
   "id": "0d82a34d-8495-42a0-b673-734cf78ba306",
   "metadata": {},
   "outputs": [],
   "source": [
    "# insert code here"
   ]
  },
  {
   "cell_type": "markdown",
   "id": "3b1f2a7d-e6de-495a-be09-ff4c9d1d36be",
   "metadata": {},
   "source": [
    "To print our second word, we could copy and paste those two lines to create a program which can print both words:"
   ]
  },
  {
   "cell_type": "code",
   "execution_count": 2,
   "id": "3428e5e6-30be-499f-ba2f-d95dbe9038f2",
   "metadata": {},
   "outputs": [],
   "source": [
    "# insert code here"
   ]
  },
  {
   "cell_type": "markdown",
   "id": "df09d511-0cb3-4947-a930-73f3f2a7009e",
   "metadata": {},
   "source": [
    "This printed the output we want. But we can see that this code is wasteful as the two `print` lines are identical to each other. They both print whatever the variable `word` is pointing at. If we can manage to write that line only once then we could save ourselves some typing! \n",
    "\n",
    "Let's start by making a container for our words. A Python `list` makes sense:"
   ]
  },
  {
   "cell_type": "code",
   "execution_count": 3,
   "id": "9232d35a-f8be-46d3-9024-9856e297004f",
   "metadata": {},
   "outputs": [],
   "source": [
    "# insert code here"
   ]
  },
  {
   "cell_type": "markdown",
   "id": "0db32489-2041-43f7-82b5-57fc818efe8a",
   "metadata": {},
   "source": [
    "we can now write a loop which will perform a task once for each word in our list:"
   ]
  },
  {
   "cell_type": "code",
   "execution_count": 4,
   "id": "9b0d6572-18ca-4deb-811d-7e7f296d704e",
   "metadata": {},
   "outputs": [],
   "source": [
    "# insert code here"
   ]
  },
  {
   "cell_type": "markdown",
   "id": "b3e2841e-ae37-4f20-b215-7c3c0dcafd10",
   "metadata": {},
   "source": [
    "we should see that it prints the same output as our previous example."
   ]
  },
  {
   "cell_type": "markdown",
   "id": "cc9bb84e-2917-4d56-8108-3f116365553a",
   "metadata": {},
   "source": [
    "We've taken a script that was four lines of code and have reduced it to three lines. That might not seem like much of a reduction but the loop we wrote will work no matter how many items there are in the list `my_words`."
   ]
  },
  {
   "cell_type": "markdown",
   "id": "95ac6256-2cd8-4a05-b9f7-5de52ee662a3",
   "metadata": {},
   "source": [
    "### Exercise\n",
    "Define more than one version of the same list, with a different number of words, and print them in the same way.\n",
    "- Does it work if you put integers or floats in there as well?\n",
    "- What happens if the list my_words is emtpy?\n",
    "    - hint: empty lists look like `[]`"
   ]
  },
  {
   "cell_type": "code",
   "execution_count": 5,
   "id": "ff1f66a8-b087-4110-b49d-8c5a5d937d89",
   "metadata": {},
   "outputs": [],
   "source": [
    "# insert code here"
   ]
  },
  {
   "cell_type": "code",
   "execution_count": 6,
   "id": "59c5d5c1-cbbe-4f3a-83d4-c6d1b3cbb8d8",
   "metadata": {},
   "outputs": [],
   "source": [
    "# insert code here"
   ]
  },
  {
   "cell_type": "code",
   "execution_count": 7,
   "id": "f18669c4-1ea4-4b58-801d-037af709fc65",
   "metadata": {},
   "outputs": [],
   "source": [
    "# insert code here"
   ]
  },
  {
   "attachments": {},
   "cell_type": "markdown",
   "id": "3a9b7660-2489-40d9-bff7-e15f6711822d",
   "metadata": {},
   "source": [
    "Let's look at the loop in more details and describe each component:\n",
    "```python\n",
    "for word in my_words:\n",
    "    print(word)\n",
    "```"
   ]
  },
  {
   "attachments": {},
   "cell_type": "markdown",
   "id": "50ca3721",
   "metadata": {},
   "source": [
    " "
   ]
  },
  {
   "cell_type": "markdown",
   "id": "3479d6cd",
   "metadata": {},
   "source": []
  },
  {
   "cell_type": "code",
   "execution_count": 8,
   "id": "8113a708",
   "metadata": {},
   "outputs": [],
   "source": [
    "# insert code here"
   ]
  },
  {
   "cell_type": "markdown",
   "id": "67591446-71e5-4212-9929-594a2351f77a",
   "metadata": {},
   "source": [
    "---"
   ]
  },
  {
   "cell_type": "markdown",
   "id": "04e07f40-648a-4c8f-9c54-d4d0628ab83d",
   "metadata": {},
   "source": [
    "### Indentation"
   ]
  },
  {
   "attachments": {},
   "cell_type": "markdown",
   "id": "fd23004b",
   "metadata": {},
   "source": [
    "You might have noticed that some lines or blocks are moved one tab (or 4 spaces) to the right. This is called indentation, and it's the way Python uses to decide what is in the body of the loop and what is not. Remember that it will only repeat the code in the body. All code in the body must be indented relative to the word `for` by four spaces. A trick to help remember this is that every time you see a colon in Python you should start a new line and indent."
   ]
  },
  {
   "cell_type": "markdown",
   "id": "b9561f6d-0f1f-4e00-9443-6dad90c97686",
   "metadata": {},
   "source": [
    "If we want to write code after the end of a loop, we have to make sure that it is *not* indented. Let's look at what output this code produces:"
   ]
  },
  {
   "cell_type": "code",
   "execution_count": 9,
   "id": "e8c7867a-19f8-4961-a953-6011ef2830d9",
   "metadata": {},
   "outputs": [],
   "source": [
    "# insert code here"
   ]
  },
  {
   "cell_type": "markdown",
   "id": "35751151-f24e-4c0b-8b72-118ac377dc0b",
   "metadata": {},
   "source": [
    "And now let's look at the output of this code:"
   ]
  },
  {
   "cell_type": "code",
   "execution_count": 10,
   "id": "dd10b572-1965-4b23-8dcd-b6d49fd97314",
   "metadata": {},
   "outputs": [],
   "source": [
    "# insert code here"
   ]
  },
  {
   "cell_type": "markdown",
   "id": "c7faa653-84ca-428b-a881-4b1e270aadad",
   "metadata": {},
   "source": [
    "See how the `...Goodbye` was repeated in the second example, this is because it was inside the body of the loop since it was indented."
   ]
  },
  {
   "cell_type": "markdown",
   "id": "b1835e75-b7ca-42f5-9e81-a747af86bb3f",
   "metadata": {},
   "source": [
    "---\n",
    "### What can we loop over\n",
    "A lot of the power of loops comes from being able to put a lot of different things in the place of `my_words`. \n",
    "\n",
    "Most simply, instead of putting a variable name there, you can put a list directly:"
   ]
  },
  {
   "cell_type": "code",
   "execution_count": 11,
   "id": "addbb6b0-d989-433f-8ca8-eb2ecc37974f",
   "metadata": {},
   "outputs": [],
   "source": [
    "# insert code here"
   ]
  },
  {
   "cell_type": "markdown",
   "id": "03af6051-d0ca-4f48-b72e-7f3dea6db1af",
   "metadata": {},
   "source": [
    "As well as lists we can put anything which Python considers *iterable*. For now we haven't come across many of those but as we keep learning we'll discover many more. One that we have already come across is strings:"
   ]
  },
  {
   "cell_type": "code",
   "execution_count": 12,
   "id": "e6c94cd6-cbe3-4731-866e-87db4a7db80c",
   "metadata": {},
   "outputs": [],
   "source": [
    "# insert code here"
   ]
  },
  {
   "cell_type": "markdown",
   "id": "c567a763-7764-4b1e-ba6e-2180f1c64a88",
   "metadata": {},
   "source": [
    "---\n",
    "### Ranges of numbers\n",
    "\n",
    "There's a built in function in Python called `range` which provides you with numbers in a range. If given one number as an argument it will give you integers, starting from zero and going up to, *but not including*, the number you gave as an argument. We can put this call to the `range` function directly into our loop as the object to loop over:"
   ]
  },
  {
   "cell_type": "code",
   "execution_count": 13,
   "id": "045bce53-74f7-4d28-8dec-0860e286a831",
   "metadata": {},
   "outputs": [],
   "source": [
    "# insert code here"
   ]
  },
  {
   "cell_type": "markdown",
   "id": "2beb9c68-40c7-402b-bc5c-05e42905b00f",
   "metadata": {},
   "source": [
    "The `range` function can also be given two arguments, in which case, the first argument is the number to start counting from and the second argument is used as above:"
   ]
  },
  {
   "cell_type": "code",
   "execution_count": 14,
   "id": "1376e37d-522e-44d8-8f27-e515c659311c",
   "metadata": {},
   "outputs": [],
   "source": [
    "# insert code here"
   ]
  },
  {
   "cell_type": "markdown",
   "id": "546d2626-0872-47f8-9a15-28ee3dd0fc2c",
   "metadata": {},
   "source": [
    "---\n",
    "### Enumerating\n",
    "\n",
    "When looping over a list we are provided with one element at a time which we give a name (`word` in our example earlier) to be used inside the loop body. However, we don't have any context about, for example, what the index of the item is from the list.\n",
    "\n",
    "To be able to loop over a list and keep track of both the index of the item and the item itself we can use the `enumerate` function. This function, if given a list, can give to the loop both pieces of information at once."
   ]
  },
  {
   "cell_type": "markdown",
   "id": "5bac466b-5ccd-48dd-8d7c-6dbafa8a4b44",
   "metadata": {},
   "source": [
    "Since each time through the loop we are being given not just one piece of information (the element) but two (the index and the element) we need to provide two loop variable names. We do this by giving both names separated by commas in the usual place:"
   ]
  },
  {
   "cell_type": "markdown",
   "id": "50c3ddc2-5323-48ee-8d88-765514ffef8c",
   "metadata": {},
   "source": [
    "```python\n",
    "for index, word in enumerate(my_words):\n",
    "    print(word, \"is at index\", index)\n",
    "```"
   ]
  },
  {
   "cell_type": "markdown",
   "id": "fa846b43-b58a-433a-bbc4-a61d84549e07",
   "metadata": {},
   "source": [
    "### Exercise\n",
    "\n",
    "Define a list of floats and loop over them, printing the index of the element as well as the value of the float."
   ]
  },
  {
   "cell_type": "code",
   "execution_count": 2,
   "id": "96c95a91-09c3-4bf8-a2f4-6a3d0441b108",
   "metadata": {},
   "outputs": [
    {
     "name": "stdout",
     "output_type": "stream",
     "text": [
      "0 2.2\n",
      "1 3.4\n",
      "2 54.4\n",
      "3 80.4\n"
     ]
    }
   ],
   "source": [
    "# insert code here\n",
    "\n",
    "nums = [2.2,3.4,54.4,80.4]\n",
    "\n",
    "for index, numm in enumerate(nums):\n",
    "    print(index,numm)"
   ]
  },
  {
   "cell_type": "code",
   "execution_count": null,
   "id": "b0c2c759-3517-4fcd-a631-b19a523cbf44",
   "metadata": {},
   "outputs": [],
   "source": []
  }
 ],
 "metadata": {
  "kernelspec": {
   "display_name": "Python 3 (ipykernel)",
   "language": "python",
   "name": "python3"
  },
  "language_info": {
   "codemirror_mode": {
    "name": "ipython",
    "version": 3
   },
   "file_extension": ".py",
   "mimetype": "text/x-python",
   "name": "python",
   "nbconvert_exporter": "python",
   "pygments_lexer": "ipython3",
   "version": "3.12.4"
  }
 },
 "nbformat": 4,
 "nbformat_minor": 5
}
